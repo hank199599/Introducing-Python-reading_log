{
  "nbformat": 4,
  "nbformat_minor": 0,
  "metadata": {
    "colab": {
      "name": "Chapter7.ipynb",
      "provenance": [],
      "authorship_tag": "ABX9TyMMMPEFwgrsdADr7WNHTIAJ",
      "include_colab_link": true
    },
    "kernelspec": {
      "name": "python3",
      "display_name": "Python 3"
    }
  },
  "cells": [
    {
      "cell_type": "markdown",
      "metadata": {
        "id": "view-in-github",
        "colab_type": "text"
      },
      "source": [
        "<a href=\"https://colab.research.google.com/github/hank199599/Introducing-Python-reading_log/blob/main/Chapter7.ipynb\" target=\"_parent\"><img src=\"https://colab.research.google.com/assets/colab-badge.svg\" alt=\"Open In Colab\"/></a>"
      ]
    },
    {
      "cell_type": "markdown",
      "metadata": {
        "id": "FOBHePp5xITs"
      },
      "source": [
        "Python提供兩種序列結構：\n",
        "* tuple：不可變\n",
        "* 串列(list)：可變"
      ]
    },
    {
      "cell_type": "markdown",
      "metadata": {
        "id": "PWAWKUa7x3Qx"
      },
      "source": [
        "# tuple vs 字串\n",
        "\n",
        "* tuple 佔用的空間較少。\n",
        "* 你不可能在無意間破壞 tuple 的項目。\n",
        "* 你可將 tuple當成字典鍵來使用(見第8章)。\n",
        "* 具名 tuple可以當成簡單的物件替代品 (見第202頁)"
      ]
    },
    {
      "cell_type": "markdown",
      "metadata": {
        "id": "t7GFx1ZnxZEC"
      },
      "source": [
        "# tuple\n",
        "將元素指派給它後即不可變化"
      ]
    },
    {
      "cell_type": "markdown",
      "metadata": {
        "id": "66ztDRi_yOFF"
      },
      "source": [
        "## 建立tuple"
      ]
    },
    {
      "cell_type": "markdown",
      "metadata": {
        "id": "gK9s_PMVyRzG"
      },
      "source": [
        "### 用逗號跟()建立"
      ]
    },
    {
      "cell_type": "code",
      "metadata": {
        "id": "aLEDNI_lyWU1"
      },
      "source": [
        "empty_tuple=()\n",
        "empty_tuple"
      ],
      "execution_count": null,
      "outputs": []
    },
    {
      "cell_type": "code",
      "metadata": {
        "id": "mLQaEjopybRr"
      },
      "source": [
        "one_marx='Groucho',\n",
        "one_marx"
      ],
      "execution_count": null,
      "outputs": []
    },
    {
      "cell_type": "code",
      "metadata": {
        "id": "AU4D-cUSzci3",
        "outputId": "519ce96c-ca0b-46ad-c69f-59682bc4d31e",
        "colab": {
          "base_uri": "https://localhost:8080/"
        }
      },
      "source": [
        "one_marx='Groucho',\n",
        "type(one_marx)"
      ],
      "execution_count": null,
      "outputs": [
        {
          "output_type": "execute_result",
          "data": {
            "text/plain": [
              "tuple"
            ]
          },
          "metadata": {
            "tags": []
          },
          "execution_count": 3
        }
      ]
    },
    {
      "cell_type": "code",
      "metadata": {
        "id": "fkehZ2mZy3Ey",
        "outputId": "52705490-e751-4e60-981d-fea78aa705f6",
        "colab": {
          "base_uri": "https://localhost:8080/"
        }
      },
      "source": [
        "marx_tuple='Groucho','Chico','Harpo'\n",
        "marx_tuple"
      ],
      "execution_count": null,
      "outputs": [
        {
          "output_type": "execute_result",
          "data": {
            "text/plain": [
              "('Groucho', 'Chico', 'Harpo')"
            ]
          },
          "metadata": {
            "tags": []
          },
          "execution_count": 2
        }
      ]
    },
    {
      "cell_type": "markdown",
      "metadata": {
        "id": "R1zyABJRyjOV"
      },
      "source": [
        "**注意：**  \n",
        "*如果在建立tuple時省略逗號，則建立會失敗*"
      ]
    },
    {
      "cell_type": "code",
      "metadata": {
        "id": "tGG_0PfByz__",
        "outputId": "43bf4a87-4bb6-47f9-a9eb-96d17c4d8c87",
        "colab": {
          "base_uri": "https://localhost:8080/",
          "height": 35
        }
      },
      "source": [
        "one_marx='Groucho'\n",
        "one_marx"
      ],
      "execution_count": null,
      "outputs": [
        {
          "output_type": "execute_result",
          "data": {
            "application/vnd.google.colaboratory.intrinsic+json": {
              "type": "string"
            },
            "text/plain": [
              "'Groucho'"
            ]
          },
          "metadata": {
            "tags": []
          },
          "execution_count": 1
        }
      ]
    },
    {
      "cell_type": "markdown",
      "metadata": {
        "id": "Z6f2BZLUzFBB"
      },
      "source": [
        "Python 在印出tuple時會加上括號，  \n",
        "但在定義時不一定要加上括號，但相較之下能較輕易辨認指派的資料格式"
      ]
    },
    {
      "cell_type": "code",
      "metadata": {
        "id": "tNHdOC5dzV20"
      },
      "source": [
        "marx_tuple=('Groucho','Chico','Harpo')\n",
        "marx_tuple"
      ],
      "execution_count": null,
      "outputs": []
    },
    {
      "cell_type": "markdown",
      "metadata": {
        "id": "gOG1zAEC01sf"
      },
      "source": [
        "### 用tuple()建立\n",
        "轉換其他資料格式為tuple\n"
      ]
    },
    {
      "cell_type": "code",
      "metadata": {
        "id": "VAV3wN7U0_Nb",
        "outputId": "ad03fa54-42f2-40a9-da32-9ba4e68afa9a",
        "colab": {
          "base_uri": "https://localhost:8080/"
        }
      },
      "source": [
        "marx_list=['Groucho','Chico','Harpo']\n",
        "tuple(marx_list)"
      ],
      "execution_count": null,
      "outputs": [
        {
          "output_type": "execute_result",
          "data": {
            "text/plain": [
              "('Groucho', 'Chico', 'Harpo')"
            ]
          },
          "metadata": {
            "tags": []
          },
          "execution_count": 8
        }
      ]
    },
    {
      "cell_type": "markdown",
      "metadata": {
        "id": "HVi_YxZYzlJo"
      },
      "source": [
        "## tuple unpacking 拆包\n",
        "利用tuple一次對多個變數賦值\n"
      ]
    },
    {
      "cell_type": "code",
      "metadata": {
        "id": "wurE4MADzrFO",
        "outputId": "bc8fe54a-b4d1-4d42-aa83-7c8707a1cd80",
        "colab": {
          "base_uri": "https://localhost:8080/"
        }
      },
      "source": [
        "marx_tuple=('Groucho','Chico','Harpo')\n",
        "a,b,c = marx_tuple\n",
        "print(\"a: %s\"%a)\n",
        "print(\"b: %s\"%b)\n",
        "print(\"c: %s\"%c)"
      ],
      "execution_count": null,
      "outputs": [
        {
          "output_type": "stream",
          "text": [
            "a: Groucho\n",
            "b: Chico\n",
            "c: Harpo\n"
          ],
          "name": "stdout"
        }
      ]
    },
    {
      "cell_type": "code",
      "metadata": {
        "id": "qiWfhruD0X8Z",
        "outputId": "c11f17ef-ace6-466c-b236-81e2b0329156",
        "colab": {
          "base_uri": "https://localhost:8080/"
        }
      },
      "source": [
        "password='swordfish'\n",
        "icecream='tuttifrutti'\n",
        "password,icecream=icecream,password #利用tuple來互換指標方向\n",
        "print(password)\n",
        "print(icecream)"
      ],
      "execution_count": null,
      "outputs": [
        {
          "output_type": "stream",
          "text": [
            "tuttifrutti\n",
            "swordfish\n"
          ],
          "name": "stdout"
        }
      ]
    },
    {
      "cell_type": "markdown",
      "metadata": {
        "id": "0dv-_RQO1In7"
      },
      "source": [
        "## tuple 運算"
      ]
    },
    {
      "cell_type": "markdown",
      "metadata": {
        "id": "CJ8fxWJY1KzL"
      },
      "source": [
        "「+」：結合tuple"
      ]
    },
    {
      "cell_type": "code",
      "metadata": {
        "id": "42nOt4ia1WUb",
        "outputId": "fbb2c1ba-5a52-4de0-d134-ac24cb8f9d3a",
        "colab": {
          "base_uri": "https://localhost:8080/"
        }
      },
      "source": [
        "('Groucho',)+('Chico','Harpo')"
      ],
      "execution_count": null,
      "outputs": [
        {
          "output_type": "execute_result",
          "data": {
            "text/plain": [
              "('Groucho', 'Chico', 'Harpo')"
            ]
          },
          "metadata": {
            "tags": []
          },
          "execution_count": 9
        }
      ]
    },
    {
      "cell_type": "markdown",
      "metadata": {
        "id": "ItJc8fj21bnC"
      },
      "source": [
        "「*」：重複項目"
      ]
    },
    {
      "cell_type": "code",
      "metadata": {
        "id": "-b7HravS1gnB",
        "outputId": "f27419d2-1335-4b03-958c-ec7b529fa36d",
        "colab": {
          "base_uri": "https://localhost:8080/"
        }
      },
      "source": [
        "('yada',)*3"
      ],
      "execution_count": null,
      "outputs": [
        {
          "output_type": "execute_result",
          "data": {
            "text/plain": [
              "('yada', 'yada', 'yada')"
            ]
          },
          "metadata": {
            "tags": []
          },
          "execution_count": 10
        }
      ]
    },
    {
      "cell_type": "markdown",
      "metadata": {
        "id": "Fth2S2U31pa5"
      },
      "source": [
        "比較tuple  \n",
        "*類似於串列的比較*"
      ]
    },
    {
      "cell_type": "code",
      "metadata": {
        "id": "1Lv69uSJ1nKa",
        "outputId": "8d295e3a-f4b8-4e89-b939-e6e07af1959e",
        "colab": {
          "base_uri": "https://localhost:8080/"
        }
      },
      "source": [
        "a=(7,2)\n",
        "b=(7,2,9)\n",
        "print(a==b)\n",
        "print(a<=b)\n",
        "print(a<b)"
      ],
      "execution_count": null,
      "outputs": [
        {
          "output_type": "stream",
          "text": [
            "False\n",
            "True\n",
            "True\n"
          ],
          "name": "stdout"
        }
      ]
    },
    {
      "cell_type": "markdown",
      "metadata": {
        "id": "qCFvTC222acz"
      },
      "source": [
        "## 用 for 與 in 來迭代\n",
        "類似於其他型態的迭代"
      ]
    },
    {
      "cell_type": "code",
      "metadata": {
        "id": "Y_cX5Tao2iun",
        "outputId": "f59cd932-5cf7-4469-a573-3145a085bad1",
        "colab": {
          "base_uri": "https://localhost:8080/"
        }
      },
      "source": [
        "words=('fresh','out','of','ideas')\n",
        "for word in words:\n",
        "  print(word)"
      ],
      "execution_count": null,
      "outputs": [
        {
          "output_type": "stream",
          "text": [
            "fresh\n",
            "out\n",
            "of\n",
            "ideas\n"
          ],
          "name": "stdout"
        }
      ]
    },
    {
      "cell_type": "markdown",
      "metadata": {
        "id": "d0lz_tyr3k4o"
      },
      "source": [
        "## 修改tuple\n",
        "tuple是不可變的，因此修改既有的tuple是不可行的。\n",
        "但可以透過串接(結合)tuple來製作新的tuple"
      ]
    },
    {
      "cell_type": "code",
      "metadata": {
        "id": "wS5zF-Ti36T1",
        "outputId": "86f875ac-629a-4a9f-baf1-35fc832f9408",
        "colab": {
          "base_uri": "https://localhost:8080/"
        }
      },
      "source": [
        "t1=('Fee','Fie','Foe')\n",
        "t2=('Flop',)\n",
        "t1+t2"
      ],
      "execution_count": null,
      "outputs": [
        {
          "output_type": "execute_result",
          "data": {
            "text/plain": [
              "('Fee', 'Fie', 'Foe', 'Flop')"
            ]
          },
          "metadata": {
            "tags": []
          },
          "execution_count": 13
        }
      ]
    },
    {
      "cell_type": "code",
      "metadata": {
        "id": "CKQ0y1HG4FW0",
        "outputId": "4810042f-bf54-403c-a3fb-fac36fbca57c",
        "colab": {
          "base_uri": "https://localhost:8080/"
        }
      },
      "source": [
        "t1=('Fee','Fie','Foe')\n",
        "t2=('Flop',)\n",
        "t1+=t2\n",
        "t1"
      ],
      "execution_count": null,
      "outputs": [
        {
          "output_type": "execute_result",
          "data": {
            "text/plain": [
              "('Fee', 'Fie', 'Foe', 'Flop')"
            ]
          },
          "metadata": {
            "tags": []
          },
          "execution_count": 14
        }
      ]
    },
    {
      "cell_type": "markdown",
      "metadata": {
        "id": "qUSKLmDX4Koe"
      },
      "source": [
        "表面上物件指標是指向同一個t1，  \n",
        "然而查看物件各自的id (identity)後會發現有所差別"
      ]
    },
    {
      "cell_type": "code",
      "metadata": {
        "id": "P_P9JFyD4XAo",
        "outputId": "78f5cd1e-b969-4f14-8c86-2a240f4a15c9",
        "colab": {
          "base_uri": "https://localhost:8080/"
        }
      },
      "source": [
        "t1=('Fee','Fie','Foe')\n",
        "t2=('Flop',)\n",
        "print(id(t1))\n",
        "t1+=t2\n",
        "t1\n",
        "print(id(t1))"
      ],
      "execution_count": null,
      "outputs": [
        {
          "output_type": "stream",
          "text": [
            "140064334847504\n",
            "140064333819480\n"
          ],
          "name": "stdout"
        }
      ]
    },
    {
      "cell_type": "markdown",
      "metadata": {
        "id": "EEorL2ApG0cJ"
      },
      "source": [
        "# 串列 (list)\n",
        "適合以東西的順序來進行追蹤"
      ]
    },
    {
      "cell_type": "markdown",
      "metadata": {
        "id": "oYPBXHlHIIwN"
      },
      "source": [
        "## 建立串列"
      ]
    },
    {
      "cell_type": "markdown",
      "metadata": {
        "id": "i-QLshmGIMDm"
      },
      "source": [
        "### 用[ ]來建立\n",
        "於中括號中放入零或多個元素，並以逗號來區分它們"
      ]
    },
    {
      "cell_type": "code",
      "metadata": {
        "id": "0WAHjryUI2kc"
      },
      "source": [
        "empty_list=[]\n",
        "weekdays=['Monday','Tuseday','Wednesday','Thursday','Friday']\n",
        "big_birds=['emu','ostrich','cassowary']\n",
        "first_name=['Garham','John','Terry','Terry','Michael'] #值不必是唯一的\n",
        "leap_years=[2000,2004,2008]\n",
        "randomness=['Punxsatawney',{'goundhog':'Phil'},'Fed. 2']"
      ],
      "execution_count": null,
      "outputs": []
    },
    {
      "cell_type": "markdown",
      "metadata": {
        "id": "h1-wtGHZL4MA"
      },
      "source": [
        "### 用list來建立\n",
        "* 建立空字串\n",
        "* 將其他可迭代的資料型態轉為串列"
      ]
    },
    {
      "cell_type": "code",
      "metadata": {
        "id": "U7snNn3qMMwc",
        "outputId": "17f8ac72-6588-4255-ff43-cbc95ead9354",
        "colab": {
          "base_uri": "https://localhost:8080/"
        }
      },
      "source": [
        "another_empty_list=list()\n",
        "another_empty_list"
      ],
      "execution_count": 19,
      "outputs": [
        {
          "output_type": "execute_result",
          "data": {
            "text/plain": [
              "[]"
            ]
          },
          "metadata": {
            "tags": []
          },
          "execution_count": 19
        }
      ]
    },
    {
      "cell_type": "code",
      "metadata": {
        "id": "eJk1DAryN8dz",
        "outputId": "9db88eee-da47-4083-a123-0029ba15dc9e",
        "colab": {
          "base_uri": "https://localhost:8080/"
        }
      },
      "source": [
        "list('cat')"
      ],
      "execution_count": 21,
      "outputs": [
        {
          "output_type": "execute_result",
          "data": {
            "text/plain": [
              "['c', 'a', 't']"
            ]
          },
          "metadata": {
            "tags": []
          },
          "execution_count": 21
        }
      ]
    },
    {
      "cell_type": "code",
      "metadata": {
        "id": "Nh9vM3xZPCZL",
        "outputId": "4f26990e-a18d-4379-d192-617d79b6bb2b",
        "colab": {
          "base_uri": "https://localhost:8080/"
        }
      },
      "source": [
        "a_tuple=('ready','fire','aim')\n",
        "list(a_tuple)"
      ],
      "execution_count": 22,
      "outputs": [
        {
          "output_type": "execute_result",
          "data": {
            "text/plain": [
              "['ready', 'fire', 'aim']"
            ]
          },
          "metadata": {
            "tags": []
          },
          "execution_count": 22
        }
      ]
    },
    {
      "cell_type": "markdown",
      "metadata": {
        "id": "3Idjlr0kMMGc"
      },
      "source": [
        "### 用split()和字串來建立\n"
      ]
    },
    {
      "cell_type": "code",
      "metadata": {
        "id": "vszq8861Wzub",
        "outputId": "ab21759e-5bb1-4db8-a882-6577a17bdfc4",
        "colab": {
          "base_uri": "https://localhost:8080/"
        }
      },
      "source": [
        "talk_like_a_pirate_day='9/19/2019'\n",
        "talk_like_a_pirate_day.split('/')"
      ],
      "execution_count": 24,
      "outputs": [
        {
          "output_type": "execute_result",
          "data": {
            "text/plain": [
              "['9', '19', '2019']"
            ]
          },
          "metadata": {
            "tags": []
          },
          "execution_count": 24
        }
      ]
    },
    {
      "cell_type": "code",
      "metadata": {
        "id": "rv2y13IsXiu7",
        "outputId": "d6d6abf0-e289-48a1-a7e0-2faa64ed90bf",
        "colab": {
          "base_uri": "https://localhost:8080/"
        }
      },
      "source": [
        "spiltme='a/b//c/d///e'\n",
        "spiltme.split('/')"
      ],
      "execution_count": 23,
      "outputs": [
        {
          "output_type": "execute_result",
          "data": {
            "text/plain": [
              "['a', 'b', '', 'c', 'd', '', '', 'e']"
            ]
          },
          "metadata": {
            "tags": []
          },
          "execution_count": 23
        }
      ]
    },
    {
      "cell_type": "code",
      "metadata": {
        "id": "3SAsLsjMXtBR",
        "outputId": "e20cfbd2-c0a5-404d-98ca-f596ab2c8725",
        "colab": {
          "base_uri": "https://localhost:8080/"
        }
      },
      "source": [
        "spiltme='a/b//c/d///e'\n",
        "spiltme.split('//')"
      ],
      "execution_count": 25,
      "outputs": [
        {
          "output_type": "execute_result",
          "data": {
            "text/plain": [
              "['a/b', 'c/d', '/e']"
            ]
          },
          "metadata": {
            "tags": []
          },
          "execution_count": 25
        }
      ]
    },
    {
      "cell_type": "markdown",
      "metadata": {
        "id": "41wc5VxPXxcB"
      },
      "source": [
        "## 取得項目"
      ]
    },
    {
      "cell_type": "markdown",
      "metadata": {
        "id": "Lfm5v79kX0sw"
      },
      "source": [
        "### [offset]\n",
        "自串列中取得一個值"
      ]
    },
    {
      "cell_type": "code",
      "metadata": {
        "id": "BJoHz61fX0Fh",
        "outputId": "e65995d5-df6f-45a3-b989-b5bca0124145",
        "colab": {
          "base_uri": "https://localhost:8080/"
        }
      },
      "source": [
        "marxes=['Groucho','Chico','Harpo']\n",
        "print(marxes[0])\n",
        "print(marxes[1])\n",
        "print(marxes[2])\n",
        "print(marxes[-1])\n",
        "print(marxes[-2])\n",
        "print(marxes[-3])"
      ],
      "execution_count": 26,
      "outputs": [
        {
          "output_type": "stream",
          "text": [
            "Groucho\n",
            "Chico\n",
            "Harpo\n"
          ],
          "name": "stdout"
        }
      ]
    },
    {
      "cell_type": "markdown",
      "metadata": {
        "id": "_EP945m17f4D"
      },
      "source": [
        "### slice\n",
        "**提取串列的子序列**"
      ]
    },
    {
      "cell_type": "code",
      "metadata": {
        "id": "pquaOhLz73Gn"
      },
      "source": [
        "marxes=['Groucho','Chico','Harpo']\n",
        "marxes[0:2]"
      ],
      "execution_count": null,
      "outputs": []
    },
    {
      "cell_type": "code",
      "metadata": {
        "id": "XyIaDhr78DNQ"
      },
      "source": [
        "marxes=['Groucho','Chico','Harpo']\n",
        "marxes[::2] #以2的間值往右取出元素"
      ],
      "execution_count": null,
      "outputs": []
    },
    {
      "cell_type": "code",
      "metadata": {
        "id": "_HBMZQuV8DV-"
      },
      "source": [
        "marxes=['Groucho','Chico','Harpo']\n",
        "marxes[0:-2] #以2的間值往左取出元素"
      ],
      "execution_count": null,
      "outputs": []
    },
    {
      "cell_type": "markdown",
      "metadata": {
        "id": "uKVfshbD98B4"
      },
      "source": [
        "### 無效索引的行為\n",
        "取得最接近的有效索引，或回傳空值"
      ]
    },
    {
      "cell_type": "code",
      "metadata": {
        "id": "6eOJe2bo-Hcm",
        "outputId": "ec2c1b32-9e52-4234-d71b-9a73fc51b0d6",
        "colab": {
          "base_uri": "https://localhost:8080/"
        }
      },
      "source": [
        "marxes=['Groucho','Chico','Harpo']\n",
        "marxes[4:]"
      ],
      "execution_count": 29,
      "outputs": [
        {
          "output_type": "execute_result",
          "data": {
            "text/plain": [
              "[]"
            ]
          },
          "metadata": {
            "tags": []
          },
          "execution_count": 29
        }
      ]
    },
    {
      "cell_type": "code",
      "metadata": {
        "id": "QK3QBR6S-OOH",
        "outputId": "44cc3a24-e1a0-4e10-df53-8aa33e8c5ba5",
        "colab": {
          "base_uri": "https://localhost:8080/"
        }
      },
      "source": [
        "marxes=['Groucho','Chico','Harpo']\n",
        "marxes[-6:]"
      ],
      "execution_count": 30,
      "outputs": [
        {
          "output_type": "execute_result",
          "data": {
            "text/plain": [
              "['Groucho', 'Chico', 'Harpo']"
            ]
          },
          "metadata": {
            "tags": []
          },
          "execution_count": 30
        }
      ]
    },
    {
      "cell_type": "markdown",
      "metadata": {
        "id": "pVBPr3sL8XRg"
      },
      "source": [
        "## 翻轉串列"
      ]
    },
    {
      "cell_type": "code",
      "metadata": {
        "id": "ZJjgvTDb8b4Y",
        "outputId": "9e09e4bf-3bd9-4ded-c556-7bc0d477e40b",
        "colab": {
          "base_uri": "https://localhost:8080/"
        }
      },
      "source": [
        "marxes=['Groucho','Chico','Harpo']\n",
        "marxes[::-1] "
      ],
      "execution_count": 27,
      "outputs": [
        {
          "output_type": "execute_result",
          "data": {
            "text/plain": [
              "['Harpo', 'Chico', 'Groucho']"
            ]
          },
          "metadata": {
            "tags": []
          },
          "execution_count": 27
        }
      ]
    },
    {
      "cell_type": "markdown",
      "metadata": {
        "id": "qPPrJ-Gd9ld2"
      },
      "source": [
        "**reverse()**  \n",
        "可改變串列，但不會回傳它的值"
      ]
    },
    {
      "cell_type": "code",
      "metadata": {
        "id": "lnvNwJEg9iJW",
        "outputId": "d2d2ad7a-196f-435c-9345-773f0b47f844",
        "colab": {
          "base_uri": "https://localhost:8080/"
        }
      },
      "source": [
        "marxes=['Groucho','Chico','Harpo']\n",
        "marxes.reverse()\n",
        "marxes"
      ],
      "execution_count": 28,
      "outputs": [
        {
          "output_type": "execute_result",
          "data": {
            "text/plain": [
              "['Harpo', 'Chico', 'Groucho']"
            ]
          },
          "metadata": {
            "tags": []
          },
          "execution_count": 28
        }
      ]
    },
    {
      "cell_type": "markdown",
      "metadata": {
        "id": "C-lRi9Km-TNf"
      },
      "source": [
        "## 加入項目"
      ]
    },
    {
      "cell_type": "markdown",
      "metadata": {
        "id": "1uEDDaJ4-WZP"
      },
      "source": [
        "### append()\n",
        "傳統作法：利用該函式將元素依序加入尾端"
      ]
    },
    {
      "cell_type": "code",
      "metadata": {
        "id": "m9q97oMS-SfW",
        "outputId": "c391d2f8-06af-422d-ff83-ed5ec032bb9b",
        "colab": {
          "base_uri": "https://localhost:8080/"
        }
      },
      "source": [
        "marxes=['Groucho','Chico','Harpo']\n",
        "marxes.append('Zeppo')\n",
        "marxes"
      ],
      "execution_count": 32,
      "outputs": [
        {
          "output_type": "execute_result",
          "data": {
            "text/plain": [
              "['Groucho', 'Chico', 'Harpo', 'Zeppo']"
            ]
          },
          "metadata": {
            "tags": []
          },
          "execution_count": 32
        }
      ]
    },
    {
      "cell_type": "markdown",
      "metadata": {
        "id": "uFlQDaHKBQ-W"
      },
      "source": [
        "如果使用這個函式進行串列合併，併入的串列會被視為一個物件"
      ]
    },
    {
      "cell_type": "code",
      "metadata": {
        "id": "lD2d0DeeBtku",
        "outputId": "907a509d-c1b5-47a0-de7a-5d7024995064",
        "colab": {
          "base_uri": "https://localhost:8080/"
        }
      },
      "source": [
        "marxes=['Groucho', 'Chico', 'Gummo', 'Harpo']\n",
        "others=['Gummo','Karl']\n",
        "marxes.append(others)\n",
        "marxes"
      ],
      "execution_count": 37,
      "outputs": [
        {
          "output_type": "execute_result",
          "data": {
            "text/plain": [
              "['Groucho', 'Chico', 'Gummo', 'Harpo', ['Gummo', 'Karl']]"
            ]
          },
          "metadata": {
            "tags": []
          },
          "execution_count": 37
        }
      ]
    },
    {
      "cell_type": "markdown",
      "metadata": {
        "id": "fbc6TU9d_cbf"
      },
      "source": [
        "### insert() 與 offset\n",
        "加入元素到字串中的特定位置 (offset)\n"
      ]
    },
    {
      "cell_type": "code",
      "metadata": {
        "id": "TpcvUNN2_bs2",
        "outputId": "57c0b6e2-0f19-4483-ceae-221b87658349",
        "colab": {
          "base_uri": "https://localhost:8080/"
        }
      },
      "source": [
        "marxes=['Groucho','Chico','Harpo']\n",
        "marxes.insert(2,'Gummo')\n",
        "marxes"
      ],
      "execution_count": 34,
      "outputs": [
        {
          "output_type": "execute_result",
          "data": {
            "text/plain": [
              "['Groucho', 'Chico', 'Gummo', 'Harpo']"
            ]
          },
          "metadata": {
            "tags": []
          },
          "execution_count": 34
        }
      ]
    },
    {
      "cell_type": "markdown",
      "metadata": {
        "id": "wEFakYTLAGD-"
      },
      "source": [
        "若指定位置超出串列範圍，會如同append()般將元素至於串列尾端"
      ]
    },
    {
      "cell_type": "code",
      "metadata": {
        "id": "JlU6_XbR__82"
      },
      "source": [
        "marxes=['Groucho', 'Chico', 'Gummo', 'Harpo']\n",
        "marxes.insert(10,'Zeppo') \n",
        "marxes"
      ],
      "execution_count": null,
      "outputs": []
    },
    {
      "cell_type": "markdown",
      "metadata": {
        "id": "73I9Iz7nAq3p"
      },
      "source": [
        "## 串列運算"
      ]
    },
    {
      "cell_type": "markdown",
      "metadata": {
        "id": "yEkP4Rf7A1IR"
      },
      "source": [
        "### 結合串列"
      ]
    },
    {
      "cell_type": "markdown",
      "metadata": {
        "id": "qrqF--eOA6s3"
      },
      "source": [
        "extend()"
      ]
    },
    {
      "cell_type": "code",
      "metadata": {
        "id": "Go5W2PReA92f",
        "outputId": "3a306fb9-25ad-400f-fd11-16a661f0a407",
        "colab": {
          "base_uri": "https://localhost:8080/"
        }
      },
      "source": [
        "marxes=['Groucho', 'Chico', 'Gummo', 'Harpo']\n",
        "others=['Gummo','Karl']\n",
        "marxes.extend(others)\n",
        "marxes"
      ],
      "execution_count": 35,
      "outputs": [
        {
          "output_type": "execute_result",
          "data": {
            "text/plain": [
              "['Groucho', 'Chico', 'Gummo', 'Harpo', 'Gummo', 'Karl']"
            ]
          },
          "metadata": {
            "tags": []
          },
          "execution_count": 35
        }
      ]
    },
    {
      "cell_type": "markdown",
      "metadata": {
        "id": "lQVO50TDBgTA"
      },
      "source": [
        "使用「+」：合併運算子"
      ]
    },
    {
      "cell_type": "code",
      "metadata": {
        "id": "vbpzxM_GBlQW",
        "outputId": "2bcf6c8e-046b-45b5-f367-1105241a5f2d",
        "colab": {
          "base_uri": "https://localhost:8080/"
        }
      },
      "source": [
        "marxes=['Groucho', 'Chico', 'Gummo', 'Harpo']\n",
        "others=['Gummo','Karl']\n",
        "marxes+=others\n",
        "marxes"
      ],
      "execution_count": 36,
      "outputs": [
        {
          "output_type": "execute_result",
          "data": {
            "text/plain": [
              "['Groucho', 'Chico', 'Gummo', 'Harpo', 'Gummo', 'Karl']"
            ]
          },
          "metadata": {
            "tags": []
          },
          "execution_count": 36
        }
      ]
    },
    {
      "cell_type": "markdown",
      "metadata": {
        "id": "55Wmi1auAt0n"
      },
      "source": [
        "### 「*」：重複項目"
      ]
    },
    {
      "cell_type": "code",
      "metadata": {
        "id": "kvTd1vEkB1su",
        "outputId": "b57987d3-730f-4b1c-b59a-4d5919360946",
        "colab": {
          "base_uri": "https://localhost:8080/"
        }
      },
      "source": [
        "[\"blah\"]*3"
      ],
      "execution_count": 38,
      "outputs": [
        {
          "output_type": "execute_result",
          "data": {
            "text/plain": [
              "['blah', 'blah', 'blah']"
            ]
          },
          "metadata": {
            "tags": []
          },
          "execution_count": 38
        }
      ]
    },
    {
      "cell_type": "markdown",
      "metadata": {
        "id": "ZLLR7zjkB8DG"
      },
      "source": [
        "## 更改項目"
      ]
    },
    {
      "cell_type": "markdown",
      "metadata": {
        "id": "3wSjy0sdCT12"
      },
      "source": [
        "### offset()\n",
        "用這種方式不能更改字串內的字元   \n",
        "但可以更動串列內的項目數量以及項目本身"
      ]
    },
    {
      "cell_type": "code",
      "metadata": {
        "id": "YuVgS0WSCWMd",
        "outputId": "59076223-e647-489c-d5c4-616a5e92aba3",
        "colab": {
          "base_uri": "https://localhost:8080/"
        }
      },
      "source": [
        "marxes=['Groucho','Chico','Harpo']\n",
        "marxes[2]='Wanda'\n",
        "marxes"
      ],
      "execution_count": 39,
      "outputs": [
        {
          "output_type": "execute_result",
          "data": {
            "text/plain": [
              "['Groucho', 'Chico', 'Wanda']"
            ]
          },
          "metadata": {
            "tags": []
          },
          "execution_count": 39
        }
      ]
    },
    {
      "cell_type": "markdown",
      "metadata": {
        "id": "SqwFRTyoCwyI"
      },
      "source": [
        "### slice()"
      ]
    },
    {
      "cell_type": "code",
      "metadata": {
        "id": "UWr509orCz79",
        "outputId": "e47cd336-6d87-43aa-a4ae-ed4ca68a5b1a",
        "colab": {
          "base_uri": "https://localhost:8080/"
        }
      },
      "source": [
        "numbers=[1,2,3,4]\n",
        "numbers[1:3]=[8,9]\n",
        "numbers"
      ],
      "execution_count": 40,
      "outputs": [
        {
          "output_type": "execute_result",
          "data": {
            "text/plain": [
              "[1, 8, 9, 4]"
            ]
          },
          "metadata": {
            "tags": []
          },
          "execution_count": 40
        }
      ]
    },
    {
      "cell_type": "markdown",
      "metadata": {
        "id": "WeMqPb6CC-6n"
      },
      "source": [
        "被指派的元素個數不必跟slice選取的元素數量一致"
      ]
    },
    {
      "cell_type": "code",
      "metadata": {
        "id": "Rlv2An_WDJkH",
        "outputId": "05572dd2-229b-4a85-91b7-cfb4da298ae2",
        "colab": {
          "base_uri": "https://localhost:8080/"
        }
      },
      "source": [
        "numbers=[1,2,3,4]\n",
        "numbers[1:3]=[7,8,9]\n",
        "numbers"
      ],
      "execution_count": 41,
      "outputs": [
        {
          "output_type": "execute_result",
          "data": {
            "text/plain": [
              "[1, 7, 8, 9, 4]"
            ]
          },
          "metadata": {
            "tags": []
          },
          "execution_count": 41
        }
      ]
    },
    {
      "cell_type": "code",
      "metadata": {
        "id": "2Xu21-wjDQHW",
        "outputId": "a006ac2c-3e6c-46fe-cfa6-5f5ac6ade8c6",
        "colab": {
          "base_uri": "https://localhost:8080/"
        }
      },
      "source": [
        "numbers=[1,2,3,4]\n",
        "numbers[1:3]=[]\n",
        "numbers"
      ],
      "execution_count": 42,
      "outputs": [
        {
          "output_type": "execute_result",
          "data": {
            "text/plain": [
              "[1, 4]"
            ]
          },
          "metadata": {
            "tags": []
          },
          "execution_count": 42
        }
      ]
    },
    {
      "cell_type": "markdown",
      "metadata": {
        "id": "wpQj9VM0DThH"
      },
      "source": [
        "被指派的數值不限定於串列，只要是可迭代物都行!"
      ]
    },
    {
      "cell_type": "code",
      "metadata": {
        "id": "Jcz6QL4xDduR",
        "outputId": "9eb62c83-7323-4389-c59e-db54c4d8d978",
        "colab": {
          "base_uri": "https://localhost:8080/"
        }
      },
      "source": [
        "numbers=[1,2,3,4]\n",
        "numbers[1:3]=(98,99,100)\n",
        "numbers"
      ],
      "execution_count": 44,
      "outputs": [
        {
          "output_type": "execute_result",
          "data": {
            "text/plain": [
              "[1, 98, 99, 100, 4]"
            ]
          },
          "metadata": {
            "tags": []
          },
          "execution_count": 44
        }
      ]
    },
    {
      "cell_type": "code",
      "metadata": {
        "id": "G9Wsn4Y5DiE-",
        "outputId": "5185a996-6f06-43bd-a7d4-cfce362cd1d9",
        "colab": {
          "base_uri": "https://localhost:8080/"
        }
      },
      "source": [
        "numbers=[1,2,3,4]\n",
        "numbers[1:3]='wat?'\n",
        "numbers"
      ],
      "execution_count": 43,
      "outputs": [
        {
          "output_type": "execute_result",
          "data": {
            "text/plain": [
              "[1, 'w', 'a', 't', '?', 4]"
            ]
          },
          "metadata": {
            "tags": []
          },
          "execution_count": 43
        }
      ]
    },
    {
      "cell_type": "markdown",
      "metadata": {
        "id": "Y8C2huKFDpte"
      },
      "source": [
        "## 刪除項目"
      ]
    },
    {
      "cell_type": "markdown",
      "metadata": {
        "id": "PbmVkT_9Dsvm"
      },
      "source": [
        "### del()"
      ]
    },
    {
      "cell_type": "code",
      "metadata": {
        "id": "QLCAhpRCDpOW",
        "outputId": "b9fab122-3170-4492-ea67-e2d72be2b855",
        "colab": {
          "base_uri": "https://localhost:8080/"
        }
      },
      "source": [
        "marxes=['Groucho', 'Chico', 'Harpo','Gummo', 'Karl']\n",
        "del marxes[-1]\n",
        "marxes"
      ],
      "execution_count": 49,
      "outputs": [
        {
          "output_type": "execute_result",
          "data": {
            "text/plain": [
              "['Groucho', 'Chico', 'Harpo', 'Gummo']"
            ]
          },
          "metadata": {
            "tags": []
          },
          "execution_count": 49
        }
      ]
    },
    {
      "cell_type": "markdown",
      "metadata": {
        "id": "Fbd6qSLgECxn"
      },
      "source": [
        "若指定刪除的位置不是在串列尾端  \n",
        "則位於該位置後方的元素會依序往前遞補。"
      ]
    },
    {
      "cell_type": "code",
      "metadata": {
        "id": "A4n90WM3Gnh1",
        "outputId": "e591e46d-01b8-4f8d-a447-0be90549530b",
        "colab": {
          "base_uri": "https://localhost:8080/"
        }
      },
      "source": [
        "marxes=['Groucho', 'Chico', 'Harpo', 'Gummo']\n",
        "del marxes[1]\n",
        "marxes"
      ],
      "execution_count": 50,
      "outputs": [
        {
          "output_type": "execute_result",
          "data": {
            "text/plain": [
              "['Groucho', 'Harpo', 'Gummo']"
            ]
          },
          "metadata": {
            "tags": []
          },
          "execution_count": 50
        }
      ]
    },
    {
      "cell_type": "markdown",
      "metadata": {
        "id": "W9Nc-ahsG1re"
      },
      "source": [
        "### remove()\n",
        "無需事先知道元素位置"
      ]
    },
    {
      "cell_type": "code",
      "metadata": {
        "id": "5EIy-1teG7cu",
        "outputId": "c4eaa262-57f1-40a1-c097-c175cae86056",
        "colab": {
          "base_uri": "https://localhost:8080/"
        }
      },
      "source": [
        "marxes=['Groucho', 'Chico', 'Harpo', 'Gummo']\n",
        "marxes.remove('Groucho')\n",
        "marxes"
      ],
      "execution_count": 51,
      "outputs": [
        {
          "output_type": "execute_result",
          "data": {
            "text/plain": [
              "['Chico', 'Harpo', 'Gummo']"
            ]
          },
          "metadata": {
            "tags": []
          },
          "execution_count": 51
        }
      ]
    },
    {
      "cell_type": "markdown",
      "metadata": {
        "id": "D5hDsIluJZ3_"
      },
      "source": [
        "### 使用pop()與offset\n",
        "\n",
        "offset預設為-1 (即串列尾端)"
      ]
    },
    {
      "cell_type": "code",
      "metadata": {
        "id": "DKtS0YjHJihX",
        "outputId": "b01c6f1d-2cce-4560-9eda-fa938bb1141d",
        "colab": {
          "base_uri": "https://localhost:8080/"
        }
      },
      "source": [
        "marxes=['Groucho', 'Chico', 'Harpo','Zeppo']\n",
        "marxes.pop()\n",
        "marxes"
      ],
      "execution_count": 52,
      "outputs": [
        {
          "output_type": "execute_result",
          "data": {
            "text/plain": [
              "['Groucho', 'Chico', 'Harpo']"
            ]
          },
          "metadata": {
            "tags": []
          },
          "execution_count": 52
        }
      ]
    },
    {
      "cell_type": "code",
      "metadata": {
        "id": "E7799dVkJsIF",
        "outputId": "87426486-4a2f-4b7b-83d6-90df40b70ab5",
        "colab": {
          "base_uri": "https://localhost:8080/"
        }
      },
      "source": [
        "marxes=['Groucho', 'Chico', 'Harpo','Zeppo']\n",
        "marxes.pop(1)\n",
        "marxes"
      ],
      "execution_count": 53,
      "outputs": [
        {
          "output_type": "execute_result",
          "data": {
            "text/plain": [
              "['Groucho', 'Harpo', 'Zeppo']"
            ]
          },
          "metadata": {
            "tags": []
          },
          "execution_count": 53
        }
      ]
    },
    {
      "cell_type": "markdown",
      "metadata": {
        "id": "lmEczwJaJ9EE"
      },
      "source": [
        "### clear()\n",
        "刪除所有元素"
      ]
    },
    {
      "cell_type": "code",
      "metadata": {
        "id": "25XJd86mKAu5",
        "outputId": "bdfe8486-7e78-4494-d107-be6fb6a92717",
        "colab": {
          "base_uri": "https://localhost:8080/"
        }
      },
      "source": [
        "work_quotes = [\"Working hard?\", \"Quick question\", \"Number one priorities!\"]\n",
        "print(work_quotes)\n",
        "work_quotes.clear()\n",
        "print(work_quotes)"
      ],
      "execution_count": 58,
      "outputs": [
        {
          "output_type": "stream",
          "text": [
            "['Working hard?', 'Quick question', 'Number one priorities!']\n",
            "[]\n"
          ],
          "name": "stdout"
        }
      ]
    },
    {
      "cell_type": "markdown",
      "metadata": {
        "id": "GHo_kodOKs20"
      },
      "source": [
        "## 搜尋串列中的元素"
      ]
    },
    {
      "cell_type": "markdown",
      "metadata": {
        "id": "PvFlweFhKzb8"
      },
      "source": [
        "### index()\n",
        "用值來索引它在串列中位置，  \n",
        "如果那個值在串列中的數目超過一個，則指回傳第一個索引到的位置。"
      ]
    },
    {
      "cell_type": "code",
      "metadata": {
        "id": "5I41SnB4K1E5"
      },
      "source": [
        "marxes=['Groucho', 'Chico', 'Harpo','Zeppo']\n",
        "marxes.inedx('Chico')\n",
        "marxes"
      ],
      "execution_count": null,
      "outputs": []
    },
    {
      "cell_type": "code",
      "metadata": {
        "id": "LhVVgz8dKl4f",
        "outputId": "504022fe-64df-45ac-8d4d-75e22b783368",
        "colab": {
          "base_uri": "https://localhost:8080/"
        }
      },
      "source": [
        "simpsons=['Lisa','Bart','Marge','Homer','Bart']\n",
        "simpsons.index('Bart')"
      ],
      "execution_count": 59,
      "outputs": [
        {
          "output_type": "execute_result",
          "data": {
            "text/plain": [
              "1"
            ]
          },
          "metadata": {
            "tags": []
          },
          "execution_count": 59
        }
      ]
    },
    {
      "cell_type": "markdown",
      "metadata": {
        "id": "4_m4BlF_Ldmn"
      },
      "source": [
        "### 用 in 檢查值是否存在"
      ]
    },
    {
      "cell_type": "code",
      "metadata": {
        "id": "e58kqIU-LkA8",
        "outputId": "d53be45c-dd32-4840-cea2-6e51f820336f",
        "colab": {
          "base_uri": "https://localhost:8080/"
        }
      },
      "source": [
        "marxes=['Groucho', 'Chico', 'Harpo','Zeppo']\n",
        "'Groucho'in marxes"
      ],
      "execution_count": 60,
      "outputs": [
        {
          "output_type": "execute_result",
          "data": {
            "text/plain": [
              "True"
            ]
          },
          "metadata": {
            "tags": []
          },
          "execution_count": 60
        }
      ]
    },
    {
      "cell_type": "code",
      "metadata": {
        "id": "earOhYijLqBU",
        "outputId": "25d3b1f3-b9fa-4fb2-82f7-ee0e00b2fd0b",
        "colab": {
          "base_uri": "https://localhost:8080/"
        }
      },
      "source": [
        "marxes=['Groucho', 'Chico', 'Harpo','Zeppo']\n",
        "'Bob'in marxes"
      ],
      "execution_count": 61,
      "outputs": [
        {
          "output_type": "execute_result",
          "data": {
            "text/plain": [
              "False"
            ]
          },
          "metadata": {
            "tags": []
          },
          "execution_count": 61
        }
      ]
    },
    {
      "cell_type": "markdown",
      "metadata": {
        "id": "Uk_XE9vFLvJM"
      },
      "source": [
        "若檢測的值在串列中出現不只一次，in 即會回傳 True"
      ]
    },
    {
      "cell_type": "code",
      "metadata": {
        "id": "r63kUaCRL7oU",
        "outputId": "f007243f-71e1-4a3b-e0d7-6da27a58abeb",
        "colab": {
          "base_uri": "https://localhost:8080/"
        }
      },
      "source": [
        "words=['a','deer','a','female','deer']\n",
        "'deer' in words"
      ],
      "execution_count": 62,
      "outputs": [
        {
          "output_type": "execute_result",
          "data": {
            "text/plain": [
              "True"
            ]
          },
          "metadata": {
            "tags": []
          },
          "execution_count": 62
        }
      ]
    },
    {
      "cell_type": "markdown",
      "metadata": {
        "id": "_kRu4-uoMIC7"
      },
      "source": [
        "### count()\n",
        "計算一個值出現的次數"
      ]
    },
    {
      "cell_type": "code",
      "metadata": {
        "id": "288jzD2fMPoU",
        "outputId": "252fc0d9-b926-4f67-e499-3d9b0692a5a5",
        "colab": {
          "base_uri": "https://localhost:8080/"
        }
      },
      "source": [
        "marxes=['Groucho', 'Chico', 'Harpo']\n",
        "marxes.count('Harpo')"
      ],
      "execution_count": 63,
      "outputs": [
        {
          "output_type": "execute_result",
          "data": {
            "text/plain": [
              "1"
            ]
          },
          "metadata": {
            "tags": []
          },
          "execution_count": 63
        }
      ]
    },
    {
      "cell_type": "code",
      "metadata": {
        "id": "YD1yBL-XMVSU",
        "outputId": "d8e3b8ce-426a-4276-ff0e-dd4e3b98c745",
        "colab": {
          "base_uri": "https://localhost:8080/"
        }
      },
      "source": [
        "marxes=['Groucho', 'Chico', 'Harpo']\n",
        "marxes.count('Bob')"
      ],
      "execution_count": 64,
      "outputs": [
        {
          "output_type": "execute_result",
          "data": {
            "text/plain": [
              "0"
            ]
          },
          "metadata": {
            "tags": []
          },
          "execution_count": 64
        }
      ]
    },
    {
      "cell_type": "code",
      "metadata": {
        "id": "rS9-TxpIMW4r",
        "outputId": "2183feee-1688-48c0-e537-d4f751e083c3",
        "colab": {
          "base_uri": "https://localhost:8080/"
        }
      },
      "source": [
        "snl_skit=['cheeseburger','cheeseburger','cheeseburger']\n",
        "snl_skit.count('cheeseburger')"
      ],
      "execution_count": 65,
      "outputs": [
        {
          "output_type": "execute_result",
          "data": {
            "text/plain": [
              "3"
            ]
          },
          "metadata": {
            "tags": []
          },
          "execution_count": 65
        }
      ]
    }
  ]
}