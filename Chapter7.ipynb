{
  "nbformat": 4,
  "nbformat_minor": 0,
  "metadata": {
    "colab": {
      "name": "Chapter7.ipynb",
      "provenance": [],
      "authorship_tag": "ABX9TyPsBKb7BzllecojA2qR8fmg",
      "include_colab_link": true
    },
    "kernelspec": {
      "name": "python3",
      "display_name": "Python 3"
    }
  },
  "cells": [
    {
      "cell_type": "markdown",
      "metadata": {
        "id": "view-in-github",
        "colab_type": "text"
      },
      "source": [
        "<a href=\"https://colab.research.google.com/github/hank199599/Introducing-Python-reading_log/blob/main/Chapter7.ipynb\" target=\"_parent\"><img src=\"https://colab.research.google.com/assets/colab-badge.svg\" alt=\"Open In Colab\"/></a>"
      ]
    },
    {
      "cell_type": "markdown",
      "metadata": {
        "id": "FOBHePp5xITs"
      },
      "source": [
        "Python提供兩種序列結構：\n",
        "* tuple：不可變\n",
        "* 串列(list)：可變"
      ]
    },
    {
      "cell_type": "markdown",
      "metadata": {
        "id": "PWAWKUa7x3Qx"
      },
      "source": [
        "# tuple vs 字串\n",
        "\n",
        "* tuple 佔用的空間較少。\n",
        "* 你不可能在無意間破壞 tuple 的項目。\n",
        "* 你可將 tuple當成字典鍵來使用(見第8章)。\n",
        "* 具名 tuple可以當成簡單的物件替代品 (見第202頁)"
      ]
    },
    {
      "cell_type": "markdown",
      "metadata": {
        "id": "t7GFx1ZnxZEC"
      },
      "source": [
        "# tuple\n",
        "將元素指派給它後即不可變化"
      ]
    },
    {
      "cell_type": "markdown",
      "metadata": {
        "id": "66ztDRi_yOFF"
      },
      "source": [
        "## 建立tuple"
      ]
    },
    {
      "cell_type": "markdown",
      "metadata": {
        "id": "gK9s_PMVyRzG"
      },
      "source": [
        "### 用逗號跟()建立"
      ]
    },
    {
      "cell_type": "code",
      "metadata": {
        "id": "aLEDNI_lyWU1"
      },
      "source": [
        "empty_tuple=()\n",
        "empty_tuple"
      ],
      "execution_count": null,
      "outputs": []
    },
    {
      "cell_type": "code",
      "metadata": {
        "id": "mLQaEjopybRr"
      },
      "source": [
        "one_marx='Groucho',\n",
        "one_marx"
      ],
      "execution_count": null,
      "outputs": []
    },
    {
      "cell_type": "code",
      "metadata": {
        "id": "AU4D-cUSzci3",
        "outputId": "519ce96c-ca0b-46ad-c69f-59682bc4d31e",
        "colab": {
          "base_uri": "https://localhost:8080/"
        }
      },
      "source": [
        "one_marx='Groucho',\n",
        "type(one_marx)"
      ],
      "execution_count": null,
      "outputs": [
        {
          "output_type": "execute_result",
          "data": {
            "text/plain": [
              "tuple"
            ]
          },
          "metadata": {
            "tags": []
          },
          "execution_count": 3
        }
      ]
    },
    {
      "cell_type": "code",
      "metadata": {
        "id": "fkehZ2mZy3Ey",
        "outputId": "52705490-e751-4e60-981d-fea78aa705f6",
        "colab": {
          "base_uri": "https://localhost:8080/"
        }
      },
      "source": [
        "marx_tuple='Groucho','Chico','Harpo'\n",
        "marx_tuple"
      ],
      "execution_count": null,
      "outputs": [
        {
          "output_type": "execute_result",
          "data": {
            "text/plain": [
              "('Groucho', 'Chico', 'Harpo')"
            ]
          },
          "metadata": {
            "tags": []
          },
          "execution_count": 2
        }
      ]
    },
    {
      "cell_type": "markdown",
      "metadata": {
        "id": "R1zyABJRyjOV"
      },
      "source": [
        "**注意：**  \n",
        "*如果在建立tuple時省略逗號，則建立會失敗*"
      ]
    },
    {
      "cell_type": "code",
      "metadata": {
        "id": "tGG_0PfByz__",
        "outputId": "43bf4a87-4bb6-47f9-a9eb-96d17c4d8c87",
        "colab": {
          "base_uri": "https://localhost:8080/",
          "height": 35
        }
      },
      "source": [
        "one_marx='Groucho'\n",
        "one_marx"
      ],
      "execution_count": null,
      "outputs": [
        {
          "output_type": "execute_result",
          "data": {
            "application/vnd.google.colaboratory.intrinsic+json": {
              "type": "string"
            },
            "text/plain": [
              "'Groucho'"
            ]
          },
          "metadata": {
            "tags": []
          },
          "execution_count": 1
        }
      ]
    },
    {
      "cell_type": "markdown",
      "metadata": {
        "id": "Z6f2BZLUzFBB"
      },
      "source": [
        "Python 在印出tuple時會加上括號，  \n",
        "但在定義時不一定要加上括號，但相較之下能較輕易辨認指派的資料格式"
      ]
    },
    {
      "cell_type": "code",
      "metadata": {
        "id": "tNHdOC5dzV20"
      },
      "source": [
        "marx_tuple=('Groucho','Chico','Harpo')\n",
        "marx_tuple"
      ],
      "execution_count": null,
      "outputs": []
    },
    {
      "cell_type": "markdown",
      "metadata": {
        "id": "gOG1zAEC01sf"
      },
      "source": [
        "### 用tuple()建立\n",
        "轉換其他資料格式為tuple\n"
      ]
    },
    {
      "cell_type": "code",
      "metadata": {
        "id": "VAV3wN7U0_Nb",
        "outputId": "ad03fa54-42f2-40a9-da32-9ba4e68afa9a",
        "colab": {
          "base_uri": "https://localhost:8080/"
        }
      },
      "source": [
        "marx_list=['Groucho','Chico','Harpo']\n",
        "tuple(marx_list)"
      ],
      "execution_count": null,
      "outputs": [
        {
          "output_type": "execute_result",
          "data": {
            "text/plain": [
              "('Groucho', 'Chico', 'Harpo')"
            ]
          },
          "metadata": {
            "tags": []
          },
          "execution_count": 8
        }
      ]
    },
    {
      "cell_type": "markdown",
      "metadata": {
        "id": "HVi_YxZYzlJo"
      },
      "source": [
        "## tuple unpacking 拆包\n",
        "利用tuple一次對多個變數賦值\n"
      ]
    },
    {
      "cell_type": "code",
      "metadata": {
        "id": "wurE4MADzrFO",
        "outputId": "bc8fe54a-b4d1-4d42-aa83-7c8707a1cd80",
        "colab": {
          "base_uri": "https://localhost:8080/"
        }
      },
      "source": [
        "marx_tuple=('Groucho','Chico','Harpo')\n",
        "a,b,c = marx_tuple\n",
        "print(\"a: %s\"%a)\n",
        "print(\"b: %s\"%b)\n",
        "print(\"c: %s\"%c)"
      ],
      "execution_count": null,
      "outputs": [
        {
          "output_type": "stream",
          "text": [
            "a: Groucho\n",
            "b: Chico\n",
            "c: Harpo\n"
          ],
          "name": "stdout"
        }
      ]
    },
    {
      "cell_type": "code",
      "metadata": {
        "id": "qiWfhruD0X8Z",
        "outputId": "c11f17ef-ace6-466c-b236-81e2b0329156",
        "colab": {
          "base_uri": "https://localhost:8080/"
        }
      },
      "source": [
        "password='swordfish'\n",
        "icecream='tuttifrutti'\n",
        "password,icecream=icecream,password #利用tuple來互換指標方向\n",
        "print(password)\n",
        "print(icecream)"
      ],
      "execution_count": null,
      "outputs": [
        {
          "output_type": "stream",
          "text": [
            "tuttifrutti\n",
            "swordfish\n"
          ],
          "name": "stdout"
        }
      ]
    },
    {
      "cell_type": "markdown",
      "metadata": {
        "id": "0dv-_RQO1In7"
      },
      "source": [
        "## tuple 運算"
      ]
    },
    {
      "cell_type": "markdown",
      "metadata": {
        "id": "CJ8fxWJY1KzL"
      },
      "source": [
        "「+」：結合tuple"
      ]
    },
    {
      "cell_type": "code",
      "metadata": {
        "id": "42nOt4ia1WUb",
        "outputId": "fbb2c1ba-5a52-4de0-d134-ac24cb8f9d3a",
        "colab": {
          "base_uri": "https://localhost:8080/"
        }
      },
      "source": [
        "('Groucho',)+('Chico','Harpo')"
      ],
      "execution_count": null,
      "outputs": [
        {
          "output_type": "execute_result",
          "data": {
            "text/plain": [
              "('Groucho', 'Chico', 'Harpo')"
            ]
          },
          "metadata": {
            "tags": []
          },
          "execution_count": 9
        }
      ]
    },
    {
      "cell_type": "markdown",
      "metadata": {
        "id": "ItJc8fj21bnC"
      },
      "source": [
        "「*」：重複項目"
      ]
    },
    {
      "cell_type": "code",
      "metadata": {
        "id": "-b7HravS1gnB",
        "outputId": "f27419d2-1335-4b03-958c-ec7b529fa36d",
        "colab": {
          "base_uri": "https://localhost:8080/"
        }
      },
      "source": [
        "('yada',)*3"
      ],
      "execution_count": null,
      "outputs": [
        {
          "output_type": "execute_result",
          "data": {
            "text/plain": [
              "('yada', 'yada', 'yada')"
            ]
          },
          "metadata": {
            "tags": []
          },
          "execution_count": 10
        }
      ]
    },
    {
      "cell_type": "markdown",
      "metadata": {
        "id": "Fth2S2U31pa5"
      },
      "source": [
        "比較tuple  \n",
        "*類似於串列的比較*"
      ]
    },
    {
      "cell_type": "code",
      "metadata": {
        "id": "1Lv69uSJ1nKa",
        "outputId": "8d295e3a-f4b8-4e89-b939-e6e07af1959e",
        "colab": {
          "base_uri": "https://localhost:8080/"
        }
      },
      "source": [
        "a=(7,2)\n",
        "b=(7,2,9)\n",
        "print(a==b)\n",
        "print(a<=b)\n",
        "print(a<b)"
      ],
      "execution_count": null,
      "outputs": [
        {
          "output_type": "stream",
          "text": [
            "False\n",
            "True\n",
            "True\n"
          ],
          "name": "stdout"
        }
      ]
    },
    {
      "cell_type": "markdown",
      "metadata": {
        "id": "qCFvTC222acz"
      },
      "source": [
        "## 用 for 與 in 來迭代\n",
        "類似於其他型態的迭代"
      ]
    },
    {
      "cell_type": "code",
      "metadata": {
        "id": "Y_cX5Tao2iun",
        "outputId": "f59cd932-5cf7-4469-a573-3145a085bad1",
        "colab": {
          "base_uri": "https://localhost:8080/"
        }
      },
      "source": [
        "words=('fresh','out','of','ideas')\n",
        "for word in words:\n",
        "  print(word)"
      ],
      "execution_count": null,
      "outputs": [
        {
          "output_type": "stream",
          "text": [
            "fresh\n",
            "out\n",
            "of\n",
            "ideas\n"
          ],
          "name": "stdout"
        }
      ]
    },
    {
      "cell_type": "markdown",
      "metadata": {
        "id": "d0lz_tyr3k4o"
      },
      "source": [
        "## 修改tuple\n",
        "tuple是不可變的，因此修改既有的tuple是不可行的。\n",
        "但可以透過串接(結合)tuple來製作新的tuple"
      ]
    },
    {
      "cell_type": "code",
      "metadata": {
        "id": "wS5zF-Ti36T1",
        "outputId": "86f875ac-629a-4a9f-baf1-35fc832f9408",
        "colab": {
          "base_uri": "https://localhost:8080/"
        }
      },
      "source": [
        "t1=('Fee','Fie','Foe')\n",
        "t2=('Flop',)\n",
        "t1+t2"
      ],
      "execution_count": null,
      "outputs": [
        {
          "output_type": "execute_result",
          "data": {
            "text/plain": [
              "('Fee', 'Fie', 'Foe', 'Flop')"
            ]
          },
          "metadata": {
            "tags": []
          },
          "execution_count": 13
        }
      ]
    },
    {
      "cell_type": "code",
      "metadata": {
        "id": "CKQ0y1HG4FW0",
        "outputId": "4810042f-bf54-403c-a3fb-fac36fbca57c",
        "colab": {
          "base_uri": "https://localhost:8080/"
        }
      },
      "source": [
        "t1=('Fee','Fie','Foe')\n",
        "t2=('Flop',)\n",
        "t1+=t2\n",
        "t1"
      ],
      "execution_count": null,
      "outputs": [
        {
          "output_type": "execute_result",
          "data": {
            "text/plain": [
              "('Fee', 'Fie', 'Foe', 'Flop')"
            ]
          },
          "metadata": {
            "tags": []
          },
          "execution_count": 14
        }
      ]
    },
    {
      "cell_type": "markdown",
      "metadata": {
        "id": "qUSKLmDX4Koe"
      },
      "source": [
        "表面上物件指標是指向同一個t1，  \n",
        "然而查看物件各自的id (identity)後會發現有所差別"
      ]
    },
    {
      "cell_type": "code",
      "metadata": {
        "id": "P_P9JFyD4XAo",
        "outputId": "78f5cd1e-b969-4f14-8c86-2a240f4a15c9",
        "colab": {
          "base_uri": "https://localhost:8080/"
        }
      },
      "source": [
        "t1=('Fee','Fie','Foe')\n",
        "t2=('Flop',)\n",
        "print(id(t1))\n",
        "t1+=t2\n",
        "t1\n",
        "print(id(t1))"
      ],
      "execution_count": null,
      "outputs": [
        {
          "output_type": "stream",
          "text": [
            "140064334847504\n",
            "140064333819480\n"
          ],
          "name": "stdout"
        }
      ]
    },
    {
      "cell_type": "markdown",
      "metadata": {
        "id": "EEorL2ApG0cJ"
      },
      "source": [
        "# 串列 (list)\n",
        "適合以東西的順序來進行追蹤"
      ]
    },
    {
      "cell_type": "markdown",
      "metadata": {
        "id": "oYPBXHlHIIwN"
      },
      "source": [
        "## 建立串列"
      ]
    },
    {
      "cell_type": "markdown",
      "metadata": {
        "id": "i-QLshmGIMDm"
      },
      "source": [
        "## 用[ ]來建立\n",
        "於中括號中放入零或多個元素，並以逗號來區分它們"
      ]
    },
    {
      "cell_type": "code",
      "metadata": {
        "id": "0WAHjryUI2kc"
      },
      "source": [
        "empty_list=[]\n",
        "weekdays=['Monday','Tuseday','Wednesday','Thursday','Friday']\n",
        "big_birds=['emu','ostrich','cassowary']\n",
        "first_name=['Garham','John','Terry','Terry','Michael'] #值不必是唯一的\n",
        "leap_years=[2000,2004,2008]\n",
        "randomness=['Punxsatawney',{'goundhog':'Phil'},'Fed. 2']"
      ],
      "execution_count": null,
      "outputs": []
    },
    {
      "cell_type": "markdown",
      "metadata": {
        "id": "h1-wtGHZL4MA"
      },
      "source": [
        "## 用list來建立\n",
        "* 建立空字串\n",
        "* 將其他可迭代的資料型態轉為串列"
      ]
    },
    {
      "cell_type": "code",
      "metadata": {
        "id": "U7snNn3qMMwc",
        "outputId": "17f8ac72-6588-4255-ff43-cbc95ead9354",
        "colab": {
          "base_uri": "https://localhost:8080/"
        }
      },
      "source": [
        "another_empty_list=list()\n",
        "another_empty_list"
      ],
      "execution_count": 19,
      "outputs": [
        {
          "output_type": "execute_result",
          "data": {
            "text/plain": [
              "[]"
            ]
          },
          "metadata": {
            "tags": []
          },
          "execution_count": 19
        }
      ]
    },
    {
      "cell_type": "code",
      "metadata": {
        "id": "eJk1DAryN8dz",
        "outputId": "9db88eee-da47-4083-a123-0029ba15dc9e",
        "colab": {
          "base_uri": "https://localhost:8080/"
        }
      },
      "source": [
        "list('cat')"
      ],
      "execution_count": 21,
      "outputs": [
        {
          "output_type": "execute_result",
          "data": {
            "text/plain": [
              "['c', 'a', 't']"
            ]
          },
          "metadata": {
            "tags": []
          },
          "execution_count": 21
        }
      ]
    },
    {
      "cell_type": "code",
      "metadata": {
        "id": "Nh9vM3xZPCZL"
      },
      "source": [
        "\n",
        "\n",
        "\n"
      ],
      "execution_count": null,
      "outputs": []
    },
    {
      "cell_type": "markdown",
      "metadata": {
        "id": "3Idjlr0kMMGc"
      },
      "source": [
        ""
      ]
    }
  ]
}