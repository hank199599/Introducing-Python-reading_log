{
  "nbformat": 4,
  "nbformat_minor": 0,
  "metadata": {
    "colab": {
      "name": "Chapter9.ipynb",
      "provenance": [],
      "authorship_tag": "ABX9TyOyKBvouCj95sD/5zeMUxFI",
      "include_colab_link": true
    },
    "kernelspec": {
      "name": "python3",
      "display_name": "Python 3"
    }
  },
  "cells": [
    {
      "cell_type": "markdown",
      "metadata": {
        "id": "view-in-github",
        "colab_type": "text"
      },
      "source": [
        "<a href=\"https://colab.research.google.com/github/hank199599/Introducing-Python-reading_log/blob/main/Chapter9.ipynb\" target=\"_parent\"><img src=\"https://colab.research.google.com/assets/colab-badge.svg\" alt=\"Open In Colab\"/></a>"
      ]
    },
    {
      "cell_type": "markdown",
      "metadata": {
        "id": "dsd5COvC1J1e"
      },
      "source": [
        "# **函式**\n",
        "有名稱、獨立的程式片段  \n",
        "可以接收任何數量與型態的輸入參數，並回傳任何數量與型態的輸出結果"
      ]
    },
    {
      "cell_type": "markdown",
      "metadata": {
        "id": "WGUD-VQ21sUQ"
      },
      "source": [
        "# 定義函式"
      ]
    },
    {
      "cell_type": "code",
      "metadata": {
        "id": "Lfu8QAxw1yvQ"
      },
      "source": [
        "def make_a_sound():\n",
        "  print('quack')"
      ],
      "execution_count": null,
      "outputs": []
    },
    {
      "cell_type": "markdown",
      "metadata": {
        "id": "ECHqk9c_2JUp"
      },
      "source": [
        "# 呼叫函式"
      ]
    },
    {
      "cell_type": "code",
      "metadata": {
        "id": "9P7K6eVc2LdI",
        "outputId": "9eff0d43-2ac5-4be3-963b-0315abe73d30",
        "colab": {
          "base_uri": "https://localhost:8080/"
        }
      },
      "source": [
        "make_a_sound()"
      ],
      "execution_count": null,
      "outputs": [
        {
          "output_type": "stream",
          "text": [
            "quack\n"
          ],
          "name": "stdout"
        }
      ]
    },
    {
      "cell_type": "markdown",
      "metadata": {
        "id": "j1WEyclb2NNQ"
      },
      "source": [
        "# 引數與參數\n",
        "* 引數(argument)：呼叫函式時傳給它的值\n",
        "* 參數(parameter)：位於函式內的對應參數"
      ]
    },
    {
      "cell_type": "markdown",
      "metadata": {
        "id": "s2bw0sje3SVM"
      },
      "source": [
        "## 範例\n",
        "下面是一段說明顏色的代碼，稱之為commentary，  \n",
        "並讓它接收一段字串參數稱之為color。  \n"
      ]
    },
    {
      "cell_type": "code",
      "metadata": {
        "id": "IvDud1Jd2TH3"
      },
      "source": [
        "def commentary(color):\n",
        "  if color == 'red':\n",
        "    return \"It's a tomato.\"\n",
        "  elif color == 'green':\n",
        "    return \"It's a green pepper\"\n",
        "  elif color == 'bee purple':\n",
        "    return \"I don't know what that it is, but only bees can see it.\"\n",
        "  else:\n",
        "    return \"I've never heard of the color \"+ color +\".\""
      ],
      "execution_count": null,
      "outputs": []
    },
    {
      "cell_type": "markdown",
      "metadata": {
        "id": "jocVDKOo3rw3"
      },
      "source": [
        "呼叫函式commentary(color)並傳入引數 'blue'  \n",
        "* 將值 'blue' 指派給函式的內部參數color \n",
        "* 執行 if - elif - else 邏輯鍊  \n",
        "* 回傳一個字串\n"
      ]
    },
    {
      "cell_type": "code",
      "metadata": {
        "id": "iX3xnkZR3sRf",
        "outputId": "a0cbcf99-f1e5-4e17-b5c3-ade9e7937b4a",
        "colab": {
          "base_uri": "https://localhost:8080/",
          "height": 35
        }
      },
      "source": [
        "commentary('blue')"
      ],
      "execution_count": null,
      "outputs": [
        {
          "output_type": "execute_result",
          "data": {
            "application/vnd.google.colaboratory.intrinsic+json": {
              "type": "string"
            },
            "text/plain": [
              "\"I've never heard of the color blue.\""
            ]
          },
          "metadata": {
            "tags": []
          },
          "execution_count": 5
        }
      ]
    },
    {
      "cell_type": "markdown",
      "metadata": {
        "id": "P3tI4AMm5QKa"
      },
      "source": [
        "# None：一種特殊的Python值\n",
        "能用來區分**缺漏值(missing value)**與 **空值(empty value)**  \n"
      ]
    },
    {
      "cell_type": "code",
      "metadata": {
        "id": "7KU4Tkr25eu8",
        "outputId": "bb3e3c7f-cdc5-4e6d-c83c-8724053eb380",
        "colab": {
          "base_uri": "https://localhost:8080/"
        }
      },
      "source": [
        "thing = None\n",
        "if thing:\n",
        "  print(\"It's some thing\")\n",
        "else:\n",
        "  print(\"It's no thing\")"
      ],
      "execution_count": null,
      "outputs": [
        {
          "output_type": "stream",
          "text": [
            "It's no thing\n"
          ],
          "name": "stdout"
        }
      ]
    },
    {
      "cell_type": "markdown",
      "metadata": {
        "id": "SopK2t3W60Ju"
      },
      "source": [
        "它與布林值False不同，  \n",
        "可以使用Python 運算子 is 區分"
      ]
    },
    {
      "cell_type": "code",
      "metadata": {
        "id": "2i3csVJh62NF",
        "outputId": "3cfb28d7-96c5-4ae3-aae0-44a2b9946047",
        "colab": {
          "base_uri": "https://localhost:8080/"
        }
      },
      "source": [
        "thing = None\n",
        "if thing is None:\n",
        "  print(\"It's some thing\")\n",
        "else:\n",
        "  print(\"It's no thing\")"
      ],
      "execution_count": null,
      "outputs": [
        {
          "output_type": "stream",
          "text": [
            "It's some thing\n"
          ],
          "name": "stdout"
        }
      ]
    },
    {
      "cell_type": "markdown",
      "metadata": {
        "id": "c_xW9Djk7TQ9"
      },
      "source": [
        "# 引數(argument)"
      ]
    },
    {
      "cell_type": "markdown",
      "metadata": {
        "id": "XTz2uFup7T_v"
      },
      "source": [
        "## 位置性引數(positional argument)\n",
        "傳入的值會被**依序**複製到對應的參數，  \n",
        "  \n",
        "  **缺點**：引用時必須記得每個位置的意思"
      ]
    },
    {
      "cell_type": "code",
      "metadata": {
        "id": "Bf7uigVLnjMg",
        "outputId": "93b35098-15c8-46cc-bea1-629cb949289a",
        "colab": {
          "base_uri": "https://localhost:8080/"
        }
      },
      "source": [
        "def menu(wine,entree,dessert):\n",
        "  return {'wine':wine,\"entree\":entree,'dessert':dessert}\n",
        "\n",
        "menu('chardonnary','chicken','cake')"
      ],
      "execution_count": null,
      "outputs": [
        {
          "output_type": "execute_result",
          "data": {
            "text/plain": [
              "{'dessert': 'cake', 'entree': 'chicken', 'wune': 'chardonnary'}"
            ]
          },
          "metadata": {
            "tags": []
          },
          "execution_count": 1
        }
      ]
    },
    {
      "cell_type": "markdown",
      "metadata": {
        "id": "6KyKUtGgEMjG"
      },
      "source": [
        "### 「*」：蒐集位置引數\n",
        "將數量不一定的位置引數組成一個參數值tuple"
      ]
    },
    {
      "cell_type": "code",
      "metadata": {
        "id": "Z6QKsNZzczyH",
        "outputId": "27a368ab-8036-44b1-e1a2-a0472d662605",
        "colab": {
          "base_uri": "https://localhost:8080/"
        }
      },
      "source": [
        "def print_more(required1,required2,*args):\n",
        "  print('Need this one:',required1)\n",
        "  print('Need this mone too:',required2)\n",
        "  print('All the rest:',args)\n",
        "\n",
        "print_more('cap','gloves','scarf','monocle','mustache wax')"
      ],
      "execution_count": 3,
      "outputs": [
        {
          "output_type": "stream",
          "text": [
            "Need this one: cap\n",
            "Need this mone too: gloves\n",
            "All the rest: ('scarf', 'monocle', 'mustache wax')\n"
          ],
          "name": "stdout"
        }
      ]
    },
    {
      "cell_type": "markdown",
      "metadata": {
        "id": "A23d_OX4cr06"
      },
      "source": [
        "* 函式外面：*args 會將 tuple args分解為以逗號分開的位置參數\n",
        "* 函式裡面：將所有位置參數蒐集成單一的 args tuple"
      ]
    },
    {
      "cell_type": "markdown",
      "metadata": {
        "id": "HvyTKCI47jO0"
      },
      "source": [
        "## 關鍵字引數 ()\n",
        "用引數對應的參數名稱來指定引數"
      ]
    },
    {
      "cell_type": "code",
      "metadata": {
        "id": "5xdahAnIockf",
        "outputId": "edaf756b-c891-4030-c47c-a2fd1ae10b92",
        "colab": {
          "base_uri": "https://localhost:8080/"
        }
      },
      "source": [
        "def menu(wine,entree,dessert):\n",
        "  return {'wine':wine,\"entree\":entree,'dessert':dessert}\n",
        "\n",
        "menu(entree='beef',dessert='bagel',wine='bordeaux')"
      ],
      "execution_count": null,
      "outputs": [
        {
          "output_type": "execute_result",
          "data": {
            "text/plain": [
              "{'dessert': 'bagel', 'entree': 'beef', 'wune': 'bordeaux'}"
            ]
          },
          "metadata": {
            "tags": []
          },
          "execution_count": 2
        }
      ]
    },
    {
      "cell_type": "markdown",
      "metadata": {
        "id": "5l4M1xx1EYmE"
      },
      "source": [
        "### 「**」：蒐集關鍵字引數\n",
        "將關鍵字引數組成字典  \n",
        "```\n",
        "{\"引數名稱\":\"相應的字典值\"}\n",
        "```"
      ]
    },
    {
      "cell_type": "code",
      "metadata": {
        "id": "QqtFEG8AedIT",
        "outputId": "763eb4aa-ee2e-4f57-ad6e-d74d0e1033d2",
        "colab": {
          "base_uri": "https://localhost:8080/"
        }
      },
      "source": [
        "def print_kwargs(**kwargs):\n",
        "  print('Keywords argument:',kwargs)\n",
        "\n",
        "print_kwargs()"
      ],
      "execution_count": 4,
      "outputs": [
        {
          "output_type": "stream",
          "text": [
            "Keywords argument: {}\n"
          ],
          "name": "stdout"
        }
      ]
    },
    {
      "cell_type": "code",
      "metadata": {
        "id": "FMrqV88jevsH",
        "outputId": "a3da87ab-26a8-4158-f8c3-4f4983b4b73d",
        "colab": {
          "base_uri": "https://localhost:8080/"
        }
      },
      "source": [
        "print_kwargs(wine='merlot',entree='mutton',dessert='macaroon')"
      ],
      "execution_count": 5,
      "outputs": [
        {
          "output_type": "stream",
          "text": [
            "Keywords argument: {'wine': 'merlot', 'entree': 'mutton', 'dessert': 'macaroon'}\n"
          ],
          "name": "stdout"
        }
      ]
    },
    {
      "cell_type": "markdown",
      "metadata": {
        "id": "ybiZAgXc71se"
      },
      "source": [
        "## 純關鍵字引數\n",
        "```\n",
        "name=value\n",
        "```\n",
        "如果不想使用預設值，需要用具名引數來定義引數\n"
      ]
    },
    {
      "cell_type": "code",
      "metadata": {
        "id": "1yvoDfs5fdPG",
        "outputId": "0c1e2595-2c69-426a-b075-a0a3e795cde7",
        "colab": {
          "base_uri": "https://localhost:8080/"
        }
      },
      "source": [
        "def print_data(data,* ,start=0,end=100):\n",
        "  for value in (data[start:end]):\n",
        "    print(value)\n",
        "\n",
        "data=['a','b','c','d','f','g']\n",
        "print(data)"
      ],
      "execution_count": 6,
      "outputs": [
        {
          "output_type": "stream",
          "text": [
            "['a', 'b', 'c', 'd', 'f', 'g']\n"
          ],
          "name": "stdout"
        }
      ]
    },
    {
      "cell_type": "markdown",
      "metadata": {
        "id": "wstdyJri77AW"
      },
      "source": [
        "## 可變與不可變引數\n"
      ]
    },
    {
      "cell_type": "code",
      "metadata": {
        "id": "2GfgnoHngJlZ",
        "outputId": "965644f6-1e25-4eda-a342-62e5b754ec90",
        "colab": {
          "base_uri": "https://localhost:8080/"
        }
      },
      "source": [
        "outside=['one','fine','day']\n",
        "def mangle(arg):\n",
        "  arg[1]='terrible!'\n",
        "\n",
        "mangle(outside)\n",
        "outside"
      ],
      "execution_count": 9,
      "outputs": [
        {
          "output_type": "execute_result",
          "data": {
            "text/plain": [
              "['one', 'terrible!', 'day']"
            ]
          },
          "metadata": {
            "tags": []
          },
          "execution_count": 9
        }
      ]
    },
    {
      "cell_type": "markdown",
      "metadata": {
        "id": "ypFj1gBTlYWl"
      },
      "source": [
        "# 內部函數\n",
        "在函式內再定義一個函式"
      ]
    },
    {
      "cell_type": "code",
      "metadata": {
        "id": "_fxe3R-RlsU8",
        "outputId": "83bb98de-55cf-4b79-e3f0-2c80e3fefe47",
        "colab": {
          "base_uri": "https://localhost:8080/"
        }
      },
      "source": [
        "def outer(a,b):\n",
        "  def inner(c,d):\n",
        "    return c+d\n",
        "  return inner(a,b)\n",
        "\n",
        "outer(4,7)"
      ],
      "execution_count": 11,
      "outputs": [
        {
          "output_type": "execute_result",
          "data": {
            "text/plain": [
              "11"
            ]
          },
          "metadata": {
            "tags": []
          },
          "execution_count": 11
        }
      ]
    },
    {
      "cell_type": "markdown",
      "metadata": {
        "id": "WR-7st1TmAUi"
      },
      "source": [
        "## closure\n",
        "用其他函式動態生成的函式，可以更改或記得函式外面建立的變數"
      ]
    },
    {
      "cell_type": "code",
      "metadata": {
        "id": "_1R6m8iymSuw",
        "outputId": "ba7fb570-35a8-49a4-c300-bb1e801a8cf2",
        "colab": {
          "base_uri": "https://localhost:8080/",
          "height": 35
        }
      },
      "source": [
        "def knights(saying):\n",
        "  def inner(quote):\n",
        "    return \"We are the knights who say:'%s'\"% quote\n",
        "  return inner(saying)\n",
        "\n",
        "knights('Ni!')"
      ],
      "execution_count": 13,
      "outputs": [
        {
          "output_type": "execute_result",
          "data": {
            "application/vnd.google.colaboratory.intrinsic+json": {
              "type": "string"
            },
            "text/plain": [
              "\"We are the knights who say:'Ni!'\""
            ]
          },
          "metadata": {
            "tags": []
          },
          "execution_count": 13
        }
      ]
    },
    {
      "cell_type": "markdown",
      "metadata": {
        "id": "8IoFMNoymy0s"
      },
      "source": [
        "# lambda\n",
        "以一行陳述式來表示的**匿名函式**"
      ]
    },
    {
      "cell_type": "code",
      "metadata": {
        "id": "96pk8Uf0oP8G",
        "outputId": "deba95b9-b6d9-4a1d-f4ef-93e811dfeab4",
        "colab": {
          "base_uri": "https://localhost:8080/"
        }
      },
      "source": [
        "def edit_stroy(words,func):\n",
        "  for word in words:\n",
        "    print(func(word))\n",
        "\n",
        "staris=[\"thud\",\"meow\",\"thud\",\"hiss\"]\n",
        "\n",
        "def enliven(word):\n",
        "  return word.capitalize()+'!'\n",
        "\n",
        "edit_stroy(staris,enliven)"
      ],
      "execution_count": 18,
      "outputs": [
        {
          "output_type": "stream",
          "text": [
            "Thud!\n",
            "Meow!\n",
            "Thud!\n",
            "Hiss!\n"
          ],
          "name": "stdout"
        }
      ]
    },
    {
      "cell_type": "markdown",
      "metadata": {
        "id": "FAl3-fuAo82E"
      },
      "source": [
        "將 enliven 函式轉為匿名函式"
      ]
    },
    {
      "cell_type": "code",
      "metadata": {
        "id": "_uCtbH7vo8Lb",
        "outputId": "f6cdb0ed-4dbb-46f1-ea7e-a1d18c517297",
        "colab": {
          "base_uri": "https://localhost:8080/"
        }
      },
      "source": [
        "edit_stroy(staris,lambda word:word.capitalize()+'!')"
      ],
      "execution_count": 21,
      "outputs": [
        {
          "output_type": "stream",
          "text": [
            "Thud!\n",
            "Meow!\n",
            "Thud!\n",
            "Hiss!\n"
          ],
          "name": "stdout"
        }
      ]
    },
    {
      "cell_type": "markdown",
      "metadata": {
        "id": "aDYd4GCatQ66"
      },
      "source": [
        "# 產生器(generator)\n",
        "序列製作物件，用來迭代很大的序列而不需儲存於記憶體中。  \n",
        "產生器可以動態產生的值並透過迭代器一次送出一個值。\n",
        "  \n",
        "例：\n",
        "\n",
        "```\n",
        "sum(range(1,101))\n",
        "```\n",
        "\n",
        "\n"
      ]
    },
    {
      "cell_type": "markdown",
      "metadata": {
        "id": "6ZHlyTS3tz8t"
      },
      "source": [
        "## 產生器函式\n",
        "是一般的函式，但使用 **yield** 陳述式來回傳數值  \n"
      ]
    },
    {
      "cell_type": "code",
      "metadata": {
        "id": "2deTOLzGuHD2",
        "outputId": "ed3f3a51-cec2-48b3-bbfb-5235c9708d8b",
        "colab": {
          "base_uri": "https://localhost:8080/"
        }
      },
      "source": [
        "def my_range(first=0,last=10,step=1):\n",
        "  number=first\n",
        "  while number<last:\n",
        "    yield number\n",
        "    number+=step\n",
        "\n",
        "my_range"
      ],
      "execution_count": 22,
      "outputs": [
        {
          "output_type": "execute_result",
          "data": {
            "text/plain": [
              "<function __main__.my_range>"
            ]
          },
          "metadata": {
            "tags": []
          },
          "execution_count": 22
        }
      ]
    },
    {
      "cell_type": "code",
      "metadata": {
        "id": "cI0xvZ_DuaFD",
        "outputId": "19c5ba48-8285-4464-c017-fe68e22db263",
        "colab": {
          "base_uri": "https://localhost:8080/"
        }
      },
      "source": [
        "ranger=my_range(1,5)\n",
        "ranger"
      ],
      "execution_count": 25,
      "outputs": [
        {
          "output_type": "execute_result",
          "data": {
            "text/plain": [
              "<generator object my_range at 0x7fc1fc382830>"
            ]
          },
          "metadata": {
            "tags": []
          },
          "execution_count": 25
        }
      ]
    },
    {
      "cell_type": "markdown",
      "metadata": {
        "id": "iNPkrX9xulzN"
      },
      "source": [
        "迭代這個產生器物件"
      ]
    },
    {
      "cell_type": "code",
      "metadata": {
        "id": "zaWwPby9uo4m",
        "outputId": "0dd25818-8aca-43e0-808d-bbc5d1d28496",
        "colab": {
          "base_uri": "https://localhost:8080/"
        }
      },
      "source": [
        "for x in ranger:\n",
        "  print(x)"
      ],
      "execution_count": 26,
      "outputs": [
        {
          "output_type": "stream",
          "text": [
            "1\n",
            "2\n",
            "3\n",
            "4\n"
          ],
          "name": "stdout"
        }
      ]
    },
    {
      "cell_type": "markdown",
      "metadata": {
        "id": "JhCmwD4ZvVpk"
      },
      "source": [
        "## 產生器生成式"
      ]
    },
    {
      "cell_type": "code",
      "metadata": {
        "id": "lHAPfVdOyppL",
        "outputId": "17d56b42-f83e-41ff-9ecf-ddbb506096a0",
        "colab": {
          "base_uri": "https://localhost:8080/"
        }
      },
      "source": [
        "genobj=(pair for pair in zip(['a','b'],['1','2']))\n",
        "genobj"
      ],
      "execution_count": 27,
      "outputs": [
        {
          "output_type": "execute_result",
          "data": {
            "text/plain": [
              "<generator object <genexpr> at 0x7fc1fc382ba0>"
            ]
          },
          "metadata": {
            "tags": []
          },
          "execution_count": 27
        }
      ]
    },
    {
      "cell_type": "code",
      "metadata": {
        "id": "TOZ02SJ0y0F9",
        "outputId": "349a6f83-4cc3-436e-f09e-4d04dcc2afcf",
        "colab": {
          "base_uri": "https://localhost:8080/"
        }
      },
      "source": [
        "for thing in genobj:\n",
        "  print(thing)"
      ],
      "execution_count": 28,
      "outputs": [
        {
          "output_type": "stream",
          "text": [
            "('a', '1')\n",
            "('b', '2')\n"
          ],
          "name": "stdout"
        }
      ]
    }
  ]
}