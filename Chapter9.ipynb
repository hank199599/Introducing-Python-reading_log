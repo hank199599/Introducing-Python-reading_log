{
  "nbformat": 4,
  "nbformat_minor": 0,
  "metadata": {
    "colab": {
      "name": "Chapter9.ipynb",
      "provenance": [],
      "authorship_tag": "ABX9TyNGsqC+zNsoru2kB5HBz8eP",
      "include_colab_link": true
    },
    "kernelspec": {
      "name": "python3",
      "display_name": "Python 3"
    }
  },
  "cells": [
    {
      "cell_type": "markdown",
      "metadata": {
        "id": "view-in-github",
        "colab_type": "text"
      },
      "source": [
        "<a href=\"https://colab.research.google.com/github/hank199599/Introducing-Python-reading_log/blob/main/Chapter9.ipynb\" target=\"_parent\"><img src=\"https://colab.research.google.com/assets/colab-badge.svg\" alt=\"Open In Colab\"/></a>"
      ]
    },
    {
      "cell_type": "markdown",
      "metadata": {
        "id": "dsd5COvC1J1e"
      },
      "source": [
        "# **函式**\n",
        "有名稱、獨立的程式片段  \n",
        "可以接收任何數量與型態的輸入參數，並回傳任何數量與型態的輸出結果"
      ]
    },
    {
      "cell_type": "markdown",
      "metadata": {
        "id": "WGUD-VQ21sUQ"
      },
      "source": [
        "# 定義函式"
      ]
    },
    {
      "cell_type": "code",
      "metadata": {
        "id": "Lfu8QAxw1yvQ"
      },
      "source": [
        "def make_a_sound():\n",
        "  print('quack')"
      ],
      "execution_count": null,
      "outputs": []
    },
    {
      "cell_type": "markdown",
      "metadata": {
        "id": "ECHqk9c_2JUp"
      },
      "source": [
        "# 呼叫函式"
      ]
    },
    {
      "cell_type": "code",
      "metadata": {
        "id": "9P7K6eVc2LdI",
        "outputId": "9eff0d43-2ac5-4be3-963b-0315abe73d30",
        "colab": {
          "base_uri": "https://localhost:8080/"
        }
      },
      "source": [
        "make_a_sound()"
      ],
      "execution_count": null,
      "outputs": [
        {
          "output_type": "stream",
          "text": [
            "quack\n"
          ],
          "name": "stdout"
        }
      ]
    },
    {
      "cell_type": "markdown",
      "metadata": {
        "id": "j1WEyclb2NNQ"
      },
      "source": [
        "# 引數與參數\n",
        "* 引數(argument)：呼叫函式時傳給它的值\n",
        "* 參數(parameter)：位於函式內的對應參數"
      ]
    },
    {
      "cell_type": "markdown",
      "metadata": {
        "id": "s2bw0sje3SVM"
      },
      "source": [
        "## 範例\n",
        "下面是一段說明顏色的代碼，稱之為commentary，  \n",
        "並讓它接收一段字串參數稱之為color。  \n"
      ]
    },
    {
      "cell_type": "code",
      "metadata": {
        "id": "IvDud1Jd2TH3"
      },
      "source": [
        "def commentary(color):\n",
        "  if color == 'red':\n",
        "    return \"It's a tomato.\"\n",
        "  elif color == 'green':\n",
        "    return \"It's a green pepper\"\n",
        "  elif color == 'bee purple':\n",
        "    return \"I don't know what that it is, but only bees can see it.\"\n",
        "  else:\n",
        "    return \"I've never heard of the color \"+ color +\".\""
      ],
      "execution_count": null,
      "outputs": []
    },
    {
      "cell_type": "markdown",
      "metadata": {
        "id": "jocVDKOo3rw3"
      },
      "source": [
        "呼叫函式commentary(color)並傳入引數 'blue'  \n",
        "* 將值 'blue' 指派給函式的內部參數color \n",
        "* 執行 if - elif - else 邏輯鍊  \n",
        "* 回傳一個字串\n"
      ]
    },
    {
      "cell_type": "code",
      "metadata": {
        "id": "iX3xnkZR3sRf",
        "outputId": "a0cbcf99-f1e5-4e17-b5c3-ade9e7937b4a",
        "colab": {
          "base_uri": "https://localhost:8080/",
          "height": 35
        }
      },
      "source": [
        "commentary('blue')"
      ],
      "execution_count": null,
      "outputs": [
        {
          "output_type": "execute_result",
          "data": {
            "application/vnd.google.colaboratory.intrinsic+json": {
              "type": "string"
            },
            "text/plain": [
              "\"I've never heard of the color blue.\""
            ]
          },
          "metadata": {
            "tags": []
          },
          "execution_count": 5
        }
      ]
    },
    {
      "cell_type": "markdown",
      "metadata": {
        "id": "P3tI4AMm5QKa"
      },
      "source": [
        "# None：一種特殊的Python值\n",
        "能用來區分**缺漏值(missing value)**與 **空值(empty value)**  \n"
      ]
    },
    {
      "cell_type": "code",
      "metadata": {
        "id": "7KU4Tkr25eu8",
        "outputId": "bb3e3c7f-cdc5-4e6d-c83c-8724053eb380",
        "colab": {
          "base_uri": "https://localhost:8080/"
        }
      },
      "source": [
        "thing = None\n",
        "if thing:\n",
        "  print(\"It's some thing\")\n",
        "else:\n",
        "  print(\"It's no thing\")"
      ],
      "execution_count": null,
      "outputs": [
        {
          "output_type": "stream",
          "text": [
            "It's no thing\n"
          ],
          "name": "stdout"
        }
      ]
    },
    {
      "cell_type": "markdown",
      "metadata": {
        "id": "SopK2t3W60Ju"
      },
      "source": [
        "它與布林值False不同，  \n",
        "可以使用Python 運算子 is 區分"
      ]
    },
    {
      "cell_type": "code",
      "metadata": {
        "id": "2i3csVJh62NF",
        "outputId": "3cfb28d7-96c5-4ae3-aae0-44a2b9946047",
        "colab": {
          "base_uri": "https://localhost:8080/"
        }
      },
      "source": [
        "thing = None\n",
        "if thing is None:\n",
        "  print(\"It's some thing\")\n",
        "else:\n",
        "  print(\"It's no thing\")"
      ],
      "execution_count": null,
      "outputs": [
        {
          "output_type": "stream",
          "text": [
            "It's some thing\n"
          ],
          "name": "stdout"
        }
      ]
    },
    {
      "cell_type": "markdown",
      "metadata": {
        "id": "c_xW9Djk7TQ9"
      },
      "source": [
        "# 引數(argument)"
      ]
    },
    {
      "cell_type": "markdown",
      "metadata": {
        "id": "XTz2uFup7T_v"
      },
      "source": [
        "## 位置性引數(positional argument)\n",
        "傳入的值會被**依序**複製到對應的參數，  \n",
        "  \n",
        "  **缺點**：引用時必須記得每個位置的意思"
      ]
    },
    {
      "cell_type": "code",
      "metadata": {
        "id": "Bf7uigVLnjMg",
        "outputId": "93b35098-15c8-46cc-bea1-629cb949289a",
        "colab": {
          "base_uri": "https://localhost:8080/"
        }
      },
      "source": [
        "def menu(wine,entree,dessert):\n",
        "  return {'wine':wine,\"entree\":entree,'dessert':dessert}\n",
        "\n",
        "menu('chardonnary','chicken','cake')"
      ],
      "execution_count": 1,
      "outputs": [
        {
          "output_type": "execute_result",
          "data": {
            "text/plain": [
              "{'dessert': 'cake', 'entree': 'chicken', 'wune': 'chardonnary'}"
            ]
          },
          "metadata": {
            "tags": []
          },
          "execution_count": 1
        }
      ]
    },
    {
      "cell_type": "markdown",
      "metadata": {
        "id": "6KyKUtGgEMjG"
      },
      "source": [
        "### 「*」：蒐集位置引數"
      ]
    },
    {
      "cell_type": "markdown",
      "metadata": {
        "id": "HvyTKCI47jO0"
      },
      "source": [
        "## 關鍵字引數 ()\n",
        "用引數對應的參數名稱來指定引數"
      ]
    },
    {
      "cell_type": "code",
      "metadata": {
        "id": "5xdahAnIockf",
        "outputId": "edaf756b-c891-4030-c47c-a2fd1ae10b92",
        "colab": {
          "base_uri": "https://localhost:8080/"
        }
      },
      "source": [
        "def menu(wine,entree,dessert):\n",
        "  return {'wine':wine,\"entree\":entree,'dessert':dessert}\n",
        "\n",
        "menu(entree='beef',dessert='bagel',wine='bordeaux')"
      ],
      "execution_count": 2,
      "outputs": [
        {
          "output_type": "execute_result",
          "data": {
            "text/plain": [
              "{'dessert': 'bagel', 'entree': 'beef', 'wune': 'bordeaux'}"
            ]
          },
          "metadata": {
            "tags": []
          },
          "execution_count": 2
        }
      ]
    },
    {
      "cell_type": "markdown",
      "metadata": {
        "id": "5l4M1xx1EYmE"
      },
      "source": [
        "### 「**」：蒐集位置引數"
      ]
    },
    {
      "cell_type": "markdown",
      "metadata": {
        "id": "ybiZAgXc71se"
      },
      "source": [
        "## 純關鍵字引數"
      ]
    },
    {
      "cell_type": "markdown",
      "metadata": {
        "id": "wstdyJri77AW"
      },
      "source": [
        "## 可變與不可變引數"
      ]
    }
  ]
}