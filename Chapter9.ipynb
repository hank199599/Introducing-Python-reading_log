{
  "nbformat": 4,
  "nbformat_minor": 0,
  "metadata": {
    "colab": {
      "name": "Chapter9.ipynb",
      "provenance": [],
      "toc_visible": true,
      "authorship_tag": "ABX9TyNVQLyKJ9lwFEJzUj96IcYv",
      "include_colab_link": true
    },
    "kernelspec": {
      "name": "python3",
      "display_name": "Python 3"
    }
  },
  "cells": [
    {
      "cell_type": "markdown",
      "metadata": {
        "id": "view-in-github",
        "colab_type": "text"
      },
      "source": [
        "<a href=\"https://colab.research.google.com/github/hank199599/Introducing-Python-reading_log/blob/main/Chapter9.ipynb\" target=\"_parent\"><img src=\"https://colab.research.google.com/assets/colab-badge.svg\" alt=\"Open In Colab\"/></a>"
      ]
    },
    {
      "cell_type": "markdown",
      "metadata": {
        "id": "dsd5COvC1J1e"
      },
      "source": [
        "# **函式**\n",
        "有名稱、獨立的程式片段  \n",
        "可以接收任何數量與型態的輸入參數，並回傳任何數量與型態的輸出結果"
      ]
    },
    {
      "cell_type": "markdown",
      "metadata": {
        "id": "WGUD-VQ21sUQ"
      },
      "source": [
        "# 定義函式"
      ]
    },
    {
      "cell_type": "code",
      "metadata": {
        "id": "Lfu8QAxw1yvQ"
      },
      "source": [
        "def make_a_sound():\n",
        "  print('quack')"
      ],
      "execution_count": null,
      "outputs": []
    },
    {
      "cell_type": "markdown",
      "metadata": {
        "id": "ECHqk9c_2JUp"
      },
      "source": [
        "# 呼叫函式"
      ]
    },
    {
      "cell_type": "code",
      "metadata": {
        "id": "9P7K6eVc2LdI",
        "outputId": "9eff0d43-2ac5-4be3-963b-0315abe73d30",
        "colab": {
          "base_uri": "https://localhost:8080/"
        }
      },
      "source": [
        "make_a_sound()"
      ],
      "execution_count": null,
      "outputs": [
        {
          "output_type": "stream",
          "text": [
            "quack\n"
          ],
          "name": "stdout"
        }
      ]
    },
    {
      "cell_type": "markdown",
      "metadata": {
        "id": "j1WEyclb2NNQ"
      },
      "source": [
        "# 引數與參數\n",
        "* 引數(argument)：呼叫函式時傳給它的值\n",
        "* 參數(parameter)：位於函式內的對應參數"
      ]
    },
    {
      "cell_type": "markdown",
      "metadata": {
        "id": "s2bw0sje3SVM"
      },
      "source": [
        "## 範例\n",
        "下面是一段說明顏色的代碼，稱之為commentary，  \n",
        "並讓它接收一段字串參數稱之為color。  \n"
      ]
    },
    {
      "cell_type": "code",
      "metadata": {
        "id": "IvDud1Jd2TH3"
      },
      "source": [
        "def commentary(color):\n",
        "  if color == 'red':\n",
        "    return \"It's a tomato.\"\n",
        "  elif color == 'green':\n",
        "    return \"It's a green pepper\"\n",
        "  elif color == 'bee purple':\n",
        "    return \"I don't know what that it is, but only bees can see it.\"\n",
        "  else:\n",
        "    return \"I've never heard of the color \"+ color +\".\""
      ],
      "execution_count": null,
      "outputs": []
    },
    {
      "cell_type": "markdown",
      "metadata": {
        "id": "jocVDKOo3rw3"
      },
      "source": [
        "呼叫函式commentary(color)並傳入引數 'blue'  \n",
        "* 將值 'blue' 指派給函式的內部參數color \n",
        "* 執行 if - elif - else 邏輯鍊  \n",
        "* 回傳一個字串\n"
      ]
    },
    {
      "cell_type": "code",
      "metadata": {
        "id": "iX3xnkZR3sRf",
        "outputId": "a0cbcf99-f1e5-4e17-b5c3-ade9e7937b4a",
        "colab": {
          "base_uri": "https://localhost:8080/",
          "height": 35
        }
      },
      "source": [
        "commentary('blue')"
      ],
      "execution_count": null,
      "outputs": [
        {
          "output_type": "execute_result",
          "data": {
            "application/vnd.google.colaboratory.intrinsic+json": {
              "type": "string"
            },
            "text/plain": [
              "\"I've never heard of the color blue.\""
            ]
          },
          "metadata": {
            "tags": []
          },
          "execution_count": 5
        }
      ]
    },
    {
      "cell_type": "markdown",
      "metadata": {
        "id": "P3tI4AMm5QKa"
      },
      "source": [
        "# None：一種特殊的Python值\n",
        "能用來區分**缺漏值(missing value)**與 **空值(empty value)**  \n"
      ]
    },
    {
      "cell_type": "code",
      "metadata": {
        "id": "7KU4Tkr25eu8",
        "outputId": "bb3e3c7f-cdc5-4e6d-c83c-8724053eb380",
        "colab": {
          "base_uri": "https://localhost:8080/"
        }
      },
      "source": [
        "thing = None\n",
        "if thing:\n",
        "  print(\"It's some thing\")\n",
        "else:\n",
        "  print(\"It's no thing\")"
      ],
      "execution_count": null,
      "outputs": [
        {
          "output_type": "stream",
          "text": [
            "It's no thing\n"
          ],
          "name": "stdout"
        }
      ]
    },
    {
      "cell_type": "markdown",
      "metadata": {
        "id": "SopK2t3W60Ju"
      },
      "source": [
        "它與布林值False不同，  \n",
        "可以使用Python 運算子 is 區分"
      ]
    },
    {
      "cell_type": "code",
      "metadata": {
        "id": "2i3csVJh62NF",
        "outputId": "3cfb28d7-96c5-4ae3-aae0-44a2b9946047",
        "colab": {
          "base_uri": "https://localhost:8080/"
        }
      },
      "source": [
        "thing = None\n",
        "if thing is None:\n",
        "  print(\"It's some thing\")\n",
        "else:\n",
        "  print(\"It's no thing\")"
      ],
      "execution_count": null,
      "outputs": [
        {
          "output_type": "stream",
          "text": [
            "It's some thing\n"
          ],
          "name": "stdout"
        }
      ]
    },
    {
      "cell_type": "markdown",
      "metadata": {
        "id": "c_xW9Djk7TQ9"
      },
      "source": [
        "# 引數(argument)"
      ]
    },
    {
      "cell_type": "markdown",
      "metadata": {
        "id": "XTz2uFup7T_v"
      },
      "source": [
        "## 位置性引數(positional argument)\n",
        "傳入的值會被**依序**複製到對應的參數，  \n",
        "  \n",
        "  **缺點**：引用時必須記得每個位置的意思"
      ]
    },
    {
      "cell_type": "code",
      "metadata": {
        "id": "Bf7uigVLnjMg",
        "outputId": "93b35098-15c8-46cc-bea1-629cb949289a",
        "colab": {
          "base_uri": "https://localhost:8080/"
        }
      },
      "source": [
        "def menu(wine,entree,dessert):\n",
        "  return {'wine':wine,\"entree\":entree,'dessert':dessert}\n",
        "\n",
        "menu('chardonnary','chicken','cake')"
      ],
      "execution_count": null,
      "outputs": [
        {
          "output_type": "execute_result",
          "data": {
            "text/plain": [
              "{'dessert': 'cake', 'entree': 'chicken', 'wune': 'chardonnary'}"
            ]
          },
          "metadata": {
            "tags": []
          },
          "execution_count": 1
        }
      ]
    },
    {
      "cell_type": "markdown",
      "metadata": {
        "id": "6KyKUtGgEMjG"
      },
      "source": [
        "### 「*」：蒐集位置引數\n",
        "將數量不一定的位置引數組成一個參數值tuple"
      ]
    },
    {
      "cell_type": "code",
      "metadata": {
        "id": "Z6QKsNZzczyH",
        "outputId": "27a368ab-8036-44b1-e1a2-a0472d662605",
        "colab": {
          "base_uri": "https://localhost:8080/"
        }
      },
      "source": [
        "def print_more(required1,required2,*args):\n",
        "  print('Need this one:',required1)\n",
        "  print('Need this mone too:',required2)\n",
        "  print('All the rest:',args)\n",
        "\n",
        "print_more('cap','gloves','scarf','monocle','mustache wax')"
      ],
      "execution_count": null,
      "outputs": [
        {
          "output_type": "stream",
          "text": [
            "Need this one: cap\n",
            "Need this mone too: gloves\n",
            "All the rest: ('scarf', 'monocle', 'mustache wax')\n"
          ],
          "name": "stdout"
        }
      ]
    },
    {
      "cell_type": "markdown",
      "metadata": {
        "id": "A23d_OX4cr06"
      },
      "source": [
        "* 函式外面：*args 會將 tuple args分解為以逗號分開的位置參數\n",
        "* 函式裡面：將所有位置參數蒐集成單一的 args tuple"
      ]
    },
    {
      "cell_type": "markdown",
      "metadata": {
        "id": "HvyTKCI47jO0"
      },
      "source": [
        "## 關鍵字引數 ()\n",
        "用引數對應的參數名稱來指定引數"
      ]
    },
    {
      "cell_type": "code",
      "metadata": {
        "id": "5xdahAnIockf",
        "outputId": "edaf756b-c891-4030-c47c-a2fd1ae10b92",
        "colab": {
          "base_uri": "https://localhost:8080/"
        }
      },
      "source": [
        "def menu(wine,entree,dessert):\n",
        "  return {'wine':wine,\"entree\":entree,'dessert':dessert}\n",
        "\n",
        "menu(entree='beef',dessert='bagel',wine='bordeaux')"
      ],
      "execution_count": null,
      "outputs": [
        {
          "output_type": "execute_result",
          "data": {
            "text/plain": [
              "{'dessert': 'bagel', 'entree': 'beef', 'wune': 'bordeaux'}"
            ]
          },
          "metadata": {
            "tags": []
          },
          "execution_count": 2
        }
      ]
    },
    {
      "cell_type": "markdown",
      "metadata": {
        "id": "5l4M1xx1EYmE"
      },
      "source": [
        "### 「**」：蒐集關鍵字引數\n",
        "將關鍵字引數組成字典  \n",
        "```\n",
        "{\"引數名稱\":\"相應的字典值\"}\n",
        "```"
      ]
    },
    {
      "cell_type": "code",
      "metadata": {
        "id": "QqtFEG8AedIT",
        "outputId": "763eb4aa-ee2e-4f57-ad6e-d74d0e1033d2",
        "colab": {
          "base_uri": "https://localhost:8080/"
        }
      },
      "source": [
        "def print_kwargs(**kwargs):\n",
        "  print('Keywords argument:',kwargs)\n",
        "\n",
        "print_kwargs()"
      ],
      "execution_count": null,
      "outputs": [
        {
          "output_type": "stream",
          "text": [
            "Keywords argument: {}\n"
          ],
          "name": "stdout"
        }
      ]
    },
    {
      "cell_type": "code",
      "metadata": {
        "id": "FMrqV88jevsH",
        "outputId": "a3da87ab-26a8-4158-f8c3-4f4983b4b73d",
        "colab": {
          "base_uri": "https://localhost:8080/"
        }
      },
      "source": [
        "print_kwargs(wine='merlot',entree='mutton',dessert='macaroon')"
      ],
      "execution_count": null,
      "outputs": [
        {
          "output_type": "stream",
          "text": [
            "Keywords argument: {'wine': 'merlot', 'entree': 'mutton', 'dessert': 'macaroon'}\n"
          ],
          "name": "stdout"
        }
      ]
    },
    {
      "cell_type": "markdown",
      "metadata": {
        "id": "ybiZAgXc71se"
      },
      "source": [
        "## 純關鍵字引數\n",
        "```\n",
        "name=value\n",
        "```\n",
        "如果不想使用預設值，需要用具名引數來定義引數\n"
      ]
    },
    {
      "cell_type": "code",
      "metadata": {
        "id": "1yvoDfs5fdPG",
        "outputId": "0c1e2595-2c69-426a-b075-a0a3e795cde7",
        "colab": {
          "base_uri": "https://localhost:8080/"
        }
      },
      "source": [
        "def print_data(data,* ,start=0,end=100):\n",
        "  for value in (data[start:end]):\n",
        "    print(value)\n",
        "\n",
        "data=['a','b','c','d','f','g']\n",
        "print(data)"
      ],
      "execution_count": null,
      "outputs": [
        {
          "output_type": "stream",
          "text": [
            "['a', 'b', 'c', 'd', 'f', 'g']\n"
          ],
          "name": "stdout"
        }
      ]
    },
    {
      "cell_type": "markdown",
      "metadata": {
        "id": "wstdyJri77AW"
      },
      "source": [
        "## 可變與不可變引數\n"
      ]
    },
    {
      "cell_type": "code",
      "metadata": {
        "id": "2GfgnoHngJlZ",
        "outputId": "965644f6-1e25-4eda-a342-62e5b754ec90",
        "colab": {
          "base_uri": "https://localhost:8080/"
        }
      },
      "source": [
        "outside=['one','fine','day']\n",
        "def mangle(arg):\n",
        "  arg[1]='terrible!'\n",
        "\n",
        "mangle(outside)\n",
        "outside"
      ],
      "execution_count": null,
      "outputs": [
        {
          "output_type": "execute_result",
          "data": {
            "text/plain": [
              "['one', 'terrible!', 'day']"
            ]
          },
          "metadata": {
            "tags": []
          },
          "execution_count": 9
        }
      ]
    },
    {
      "cell_type": "markdown",
      "metadata": {
        "id": "ypFj1gBTlYWl"
      },
      "source": [
        "# 內部函數\n",
        "在函式內再定義一個函式"
      ]
    },
    {
      "cell_type": "code",
      "metadata": {
        "id": "_fxe3R-RlsU8",
        "outputId": "83bb98de-55cf-4b79-e3f0-2c80e3fefe47",
        "colab": {
          "base_uri": "https://localhost:8080/"
        }
      },
      "source": [
        "def outer(a,b):\n",
        "  def inner(c,d):\n",
        "    return c+d\n",
        "  return inner(a,b)\n",
        "\n",
        "outer(4,7)"
      ],
      "execution_count": null,
      "outputs": [
        {
          "output_type": "execute_result",
          "data": {
            "text/plain": [
              "11"
            ]
          },
          "metadata": {
            "tags": []
          },
          "execution_count": 11
        }
      ]
    },
    {
      "cell_type": "markdown",
      "metadata": {
        "id": "WR-7st1TmAUi"
      },
      "source": [
        "## closure\n",
        "用其他函式動態生成的函式，可以更改或記得函式外面建立的變數"
      ]
    },
    {
      "cell_type": "code",
      "metadata": {
        "id": "_1R6m8iymSuw",
        "outputId": "ba7fb570-35a8-49a4-c300-bb1e801a8cf2",
        "colab": {
          "base_uri": "https://localhost:8080/",
          "height": 35
        }
      },
      "source": [
        "def knights(saying):\n",
        "  def inner(quote):\n",
        "    return \"We are the knights who say:'%s'\"% quote\n",
        "  return inner(saying)\n",
        "\n",
        "knights('Ni!')"
      ],
      "execution_count": null,
      "outputs": [
        {
          "output_type": "execute_result",
          "data": {
            "application/vnd.google.colaboratory.intrinsic+json": {
              "type": "string"
            },
            "text/plain": [
              "\"We are the knights who say:'Ni!'\""
            ]
          },
          "metadata": {
            "tags": []
          },
          "execution_count": 13
        }
      ]
    },
    {
      "cell_type": "markdown",
      "metadata": {
        "id": "8IoFMNoymy0s"
      },
      "source": [
        "# lambda\n",
        "以一行陳述式來表示的**匿名函式**"
      ]
    },
    {
      "cell_type": "code",
      "metadata": {
        "id": "96pk8Uf0oP8G",
        "outputId": "deba95b9-b6d9-4a1d-f4ef-93e811dfeab4",
        "colab": {
          "base_uri": "https://localhost:8080/"
        }
      },
      "source": [
        "def edit_stroy(words,func):\n",
        "  for word in words:\n",
        "    print(func(word))\n",
        "\n",
        "staris=[\"thud\",\"meow\",\"thud\",\"hiss\"]\n",
        "\n",
        "def enliven(word):\n",
        "  return word.capitalize()+'!'\n",
        "\n",
        "edit_stroy(staris,enliven)"
      ],
      "execution_count": null,
      "outputs": [
        {
          "output_type": "stream",
          "text": [
            "Thud!\n",
            "Meow!\n",
            "Thud!\n",
            "Hiss!\n"
          ],
          "name": "stdout"
        }
      ]
    },
    {
      "cell_type": "markdown",
      "metadata": {
        "id": "FAl3-fuAo82E"
      },
      "source": [
        "將 enliven 函式轉為匿名函式"
      ]
    },
    {
      "cell_type": "code",
      "metadata": {
        "id": "_uCtbH7vo8Lb",
        "outputId": "f6cdb0ed-4dbb-46f1-ea7e-a1d18c517297",
        "colab": {
          "base_uri": "https://localhost:8080/"
        }
      },
      "source": [
        "edit_stroy(staris,lambda word:word.capitalize()+'!')"
      ],
      "execution_count": null,
      "outputs": [
        {
          "output_type": "stream",
          "text": [
            "Thud!\n",
            "Meow!\n",
            "Thud!\n",
            "Hiss!\n"
          ],
          "name": "stdout"
        }
      ]
    },
    {
      "cell_type": "markdown",
      "metadata": {
        "id": "aDYd4GCatQ66"
      },
      "source": [
        "# 產生器(generator)\n",
        "序列製作物件，用來迭代很大的序列而不需儲存於記憶體中。  \n",
        "產生器可以動態產生的值並透過迭代器一次送出一個值。\n",
        "  \n",
        "例：\n",
        "\n",
        "```\n",
        "sum(range(1,101))\n",
        "```\n",
        "\n",
        "\n"
      ]
    },
    {
      "cell_type": "markdown",
      "metadata": {
        "id": "6ZHlyTS3tz8t"
      },
      "source": [
        "## 產生器函式\n",
        "是一般的函式，但使用 **yield** 陳述式來回傳數值  \n"
      ]
    },
    {
      "cell_type": "code",
      "metadata": {
        "id": "2deTOLzGuHD2",
        "outputId": "ed3f3a51-cec2-48b3-bbfb-5235c9708d8b",
        "colab": {
          "base_uri": "https://localhost:8080/"
        }
      },
      "source": [
        "def my_range(first=0,last=10,step=1):\n",
        "  number=first\n",
        "  while number<last:\n",
        "    yield number\n",
        "    number+=step\n",
        "\n",
        "my_range"
      ],
      "execution_count": null,
      "outputs": [
        {
          "output_type": "execute_result",
          "data": {
            "text/plain": [
              "<function __main__.my_range>"
            ]
          },
          "metadata": {
            "tags": []
          },
          "execution_count": 22
        }
      ]
    },
    {
      "cell_type": "code",
      "metadata": {
        "id": "cI0xvZ_DuaFD",
        "outputId": "19c5ba48-8285-4464-c017-fe68e22db263",
        "colab": {
          "base_uri": "https://localhost:8080/"
        }
      },
      "source": [
        "ranger=my_range(1,5)\n",
        "ranger"
      ],
      "execution_count": null,
      "outputs": [
        {
          "output_type": "execute_result",
          "data": {
            "text/plain": [
              "<generator object my_range at 0x7fc1fc382830>"
            ]
          },
          "metadata": {
            "tags": []
          },
          "execution_count": 25
        }
      ]
    },
    {
      "cell_type": "markdown",
      "metadata": {
        "id": "iNPkrX9xulzN"
      },
      "source": [
        "迭代這個產生器物件"
      ]
    },
    {
      "cell_type": "code",
      "metadata": {
        "id": "zaWwPby9uo4m",
        "outputId": "0dd25818-8aca-43e0-808d-bbc5d1d28496",
        "colab": {
          "base_uri": "https://localhost:8080/"
        }
      },
      "source": [
        "for x in ranger:\n",
        "  print(x)"
      ],
      "execution_count": null,
      "outputs": [
        {
          "output_type": "stream",
          "text": [
            "1\n",
            "2\n",
            "3\n",
            "4\n"
          ],
          "name": "stdout"
        }
      ]
    },
    {
      "cell_type": "markdown",
      "metadata": {
        "id": "JhCmwD4ZvVpk"
      },
      "source": [
        "## 產生器生成式"
      ]
    },
    {
      "cell_type": "code",
      "metadata": {
        "id": "lHAPfVdOyppL",
        "outputId": "17d56b42-f83e-41ff-9ecf-ddbb506096a0",
        "colab": {
          "base_uri": "https://localhost:8080/"
        }
      },
      "source": [
        "genobj=(pair for pair in zip(['a','b'],['1','2']))\n",
        "genobj"
      ],
      "execution_count": null,
      "outputs": [
        {
          "output_type": "execute_result",
          "data": {
            "text/plain": [
              "<generator object <genexpr> at 0x7fc1fc382ba0>"
            ]
          },
          "metadata": {
            "tags": []
          },
          "execution_count": 27
        }
      ]
    },
    {
      "cell_type": "code",
      "metadata": {
        "id": "TOZ02SJ0y0F9",
        "outputId": "349a6f83-4cc3-436e-f09e-4d04dcc2afcf",
        "colab": {
          "base_uri": "https://localhost:8080/"
        }
      },
      "source": [
        "for thing in genobj:\n",
        "  print(thing)"
      ],
      "execution_count": null,
      "outputs": [
        {
          "output_type": "stream",
          "text": [
            "('a', '1')\n",
            "('b', '2')\n"
          ],
          "name": "stdout"
        }
      ]
    },
    {
      "cell_type": "markdown",
      "metadata": {
        "id": "LngsVGT_6vir"
      },
      "source": [
        "# 裝飾器(decorator)\n",
        "是一種函式，  \n",
        "他會接收一個函式，並回傳另一個函式。"
      ]
    },
    {
      "cell_type": "code",
      "metadata": {
        "id": "9S8FnH7d8YAf",
        "outputId": "8b437fc0-2440-4390-a232-2e9ce3971498",
        "colab": {
          "base_uri": "https://localhost:8080/"
        }
      },
      "source": [
        "def document_it(func):\n",
        "  def new_function(*args,**kwargs):\n",
        "    print('Running function:',func.__name__)\n",
        "    print('Positional arguments:',args)\n",
        "    print('Keyword arguments:',kwargs)\n",
        "    result=func(*args,**kwargs)\n",
        "    print('Results:',result)\n",
        "    return result\n",
        "  return new_function\n",
        "\n",
        "def add_ints(a,b):\n",
        "  return a+b\n",
        "\n",
        "cooler_add_ints=document_it(add_ints)\n",
        "cooler_add_ints(3,5)"
      ],
      "execution_count": null,
      "outputs": [
        {
          "output_type": "stream",
          "text": [
            "Running function: add_ints\n",
            "Positional arguments: (3, 5)\n",
            "Keyword arguments: {}\n",
            "Results: 8\n"
          ],
          "name": "stdout"
        },
        {
          "output_type": "execute_result",
          "data": {
            "text/plain": [
              "8"
            ]
          },
          "metadata": {
            "tags": []
          },
          "execution_count": 2
        }
      ]
    },
    {
      "cell_type": "markdown",
      "metadata": {
        "id": "qw103HyuP6Rm"
      },
      "source": [
        "# 名稱空間(namespace)\n",
        "指的是特定名稱在一段城市中唯一的，且與其他名稱空間內的同一個名字無關。"
      ]
    },
    {
      "cell_type": "markdown",
      "metadata": {
        "id": "MwWmSM4HQeEl"
      },
      "source": [
        "## 全域空間\n",
        "整個城市的主要定義部分，  \n",
        "在該名稱空間裡的變數都是全域變數。"
      ]
    },
    {
      "cell_type": "code",
      "metadata": {
        "id": "gXVV1vAZQcuf",
        "outputId": "d20048b5-ff9a-4e4e-92aa-fb3d4a2902f9",
        "colab": {
          "base_uri": "https://localhost:8080/"
        }
      },
      "source": [
        "animal ='fruitbat'\n",
        "def print_global():\n",
        "  print('inside print_global:',animal)\n",
        "\n",
        "print('at the top level:',animal)"
      ],
      "execution_count": 1,
      "outputs": [
        {
          "output_type": "stream",
          "text": [
            "at the top level: fruitbat\n"
          ],
          "name": "stdout"
        }
      ]
    },
    {
      "cell_type": "code",
      "metadata": {
        "id": "nLyOZNBpRMhd",
        "outputId": "3c7448ba-5de4-48f2-fb9a-9d37066b0b88",
        "colab": {
          "base_uri": "https://localhost:8080/"
        }
      },
      "source": [
        "print_global()"
      ],
      "execution_count": 2,
      "outputs": [
        {
          "output_type": "stream",
          "text": [
            "inside print_global: fruitbat\n"
          ],
          "name": "stdout"
        }
      ]
    },
    {
      "cell_type": "markdown",
      "metadata": {
        "id": "0eGGgbprRRBn"
      },
      "source": [
        "若在函式內取得全域變數的值並**修改**它，會發生錯誤"
      ]
    },
    {
      "cell_type": "code",
      "metadata": {
        "id": "-07v0AxCRb7H",
        "outputId": "b5b10660-9452-4d5b-a26b-b57ecb014f8d",
        "colab": {
          "base_uri": "https://localhost:8080/",
          "height": 314
        }
      },
      "source": [
        "animal ='fruitbat'\n",
        "def change_and_print_global():\n",
        "  print('inside change_and_print_global:',animal)\n",
        "  animal='wombat'\n",
        "  print('after the change:',animal)\n",
        "\n",
        "change_and_print_global()"
      ],
      "execution_count": 5,
      "outputs": [
        {
          "output_type": "error",
          "ename": "UnboundLocalError",
          "evalue": "ignored",
          "traceback": [
            "\u001b[0;31m---------------------------------------------------------------------------\u001b[0m",
            "\u001b[0;31mUnboundLocalError\u001b[0m                         Traceback (most recent call last)",
            "\u001b[0;32m<ipython-input-5-8beb35108c0c>\u001b[0m in \u001b[0;36m<module>\u001b[0;34m()\u001b[0m\n\u001b[1;32m      5\u001b[0m   \u001b[0mprint\u001b[0m\u001b[0;34m(\u001b[0m\u001b[0;34m'after the change:'\u001b[0m\u001b[0;34m,\u001b[0m\u001b[0manimal\u001b[0m\u001b[0;34m)\u001b[0m\u001b[0;34m\u001b[0m\u001b[0;34m\u001b[0m\u001b[0m\n\u001b[1;32m      6\u001b[0m \u001b[0;34m\u001b[0m\u001b[0m\n\u001b[0;32m----> 7\u001b[0;31m \u001b[0mchange_and_print_global\u001b[0m\u001b[0;34m(\u001b[0m\u001b[0;34m)\u001b[0m\u001b[0;34m\u001b[0m\u001b[0;34m\u001b[0m\u001b[0m\n\u001b[0m",
            "\u001b[0;32m<ipython-input-5-8beb35108c0c>\u001b[0m in \u001b[0;36mchange_and_print_global\u001b[0;34m()\u001b[0m\n\u001b[1;32m      1\u001b[0m \u001b[0manimal\u001b[0m \u001b[0;34m=\u001b[0m\u001b[0;34m'fruitbat'\u001b[0m\u001b[0;34m\u001b[0m\u001b[0;34m\u001b[0m\u001b[0m\n\u001b[1;32m      2\u001b[0m \u001b[0;32mdef\u001b[0m \u001b[0mchange_and_print_global\u001b[0m\u001b[0;34m(\u001b[0m\u001b[0;34m)\u001b[0m\u001b[0;34m:\u001b[0m\u001b[0;34m\u001b[0m\u001b[0;34m\u001b[0m\u001b[0m\n\u001b[0;32m----> 3\u001b[0;31m   \u001b[0mprint\u001b[0m\u001b[0;34m(\u001b[0m\u001b[0;34m'inside change_and_print_global:'\u001b[0m\u001b[0;34m,\u001b[0m\u001b[0manimal\u001b[0m\u001b[0;34m)\u001b[0m\u001b[0;34m\u001b[0m\u001b[0;34m\u001b[0m\u001b[0m\n\u001b[0m\u001b[1;32m      4\u001b[0m   \u001b[0manimal\u001b[0m\u001b[0;34m=\u001b[0m\u001b[0;34m'wombat'\u001b[0m\u001b[0;34m\u001b[0m\u001b[0;34m\u001b[0m\u001b[0m\n\u001b[1;32m      5\u001b[0m   \u001b[0mprint\u001b[0m\u001b[0;34m(\u001b[0m\u001b[0;34m'after the change:'\u001b[0m\u001b[0;34m,\u001b[0m\u001b[0manimal\u001b[0m\u001b[0;34m)\u001b[0m\u001b[0;34m\u001b[0m\u001b[0;34m\u001b[0m\u001b[0m\n",
            "\u001b[0;31mUnboundLocalError\u001b[0m: local variable 'animal' referenced before assignment"
          ]
        }
      ]
    },
    {
      "cell_type": "markdown",
      "metadata": {
        "id": "dvJZX8saR4gJ"
      },
      "source": [
        "## 區域空間\n",
        "直接修改全域變數，\n",
        "對Python而言，進行的操作是另一個也叫做animal的變數。"
      ]
    },
    {
      "cell_type": "code",
      "metadata": {
        "id": "zyxjc73TSDdK",
        "outputId": "fb766b06-9689-45b7-ddb7-a60d3367c6db",
        "colab": {
          "base_uri": "https://localhost:8080/"
        }
      },
      "source": [
        "animal ='fruitbat'\n",
        "print('in global space:',animal , id(animal))\n",
        "def change_local():\n",
        "  animal='wombat'\n",
        "  print('in local space:',animal , id(animal))\n",
        "\n",
        "change_local()"
      ],
      "execution_count": 6,
      "outputs": [
        {
          "output_type": "stream",
          "text": [
            "in global space: fruitbat 140533278659056\n",
            "in local space: wombat 140533287491824\n"
          ],
          "name": "stdout"
        }
      ]
    },
    {
      "cell_type": "markdown",
      "metadata": {
        "id": "REWvYNaETLAk"
      },
      "source": [
        "### global 關鍵字：在區域空間內取得全域變數"
      ]
    },
    {
      "cell_type": "code",
      "metadata": {
        "id": "j694VO4JTTD_",
        "outputId": "3c26ed16-a01a-42ed-d2be-f311ea38105c",
        "colab": {
          "base_uri": "https://localhost:8080/"
        }
      },
      "source": [
        "animal ='fruitbat'\n",
        "def change_and_print_global():\n",
        "  global animal #取得全域變數\n",
        "  animal='wombat'\n",
        "  print('after the change:',animal)\n",
        "\n",
        "change_and_print_global()"
      ],
      "execution_count": 7,
      "outputs": [
        {
          "output_type": "stream",
          "text": [
            "after the change: wombat\n"
          ],
          "name": "stdout"
        }
      ]
    },
    {
      "cell_type": "markdown",
      "metadata": {
        "id": "d0MUZeFFTvUM"
      },
      "source": [
        "## 讀取空間名稱的內容\n",
        "* locals()：回傳區域名稱內容的字典\n",
        "* globals()：回傳全域名稱內容的字典"
      ]
    },
    {
      "cell_type": "code",
      "metadata": {
        "id": "uOTXGhFaYane",
        "outputId": "916531b4-91b1-499f-e9b1-394ef34084f2",
        "colab": {
          "base_uri": "https://localhost:8080/"
        }
      },
      "source": [
        "animal ='fruitbat'\n",
        "def change_local():\n",
        "  animal='wombat'\n",
        "  print('locals:',locals())\n",
        "\n",
        "change_local()"
      ],
      "execution_count": 9,
      "outputs": [
        {
          "output_type": "stream",
          "text": [
            "locals: {'animal': 'wombat'}\n"
          ],
          "name": "stdout"
        }
      ]
    },
    {
      "cell_type": "markdown",
      "metadata": {
        "id": "5Ud8wUlMjulA"
      },
      "source": [
        "# 遞迴(recursion)\n",
        "函式呼叫自身的情形  \n"
      ]
    },
    {
      "cell_type": "markdown",
      "metadata": {
        "id": "jZ1xWJh2kUMP"
      },
      "source": [
        "若呼叫次數過多會發生例外\n",
        "```\n",
        "RecursionError: maximum recursion depth exceeded\n",
        "```"
      ]
    },
    {
      "cell_type": "code",
      "metadata": {
        "id": "RVdpmGsbjuHf"
      },
      "source": [
        "def dive():\n",
        "  return dive()\n",
        "dive()"
      ],
      "execution_count": null,
      "outputs": []
    },
    {
      "cell_type": "markdown",
      "metadata": {
        "id": "YEck-OPlkTjW"
      },
      "source": [
        "遞迴可用於處理不平整(uneven)的資料"
      ]
    },
    {
      "cell_type": "code",
      "metadata": {
        "id": "OOGx-6UPkl3K",
        "outputId": "72028195-2f50-4145-c749-99c9096ea54e",
        "colab": {
          "base_uri": "https://localhost:8080/"
        }
      },
      "source": [
        "def flatten(lol):\n",
        "  for item in lol:\n",
        "    if isinstance(item,list):\n",
        "      for subitem in flatten(item):\n",
        "        yield subitem #以產生器形式回傳\n",
        "    else:\n",
        "      yield item\n",
        "\n",
        "lol = [1,2,[3,4,5],[6,[7,8,9]],[]]\n",
        "flatten(lol)"
      ],
      "execution_count": 13,
      "outputs": [
        {
          "output_type": "execute_result",
          "data": {
            "text/plain": [
              "<generator object flatten at 0x7fd06c2dbd00>"
            ]
          },
          "metadata": {
            "tags": []
          },
          "execution_count": 13
        }
      ]
    },
    {
      "cell_type": "code",
      "metadata": {
        "id": "aEneYbm3lnBz",
        "outputId": "2256ca29-0d2a-4f62-9f0f-6613dc4843d0",
        "colab": {
          "base_uri": "https://localhost:8080/"
        }
      },
      "source": [
        "list(flatten(lol))"
      ],
      "execution_count": 14,
      "outputs": [
        {
          "output_type": "execute_result",
          "data": {
            "text/plain": [
              "[1, 2, 3, 4, 5, 6, 7, 8, 9]"
            ]
          },
          "metadata": {
            "tags": []
          },
          "execution_count": 14
        }
      ]
    },
    {
      "cell_type": "markdown",
      "metadata": {
        "id": "INwQmH3UrWwb"
      },
      "source": [
        "### yield from \n",
        "Python 3.3加入的運算式，  \n",
        "能用來簡化產生器的工作量"
      ]
    },
    {
      "cell_type": "code",
      "metadata": {
        "id": "Od2gNl1CrkX9",
        "outputId": "14c6e4fc-3d2e-468e-d6d6-52d2511032f8",
        "colab": {
          "base_uri": "https://localhost:8080/"
        }
      },
      "source": [
        "def flatten(lol):\n",
        "  for item in lol:\n",
        "    if isinstance(item,list):\n",
        "      yield from flatten(item) #以產生器形式回傳\n",
        "    else:\n",
        "      yield item\n",
        "\n",
        "lol = [1,2,[3,4,5],[6,[7,8,9]],[]]\n",
        "list(flatten(lol))"
      ],
      "execution_count": 22,
      "outputs": [
        {
          "output_type": "execute_result",
          "data": {
            "text/plain": [
              "[1, 2, 3, 4, 5, 6, 7, 8, 9]"
            ]
          },
          "metadata": {
            "tags": []
          },
          "execution_count": 22
        }
      ]
    },
    {
      "cell_type": "markdown",
      "metadata": {
        "id": "MonCFprOsDEC"
      },
      "source": [
        "# 非同步函式(async function)：使函式獲得**並行**特性\n",
        "*附錄三*  \n",
        "非同步函式能夠讓主函式放棄控制權，不必等到該函式執行結束"
      ]
    },
    {
      "cell_type": "markdown",
      "metadata": {
        "id": "pCHX7RIls0Lw"
      },
      "source": [
        "## asyncio\n",
        "標準非同步模組 \n",
        "* 偕同程序 (coroutine)：可在各個點暫停的函式\n",
        "* 事件迴圈 (event loop)"
      ]
    },
    {
      "cell_type": "markdown",
      "metadata": {
        "id": "FlQWx7VVvYBz"
      },
      "source": [
        "### 定義偕同程序\n",
        "* 在函式前加上 await\n",
        "* 使用 asynio.run()：用來啟動一個事件迴圈\n",
        "* 使用 asynio.create_task() 或 asynio.ensure_future()"
      ]
    },
    {
      "cell_type": "code",
      "metadata": {
        "id": "EIIgQalNu6v8"
      },
      "source": [
        "import asyncio\n",
        "\n",
        "async def wicked():\n",
        "  print(\"Surrender,\")\n",
        "  await asyncio.sleep(2)\n",
        "  print(\"Dorothy!\")\n",
        "\n",
        "asyncio.run(wicked())\n"
      ],
      "execution_count": null,
      "outputs": []
    },
    {
      "cell_type": "markdown",
      "metadata": {
        "id": "45pPrnNZzVnc"
      },
      "source": [
        "# 例外\n",
        "發生特定錯誤時自動執行的程式碼"
      ]
    },
    {
      "cell_type": "code",
      "metadata": {
        "id": "mNydb0R0s6Af"
      },
      "source": [
        "short_list=[1,2,3]\n",
        "position=5\n",
        "short_list[position] #發生例外"
      ],
      "execution_count": null,
      "outputs": []
    },
    {
      "cell_type": "markdown",
      "metadata": {
        "id": "X85Ow_KNz1JJ"
      },
      "source": [
        "## try 以及 except 來處理例外\n",
        "在 try 段落內的城市會被執行，  \n",
        "如果發生錯誤Python會發出例外並執行expect段落內的程式。"
      ]
    },
    {
      "cell_type": "code",
      "metadata": {
        "id": "bcOyHm5qz95g",
        "outputId": "ca023e60-26f5-4dac-c6a4-d196901101d2",
        "colab": {
          "base_uri": "https://localhost:8080/"
        }
      },
      "source": [
        "short_list=[1,2,3]\n",
        "position=5\n",
        "try:\n",
        "  short_list[position]\n",
        "except:\n",
        "  print(\"Need a positon between 0 and\",len(short_list)-1,\"but got\",position)"
      ],
      "execution_count": 33,
      "outputs": [
        {
          "output_type": "stream",
          "text": [
            "Need a positon between 0 and 2 but got 5\n"
          ],
          "name": "stdout"
        }
      ]
    },
    {
      "cell_type": "markdown",
      "metadata": {
        "id": "fD8ME-xH1PTJ"
      },
      "source": [
        "獲取例外類型以外的細節\n",
        "\n",
        "```\n",
        "expect expectiontype as name\n",
        "```\n",
        "\n"
      ]
    },
    {
      "cell_type": "code",
      "metadata": {
        "id": "ui7ylYUG1ZuB"
      },
      "source": [
        "short_list=[1,2,3]\n",
        "while True:\n",
        "  value = input(\"potion [q to exit]?\")\n",
        "  if value == \"q\":\n",
        "    break\n",
        "  try:\n",
        "    position=int(value)\n",
        "    short_list[position]\n",
        "  except IndexError as name:\n",
        "    print(\"Bad index:\",position)\n",
        "  except Exception as other:\n",
        "    print(\"Something else break:\",other)\n",
        "\n"
      ],
      "execution_count": null,
      "outputs": []
    },
    {
      "cell_type": "markdown",
      "metadata": {
        "id": "KS3RzxBb2rqd"
      },
      "source": [
        "## 製作自己的例外"
      ]
    },
    {
      "cell_type": "code",
      "metadata": {
        "id": "N34HklR02t5B",
        "outputId": "6965ac59-086c-49fd-d066-07230b746420",
        "colab": {
          "base_uri": "https://localhost:8080/",
          "height": 197
        }
      },
      "source": [
        "class UppercaseException(Exception):\n",
        "  pass\n",
        "\n",
        "words=[\"eenie\",\"mmenie\",\"miny\",\"MO\"]\n",
        "for word in words:\n",
        "  if word.isupper():\n",
        "    raise UppercaseException(word)\n"
      ],
      "execution_count": 39,
      "outputs": [
        {
          "output_type": "error",
          "ename": "UppercaseException",
          "evalue": "ignored",
          "traceback": [
            "\u001b[0;31m---------------------------------------------------------------------------\u001b[0m",
            "\u001b[0;31mUppercaseException\u001b[0m                        Traceback (most recent call last)",
            "\u001b[0;32m<ipython-input-39-f1705809816d>\u001b[0m in \u001b[0;36m<module>\u001b[0;34m()\u001b[0m\n\u001b[1;32m      5\u001b[0m \u001b[0;32mfor\u001b[0m \u001b[0mword\u001b[0m \u001b[0;32min\u001b[0m \u001b[0mwords\u001b[0m\u001b[0;34m:\u001b[0m\u001b[0;34m\u001b[0m\u001b[0;34m\u001b[0m\u001b[0m\n\u001b[1;32m      6\u001b[0m   \u001b[0;32mif\u001b[0m \u001b[0mword\u001b[0m\u001b[0;34m.\u001b[0m\u001b[0misupper\u001b[0m\u001b[0;34m(\u001b[0m\u001b[0;34m)\u001b[0m\u001b[0;34m:\u001b[0m\u001b[0;34m\u001b[0m\u001b[0;34m\u001b[0m\u001b[0m\n\u001b[0;32m----> 7\u001b[0;31m     \u001b[0;32mraise\u001b[0m \u001b[0mUppercaseException\u001b[0m\u001b[0;34m(\u001b[0m\u001b[0mword\u001b[0m\u001b[0;34m)\u001b[0m\u001b[0;34m\u001b[0m\u001b[0;34m\u001b[0m\u001b[0m\n\u001b[0m",
            "\u001b[0;31mUppercaseException\u001b[0m: MO"
          ]
        }
      ]
    },
    {
      "cell_type": "markdown",
      "metadata": {
        "id": "SGr3yID64HO5"
      },
      "source": [
        "未定義例外的印出值時，會由Python本身決定。  \n",
        "我們也能直接讀取例外物件本身並印出它"
      ]
    },
    {
      "cell_type": "code",
      "metadata": {
        "id": "tbOmaeMX4Qel"
      },
      "source": [
        "try:\n",
        "  raise OppsException('panic') \n",
        "except OppsException as exc:\n",
        "  print(exc)"
      ],
      "execution_count": null,
      "outputs": []
    },
    {
      "cell_type": "markdown",
      "metadata": {
        "id": "r5iUHwTH41HI"
      },
      "source": [
        "# 代辦事項"
      ]
    },
    {
      "cell_type": "markdown",
      "metadata": {
        "id": "jgdK50oY43Co"
      },
      "source": [
        "## 9.1\n",
        "定義一個稱為good()的函式,用它回傳串列['Harry', \"Ron\",'Hermione\"]。"
      ]
    },
    {
      "cell_type": "code",
      "metadata": {
        "id": "moOXgoXt4ysH",
        "outputId": "1144a9d6-1218-4e6a-dfc7-da9c0b463e24",
        "colab": {
          "base_uri": "https://localhost:8080/"
        }
      },
      "source": [
        "def good():\n",
        "  return ['Harry',\"Ron\",\"Hermione\"]\n",
        "good()"
      ],
      "execution_count": 43,
      "outputs": [
        {
          "output_type": "execute_result",
          "data": {
            "text/plain": [
              "['Harry', 'Ron', 'Hermione']"
            ]
          },
          "metadata": {
            "tags": []
          },
          "execution_count": 43
        }
      ]
    },
    {
      "cell_type": "markdown",
      "metadata": {
        "id": "OexFo5rk44b9"
      },
      "source": [
        "## 9.2\n",
        "定義一個稱為 get_odds()的 產生器函式,用它回傳 range(16)的奇數。使用 for\n",
        "迴圈來找到並印出第三個回傳值。"
      ]
    },
    {
      "cell_type": "code",
      "metadata": {
        "id": "IlqRT47V45q7",
        "outputId": "a2c5818b-80d7-4fca-d81a-19b1fdd990a4",
        "colab": {
          "base_uri": "https://localhost:8080/"
        }
      },
      "source": [
        "def get_odds(num):\n",
        "  array=[]\n",
        "  for num in range(num):\n",
        "    if num%2==1:\n",
        "      array.append(num)\n",
        "  return array[2]\n",
        "\n",
        "get_odds(16)"
      ],
      "execution_count": 44,
      "outputs": [
        {
          "output_type": "execute_result",
          "data": {
            "text/plain": [
              "5"
            ]
          },
          "metadata": {
            "tags": []
          },
          "execution_count": 44
        }
      ]
    },
    {
      "cell_type": "markdown",
      "metadata": {
        "id": "_W7FUGEs459-"
      },
      "source": [
        "## 9.3\n",
        "定義一個稱為test 的裝飾器,用它在一個函式被呼叫時印出'start',在那個函式結束時印出'end'。"
      ]
    },
    {
      "cell_type": "code",
      "metadata": {
        "id": "-I3mcKY847Fx",
        "outputId": "47319c73-cd06-40e3-dacf-21e9d42f2ec7",
        "colab": {
          "base_uri": "https://localhost:8080/"
        }
      },
      "source": [
        "def test(func):\n",
        " def new_function(*args,**kwargs):\n",
        "   print(\"start\")\n",
        "   result=func(*args,*kwargs)\n",
        "   print('Results:',result)\n",
        "   print(\"end\")\n",
        "   return result\n",
        " return new_function\n",
        "\n",
        "def get_odds(num):\n",
        "  array=[]\n",
        "  for num in range(num):\n",
        "    if num%2==1:\n",
        "      array.append(num)\n",
        "  return array[2]\n",
        "\n",
        "inhense_get_odds=test(get_odds)\n",
        "inhense_get_odds(16)"
      ],
      "execution_count": 49,
      "outputs": [
        {
          "output_type": "stream",
          "text": [
            "start\n",
            "Results: 5\n",
            "end\n"
          ],
          "name": "stdout"
        },
        {
          "output_type": "execute_result",
          "data": {
            "text/plain": [
              "5"
            ]
          },
          "metadata": {
            "tags": []
          },
          "execution_count": 49
        }
      ]
    },
    {
      "cell_type": "markdown",
      "metadata": {
        "id": "wZdP8zN747YA"
      },
      "source": [
        "## 9.4\n",
        "定義一個稱為 OopsException 的例外。  \n",
        "發出這個例外,看看會發生什麼事情。接著,寫一段程式來捕捉這個例外,並印出'Caught an oops'。"
      ]
    },
    {
      "cell_type": "code",
      "metadata": {
        "id": "8PtM9ybX48Xb",
        "outputId": "799301af-cb07-4a56-9065-cebe470e2f89",
        "colab": {
          "base_uri": "https://localhost:8080/"
        }
      },
      "source": [
        "class OopsException(Exception):\n",
        "  pass\n",
        "\n",
        "try:\n",
        "  raise OopsException('Caught an oops') \n",
        "except OopsException as exc:\n",
        "  print(exc)\n"
      ],
      "execution_count": 53,
      "outputs": [
        {
          "output_type": "stream",
          "text": [
            "Caught an oops\n"
          ],
          "name": "stdout"
        }
      ]
    }
  ]
}