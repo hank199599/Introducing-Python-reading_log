{
  "nbformat": 4,
  "nbformat_minor": 0,
  "metadata": {
    "colab": {
      "name": "Chapter2.ipynb",
      "provenance": [],
      "toc_visible": true,
      "include_colab_link": true
    },
    "kernelspec": {
      "name": "python3",
      "display_name": "Python 3"
    }
  },
  "cells": [
    {
      "cell_type": "markdown",
      "metadata": {
        "id": "view-in-github",
        "colab_type": "text"
      },
      "source": [
        "<a href=\"https://colab.research.google.com/github/hank199599/Introducing-Python-reading_log/blob/main/Chapter2.ipynb\" target=\"_parent\"><img src=\"https://colab.research.google.com/assets/colab-badge.svg\" alt=\"Open In Colab\"/></a>"
      ]
    },
    {
      "cell_type": "markdown",
      "metadata": {
        "id": "63vfOb9yI7ts"
      },
      "source": [
        "# 物件\n",
        "在Python中,物件是一段資料,它至少包含下列的元素:\n",
        "\n",
        "*   一個定義它可以做什麼的型態\n",
        "*   一個唯一的id,用來區別它與其他物件\n",
        "*   一個與型態一致的值\n",
        "*   一個參考計數,追蹤這個物件被使用的頻率\n"
      ]
    },
    {
      "cell_type": "markdown",
      "metadata": {
        "id": "8RvLg4RpJUHf"
      },
      "source": [
        "## 型態  \n",
        "Python的基本資料型態\n",
        "\n",
        "| 名稱       | 型態      | 可變     | 章節     |\n",
        "| --------- | :-----:   | :------: | :-----: |\n",
        "| 布林      | bool      | 否        |  3\n",
        "| 整數      | int       | 否        |3\n",
        "| 浮點數    | float     | 否        |3\n",
        "| 複數      | complex   | 否        |22\n",
        "| 字串      | str       | 否        |5\n",
        "| 串列      | list      | 是        |7\n",
        "| tuple     | tuple     | 否        |7\n",
        "| bytes     | bytes     | 否        |12\n",
        "| ByteArray | bytearray | 是        |12\n",
        "| 集合      | set       | 是        |8\n",
        "| 不可變集合| forzenset  | 否        |8\n",
        "| 字典     | dict       | 是        |8"
      ]
    },
    {
      "cell_type": "markdown",
      "metadata": {
        "id": "90vE8G_dddHC"
      },
      "source": [
        "# 可變性\n",
        ">**是否有固定的佔用記憶體量 ** \n",
        "  \n",
        "型態也決定盒子內的資料值是可以**改變的(可變)**或是**固定的(不可變)**。  \n",
        "* 不可變物件：密封的透明盒子，能看到裡面的值,但無法改變它\n",
        "* 可變物件 ：有蓋子的盒子,可以看到裡面的值也可以改變它\n",
        "    \n",
        "Python 是強定型(strongly typed)的,意思是物件的型態不能改變,即使它的值是可變的。"
      ]
    },
    {
      "cell_type": "markdown",
      "metadata": {
        "id": "onXlN5ABRyuV"
      },
      "source": [
        "### 不可變物件  \n",
        "標籤都是指向同一個物件，並不會動態新增含有相同內容的物件"
      ]
    },
    {
      "cell_type": "code",
      "metadata": {
        "id": "_8_VLLusRZ4l",
        "outputId": "f8b651ac-4425-4624-ab3a-4ff9a3009e80",
        "colab": {
          "base_uri": "https://localhost:8080/"
        }
      },
      "source": [
        "a = 2\n",
        "b = 2\n",
        "c = a + 0 \n",
        "c += 0\n",
        "\n",
        "print(id(a), id(b), id(2))  # id都相同\n",
        "print(c is b) #True"
      ],
      "execution_count": null,
      "outputs": [
        {
          "output_type": "stream",
          "text": [
            "10914528 10914528 10914528\n",
            "True\n"
          ],
          "name": "stdout"
        }
      ]
    },
    {
      "cell_type": "markdown",
      "metadata": {
        "id": "IkDmXwUPSFkg"
      },
      "source": [
        "### 可變物件\n",
        "標籤指向不同的物件，僅管物件內容物可能是相同的"
      ]
    },
    {
      "cell_type": "code",
      "metadata": {
        "id": "49GqwYdxSG3M",
        "outputId": "0a60b0e6-95c6-4098-c95f-ad17164064e3",
        "colab": {
          "base_uri": "https://localhost:8080/"
        }
      },
      "source": [
        "lis = [1, 2, 3]\n",
        "lis2 = [1, 2, 3]\n",
        "# 雖然它們的內容一樣，但是它們指向的是不同的記憶體地址\n",
        "print(lis is lis2)\n",
        "print(id(lis), id(lis2), id([1, 2, 3]))  # 三個id都不同"
      ],
      "execution_count": null,
      "outputs": [
        {
          "output_type": "stream",
          "text": [
            "False\n",
            "140350522806792 140350523154632 140350532047880\n"
          ],
          "name": "stdout"
        }
      ]
    },
    {
      "cell_type": "markdown",
      "metadata": {
        "id": "eBQubu_ud6eQ"
      },
      "source": [
        "# 常值\n",
        "\n",
        "在Python 指定資料值的方式有兩種:\n",
        "*  常值\n",
        "* 變數"
      ]
    },
    {
      "cell_type": "markdown",
      "metadata": {
        "id": "k1b9dHGSd_2A"
      },
      "source": [
        "# 變數\n",
        "\n",
        "Python 和絕大多數的電腦語言一樣,可讓你定義變數,也就是幫電腦記憶體裡面的值取\n",
        "個名字,以便在程式中使用。"
      ]
    },
    {
      "cell_type": "markdown",
      "metadata": {
        "id": "IHFVbyUSeOHi"
      },
      "source": [
        "Python 變數有幾條命名規則:\n",
        "\n",
        "* 它們只能包含這些字元:\n",
        " * 小寫字母(a到z)\n",
        " * 大寫字母(A到Z)\n",
        " * 數字(0到9)\n",
        " * 底線(_)\n",
        "* 它們是區分大小写的(case-Sensitive): thing、Thing 與 THING 是不一樣的名稱。\n",
        "* 它們的開頭必須是字母或底線,不可使用數字。\n",
        "* 以底線開頭的名稱會被特殊對待(第9章會介紹)。\n",
        "* 它們不能是Python 的保留字(也稱為關鍵字)。"
      ]
    },
    {
      "cell_type": "markdown",
      "metadata": {
        "id": "ZPHAgL6Aefbk"
      },
      "source": [
        "在Python 程式裡面,你可以用這個指令顯示保留字:\n",
        "```\n",
        ">>> help(\"keywords\")\n",
        "```\n",
        "或是:\n",
        "```\n",
        ">>> import keyword \n",
        "```\n",
        "```\n",
        ">>> keyword.kwlist\n",
        "```"
      ]
    },
    {
      "cell_type": "code",
      "metadata": {
        "id": "PMs6tiKHepUj",
        "outputId": "53b9fc9c-dc86-429d-d8ea-122f9ced0012",
        "colab": {
          "base_uri": "https://localhost:8080/"
        }
      },
      "source": [
        "help(\"keywords\")"
      ],
      "execution_count": null,
      "outputs": [
        {
          "output_type": "stream",
          "text": [
            "\n",
            "Here is a list of the Python keywords.  Enter any keyword to get more help.\n",
            "\n",
            "False               def                 if                  raise\n",
            "None                del                 import              return\n",
            "True                elif                in                  try\n",
            "and                 else                is                  while\n",
            "as                  except              lambda              with\n",
            "assert              finally             nonlocal            yield\n",
            "break               for                 not                 \n",
            "class               from                or                  \n",
            "continue            global              pass                \n",
            "\n"
          ],
          "name": "stdout"
        }
      ]
    },
    {
      "cell_type": "markdown",
      "metadata": {
        "id": "bx1ppC-Le1dL"
      },
      "source": [
        "# 賦值\n",
        "\n",
        "在Python,你可以用**「=」**來將一個值**指派**給一個變數。"
      ]
    },
    {
      "cell_type": "markdown",
      "metadata": {
        "id": "-MJXIHiUfG-2"
      },
      "source": [
        "第9章會完整地介紹例外\n",
        "\n",
        "程式與代數不一樣。在學校的數學中,當你看到這種方程式時:\n",
        "```\n",
        "y = x + 12\n",
        "```\n",
        "你會「代入」x值來解這個方程式,如果你將x的值設為5。  \n",
        "5 + 12 是 17，所以y的值是17。  \n",
        "將x的值設為6會得到18 這個y值,以此類推。\n",
        "\n",
        "電腦程式有時看起來很像方程式,但它們的意思不一樣。\n",
        "在Python與其他電腦語言中,x與y都是變數 。  \n",
        "Python知道 12 與5這種純數字是字面整數。這一小段 Python 程式模仿這個方程式,印出y值的結果:"
      ]
    },
    {
      "cell_type": "code",
      "metadata": {
        "id": "2JJhds5Yf5ga"
      },
      "source": [
        "x=5\n",
        "y=x+12\n",
        "y"
      ],
      "execution_count": null,
      "outputs": []
    },
    {
      "cell_type": "markdown",
      "metadata": {
        "id": "ONLmu9xFf3ZO"
      },
      "source": [
        "數學與程式有一個很大的不同:  \n",
        "在數學中, 代表左右兩邊是**相等的**。  \n",
        "但是在程式中它代表**赋值:將右邊的值指派給左邊的變數**。  \n",
        "  \n",
        "在程式中,右邊的任何東西都必須有個值(這稱為**初始化**)。  \n",
        "右邊可以是常值,或已經被設為某個值的變數,或是兩者的結合。  \n",
        "Python 知道5與12 都是字面整數。第一行將值5指派給變數x。 現在我們可以在下一行使用變數x了。當 Python 看到「y =x +12」時,它會做這件事:\n",
        "\n",
        "* 看到中間的=\n",
        "\n",
        "* 知道它是赋值\n",
        "\n",
        "* 計算右邊(取得x引用的物件的值,並將它加上12)\n",
        "\n",
        "* 將結果指派給左邊的變數y\n",
        "\n",
        "接下來輸入變數y的名稱(在互動式解譯器中)即可印出它的新值。"
      ]
    },
    {
      "cell_type": "markdown",
      "metadata": {
        "id": "B6wIsRq1hGP3"
      },
      "source": [
        "如果你在程式的第一行使用「y = x + 12」,Python 會產生一個**例外(exception)**(錯誤)、\n",
        "\n",
        "因為變數x還沒有值:"
      ]
    },
    {
      "cell_type": "code",
      "metadata": {
        "id": "GMPI3pTshLXZ",
        "outputId": "825fd407-3527-4f2b-fb47-182c41c44ab4",
        "colab": {
          "base_uri": "https://localhost:8080/",
          "height": 163
        }
      },
      "source": [
        "y = x + 12"
      ],
      "execution_count": null,
      "outputs": [
        {
          "output_type": "error",
          "ename": "NameError",
          "evalue": "ignored",
          "traceback": [
            "\u001b[0;31m---------------------------------------------------------------------------\u001b[0m",
            "\u001b[0;31mNameError\u001b[0m                                 Traceback (most recent call last)",
            "\u001b[0;32m<ipython-input-2-72e94acb6cb1>\u001b[0m in \u001b[0;36m<module>\u001b[0;34m()\u001b[0m\n\u001b[0;32m----> 1\u001b[0;31m \u001b[0my\u001b[0m \u001b[0;34m=\u001b[0m \u001b[0mx\u001b[0m \u001b[0;34m+\u001b[0m \u001b[0;36m12\u001b[0m\u001b[0;34m\u001b[0m\u001b[0;34m\u001b[0m\u001b[0m\n\u001b[0m",
            "\u001b[0;31mNameError\u001b[0m: name 'x' is not defined"
          ]
        }
      ]
    },
    {
      "cell_type": "markdown",
      "metadata": {
        "id": "TGLvFNmchdzE"
      },
      "source": [
        "# 變數是名稱,不是位置\n",
        "\n",
        "接下來是關於 Python 變數的重點:  \n",
        "```\n",
        "變數只是名稱\n",
        "```\n",
        "這件事與許多其他電腦語言不同, 它只是為含有該資料的物件取一個名稱而已。  \n",
        "名稱只是指向某個東西的參考,不是那個東西本身。  \n",
        "你可以將名稱視為一個標籤,它有一條細繩,細繩被接到在記憶體的另一個位置的物件盒子。"
      ]
    },
    {
      "cell_type": "markdown",
      "metadata": {
        "id": "JepgLBsThsRX"
      },
      "source": [
        "請試著用互動式解譯器來執行下列程式(圖2-4將它視覺化):\n",
        "\n",
        "1. 與之前一樣,將7值指派給a名稱,這樣子可以建立一個物件盒子,裡面有整數值7。\n",
        "2. 印出a的值。\n",
        "3. 將a指派給b,讓b也指向存有7的物件盒子。\n",
        "4. 印出b的值:"
      ]
    },
    {
      "cell_type": "code",
      "metadata": {
        "id": "bhZtnmTSh1IM",
        "outputId": "4a2be590-89d3-4931-b908-faeaba77d1b1",
        "colab": {
          "base_uri": "https://localhost:8080/"
        }
      },
      "source": [
        "a=7\n",
        "print(a)\n"
      ],
      "execution_count": null,
      "outputs": [
        {
          "output_type": "stream",
          "text": [
            "7\n"
          ],
          "name": "stdout"
        }
      ]
    },
    {
      "cell_type": "code",
      "metadata": {
        "id": "OklAU-eOh7A_",
        "outputId": "8fb249b3-8d6e-42d5-d1a1-f75159d5af51",
        "colab": {
          "base_uri": "https://localhost:8080/"
        }
      },
      "source": [
        "b=a\n",
        "print(b)"
      ],
      "execution_count": null,
      "outputs": [
        {
          "output_type": "stream",
          "text": [
            "7\n"
          ],
          "name": "stdout"
        }
      ]
    },
    {
      "cell_type": "markdown",
      "metadata": {
        "id": "34eQb5hDiDBg"
      },
      "source": [
        "## type()  \n",
        "獲取任何東西(變數或常值)的型態\n"
      ]
    },
    {
      "cell_type": "code",
      "metadata": {
        "id": "JMjJNQpeiZgo",
        "outputId": "03dd48a4-6104-4a70-afdd-1dc81205e781",
        "colab": {
          "base_uri": "https://localhost:8080/"
        }
      },
      "source": [
        "type(7)"
      ],
      "execution_count": null,
      "outputs": [
        {
          "output_type": "execute_result",
          "data": {
            "text/plain": [
              "int"
            ]
          },
          "metadata": {
            "tags": []
          },
          "execution_count": 5
        }
      ]
    },
    {
      "cell_type": "code",
      "metadata": {
        "id": "wUpTk5UOic3i",
        "outputId": "427461b0-2cac-448b-9568-6e75ac85a650",
        "colab": {
          "base_uri": "https://localhost:8080/"
        }
      },
      "source": [
        "type(7)==int"
      ],
      "execution_count": null,
      "outputs": [
        {
          "output_type": "execute_result",
          "data": {
            "text/plain": [
              "True"
            ]
          },
          "metadata": {
            "tags": []
          },
          "execution_count": 6
        }
      ]
    },
    {
      "cell_type": "markdown",
      "metadata": {
        "id": "GZvs3hMlZr4-"
      },
      "source": [
        "## isinstance(type)\n",
        "檢查一個變數是否指向特定型態的物件，  \n",
        "用於檢查這個物件是否為預想的資料型態"
      ]
    },
    {
      "cell_type": "code",
      "metadata": {
        "id": "xcfiRFqtifp5",
        "outputId": "d7fd7fa9-4819-455f-bd72-24f4a6604d13",
        "colab": {
          "base_uri": "https://localhost:8080/"
        }
      },
      "source": [
        "isinstance(7,int)"
      ],
      "execution_count": null,
      "outputs": [
        {
          "output_type": "execute_result",
          "data": {
            "text/plain": [
              "True"
            ]
          },
          "metadata": {
            "tags": []
          },
          "execution_count": 7
        }
      ]
    },
    {
      "cell_type": "markdown",
      "metadata": {
        "id": "95JRPbhFistw"
      },
      "source": [
        "我們用更多常值(58、99.9、'abc')與變數(a、b)來試驗它:"
      ]
    },
    {
      "cell_type": "code",
      "metadata": {
        "id": "1anOJKY3itdT",
        "outputId": "46cfe810-6add-437c-c3bd-5b6b770249c0",
        "colab": {
          "base_uri": "https://localhost:8080/"
        }
      },
      "source": [
        "a=7\n",
        "b=a\n",
        "print(type(a))\n",
        "print(type(b))"
      ],
      "execution_count": null,
      "outputs": [
        {
          "output_type": "stream",
          "text": [
            "<class 'int'>\n",
            "<class 'int'>\n"
          ],
          "name": "stdout"
        }
      ]
    },
    {
      "cell_type": "code",
      "metadata": {
        "id": "BBFMgAg6i8fF",
        "outputId": "3ea7acee-721b-417c-c24a-5270f7cb291c",
        "colab": {
          "base_uri": "https://localhost:8080/"
        }
      },
      "source": [
        "print(type(58))"
      ],
      "execution_count": null,
      "outputs": [
        {
          "output_type": "stream",
          "text": [
            "<class 'int'>\n"
          ],
          "name": "stdout"
        }
      ]
    },
    {
      "cell_type": "code",
      "metadata": {
        "id": "jnMZzKEJi39B",
        "outputId": "ad2c4943-d174-416b-b7f9-e29559e0dc08",
        "colab": {
          "base_uri": "https://localhost:8080/"
        }
      },
      "source": [
        "print(type(99.9))"
      ],
      "execution_count": null,
      "outputs": [
        {
          "output_type": "stream",
          "text": [
            "<class 'float'>\n"
          ],
          "name": "stdout"
        }
      ]
    },
    {
      "cell_type": "code",
      "metadata": {
        "id": "xH9nhIDYjKXP",
        "outputId": "8d65e34f-97a1-4e5c-fde3-4bc0134a769a",
        "colab": {
          "base_uri": "https://localhost:8080/"
        }
      },
      "source": [
        "print(type('abc'))"
      ],
      "execution_count": null,
      "outputs": [
        {
          "output_type": "stream",
          "text": [
            "<class 'str'>\n"
          ],
          "name": "stdout"
        }
      ]
    },
    {
      "cell_type": "markdown",
      "metadata": {
        "id": "Kd_tfAitZ_8I"
      },
      "source": [
        "# 指派給多個名稱"
      ]
    },
    {
      "cell_type": "code",
      "metadata": {
        "id": "BgUzz-rdaC7C",
        "outputId": "4a2a99b4-69c2-45ec-adee-29b6de551d97",
        "colab": {
          "base_uri": "https://localhost:8080/"
        }
      },
      "source": [
        "tow = deux = zwei = 2\n",
        "print(tow)\n",
        "print(deux)\n",
        "print(zwei)"
      ],
      "execution_count": null,
      "outputs": [
        {
          "output_type": "stream",
          "text": [
            "2\n",
            "2\n",
            "2\n"
          ],
          "name": "stdout"
        }
      ]
    },
    {
      "cell_type": "markdown",
      "metadata": {
        "id": "L1_eJe2QaKwK"
      },
      "source": [
        "# 重新指派名稱\n",
        "\n",
        "改變已被指派給名稱的值時，只是讓名稱指向新的物件。  \n",
        "此時舊物件的參考數量會減少，新物件的則會遞增。"
      ]
    },
    {
      "cell_type": "code",
      "metadata": {
        "id": "VcmV1y8lalnL",
        "outputId": "77a5be18-1245-4092-fa18-144e8c9d48f3",
        "colab": {
          "base_uri": "https://localhost:8080/"
        }
      },
      "source": [
        "x = 5     # 5 參考數+1\n",
        "y = x     # 5 參考數+1\n",
        "x = 29     # 5 參考數-1 ； 29 參考數+1\n",
        "print(x)\n",
        "print(y)"
      ],
      "execution_count": null,
      "outputs": [
        {
          "output_type": "stream",
          "text": [
            "29\n",
            "5\n"
          ],
          "name": "stdout"
        }
      ]
    },
    {
      "cell_type": "markdown",
      "metadata": {
        "id": "nE0PbgHXKKSB"
      },
      "source": [
        "# 代辦事項  "
      ]
    },
    {
      "cell_type": "markdown",
      "metadata": {
        "id": "TogqLy4DdMCE"
      },
      "source": [
        "2.1  \n",
        "將整數值99 指派給變數 prince,並印出它"
      ]
    },
    {
      "cell_type": "code",
      "metadata": {
        "id": "aIJtUFLEdMCF",
        "outputId": "d218c249-d3b9-4016-b1e4-b05179532893",
        "colab": {
          "base_uri": "https://localhost:8080/"
        }
      },
      "source": [
        "prince=99\n",
        "print(prince)"
      ],
      "execution_count": null,
      "outputs": [
        {
          "output_type": "stream",
          "text": [
            "99\n"
          ],
          "name": "stdout"
        }
      ]
    },
    {
      "cell_type": "markdown",
      "metadata": {
        "id": "V42x3qm_dMCJ"
      },
      "source": [
        "2.2  \n",
        "值5的型態是什麼?"
      ]
    },
    {
      "cell_type": "code",
      "metadata": {
        "id": "NtLG49g5dMCK",
        "outputId": "ce7cdc80-c224-4f8a-cd18-59495c123c2a",
        "colab": {
          "base_uri": "https://localhost:8080/"
        }
      },
      "source": [
        "type(5)"
      ],
      "execution_count": null,
      "outputs": [
        {
          "output_type": "execute_result",
          "data": {
            "text/plain": [
              "int"
            ]
          },
          "metadata": {
            "tags": []
          },
          "execution_count": 15
        }
      ]
    },
    {
      "cell_type": "markdown",
      "metadata": {
        "id": "3xTjw-5zdMCN"
      },
      "source": [
        "2.3  \n",
        "值2.0的型態是什麼?"
      ]
    },
    {
      "cell_type": "code",
      "metadata": {
        "id": "OPGYOwpYdMCO",
        "outputId": "b7589a7e-0aa4-4e97-cd76-a1220855d60d",
        "colab": {
          "base_uri": "https://localhost:8080/"
        }
      },
      "source": [
        "type(2.0)"
      ],
      "execution_count": null,
      "outputs": [
        {
          "output_type": "execute_result",
          "data": {
            "text/plain": [
              "float"
            ]
          },
          "metadata": {
            "tags": []
          },
          "execution_count": 16
        }
      ]
    },
    {
      "cell_type": "markdown",
      "metadata": {
        "id": "dOFPGq2FdMCR"
      },
      "source": [
        "2.4  \n",
        "運算式5+ 2.0的型態是什麼?"
      ]
    },
    {
      "cell_type": "code",
      "metadata": {
        "id": "ZSLg5DHadMCR",
        "outputId": "a4442878-9884-493a-bf9c-8e7108619215",
        "colab": {
          "base_uri": "https://localhost:8080/"
        }
      },
      "source": [
        "type(5+2.0)"
      ],
      "execution_count": null,
      "outputs": [
        {
          "output_type": "execute_result",
          "data": {
            "text/plain": [
              "float"
            ]
          },
          "metadata": {
            "tags": []
          },
          "execution_count": 17
        }
      ]
    }
  ]
}