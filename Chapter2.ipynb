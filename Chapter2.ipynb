{
  "nbformat": 4,
  "nbformat_minor": 0,
  "metadata": {
    "colab": {
      "name": "Chapter6.ipynb",
      "provenance": [],
      "authorship_tag": "ABX9TyOLvq4K39Vq+4gbo9N2BtJj",
      "include_colab_link": true
    },
    "kernelspec": {
      "name": "python3",
      "display_name": "Python 3"
    }
  },
  "cells": [
    {
      "cell_type": "markdown",
      "metadata": {
        "id": "view-in-github",
        "colab_type": "text"
      },
      "source": [
        "<a href=\"https://colab.research.google.com/github/hank199599/Introducing-Python-reading_log/blob/main/Chapter2.ipynb\" target=\"_parent\"><img src=\"https://colab.research.google.com/assets/colab-badge.svg\" alt=\"Open In Colab\"/></a>"
      ]
    },
    {
      "cell_type": "markdown",
      "metadata": {
        "id": "63vfOb9yI7ts"
      },
      "source": [
        "# 物件\n",
        "在Python中,物件是一段資料,它至少包含下列的元素:\n",
        "\n",
        "*   一個定義它可以做什麼的型態(見下一節)\n",
        "*   一個唯一的id,用來區別它與其他物件\n",
        "*   一個與型態一致的值\n",
        "*   一個參考計數,追蹤這個物件被使用的頻率\n"
      ]
    },
    {
      "cell_type": "markdown",
      "metadata": {
        "id": "8RvLg4RpJUHf"
      },
      "source": [
        "# 型態  \n",
        "| 名稱      | 型態     | 可變     |\n",
        "| ---------- | :-----------:  | :-----------: |\n",
        "| 布林     | bool     | 否     |\n",
        "| 整數     | int     | 否     |\n",
        "| 浮點數     | float     | 否     |\n",
        "| 複數     | complex     | 否     |\n",
        "| 字串     | str     | 否     |\n",
        "| 串列     | list     | 是     |\n",
        "| tuple     | tuple     | 否     |\n",
        "| bytes     | bytes     | 否     |\n",
        "| ByteArray     | bytearray     | 是     |\n",
        "| 集合     | set     | 是     |\n",
        "| 不可變集合     | forzenset     | 否     |\n",
        "| 字典     | dict     | 是     |"
      ]
    },
    {
      "cell_type": "markdown",
      "metadata": {
        "id": "nE0PbgHXKKSB"
      },
      "source": [
        ""
      ]
    }
  ]
}