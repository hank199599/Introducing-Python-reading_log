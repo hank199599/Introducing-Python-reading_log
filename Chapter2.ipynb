{
  "nbformat": 4,
  "nbformat_minor": 0,
  "metadata": {
    "colab": {
      "name": "Chapter2.ipynb",
      "provenance": [],
      "include_colab_link": true
    },
    "kernelspec": {
      "name": "python3",
      "display_name": "Python 3"
    }
  },
  "cells": [
    {
      "cell_type": "markdown",
      "metadata": {
        "id": "view-in-github",
        "colab_type": "text"
      },
      "source": [
        "<a href=\"https://colab.research.google.com/github/hank199599/Introducing-Python-reading_log/blob/main/Chapter2.ipynb\" target=\"_parent\"><img src=\"https://colab.research.google.com/assets/colab-badge.svg\" alt=\"Open In Colab\"/></a>"
      ]
    },
    {
      "cell_type": "markdown",
      "metadata": {
        "id": "63vfOb9yI7ts"
      },
      "source": [
        "# 物件\n",
        "在Python中,物件是一段資料,它至少包含下列的元素:\n",
        "\n",
        "*   一個定義它可以做什麼的型態(見下一節)\n",
        "*   一個唯一的id,用來區別它與其他物件\n",
        "*   一個與型態一致的值\n",
        "*   一個參考計數,追蹤這個物件被使用的頻率\n"
      ]
    },
    {
      "cell_type": "markdown",
      "metadata": {
        "id": "8RvLg4RpJUHf"
      },
      "source": [
        "# 型態  \n",
        "| 名稱      | 型態     | 可變     |\n",
        "| ---------- | :-----------:  | :-----------: |\n",
        "| 布林     | bool     | 否     |\n",
        "| 整數     | int     | 否     |\n",
        "| 浮點數     | float     | 否     |\n",
        "| 複數     | complex     | 否     |\n",
        "| 字串     | str     | 否     |\n",
        "| 串列     | list     | 是     |\n",
        "| tuple     | tuple     | 否     |\n",
        "| bytes     | bytes     | 否     |\n",
        "| ByteArray     | bytearray     | 是     |\n",
        "| 集合     | set     | 是     |\n",
        "| 不可變集合     | forzenset     | 否     |\n",
        "| 字典     | dict     | 是     |"
      ]
    },
    {
      "cell_type": "markdown",
      "metadata": {
        "id": "90vE8G_dddHC"
      },
      "source": [
        "# 可變性\n",
        "  \n",
        "> 唯有無常永恆不變。  \n",
        "> -Percy Shelley\n",
        "  \n",
        "型態也決定盒子內的資料值是可以改變的(可變)或是固定的(不可變)。  \n",
        "你可以把不可變的物件想成密封的盒子,但它是透明的,你可以看到裡面的值,但無法改變它使用同樣的比喻,可變的物件就像有盖子的盒子,你不但可以看到裡面的值,也可以改變它,但是你不能改變它的型態。\n",
        "  \n",
        "Python 是強定型(strongly typed)的,意思是物件的型態不能改變,即使它的值是可變的。"
      ]
    },
    {
      "cell_type": "markdown",
      "metadata": {
        "id": "eBQubu_ud6eQ"
      },
      "source": [
        "# 常值\n",
        "\n",
        "在Python 指定資料值的方式有兩種:\n",
        "*  常值\n",
        "* 變數"
      ]
    },
    {
      "cell_type": "markdown",
      "metadata": {
        "id": "k1b9dHGSd_2A"
      },
      "source": [
        "# 變數\n",
        "\n",
        "Python 和絕大多數的電腦語言一樣,可讓你定義變數,也就是幫電腦記憶體裡面的值取\n",
        "個名字,以便在程式中使用。"
      ]
    },
    {
      "cell_type": "markdown",
      "metadata": {
        "id": "IHFVbyUSeOHi"
      },
      "source": [
        "Python 變數有幾條命名規則:\n",
        "\n",
        "* 它們只能包含這些字元:\n",
        " * 小寫字母(a到z)\n",
        " * 大寫字母(A到Z)\n",
        " * 數字(0到9)\n",
        " * 底線(_)\n",
        "* 它們是區分大小写的(case-Sensitive): thing、Thing 與 THING 是不一樣的名稱。\n",
        "* 它們的開頭必須是字母或底線,不可使用數字。\n",
        "* 以底線開頭的名稱會被特殊對待(第9章會介紹)。\n",
        "* 它們不能是Python 的保留字(也稱為關鍵字)。"
      ]
    },
    {
      "cell_type": "markdown",
      "metadata": {
        "id": "ZPHAgL6Aefbk"
      },
      "source": [
        "在Python 程式裡面,你可以用這個指令顯示保留字:\n",
        "```\n",
        ">>> help(\"keywords\")\n",
        "```\n",
        "或是:\n",
        "```\n",
        ">>> import keyword \n",
        "```\n",
        "```\n",
        ">>> keyword.kwlist\n",
        "```"
      ]
    },
    {
      "cell_type": "code",
      "metadata": {
        "id": "PMs6tiKHepUj",
        "outputId": "643f9d83-4d91-4328-e339-9cbb6800145f",
        "colab": {
          "base_uri": "https://localhost:8080/",
          "height": 235
        }
      },
      "source": [
        "help(\"keywords\")"
      ],
      "execution_count": null,
      "outputs": [
        {
          "output_type": "stream",
          "text": [
            "\n",
            "Here is a list of the Python keywords.  Enter any keyword to get more help.\n",
            "\n",
            "False               def                 if                  raise\n",
            "None                del                 import              return\n",
            "True                elif                in                  try\n",
            "and                 else                is                  while\n",
            "as                  except              lambda              with\n",
            "assert              finally             nonlocal            yield\n",
            "break               for                 not                 \n",
            "class               from                or                  \n",
            "continue            global              pass                \n",
            "\n"
          ],
          "name": "stdout"
        }
      ]
    },
    {
      "cell_type": "markdown",
      "metadata": {
        "id": "bx1ppC-Le1dL"
      },
      "source": [
        "# 賦值\n",
        "\n",
        "在Python,你可以用**「=」**來將一個值**指派**給一個變數。"
      ]
    },
    {
      "cell_type": "markdown",
      "metadata": {
        "id": "-MJXIHiUfG-2"
      },
      "source": [
        "第9章會完整地介紹例外\n",
        "\n",
        "程式與代數不一樣。在學校的數學中,當你看到這種方程式時:\n",
        "```\n",
        "y = x + 12\n",
        "```\n",
        "你會「代入」x值來解這個方程式,如果你將x的值設為5。  \n",
        "5 + 12 是 17，所以y的值是17。  \n",
        "將x的值設為6會得到18 這個y值,以此類推。\n",
        "\n",
        "電腦程式有時看起來很像方程式,但它們的意思不一樣。\n",
        "在Python與其他電腦語言中,x與y都是變數 。  \n",
        "Python知道 12 與5這種純數字是字面整數。這一小段 Python 程式模仿這個方程式,印出y值的結果:"
      ]
    },
    {
      "cell_type": "code",
      "metadata": {
        "id": "2JJhds5Yf5ga"
      },
      "source": [
        "x=5\n",
        "y=x+12\n",
        "y"
      ],
      "execution_count": null,
      "outputs": []
    },
    {
      "cell_type": "markdown",
      "metadata": {
        "id": "ONLmu9xFf3ZO"
      },
      "source": [
        "數學與程式有一個很大的不同:  \n",
        "在數學中, 代表左右兩邊是**相等的**。  \n",
        "但是在程式中它代表**赋值:將右邊的值指派給左邊的變數**。  \n",
        "  \n",
        "在程式中,右邊的任何東西都必須有個值(這稱為**初始化**)。  \n",
        "右邊可以是常值,或已經被設為某個值的變數,或是兩者的結合。  \n",
        "Python 知道5與12 都是字面整數。第一行將值5指派給變數x。 現在我們可以在下一行使用變數x了。當 Python 看到「y =x +12」時,它會做這件事:\n",
        "\n",
        "* 看到中間的=\n",
        "\n",
        "* 知道它是赋值\n",
        "\n",
        "* 計算右邊(取得x引用的物件的值,並將它加上12)\n",
        "\n",
        "* 將結果指派給左邊的變數y\n",
        "\n",
        "接下來輸入變數y的名稱(在互動式解譯器中)即可印出它的新值。"
      ]
    },
    {
      "cell_type": "markdown",
      "metadata": {
        "id": "B6wIsRq1hGP3"
      },
      "source": [
        "如果你在程式的第一行使用「y = x + 12」,Python 會產生一個**例外(exception)**(錯誤)、\n",
        "\n",
        "因為變數x還沒有值:"
      ]
    },
    {
      "cell_type": "code",
      "metadata": {
        "id": "GMPI3pTshLXZ"
      },
      "source": [
        "y = x + 12"
      ],
      "execution_count": null,
      "outputs": []
    },
    {
      "cell_type": "markdown",
      "metadata": {
        "id": "TGLvFNmchdzE"
      },
      "source": [
        "# 變數是名稱,不是位置\n",
        "\n",
        "接下來是關於 Python 變數的重點:變數只是名稱,這件事與許多其他電腦語言不同, 它只是為含有該資料的物件取一個名稱而已。名稱只是指向某個東西的參考,不是那 個東西本身。你可以將名稱視為一個標籤,它有一條細繩,細繩被接到在記憶體的另一個位置的物件盒子(圖2.3)。"
      ]
    },
    {
      "cell_type": "markdown",
      "metadata": {
        "id": "JepgLBsThsRX"
      },
      "source": [
        "請試著用互動式解譯器來執行下列程式(圖2-4將它視覺化):\n",
        "\n",
        "1. 與之前一樣,將7值指派給a名稱,這樣子可以建立一個物件盒子,裡面有整數值7。\n",
        "2. 印出a的值。\n",
        "3. 將a指派給b,讓b也指向存有7的物件盒子。\n",
        "4. 印出b的值:"
      ]
    },
    {
      "cell_type": "code",
      "metadata": {
        "id": "bhZtnmTSh1IM"
      },
      "source": [
        "a=7\n",
        "print(a)\n"
      ],
      "execution_count": null,
      "outputs": []
    },
    {
      "cell_type": "code",
      "metadata": {
        "id": "OklAU-eOh7A_"
      },
      "source": [
        "b=a\n",
        "print(b)"
      ],
      "execution_count": null,
      "outputs": []
    },
    {
      "cell_type": "markdown",
      "metadata": {
        "id": "34eQb5hDiDBg"
      },
      "source": [
        "在Python 中,如果你想要知道任何東西(變數或常值)的型態,你可以使用**type(thing)**。\n",
        "> type()  \n",
        "\n",
        "是一種 Python 內建函式。如果你想要檢查一個變數是否指向特定型態的物件可使用 **isinstance(type)**:用於檢查這個物件是否為預想的資料型態"
      ]
    },
    {
      "cell_type": "code",
      "metadata": {
        "id": "JMjJNQpeiZgo"
      },
      "source": [
        "type(7)"
      ],
      "execution_count": null,
      "outputs": []
    },
    {
      "cell_type": "code",
      "metadata": {
        "id": "wUpTk5UOic3i"
      },
      "source": [
        "type(7)==int"
      ],
      "execution_count": null,
      "outputs": []
    },
    {
      "cell_type": "code",
      "metadata": {
        "id": "xcfiRFqtifp5"
      },
      "source": [
        "isinstance(7,int)"
      ],
      "execution_count": null,
      "outputs": []
    },
    {
      "cell_type": "markdown",
      "metadata": {
        "id": "95JRPbhFistw"
      },
      "source": [
        "我們用更多常值(58、99.9、'abc')與變數(a、b)來試驗它:"
      ]
    },
    {
      "cell_type": "code",
      "metadata": {
        "id": "1anOJKY3itdT"
      },
      "source": [
        "a=7\n",
        "b=a\n",
        "print(type(a))\n",
        "print(type(b))"
      ],
      "execution_count": null,
      "outputs": []
    },
    {
      "cell_type": "code",
      "metadata": {
        "id": "BBFMgAg6i8fF"
      },
      "source": [
        "print(type(58))"
      ],
      "execution_count": null,
      "outputs": []
    },
    {
      "cell_type": "code",
      "metadata": {
        "id": "jnMZzKEJi39B"
      },
      "source": [
        "print(type(99.9))"
      ],
      "execution_count": null,
      "outputs": []
    },
    {
      "cell_type": "code",
      "metadata": {
        "id": "xH9nhIDYjKXP"
      },
      "source": [
        "print(type('abc'))"
      ],
      "execution_count": null,
      "outputs": []
    },
    {
      "cell_type": "markdown",
      "metadata": {
        "id": "nE0PbgHXKKSB"
      },
      "source": [
        "# 代辦事項  "
      ]
    },
    {
      "cell_type": "markdown",
      "metadata": {
        "id": "TogqLy4DdMCE"
      },
      "source": [
        "2.1  \n",
        "將整數值99 指派給變數 prince,並印出它"
      ]
    },
    {
      "cell_type": "code",
      "metadata": {
        "id": "aIJtUFLEdMCF"
      },
      "source": [
        "prince=99\n",
        "print(prince)"
      ],
      "execution_count": null,
      "outputs": []
    },
    {
      "cell_type": "markdown",
      "metadata": {
        "id": "V42x3qm_dMCJ"
      },
      "source": [
        "2.2  \n",
        "值5的型態是什麼?"
      ]
    },
    {
      "cell_type": "code",
      "metadata": {
        "id": "NtLG49g5dMCK"
      },
      "source": [
        "type(5)"
      ],
      "execution_count": null,
      "outputs": []
    },
    {
      "cell_type": "markdown",
      "metadata": {
        "id": "3xTjw-5zdMCN"
      },
      "source": [
        "2.3  \n",
        "值2.0的型態是什麼?"
      ]
    },
    {
      "cell_type": "code",
      "metadata": {
        "id": "OPGYOwpYdMCO"
      },
      "source": [
        "type(2.0)"
      ],
      "execution_count": null,
      "outputs": []
    },
    {
      "cell_type": "markdown",
      "metadata": {
        "id": "dOFPGq2FdMCR"
      },
      "source": [
        "2.4  \n",
        "運算式5+ 2.0的型態是什麼?"
      ]
    },
    {
      "cell_type": "code",
      "metadata": {
        "id": "ZSLg5DHadMCR"
      },
      "source": [
        "type"
      ],
      "execution_count": null,
      "outputs": []
    }
  ]
}