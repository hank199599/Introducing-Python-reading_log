{
  "nbformat": 4,
  "nbformat_minor": 0,
  "metadata": {
    "colab": {
      "name": "Chapter4.ipynb",
      "provenance": [],
      "authorship_tag": "ABX9TyNyMeNIXT4lNU0bcgeIaTNJ",
      "include_colab_link": true
    },
    "kernelspec": {
      "name": "python3",
      "display_name": "Python 3"
    }
  },
  "cells": [
    {
      "cell_type": "markdown",
      "metadata": {
        "id": "view-in-github",
        "colab_type": "text"
      },
      "source": [
        "<a href=\"https://colab.research.google.com/github/hank199599/Introducing-Python-reading_log/blob/main/Chapter4.ipynb\" target=\"_parent\"><img src=\"https://colab.research.google.com/assets/colab-badge.svg\" alt=\"Open In Colab\"/></a>"
      ]
    },
    {
      "cell_type": "markdown",
      "metadata": {
        "id": "DoObTrH71buM"
      },
      "source": [
        "# 用「#」標記註釋\n",
        "透過#字元來加入註釋，自這個字元之後直到該行結束後的任何文字都是註釋的一部分"
      ]
    },
    {
      "cell_type": "markdown",
      "metadata": {
        "id": "sC16c7LK1x45"
      },
      "source": [
        "整航都是註釋"
      ]
    },
    {
      "cell_type": "code",
      "metadata": {
        "id": "q9RWIJ8H11IV"
      },
      "source": [
        "# 60 sec/min * 60 min/hr * 24 hr/day\n",
        "seconds_per_day = 86400"
      ],
      "execution_count": null,
      "outputs": []
    },
    {
      "cell_type": "markdown",
      "metadata": {
        "id": "OJ__Jucu1_-2"
      },
      "source": [
        "在同一行中同時包含程式碼與註釋"
      ]
    },
    {
      "cell_type": "code",
      "metadata": {
        "id": "Ubfv70D62ES_"
      },
      "source": [
        "seconds_per_day = 86400 # 60 sec/min * 60 min/hr * 24 hr/day"
      ],
      "execution_count": null,
      "outputs": []
    },
    {
      "cell_type": "markdown",
      "metadata": {
        "id": "qEBDGpib20MS"
      },
      "source": [
        "注意：  \n",
        "Python沒有多行註釋，因此在連續多行的註釋中。  \n",
        "需要明確地使用#來撰寫或段落。"
      ]
    },
    {
      "cell_type": "code",
      "metadata": {
        "id": "ejvb0Min2HhT"
      },
      "source": [
        "# 我可以在這裡Python的任何壞話\n",
        "# 即使Python不喜歡它"
      ],
      "execution_count": null,
      "outputs": []
    },
    {
      "cell_type": "markdown",
      "metadata": {
        "id": "o6gEmTI54Apr"
      },
      "source": [
        "# 用 **\\** 來延續一行文字  \n"
      ]
    },
    {
      "cell_type": "markdown",
      "metadata": {
        "id": "PZTP_qyU4MjI"
      },
      "source": [
        "使用延續字元一次性完成工作"
      ]
    },
    {
      "cell_type": "code",
      "metadata": {
        "id": "7U5U29IM3_04",
        "outputId": "50c316b5-d010-4a7f-a8c1-518ac6fa973d",
        "colab": {
          "base_uri": "https://localhost:8080/"
        }
      },
      "source": [
        "sum=1+\\\n",
        "    2+\\\n",
        "    3+\\\n",
        "    4\n",
        "sum"
      ],
      "execution_count": 1,
      "outputs": [
        {
          "output_type": "execute_result",
          "data": {
            "text/plain": [
              "10"
            ]
          },
          "metadata": {
            "tags": []
          },
          "execution_count": 1
        }
      ]
    },
    {
      "cell_type": "markdown",
      "metadata": {
        "id": "CziT3_qt4e-2"
      },
      "source": [
        "透過一對小括號包起來，  \n",
        "即可不使用\\來標記在同一行"
      ]
    },
    {
      "cell_type": "code",
      "metadata": {
        "id": "6FNDWT-V4quK",
        "outputId": "d4261fb9-8c0f-41c9-d801-8417733b1e07",
        "colab": {
          "base_uri": "https://localhost:8080/"
        }
      },
      "source": [
        "sum =(\n",
        "    1+\n",
        "    2+\n",
        "    3+\n",
        "    4\n",
        ")\n",
        "sum"
      ],
      "execution_count": 2,
      "outputs": [
        {
          "output_type": "execute_result",
          "data": {
            "text/plain": [
              "10"
            ]
          },
          "metadata": {
            "tags": []
          },
          "execution_count": 2
        }
      ]
    },
    {
      "cell_type": "markdown",
      "metadata": {
        "id": "D7Gt7Spq8SvP"
      },
      "source": [
        "# 用if、elif與else來進行比較\n",
        "if 與 else 都是 Python 陳述式,它們的功能是檢查一個條件(在此是disaster的值)究竟是不是布林值 True,或是否可被評估為True。"
      ]
    },
    {
      "cell_type": "code",
      "metadata": {
        "id": "Kfm9BbDs99wv",
        "cellView": "both",
        "outputId": "060cd3bc-dec1-4cf9-d6a7-975a1e4b0769",
        "colab": {
          "base_uri": "https://localhost:8080/"
        }
      },
      "source": [
        "#@title Default title text\n",
        "furry = True\n",
        "large = True\n",
        "\n",
        "if furry:\n",
        "  if large:\n",
        "    print(\"It's a yeti.\" )\n",
        "  else:\n",
        "    print(\"It's a cat.\")\n",
        "else:\n",
        "  if large:\n",
        "    print(\"It's a whale!\")\n",
        "  else:\n",
        "    print(\"It's a human. Or a hairless cat.\")"
      ],
      "execution_count": 4,
      "outputs": [
        {
          "output_type": "stream",
          "text": [
            "It's a yeti.\n"
          ],
          "name": "stdout"
        }
      ]
    },
    {
      "cell_type": "markdown",
      "metadata": {
        "id": "vIvVm_je-nb7"
      },
      "source": [
        "在Python 中,縮排決定了if與 else 段落如何配對。  \n",
        "我們的第一個項測試是檢查 furry,因為furry 是 True, Python 會前往內縮的 if large 測試。因為我們已經將 large 設為True 了,if large 是 True,接下來的else 會被忽略。  \n",
        "所以Python 會執行在if large:下面縮排的那行,印出It's a yeti."
      ]
    },
    {
      "cell_type": "markdown",
      "metadata": {
        "id": "9u553NfZGyaS"
      },
      "source": [
        "如果要測試的可能性超過兩個，需要使用不同的指令來設定篩選條件。"
      ]
    },
    {
      "cell_type": "code",
      "metadata": {
        "id": "OmsvEemcI6rM",
        "outputId": "bb8506b9-8da1-4589-e5ad-4715e4720f0e",
        "colab": {
          "base_uri": "https://localhost:8080/"
        }
      },
      "source": [
        "color='mauve'\n",
        "if color==\"red\":\n",
        "  print(\"It's a tomato\")\n",
        "elif color==\"green\":\n",
        "  print(\"It's a green pepper\")\n",
        "elif color==\"bee pepper\":\n",
        "  print(\"I don't knnow what it is, but only bees can see it\")\n",
        "else:\n",
        "  print(\"I've never heard of the color\",color)"
      ],
      "execution_count": 7,
      "outputs": [
        {
          "output_type": "stream",
          "text": [
            "I've never heard of the color mauve\n"
          ],
          "name": "stdout"
        }
      ]
    },
    {
      "cell_type": "markdown",
      "metadata": {
        "id": "F8lL7I4pJmPx"
      },
      "source": [
        "## 比較運算子\n",
        "* 相等         ==\n",
        "* 不相等       !=\n",
        "* 小於         <\n",
        "* 小於或等於   <=\n",
        "* 大於         >\n",
        "* 大於或等於   >="
      ]
    },
    {
      "cell_type": "markdown",
      "metadata": {
        "id": "0vm039fiKNyC"
      },
      "source": [
        "「=」 ：將值指派給變數  \n",
        "「==」：**測試相等性**"
      ]
    },
    {
      "cell_type": "code",
      "metadata": {
        "id": "mU30Qs2AJ-v7"
      },
      "source": [
        "x=7"
      ],
      "execution_count": null,
      "outputs": []
    },
    {
      "cell_type": "code",
      "metadata": {
        "id": "zJb6ZwjLKBSx"
      },
      "source": [
        "x==5"
      ],
      "execution_count": null,
      "outputs": []
    },
    {
      "cell_type": "code",
      "metadata": {
        "id": "q6eIYhdjKCap"
      },
      "source": [
        "5<x"
      ],
      "execution_count": null,
      "outputs": []
    },
    {
      "cell_type": "code",
      "metadata": {
        "id": "1hBLi-CgKD3I"
      },
      "source": [
        "x<10"
      ],
      "execution_count": null,
      "outputs": []
    },
    {
      "cell_type": "markdown",
      "metadata": {
        "id": "cs59NRWCKFBZ"
      },
      "source": [
        "以上的運算結果會回傳 True 或 False"
      ]
    },
    {
      "cell_type": "markdown",
      "metadata": {
        "id": "XrbSZ93kKeqG"
      },
      "source": [
        "# 用in來做多項比較\n",
        "用來判斷一個元素是否在某一個序列中。  \n",
        "比如可以判斷一個字元是否屬於這個字串,可以判斷某個物件是否在這個列表中等等。   \n",
        "這個操作符返回值是True或者False。"
      ]
    },
    {
      "cell_type": "markdown",
      "metadata": {
        "id": "afDE7hSiKxnn"
      },
      "source": [
        "## 傳統做法\n",
        "寫一段很長的if陳述式"
      ]
    },
    {
      "cell_type": "code",
      "metadata": {
        "id": "Gazx8xOIKzxB"
      },
      "source": [
        "letter='o'\n",
        "if letter=='a'or letter=='e'or letter=='i'or letter=='o'or letter='u':\n",
        "  print(letter,'is a vowel')\n",
        "else:\n",
        "  print(letter,'is not a vowel')"
      ],
      "execution_count": null,
      "outputs": []
    },
    {
      "cell_type": "markdown",
      "metadata": {
        "id": "FiRxndReLRe3"
      },
      "source": [
        "## 藉由「in」運算子\n"
      ]
    },
    {
      "cell_type": "code",
      "metadata": {
        "id": "orP0cnPNNrHq",
        "outputId": "416ead70-f206-45aa-d546-9f1e5a5e15d3",
        "colab": {
          "base_uri": "https://localhost:8080/"
        }
      },
      "source": [
        "vowels='aeiou'\n",
        "letter='o'\n",
        "\n",
        "if letter in vowels:\n",
        "  print(letter,'is a vowel')"
      ],
      "execution_count": 11,
      "outputs": [
        {
          "output_type": "stream",
          "text": [
            "o is a vowel\n"
          ],
          "name": "stdout"
        }
      ]
    },
    {
      "cell_type": "markdown",
      "metadata": {
        "id": "aetjD4CSOO5P"
      },
      "source": [
        "# 代辦事項"
      ]
    },
    {
      "cell_type": "markdown",
      "metadata": {
        "id": "x_3OHWJSOSEi"
      },
      "source": [
        "## 4.1\n",
        "選擇一個介於1和10 之間的數字,並將它指派給變數 secret。  \n",
        "接著選擇另一個介 於1和10之間的數字,將它指派給變數 guess。  \n",
        "接下來,編寫條件測試式(if、else 與elif),當 guess 小於 secret 時印出字串'too low',當它大於secret時印出'too high',當它等於 secret 時印出'just right'。"
      ]
    },
    {
      "cell_type": "code",
      "metadata": {
        "id": "lx1tvjqBOV3v"
      },
      "source": [
        ""
      ],
      "execution_count": null,
      "outputs": []
    },
    {
      "cell_type": "markdown",
      "metadata": {
        "id": "k6ryDoioOWNG"
      },
      "source": [
        "## 4.2\n",
        "將True 或 False 指派給變數 small 與 green。  \n",
        "寫出if/else 陳述式來印出下列哪種東西符合這些選擇: cherry、pea、watermelon、pumpkin。"
      ]
    },
    {
      "cell_type": "code",
      "metadata": {
        "id": "NTGv6UnQOsgG"
      },
      "source": [
        ""
      ],
      "execution_count": null,
      "outputs": []
    }
  ]
}