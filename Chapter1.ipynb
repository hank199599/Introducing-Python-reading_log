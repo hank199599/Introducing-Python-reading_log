{
  "nbformat": 4,
  "nbformat_minor": 0,
  "metadata": {
    "colab": {
      "name": "Chapter1.ipynb",
      "provenance": [],
      "authorship_tag": "ABX9TyPDrDyeiLOrP3Q0Ytqc335C",
      "include_colab_link": true
    },
    "kernelspec": {
      "name": "python3",
      "display_name": "Python 3"
    }
  },
  "cells": [
    {
      "cell_type": "markdown",
      "metadata": {
        "id": "view-in-github",
        "colab_type": "text"
      },
      "source": [
        "<a href=\"https://colab.research.google.com/github/hank199599/Introducing-Python-reading_log/blob/main/Chapter1.ipynb\" target=\"_parent\"><img src=\"https://colab.research.google.com/assets/colab-badge.svg\" alt=\"Open In Colab\"/></a>"
      ]
    },
    {
      "cell_type": "markdown",
      "metadata": {
        "id": "z32KZSgzq3n8"
      },
      "source": [
        "### **小程式**\n",
        "\n",
        "你可以在電程式中看到上述的所有概念,它們本身就像小型語言專門用來告訴電腦 該做什麼事情,我用了針機圖案和食開來告訴你程式設計沒有那麼神秘,它大部分都是 關於學習正確的單字和規則。\n",
        "\n",
        "我們的大腦一次只能記得那麼多東西,如單字和規則不多,而且不需要一次學會許多單字及規則,對我們來說有很大的幫助。"
      ]
    },
    {
      "cell_type": "markdown",
      "metadata": {
        "id": "-b12VFTP0_1P"
      },
      "source": [
        "# 範例1-1 countdown.py  \n",
        "我們來看一段真正的電腦程式。你認為這段程式在做甚麼事情?"
      ]
    },
    {
      "cell_type": "code",
      "metadata": {
        "id": "fvqIJT4Ip2Me",
        "outputId": "bdee03cd-6b74-4084-cb4d-f90ac0e2df49",
        "colab": {
          "base_uri": "https://localhost:8080/",
          "height": 118
        }
      },
      "source": [
        "for countdown in 5,4,3,2,1,\"hey!\":\n",
        "  print (countdown)"
      ],
      "execution_count": 1,
      "outputs": [
        {
          "output_type": "stream",
          "text": [
            "5\n",
            "4\n",
            "3\n",
            "2\n",
            "1\n",
            "hey!\n"
          ],
          "name": "stdout"
        }
      ]
    },
    {
      "cell_type": "markdown",
      "metadata": {
        "id": "U4E0SemS_18S"
      },
      "source": [
        "Python有一些特殊的單字與符號 ── for、in、print、逗號、冒號、括號等等它們都是很重要的語法(規則)元素,好消息是,與大多數的電腦語言相比,Python 的語法更好,而且需要記憶的東西較少:它讚起來比較自然,幾乎就像一份食譜。"
      ]
    },
    {
      "cell_type": "markdown",
      "metadata": {
        "id": "t9lmWGtNp3b9"
      },
      "source": [
        "# 範例1-2  \n",
        "他會自Python串列中選出一句哈利波特咒語並將它印出來。"
      ]
    },
    {
      "cell_type": "code",
      "metadata": {
        "id": "FUeu_H74_UR_",
        "outputId": "9a12907a-ee30-4685-bbe5-832340f7f04a",
        "colab": {
          "base_uri": "https://localhost:8080/",
          "height": 34
        }
      },
      "source": [
        "spells =[\n",
        "         \"Riddikulus!\",\n",
        "         \"Wingardium Leviosa!\",\n",
        "         \"Avada Kedavra!\",\n",
        "         \"Expecto Patronum!\",\n",
        "         \"Nox!\",\n",
        "         \"Lumos!\",\n",
        "]\n",
        "print(spells[3])"
      ],
      "execution_count": 2,
      "outputs": [
        {
          "output_type": "stream",
          "text": [
            "Expecto Patronum!\n"
          ],
          "name": "stdout"
        }
      ]
    },
    {
      "cell_type": "markdown",
      "metadata": {
        "id": "ohDsydmvBJ1H"
      },
      "source": [
        "每一句咒語都是Python字串(被放在引號裡而的一串文字字元)。  \n",
        "它們都被但號分開並且被故在一個 Python 串列裡面,串列是用方括號來定義的([與])。  \n",
        "spells 這個字是個變數,它是串列的名稱讓我們可以用它来使一些事情,  \n",
        "在這個例子中,程式會印出第四個咒語:   \n",
        "*Expecto Patronum*  \n",
        "為什麼我們用3來取得第四個? 5pells 這種 Python串列是 一系列的值,15丁取得裡面 的值,我們必須使用從串列開頭算起的 offcr (偏位值)它的第一個值在offset 0,第 四出直在offset3"
      ]
    },
    {
      "cell_type": "markdown",
      "metadata": {
        "id": "AbUPAELqATYB"
      },
      "source": [
        "# 範例1-3  \n",
        "程式會印出 Three Stooges 喜劇中的一句話,不過這段程式用說那句話的人來引用,而不是用那句話在的位置。"
      ]
    },
    {
      "cell_type": "code",
      "metadata": {
        "id": "4SoErJBYArDY",
        "outputId": "aeae6c45-9467-443b-d5df-74a4e84e667a",
        "colab": {
          "base_uri": "https://localhost:8080/",
          "height": 34
        }
      },
      "source": [
        "quotes ={\n",
        "    \"Moe\": \"A wise guy, huh?\",\n",
        "    \"Larry\": \"Ow!\",\n",
        "    \"Curly\": \"Nyuk nyuk!\",\n",
        "  }\n",
        "stooge =\"Curly\"\n",
        "print(stooge, \"says:\", quotes[stooge])"
      ],
      "execution_count": 3,
      "outputs": [
        {
          "output_type": "stream",
          "text": [
            "Curly says: Nyuk nyuk!\n"
          ],
          "name": "stdout"
        }
      ]
    }
  ]
}