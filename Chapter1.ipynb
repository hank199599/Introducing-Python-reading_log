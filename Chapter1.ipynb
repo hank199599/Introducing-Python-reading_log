{
  "nbformat": 4,
  "nbformat_minor": 0,
  "metadata": {
    "colab": {
      "name": "Chapter1.ipynb",
      "provenance": [],
      "authorship_tag": "ABX9TyPOI2FkigfgMS2UpxcH/UKr",
      "include_colab_link": true
    },
    "kernelspec": {
      "name": "python3",
      "display_name": "Python 3"
    }
  },
  "cells": [
    {
      "cell_type": "markdown",
      "metadata": {
        "id": "view-in-github",
        "colab_type": "text"
      },
      "source": [
        "<a href=\"https://colab.research.google.com/github/hank199599/Introducing-Python-reading_log/blob/main/Chapter1.ipynb\" target=\"_parent\"><img src=\"https://colab.research.google.com/assets/colab-badge.svg\" alt=\"Open In Colab\"/></a>"
      ]
    },
    {
      "cell_type": "markdown",
      "metadata": {
        "id": "z32KZSgzq3n8"
      },
      "source": [
        "### **程式語言**\n",
        "\n",
        "它是用來定義電腦程式的形式語言。它是一種被標準化的交流技巧，用來向電腦發出指令。一種能夠讓程式設計師準確地定義電腦所需要使用資料的電腦語言，並精確地定義在不同情況下所應當採取的行動。 最早的程式語言是在電腦發明之前產生的，當時是用來控制提花織布機及自動演奏鋼琴的動作。  \n",
        "  \n",
        "以上內容來自維基百科"
      ]
    },
    {
      "cell_type": "markdown",
      "metadata": {
        "id": "-b12VFTP0_1P"
      },
      "source": [
        "# 範例1-1 countdown.py  \n",
        "我們來看一段真正的電腦程式。你認為這段程式在做甚麼事情?"
      ]
    },
    {
      "cell_type": "code",
      "metadata": {
        "id": "fvqIJT4Ip2Me",
        "outputId": "bdee03cd-6b74-4084-cb4d-f90ac0e2df49",
        "colab": {
          "base_uri": "https://localhost:8080/",
          "height": 118
        }
      },
      "source": [
        "for countdown in 5,4,3,2,1,\"hey!\":\n",
        "  print (countdown)"
      ],
      "execution_count": null,
      "outputs": [
        {
          "output_type": "stream",
          "text": [
            "5\n",
            "4\n",
            "3\n",
            "2\n",
            "1\n",
            "hey!\n"
          ],
          "name": "stdout"
        }
      ]
    },
    {
      "cell_type": "markdown",
      "metadata": {
        "id": "U4E0SemS_18S"
      },
      "source": [
        "Python有一些特殊的單字與符號 ── for、in、print、逗號、冒號、括號等等它們都是很重要的語法(規則)元素,好消息是,與大多數的電腦語言相比,Python 的語法更好,而且需要記憶的東西較少:它讚起來比較自然,幾乎就像一份食譜。"
      ]
    },
    {
      "cell_type": "markdown",
      "metadata": {
        "id": "t9lmWGtNp3b9"
      },
      "source": [
        "# 範例1-2  \n",
        "他會自Python串列中選出一句哈利波特咒語並將它印出來。"
      ]
    },
    {
      "cell_type": "code",
      "metadata": {
        "id": "FUeu_H74_UR_",
        "outputId": "9a12907a-ee30-4685-bbe5-832340f7f04a",
        "colab": {
          "base_uri": "https://localhost:8080/",
          "height": 34
        }
      },
      "source": [
        "spells =[\n",
        "         \"Riddikulus!\",\n",
        "         \"Wingardium Leviosa!\",\n",
        "         \"Avada Kedavra!\",\n",
        "         \"Expecto Patronum!\",\n",
        "         \"Nox!\",\n",
        "         \"Lumos!\",\n",
        "]\n",
        "print(spells[3])"
      ],
      "execution_count": null,
      "outputs": [
        {
          "output_type": "stream",
          "text": [
            "Expecto Patronum!\n"
          ],
          "name": "stdout"
        }
      ]
    },
    {
      "cell_type": "markdown",
      "metadata": {
        "id": "ohDsydmvBJ1H"
      },
      "source": [
        "每一句咒語都是Python字串(被放在引號裡而的一串文字字元)。  \n",
        "它們都被但號分開並且被故在一個 Python 串列裡面,串列是用方括號來定義的([與])。  \n",
        "spells 這個字是個變數,它是串列的名稱讓我們可以用它来使一些事情,  \n",
        "在這個例子中,程式會印出第四個咒語:   \n",
        "*Expecto Patronum*  \n",
        "為什麼我們用3來取得第四個? spells 這種 Python串列是一系列的值,欲取得裡面的值,我們必須使用從串列開頭算起的 offcr (偏位值)它的第一個值在offset 0,第四個值則位於offset3"
      ]
    },
    {
      "cell_type": "markdown",
      "metadata": {
        "id": "AbUPAELqATYB"
      },
      "source": [
        "# 範例1-3  \n",
        "程式會印出 Three Stooges 喜劇中的一句話,不過這段程式用說那句話的人來引用,而不是用那句話在的位置。"
      ]
    },
    {
      "cell_type": "code",
      "metadata": {
        "id": "4SoErJBYArDY",
        "outputId": "aeae6c45-9467-443b-d5df-74a4e84e667a",
        "colab": {
          "base_uri": "https://localhost:8080/",
          "height": 34
        }
      },
      "source": [
        "quotes ={\n",
        "    \"Moe\": \"A wise guy, huh?\",\n",
        "    \"Larry\": \"Ow!\",\n",
        "    \"Curly\": \"Nyuk nyuk!\",\n",
        "  }\n",
        "stooge =\"Curly\"\n",
        "print(stooge, \"says:\", quotes[stooge])"
      ],
      "execution_count": null,
      "outputs": [
        {
          "output_type": "stream",
          "text": [
            "Curly says: Nyuk nyuk!\n"
          ],
          "name": "stdout"
        }
      ]
    },
    {
      "cell_type": "markdown",
      "metadata": {
        "id": "ZNzD8Gj1Oj9F"
      },
      "source": [
        "## **大一些的程式**\n",
        "\n",
        "接下來要介紹完全不同的東西了:  \n",
        "範例 1-4 是執行一系列比較複雜的任務的Python程式。先不用期望你現在就可以瞭解這段程式如何運作,那是這整本書的目的!這個範例的目的是讓你看一下、感受一下典型的而且有點難度的 Python 程式。  \n",
        "如果你知道其他的電腦語言,可以拿它來比較一下Python。  \n",
        "雖然你還不認識 Python,你可不可以在閱讀程式後面的解釋之前，大概說出每一行程式在做甚麼事情?  \n",
        "你已經看過Python串列和字典的例子了，這個程式加入一些其他的功能。"
      ]
    },
    {
      "cell_type": "markdown",
      "metadata": {
        "id": "36kbriU8QC3t"
      },
      "source": [
        "# 例 1-4 archive.py"
      ]
    },
    {
      "cell_type": "code",
      "metadata": {
        "id": "jJhlNoQFQBfs",
        "outputId": "16b42f46-b9ae-457a-b6b3-72c7014936ab",
        "colab": {
          "base_uri": "https://localhost:8080/",
          "height": 101
        }
      },
      "source": [
        "import webbrowser\n",
        "import json\n",
        "from urllib.request import urlopen\n",
        "\n",
        "print(\"Let's find an old website.\")\n",
        "site = input (\"Type a website URL:\")\n",
        "era = input (\"Type a year, month, and day, like 20150613: \")\n",
        "url = \"http://archive.org/wayback/available?url=%s&timestamp=%s\" % (site, era)\n",
        "response = urlopen(url)\n",
        "contents = response.read()\n",
        "text = contents.decode(\"utf-8\")\n",
        "data = json.loads(text)\n",
        "try:\n",
        "  old_site = data[\"archived_snapshots\" ][\"closest\"][\"url\"]\n",
        "  print (\"Found this copy: \", old_site)\n",
        "  print(\"It should appear in your browsernow.\")\n",
        "  webbrowser.open(old_site)\n",
        "\n",
        "except:\n",
        "  print(\"Sorry, no luck finding\", site)"
      ],
      "execution_count": null,
      "outputs": [
        {
          "output_type": "stream",
          "text": [
            "Let's find an old website.\n",
            "Type a website URL:lolcats.com\n",
            "Type a year, month, and day, like 20150613: 20151022\n",
            "Found this copy:  http://web.archive.org/web/20151023052507/http://www.lolcats.com:80/\n",
            "It should appear in your browsernow.\n"
          ],
          "name": "stdout"
        }
      ]
    },
    {
      "cell_type": "markdown",
      "metadata": {
        "id": "CXzoBF0qRG-9"
      },
      "source": [
        "這一小段Python程式用易懂的程式做了 多事情。雖然你選不知道所有的詞彙。 但接下來的幾章會給你認識它 。以下是每一行做的事情:   \n",
        "  \n",
        "1.   匯入的所有程式。(讓這段程式可用) Python 標準程式庫模組 webbrowser\n",
        "2.   匯入Python 標準程式模組 json 的所有程式。 \n",
        "3.只從標準程式庫模組 url1ib.request 匯入urlopen a式。\n",
        "4.空的一行,因為不希望 演程式看起來很擁擠。\n",
        "5在螢幕上印出一些初始文字。\n",
        "6. 印出調問URL的文字,並取你輸入的文字, 並將它存入一個稱為 site 7. 印出另一個問題,這一次讀取年、月與日 ,並將它存入一個稱為era 的變数。\n",
        "7.印出另一個問題，這一次讀取年、月與日，並將它存入一個稱為era 的變数。\n",
        "8.建立一個稱為url的字串變數,來談Wayback Machine 可用來尋找該網站在你輸入的日期的複本。\n",
        "9.連接該在URL的web 同服器,並請求持定的 web 服務。\n",
        "10.取得回應資料,並將它指派給contents 變數。\n",
        "11. 將contents 解碼成JSON 格式的字串,再指派給 text 變数數。 12.將text 轉換成 data Python 資料結構。\n",
        "13. 檢查錯誤try(試著)執行接下來的四行,如果有任何失收,就執行最後一行程式 (在except 後面的)。\n",
        "14.如果我們得到符合日期的網站,從層的 Python字典取得它的值,注意這一行下 三行是粉進來的,Python 用 排來代表它們於上面的try。\n",
        "15. 印田我們找到的URL。\n",
        "16. 印出下一行執行之後會發生什麼事。\n",
        "17.在你的离覽器顯示我們找到的URL .\n",
        "18.如果在前四行裡面有任何失敗,Python 就會跳到這裡,\n",
        "19.如果它失敗了,印出一個訊息與我們寻找的網站。這一行內,因為它只能在上面 的except執行時執行。\n",
        "\n",
        "當我在終端機視窗執行它時,我輸入一個網站 URL與個日期,得到這段輸出文字:  \n",
        "$ python archive.py\n",
        "\n",
        "```bash\n",
        "Let's find an old website.  \n",
        "Type a website URL: lolcats.com  \n",
        "Type a year, month, and day, like 20150613: 20151022  \n",
        "Found this copy: http://web.archive.org/web/20151102055938/http://www.lolcats.com/\n",
        "```"
      ]
    },
    {
      "cell_type": "markdown",
      "metadata": {
        "id": "4dd7ETrLb9Sq"
      },
      "source": [
        "# 範例1-5  \n",
        "使用一種稱為 requests 的外部Python軟體包來訪問Internet Archive網站的另種寫法。"
      ]
    },
    {
      "cell_type": "code",
      "metadata": {
        "id": "iReFuHB2cDXa",
        "outputId": "dc56cb6b-ab9f-44cd-c02b-b599a96c0706",
        "colab": {
          "base_uri": "https://localhost:8080/",
          "height": 101
        }
      },
      "source": [
        "import webbrowser\n",
        "import requests\n",
        "\n",
        "print(\"Let's find an old website. \")\n",
        "site = input (\"Type a website URL: \")\n",
        "era = input(\"Type a year, month, and day, like 20150613: \")\n",
        "url = \"http://archive.org/wayback/available?url=%s&timestamp=%s\" % (site, era)\n",
        "response =requests.get (url)\n",
        "data = response.json()\n",
        "try:\n",
        "  old_site = data[\"archived_snapshots\"][\"closest\"][\"url\"]\n",
        "  print(\"Found this copy: \", old_site)\n",
        "  print(\"It should appear in your browser now.\")\n",
        "  webbrowser.open(old_site)\n",
        "except:  \n",
        "  print(\"Sorry, no luck finding\", site)"
      ],
      "execution_count": null,
      "outputs": [
        {
          "output_type": "stream",
          "text": [
            "Let's find an old website. \n",
            "Type a website URL: lolcats.com\n",
            "Type a year, month, and day, like 20150613: 20151022\n",
            "Found this copy:  http://web.archive.org/web/20151023052507/http://www.lolcats.com:80/\n",
            "It should appear in your browser now.\n"
          ],
          "name": "stdout"
        }
      ]
    },
    {
      "cell_type": "markdown",
      "metadata": {
        "id": "ROQRITHux8XJ"
      },
      "source": [
        "## 真實世界的Python  \n",
        "那麼,Python 值得你付出時間和精力來學習嗎? Python 在1991年就出現了(比Java老,比C年輕),一直以來都在最流行的電腦語言排行榜的前五名。很多人受僱撰寫Python 程式,那些程式都是你每天都會用到的正式作品,例如Google、YouTube、Instagram、Netflix與Hulu 我也在許多領域中,用它來製作產品，Python以極高的生產力而聞名吸引了發展快速的組織。  \n",
        "你可以在許多電腦環境中找到Python包括:  \n",
        "*   監視器或終端機視窗裡面的命令列\n",
        "*   圖形化使用者介面(GUI),包括web\n",
        "*   web,包括用戶端與伺服器端\n",
        "*   支援大型熱門網站的後端伺服器\n",
        "*   雲端(由第三方管理的伺服器)\n",
        "*   行動裝置\n",
        "*   嵌入式裝置\n",
        "  \n",
        "Python 程式包括一次性的腳本(例如在本章出現過的那些),和上百萬行的系統\n",
        "在2018年的 Python Developers' Survey (hutps://oreilly8vkZy)裡面,你可以看到代表 Python 目前在電腦世界的地位的數據和圖表。\n",
        "\n",
        "我們將會看到它在網站、系統管理和資料操作之中的應用,在最後幾章,我們將會看到Python 在藝術、科學和商業領域中的具體用途。"
      ]
    }
  ]
}