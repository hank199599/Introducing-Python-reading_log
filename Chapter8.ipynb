{
  "nbformat": 4,
  "nbformat_minor": 0,
  "metadata": {
    "colab": {
      "name": "Chapter8.ipynb",
      "provenance": [],
      "toc_visible": true,
      "authorship_tag": "ABX9TyPpAx1aYwWJbs4NWcatl5XU",
      "include_colab_link": true
    },
    "kernelspec": {
      "name": "python3",
      "display_name": "Python 3"
    }
  },
  "cells": [
    {
      "cell_type": "markdown",
      "metadata": {
        "id": "view-in-github",
        "colab_type": "text"
      },
      "source": [
        "<a href=\"https://colab.research.google.com/github/hank199599/Introducing-Python-reading_log/blob/main/Chapter8.ipynb\" target=\"_parent\"><img src=\"https://colab.research.google.com/assets/colab-badge.svg\" alt=\"Open In Colab\"/></a>"
      ]
    },
    {
      "cell_type": "markdown",
      "metadata": {
        "id": "cejEAyyAFe9V"
      },
      "source": [
        "# 字典 (dictionary)\n",
        "為每一個值指定一個獨一無二的鍵值\n",
        "```\n",
        "{\"鍵\":\"值\"}\n",
        "```"
      ]
    },
    {
      "cell_type": "markdown",
      "metadata": {
        "id": "HjW8JL1GFyXj"
      },
      "source": [
        "## 建立"
      ]
    },
    {
      "cell_type": "markdown",
      "metadata": {
        "id": "3shc6fGXF1rT"
      },
      "source": [
        "### { }"
      ]
    },
    {
      "cell_type": "code",
      "metadata": {
        "id": "lfL7GZYiF7wb",
        "colab": {
          "base_uri": "https://localhost:8080/"
        },
        "outputId": "35291f70-4679-427f-c890-6161f0fddc9d"
      },
      "source": [
        "bierce={\n",
        "    \"day\":\"A period of twenty-four hours, mostly misspent.\",\n",
        "    \"positive\":\"Mistaken at the top of one's voice\",\n",
        "    \"misfortune\":\"The kind of fortune that never misses\"\n",
        "}\n",
        "bierce"
      ],
      "execution_count": null,
      "outputs": [
        {
          "output_type": "execute_result",
          "data": {
            "text/plain": [
              "{'day': 'A period of twenty-four hours, mostly misspent.',\n",
              " 'misfortune': 'The kind of fortune that never misses',\n",
              " 'positive': \"Mistaken at the top of one's voice\"}"
            ]
          },
          "metadata": {
            "tags": []
          },
          "execution_count": 96
        }
      ]
    },
    {
      "cell_type": "markdown",
      "metadata": {
        "id": "dxS8QzOrGuMq"
      },
      "source": [
        "### dict()\n",
        "將雙值序列轉換到字典裏面"
      ]
    },
    {
      "cell_type": "code",
      "metadata": {
        "id": "jNRR6_lvHK_K",
        "colab": {
          "base_uri": "https://localhost:8080/"
        },
        "outputId": "2280a300-a6b3-49aa-a08b-e296abcdd515"
      },
      "source": [
        "acme_customer=dict(first=\"Wile\",moddle=\"E\",last=\"Coyote\")\n",
        "acme_customer"
      ],
      "execution_count": null,
      "outputs": [
        {
          "output_type": "execute_result",
          "data": {
            "text/plain": [
              "{'first': 'Wile', 'last': 'Coyote', 'moddle': 'E'}"
            ]
          },
          "metadata": {
            "tags": []
          },
          "execution_count": 97
        }
      ]
    },
    {
      "cell_type": "code",
      "metadata": {
        "id": "oNz4AJ5xHaR6",
        "colab": {
          "base_uri": "https://localhost:8080/"
        },
        "outputId": "3422f711-dc59-4f2b-840c-25b5935ca6ec"
      },
      "source": [
        "lot=[['a','b'],['c','d'],['e','f']]\n",
        "dict(lot)"
      ],
      "execution_count": null,
      "outputs": [
        {
          "output_type": "execute_result",
          "data": {
            "text/plain": [
              "{'a': 'b', 'c': 'd', 'e': 'f'}"
            ]
          },
          "metadata": {
            "tags": []
          },
          "execution_count": 98
        }
      ]
    },
    {
      "cell_type": "code",
      "metadata": {
        "id": "iMfgb6_hH59q",
        "colab": {
          "base_uri": "https://localhost:8080/"
        },
        "outputId": "d79e97ac-7994-4651-9864-f09f1b8d0008"
      },
      "source": [
        "lot=[('a','b'),('c','d'),('e','f')]\n",
        "dict(lot)"
      ],
      "execution_count": null,
      "outputs": [
        {
          "output_type": "execute_result",
          "data": {
            "text/plain": [
              "{'a': 'b', 'c': 'd', 'e': 'f'}"
            ]
          },
          "metadata": {
            "tags": []
          },
          "execution_count": 99
        }
      ]
    },
    {
      "cell_type": "code",
      "metadata": {
        "id": "j2HAjn-rIACS",
        "colab": {
          "base_uri": "https://localhost:8080/"
        },
        "outputId": "26caa26a-9864-4786-e2a1-8aa07e0cd830"
      },
      "source": [
        "lot=['ab','cd','ef']\n",
        "dict(lot)"
      ],
      "execution_count": null,
      "outputs": [
        {
          "output_type": "execute_result",
          "data": {
            "text/plain": [
              "{'a': 'b', 'c': 'd', 'e': 'f'}"
            ]
          },
          "metadata": {
            "tags": []
          },
          "execution_count": 100
        }
      ]
    },
    {
      "cell_type": "code",
      "metadata": {
        "id": "mN1W5cWmIExC",
        "colab": {
          "base_uri": "https://localhost:8080/"
        },
        "outputId": "a48cc865-871e-40d7-9378-cac19022e32e"
      },
      "source": [
        "lot=('ab','cd','ef')\n",
        "dict(lot)"
      ],
      "execution_count": null,
      "outputs": [
        {
          "output_type": "execute_result",
          "data": {
            "text/plain": [
              "{'a': 'b', 'c': 'd', 'e': 'f'}"
            ]
          },
          "metadata": {
            "tags": []
          },
          "execution_count": 101
        }
      ]
    },
    {
      "cell_type": "code",
      "metadata": {
        "id": "nXy_x7aeo3Zc"
      },
      "source": [
        "x = dict(name=\"Elmer\",def=\"hunter\")"
      ],
      "execution_count": null,
      "outputs": []
    },
    {
      "cell_type": "markdown",
      "metadata": {
        "id": "BLifXGmMVImR"
      },
      "source": [
        "### 生成式\n",
        "\n",
        "\n",
        "```\n",
        "{key_expression: value_expression for expression in iterable if condition}\n",
        "```\n",
        "\n"
      ]
    },
    {
      "cell_type": "code",
      "metadata": {
        "id": "QAdp1gR7VK25",
        "colab": {
          "base_uri": "https://localhost:8080/"
        },
        "outputId": "751adcb6-6793-4594-b6cc-f403f347aa1c"
      },
      "source": [
        "word='letters'\n",
        "letter_counts={letter:word.count(letter) for letter in set(word)}\n",
        "letter_counts"
      ],
      "execution_count": null,
      "outputs": [
        {
          "output_type": "execute_result",
          "data": {
            "text/plain": [
              "{'e': 2, 'l': 1, 'r': 1, 's': 1, 't': 2}"
            ]
          },
          "metadata": {
            "tags": []
          },
          "execution_count": 102
        }
      ]
    },
    {
      "cell_type": "code",
      "metadata": {
        "id": "-Kht5PzEW8dw"
      },
      "source": [
        "vowels='aeiou'\n",
        "word='ono'"
      ],
      "execution_count": null,
      "outputs": []
    },
    {
      "cell_type": "markdown",
      "metadata": {
        "id": "ZNlkaYpAH4fK"
      },
      "source": [
        "## 加入或改變項目\n"
      ]
    },
    {
      "cell_type": "code",
      "metadata": {
        "id": "s8xJROQoIP-i",
        "colab": {
          "base_uri": "https://localhost:8080/"
        },
        "outputId": "bd058980-1e0a-4b34-c6a4-4fdc0d4cde8b"
      },
      "source": [
        "pythons={\n",
        "  \"Chapman\":\"Graham\",\n",
        "  \"Cleese\":\"John\",\n",
        "  \"Idle\":\"Eric\",\n",
        "  \"Jones\":\"Terry\", \n",
        "  \"Palin\":\"Michael\"      \n",
        "}\n",
        "pythons['Gilliam']='Gerry'\n",
        "pythons"
      ],
      "execution_count": null,
      "outputs": [
        {
          "output_type": "execute_result",
          "data": {
            "text/plain": [
              "{'Chapman': 'Graham',\n",
              " 'Cleese': 'John',\n",
              " 'Gilliam': 'Gerry',\n",
              " 'Idle': 'Eric',\n",
              " 'Jones': 'Terry',\n",
              " 'Palin': 'Michael'}"
            ]
          },
          "metadata": {
            "tags": []
          },
          "execution_count": 104
        }
      ]
    },
    {
      "cell_type": "code",
      "metadata": {
        "id": "sPNjX-BFI4fa",
        "colab": {
          "base_uri": "https://localhost:8080/"
        },
        "outputId": "007a41b3-98ae-4bdc-e814-d6b233c5b3a8"
      },
      "source": [
        "pythons['Gilliam']='Terry'\n",
        "pythons"
      ],
      "execution_count": null,
      "outputs": [
        {
          "output_type": "execute_result",
          "data": {
            "text/plain": [
              "{'Chapman': 'Graham',\n",
              " 'Cleese': 'John',\n",
              " 'Gilliam': 'Terry',\n",
              " 'Idle': 'Eric',\n",
              " 'Jones': 'Terry',\n",
              " 'Palin': 'Michael'}"
            ]
          },
          "metadata": {
            "tags": []
          },
          "execution_count": 105
        }
      ]
    },
    {
      "cell_type": "markdown",
      "metadata": {
        "id": "OF4rO4SdI-YD"
      },
      "source": [
        "## 取得項目"
      ]
    },
    {
      "cell_type": "markdown",
      "metadata": {
        "id": "Yg4BkT1RJ8oS"
      },
      "source": [
        "### [key]"
      ]
    },
    {
      "cell_type": "code",
      "metadata": {
        "id": "wfsofXMLI7Da",
        "colab": {
          "base_uri": "https://localhost:8080/",
          "height": 35
        },
        "outputId": "9457c6d3-ce61-4f44-b319-79a7a75bd756"
      },
      "source": [
        "some_pythons={\n",
        "  \"Graham\":\"Chapman\",\n",
        "  \"John\":\"Cleese\",\n",
        "  \"Eric\":\"Idle\",\n",
        "  \"Terry\":\"Jones\", \n",
        "  \"Michael\":\"Palin\",     \n",
        "}\n",
        "some_pythons[\"John\"]"
      ],
      "execution_count": null,
      "outputs": [
        {
          "output_type": "execute_result",
          "data": {
            "application/vnd.google.colaboratory.intrinsic+json": {
              "type": "string"
            },
            "text/plain": [
              "'Cleese'"
            ]
          },
          "metadata": {
            "tags": []
          },
          "execution_count": 106
        }
      ]
    },
    {
      "cell_type": "markdown",
      "metadata": {
        "id": "xy_4L8gMJwwF"
      },
      "source": [
        "若在字典中檢索不到指定的鍵值，會回傳**例外**"
      ]
    },
    {
      "cell_type": "code",
      "metadata": {
        "id": "TtRpw3JWKCH6",
        "colab": {
          "base_uri": "https://localhost:8080/",
          "height": 165
        },
        "outputId": "36af1272-27b2-4881-998a-630cc0aa128f"
      },
      "source": [
        "some_pythons[\"Groucho\"]"
      ],
      "execution_count": null,
      "outputs": [
        {
          "output_type": "error",
          "ename": "KeyError",
          "evalue": "ignored",
          "traceback": [
            "\u001b[0;31m---------------------------------------------------------------------------\u001b[0m",
            "\u001b[0;31mKeyError\u001b[0m                                  Traceback (most recent call last)",
            "\u001b[0;32m<ipython-input-107-2621484eba85>\u001b[0m in \u001b[0;36m<module>\u001b[0;34m()\u001b[0m\n\u001b[0;32m----> 1\u001b[0;31m \u001b[0msome_pythons\u001b[0m\u001b[0;34m[\u001b[0m\u001b[0;34m\"Groucho\"\u001b[0m\u001b[0;34m]\u001b[0m\u001b[0;34m\u001b[0m\u001b[0;34m\u001b[0m\u001b[0m\n\u001b[0m",
            "\u001b[0;31mKeyError\u001b[0m: 'Groucho'"
          ]
        }
      ]
    },
    {
      "cell_type": "markdown",
      "metadata": {
        "id": "vMlghcvaKKmh"
      },
      "source": [
        "### get()"
      ]
    },
    {
      "cell_type": "code",
      "metadata": {
        "id": "UVGRoJFIKS8C"
      },
      "source": [
        "some_pythons.get(\"John\")"
      ],
      "execution_count": null,
      "outputs": []
    },
    {
      "cell_type": "markdown",
      "metadata": {
        "id": "TbqB1qrKKd6W"
      },
      "source": [
        "若在字典中檢索不到指定的鍵值，會回傳**None**"
      ]
    },
    {
      "cell_type": "code",
      "metadata": {
        "id": "SjdJ7I5gKd6d"
      },
      "source": [
        "some_pythons.get(\"Groucho\")"
      ],
      "execution_count": null,
      "outputs": []
    },
    {
      "cell_type": "code",
      "metadata": {
        "id": "7hTDia7yKj4K"
      },
      "source": [
        "some_pythons.get(\"Groucho\",\"Not a Python\")"
      ],
      "execution_count": null,
      "outputs": []
    },
    {
      "cell_type": "markdown",
      "metadata": {
        "id": "mrSaEww-LF5j"
      },
      "source": [
        "## 取得鍵值"
      ]
    },
    {
      "cell_type": "markdown",
      "metadata": {
        "id": "AsgkOJY_LNSL"
      },
      "source": [
        "### keys()\n",
        "取得字典的所有鍵  \n",
        "  \n",
        "在 Python2 這個函式會回傳 **串列**，  \n",
        "而 Python3 這個函式會回傳 **dict_keys(**)，\n",
        "若要轉為串列格式需額外呼叫 *list()*"
      ]
    },
    {
      "cell_type": "code",
      "metadata": {
        "id": "tfFnH4P3LjTC"
      },
      "source": [
        "signal={\n",
        "    \"green\":\"go\",\n",
        "    \"yellow\":\"go faster\",\n",
        "    \"red\":\"smile for the camera\"\n",
        "}\n",
        "signal.keys()"
      ],
      "execution_count": null,
      "outputs": []
    },
    {
      "cell_type": "markdown",
      "metadata": {
        "id": "AAcyq4S4MT7E"
      },
      "source": [
        "### values()\n",
        "取得字典的所有值"
      ]
    },
    {
      "cell_type": "code",
      "metadata": {
        "id": "gVHUDj40NYIh"
      },
      "source": [
        "list(signal.values())"
      ],
      "execution_count": null,
      "outputs": []
    },
    {
      "cell_type": "markdown",
      "metadata": {
        "id": "2zpZHsu6NgWa"
      },
      "source": [
        "### items()\n",
        "取得每一對鍵/值"
      ]
    },
    {
      "cell_type": "code",
      "metadata": {
        "id": "Zr08OCo5NlUk"
      },
      "source": [
        "list(signal.items())"
      ],
      "execution_count": null,
      "outputs": []
    },
    {
      "cell_type": "markdown",
      "metadata": {
        "id": "gEwk25sDNpO6"
      },
      "source": [
        "## 取得長度：len()"
      ]
    },
    {
      "cell_type": "code",
      "metadata": {
        "id": "QZ2HHR9KNrOp"
      },
      "source": [
        "len(signal)"
      ],
      "execution_count": null,
      "outputs": []
    },
    {
      "cell_type": "markdown",
      "metadata": {
        "id": "xm0vvk-ONzCh"
      },
      "source": [
        "## 結合字典"
      ]
    },
    {
      "cell_type": "markdown",
      "metadata": {
        "id": "nN0Bso34N1ca"
      },
      "source": [
        "### {**a,**b}\n",
        "\n",
        "建立**淺**副本"
      ]
    },
    {
      "cell_type": "code",
      "metadata": {
        "id": "HE32q4FvN6Dx"
      },
      "source": [
        "first={\"a\":\"agony\",\"b\":\"bliss\"}\n",
        "second={\"b\":\"bagels\",\"c\":\"candy\"}\n",
        "{**first,**second}"
      ],
      "execution_count": null,
      "outputs": []
    },
    {
      "cell_type": "markdown",
      "metadata": {
        "id": "twpU-jM_OYzp"
      },
      "source": [
        "### update()\n",
        "將一個字典的鍵與值複製到另一個"
      ]
    },
    {
      "cell_type": "code",
      "metadata": {
        "id": "Jo0ho77mOg4p"
      },
      "source": [
        "pythons={\n",
        "  \"Chapman\":\"Graham\",\n",
        "  \"Cleese\":\"John\",\n",
        "  'Gilliam': 'Terry',\n",
        "  \"Idle\":\"Eric\",\n",
        "  \"Jones\":\"Terry\",\n",
        "  \"Palin\":\"Michael\"      \n",
        "}\n",
        "others={\n",
        "    \"Marx\":\"Groucho\",\n",
        "    \"Howard\":\"Moe\"\n",
        "}\n",
        "pythons.update(others)\n",
        "pythons"
      ],
      "execution_count": null,
      "outputs": []
    },
    {
      "cell_type": "markdown",
      "metadata": {
        "id": "pGFZjKHgPKTB"
      },
      "source": [
        "## 刪除項目"
      ]
    },
    {
      "cell_type": "markdown",
      "metadata": {
        "id": "7kxx7NmCPOvC"
      },
      "source": [
        "### del()"
      ]
    },
    {
      "cell_type": "code",
      "metadata": {
        "id": "L2iqHsFnPUfZ"
      },
      "source": [
        "pythons={\n",
        "    'Chapman': 'Graham',\n",
        "    'Cleese': 'John',\n",
        "    'Gilliam': 'Terry',\n",
        "    'Howard': 'Moe',\n",
        "    'Idle': 'Eric',\n",
        "    'Jones': 'Terry',\n",
        "    'Marx': 'Groucho',\n",
        "    'Palin': 'Michael'\n",
        "  }\n",
        "del pythons['Marx']\n",
        "pythons"
      ],
      "execution_count": null,
      "outputs": []
    },
    {
      "cell_type": "markdown",
      "metadata": {
        "id": "TG09fxnvPrNs"
      },
      "source": [
        "### pop()\n",
        "\n",
        "get() 跟 del 的結合  \n",
        "若鍵不存在，則會回傳例外\n"
      ]
    },
    {
      "cell_type": "code",
      "metadata": {
        "id": "o6UJ7RZwO3P1"
      },
      "source": [
        "pythons={\n",
        "    'Chapman': 'Graham',\n",
        "    'Cleese': 'John',\n",
        "    'Gilliam': 'Terry',\n",
        "    'Howard': 'Moe',\n",
        "    'Idle': 'Eric',\n",
        "    'Jones': 'Terry',\n",
        "    'Marx': 'Groucho',\n",
        "    'Palin': 'Michael'\n",
        "  }\n",
        "pythons.pop('Palin')\n",
        "pythons"
      ],
      "execution_count": null,
      "outputs": []
    },
    {
      "cell_type": "markdown",
      "metadata": {
        "id": "LurxwyLeQI7r"
      },
      "source": [
        "### clear()"
      ]
    },
    {
      "cell_type": "code",
      "metadata": {
        "id": "AdwmRMpsQLVt"
      },
      "source": [
        "pythons={\n",
        "    'Chapman': 'Graham',\n",
        "    'Cleese': 'John',\n",
        "    'Gilliam': 'Terry',\n",
        "    'Howard': 'Moe',\n",
        "    'Idle': 'Eric',\n",
        "    'Jones': 'Terry',\n",
        "    'Marx': 'Groucho',\n",
        "    'Palin': 'Michael'\n",
        "  }\n",
        "pythons.clear()\n",
        "pythons"
      ],
      "execution_count": null,
      "outputs": []
    },
    {
      "cell_type": "markdown",
      "metadata": {
        "id": "XaEoSA9TQQYp"
      },
      "source": [
        "## 「in」：檢測鍵"
      ]
    },
    {
      "cell_type": "code",
      "metadata": {
        "id": "N7I2Cd3bQSwR"
      },
      "source": [
        "pythons={\n",
        "    'Chapman': 'Graham',\n",
        "    'Cleese': 'John',\n",
        "    'Gilliam': 'Terry',\n",
        "    'Howard': 'Moe',\n",
        "    'Idle': 'Eric',\n",
        "  }\n",
        "'Chapman' in pythons"
      ],
      "execution_count": null,
      "outputs": []
    },
    {
      "cell_type": "markdown",
      "metadata": {
        "id": "jCXPrWyEQhmZ"
      },
      "source": [
        "## 「=」：賦值\n",
        "改變字典時，改變的地方會反映在所有他參考的名稱上"
      ]
    },
    {
      "cell_type": "code",
      "metadata": {
        "id": "kZSrHPsYQzAi"
      },
      "source": [
        "signals={\n",
        "    \"green\":\"go\",\n",
        "    \"yellow\":\"go faster\",\n",
        "    \"red\":\"smile for the camera\"\n",
        "}\n",
        "save_singals=signals\n",
        "signals['blue']='confuse everyone'\n",
        "save_singals"
      ],
      "execution_count": null,
      "outputs": []
    },
    {
      "cell_type": "markdown",
      "metadata": {
        "id": "AtSj2tWQRatZ"
      },
      "source": [
        "## 複製字典\r\n",
        "* copy() ： call by address\r\n",
        "* deepcopy() ： call by value\r\n",
        "  \r\n",
        "![](https://pic.pimg.tw/chankuangkuang/1475335338-2982941007.gif)"
      ]
    },
    {
      "cell_type": "markdown",
      "metadata": {
        "id": "9t_q4a16Rcm5"
      },
      "source": [
        "### copy() \r\n",
        "只複製索引，物件本身參照到同一個"
      ]
    },
    {
      "cell_type": "code",
      "metadata": {
        "id": "PFpiR5SrReR5"
      },
      "source": [
        "signals={\n",
        "    \"green\":\"go\",\n",
        "    \"yellow\":\"go faster\",\n",
        "    \"red\":\"smile for the camera\"\n",
        "}\n",
        "original_signals=signals.copy()\n",
        "signals['blue']='confuse everyone'\n",
        "print(signals)\n",
        "print(original_signals)"
      ],
      "execution_count": null,
      "outputs": []
    },
    {
      "cell_type": "markdown",
      "metadata": {
        "id": "ZVBTzIn4R1K5"
      },
      "source": [
        "### deepcopy()\r\n",
        "複製的物件完全與原本的物件無關，相互獨立"
      ]
    },
    {
      "cell_type": "code",
      "metadata": {
        "id": "uceU68oGR4RB"
      },
      "source": [
        "import copy\n",
        "signals={\n",
        "    \"green\":\"go\",\n",
        "    \"yellow\":\"go faster\",\n",
        "    \"red\":[\"stop\",\"smile\"]\n",
        "}\n",
        "signals_copy=copy.deepcopy(signals)\n",
        "print(signals)\n",
        "print(signals_copy)\n",
        "signals['red'][1]='sweat'\n",
        "print(signals)\n",
        "print(signals_copy)"
      ],
      "execution_count": null,
      "outputs": []
    },
    {
      "cell_type": "markdown",
      "metadata": {
        "id": "wmP9FA-hSwqQ"
      },
      "source": [
        "## 比較字典\n",
        "* ==\n",
        "* !=\n",
        "  \n",
        "  其餘運算子沒有效果"
      ]
    },
    {
      "cell_type": "code",
      "metadata": {
        "id": "R4S2E4x_T3XN"
      },
      "source": [
        "a={1:1,2:2,3:3}\n",
        "b={3:3,1:1,2:2}\n",
        "a==b"
      ],
      "execution_count": null,
      "outputs": []
    },
    {
      "cell_type": "code",
      "metadata": {
        "id": "Z-Mdpty7UDJB"
      },
      "source": [
        "a={1:1,2:2,3:3}\n",
        "b={3:3,1:1,2:2}\n",
        "a<=b"
      ],
      "execution_count": null,
      "outputs": []
    },
    {
      "cell_type": "markdown",
      "metadata": {
        "id": "MRXPr4wFUI5h"
      },
      "source": [
        "## 迭代項目\n"
      ]
    },
    {
      "cell_type": "markdown",
      "metadata": {
        "id": "RD4DDoAFUoXE"
      },
      "source": [
        "迭代字典預設會回傳鍵"
      ]
    },
    {
      "cell_type": "code",
      "metadata": {
        "id": "sv1x0tElUP6g"
      },
      "source": [
        "accusation={\n",
        "    \"room\":\"ballroom\",\n",
        "    \"weapon\":\"lead pipe\",\n",
        "    \"person\":\"Col. Mustard\"\n",
        "}\n",
        "for card in accusation:\n",
        "  print(card)"
      ],
      "execution_count": null,
      "outputs": []
    },
    {
      "cell_type": "markdown",
      "metadata": {
        "id": "FwCJIaFWUnzg"
      },
      "source": [
        "若要迭代值，則要使用values()"
      ]
    },
    {
      "cell_type": "code",
      "metadata": {
        "id": "NdkQWvj5UxT4"
      },
      "source": [
        "for card in accusation.values():\n",
        "  print(card)"
      ],
      "execution_count": null,
      "outputs": []
    },
    {
      "cell_type": "markdown",
      "metadata": {
        "id": "a0DNYkLIU9Ut"
      },
      "source": [
        "若要迭代鍵值對，則要使用items()"
      ]
    },
    {
      "cell_type": "code",
      "metadata": {
        "id": "8qVSht2vU9U1"
      },
      "source": [
        "for card in accusation.items():\n",
        "  print(card)"
      ],
      "execution_count": null,
      "outputs": []
    },
    {
      "cell_type": "markdown",
      "metadata": {
        "id": "kg5_cRKCYhkv"
      },
      "source": [
        "# 集合 (set)"
      ]
    },
    {
      "cell_type": "markdown",
      "metadata": {
        "id": "l3CokCh0aMWX"
      },
      "source": [
        "## 建立集合"
      ]
    },
    {
      "cell_type": "markdown",
      "metadata": {
        "id": "xrj7zt0baO2H"
      },
      "source": [
        "### { }\n",
        "在大括號中放入一或多個以逗號分開的值\n"
      ]
    },
    {
      "cell_type": "code",
      "metadata": {
        "id": "-8XeMLxfaEAH"
      },
      "source": [
        "even_numbers={0,2,4,6,8}"
      ],
      "execution_count": null,
      "outputs": []
    },
    {
      "cell_type": "markdown",
      "metadata": {
        "id": "41dHVLo3YjcA"
      },
      "source": [
        "### set()\n",
        "建立或轉換其他資料格式為集合的資料型態"
      ]
    },
    {
      "cell_type": "code",
      "metadata": {
        "id": "D_lbQperZ9nD",
        "colab": {
          "base_uri": "https://localhost:8080/"
        },
        "outputId": "2b499bda-564a-470d-ed7d-40a8ad2d44e8"
      },
      "source": [
        "empty_set=set()\n",
        "empty_set"
      ],
      "execution_count": null,
      "outputs": [
        {
          "output_type": "execute_result",
          "data": {
            "text/plain": [
              "set()"
            ]
          },
          "metadata": {
            "tags": []
          },
          "execution_count": 54
        }
      ]
    },
    {
      "cell_type": "code",
      "metadata": {
        "id": "TPbfh-vfaZzG",
        "colab": {
          "base_uri": "https://localhost:8080/"
        },
        "outputId": "83868b4b-8249-4660-82b4-1481c7a1bea7"
      },
      "source": [
        "set('letters')"
      ],
      "execution_count": null,
      "outputs": [
        {
          "output_type": "execute_result",
          "data": {
            "text/plain": [
              "{'e', 'l', 'r', 's', 't'}"
            ]
          },
          "metadata": {
            "tags": []
          },
          "execution_count": 56
        }
      ]
    },
    {
      "cell_type": "code",
      "metadata": {
        "id": "DMVOU7GudECm",
        "colab": {
          "base_uri": "https://localhost:8080/"
        },
        "outputId": "0e03fa8c-d5d9-4470-c35a-7d46cf8e4c12"
      },
      "source": [
        "set(['Dasher','Dancer','Prancer','Mason-Dixon'])"
      ],
      "execution_count": null,
      "outputs": [
        {
          "output_type": "execute_result",
          "data": {
            "text/plain": [
              "{'Dancer', 'Dasher', 'Mason-Dixon', 'Prancer'}"
            ]
          },
          "metadata": {
            "tags": []
          },
          "execution_count": 57
        }
      ]
    },
    {
      "cell_type": "code",
      "metadata": {
        "id": "wqpW3FSMdS3u",
        "colab": {
          "base_uri": "https://localhost:8080/"
        },
        "outputId": "4f18d283-9957-433f-f88c-44cac684de40"
      },
      "source": [
        "set(('Ummagumma','Echoes','Atom Heart Mother'))"
      ],
      "execution_count": null,
      "outputs": [
        {
          "output_type": "execute_result",
          "data": {
            "text/plain": [
              "{'Atom Heart Mother', 'Echoes', 'Ummagumma'}"
            ]
          },
          "metadata": {
            "tags": []
          },
          "execution_count": 58
        }
      ]
    },
    {
      "cell_type": "markdown",
      "metadata": {
        "id": "RFbbgbQgdhwm"
      },
      "source": [
        "當字典輸入set()時，只會採用鍵來建立集合："
      ]
    },
    {
      "cell_type": "code",
      "metadata": {
        "id": "aLVVYSFGdq-3",
        "colab": {
          "base_uri": "https://localhost:8080/"
        },
        "outputId": "f633fe80-fa5b-4efc-bab0-d1624279c74b"
      },
      "source": [
        "set({'apple':\"red\",\"orange\":\"orange\",\"cherry\":\"red\"})"
      ],
      "execution_count": null,
      "outputs": [
        {
          "output_type": "execute_result",
          "data": {
            "text/plain": [
              "{'apple', 'cherry', 'orange'}"
            ]
          },
          "metadata": {
            "tags": []
          },
          "execution_count": 59
        }
      ]
    },
    {
      "cell_type": "markdown",
      "metadata": {
        "id": "X5TnVXhpkkgX"
      },
      "source": [
        "### 生成式\n",
        "\n",
        "```\n",
        "{expression for expression in iterable if condition}\n",
        "```\n",
        "\n"
      ]
    },
    {
      "cell_type": "code",
      "metadata": {
        "id": "M-a7n9y9knH4",
        "colab": {
          "base_uri": "https://localhost:8080/"
        },
        "outputId": "fa4677ab-cf70-405d-dca7-d65a7e7f1681"
      },
      "source": [
        "a_set={number for number in range(1,6) if number%3==1}\n",
        "a_set"
      ],
      "execution_count": null,
      "outputs": [
        {
          "output_type": "execute_result",
          "data": {
            "text/plain": [
              "{1, 4}"
            ]
          },
          "metadata": {
            "tags": []
          },
          "execution_count": 93
        }
      ]
    },
    {
      "cell_type": "markdown",
      "metadata": {
        "id": "ObnFUc1ok9il"
      },
      "source": [
        "## 建立不可變集合 frozenset()"
      ]
    },
    {
      "cell_type": "code",
      "metadata": {
        "id": "hcwrAtjxlEM-",
        "colab": {
          "base_uri": "https://localhost:8080/",
          "height": 182
        },
        "outputId": "f3e57750-b516-45dc-8fea-0988570b1643"
      },
      "source": [
        "fs=frozenset([3,2,1])\n",
        "fs.add(4)"
      ],
      "execution_count": null,
      "outputs": [
        {
          "output_type": "error",
          "ename": "AttributeError",
          "evalue": "ignored",
          "traceback": [
            "\u001b[0;31m---------------------------------------------------------------------------\u001b[0m",
            "\u001b[0;31mAttributeError\u001b[0m                            Traceback (most recent call last)",
            "\u001b[0;32m<ipython-input-95-05c0a18877bf>\u001b[0m in \u001b[0;36m<module>\u001b[0;34m()\u001b[0m\n\u001b[1;32m      1\u001b[0m \u001b[0mfs\u001b[0m\u001b[0;34m=\u001b[0m\u001b[0mfrozenset\u001b[0m\u001b[0;34m(\u001b[0m\u001b[0;34m[\u001b[0m\u001b[0;36m3\u001b[0m\u001b[0;34m,\u001b[0m\u001b[0;36m2\u001b[0m\u001b[0;34m,\u001b[0m\u001b[0;36m1\u001b[0m\u001b[0;34m]\u001b[0m\u001b[0;34m)\u001b[0m\u001b[0;34m\u001b[0m\u001b[0;34m\u001b[0m\u001b[0m\n\u001b[0;32m----> 2\u001b[0;31m \u001b[0mfs\u001b[0m\u001b[0;34m.\u001b[0m\u001b[0madd\u001b[0m\u001b[0;34m(\u001b[0m\u001b[0;36m4\u001b[0m\u001b[0;34m)\u001b[0m\u001b[0;34m\u001b[0m\u001b[0;34m\u001b[0m\u001b[0m\n\u001b[0m",
            "\u001b[0;31mAttributeError\u001b[0m: 'frozenset' object has no attribute 'add'"
          ]
        }
      ]
    },
    {
      "cell_type": "markdown",
      "metadata": {
        "id": "gTZ-tOIqd3kn"
      },
      "source": [
        "## 取得長度"
      ]
    },
    {
      "cell_type": "code",
      "metadata": {
        "id": "FbMkh9x1d6sn",
        "colab": {
          "base_uri": "https://localhost:8080/"
        },
        "outputId": "ba722ef9-4554-4447-f365-c9df0350ef2e"
      },
      "source": [
        "reindeer=set(['Dasher','Dancer','Prancer','Mason-Dixon'])\n",
        "len(reindeer)"
      ],
      "execution_count": null,
      "outputs": [
        {
          "output_type": "execute_result",
          "data": {
            "text/plain": [
              "4"
            ]
          },
          "metadata": {
            "tags": []
          },
          "execution_count": 60
        }
      ]
    },
    {
      "cell_type": "markdown",
      "metadata": {
        "id": "KGXgQTPOeFyf"
      },
      "source": [
        "## 加入或刪除項目"
      ]
    },
    {
      "cell_type": "markdown",
      "metadata": {
        "id": "bMrTF11ueP4X"
      },
      "source": [
        "add()"
      ]
    },
    {
      "cell_type": "code",
      "metadata": {
        "id": "e1f82q11eJAm",
        "colab": {
          "base_uri": "https://localhost:8080/"
        },
        "outputId": "2faf0ad7-2cac-475d-dde7-4a767ee1c43e"
      },
      "source": [
        "s=set((1,2,3))\n",
        "print(s)\n",
        "s.add(4)\n",
        "print(s)"
      ],
      "execution_count": null,
      "outputs": [
        {
          "output_type": "stream",
          "text": [
            "{1, 2, 3}\n",
            "{1, 2, 3, 4}\n"
          ],
          "name": "stdout"
        }
      ]
    },
    {
      "cell_type": "markdown",
      "metadata": {
        "id": "0xAn0PWxeRgm"
      },
      "source": [
        "remove()"
      ]
    },
    {
      "cell_type": "code",
      "metadata": {
        "id": "c_zQepBveTKg",
        "colab": {
          "base_uri": "https://localhost:8080/"
        },
        "outputId": "06a86c70-a4bb-4d85-a633-e83de0e3f87f"
      },
      "source": [
        "s=set((1,2,3))\n",
        "s.remove(3)\n",
        "s"
      ],
      "execution_count": null,
      "outputs": [
        {
          "output_type": "execute_result",
          "data": {
            "text/plain": [
              "{1, 2}"
            ]
          },
          "metadata": {
            "tags": []
          },
          "execution_count": 62
        }
      ]
    },
    {
      "cell_type": "markdown",
      "metadata": {
        "id": "8sYMu_lneXE2"
      },
      "source": [
        "## 迭代項目\n",
        "\n"
      ]
    },
    {
      "cell_type": "code",
      "metadata": {
        "id": "NDbRWlYPeoMv",
        "colab": {
          "base_uri": "https://localhost:8080/"
        },
        "outputId": "bb608433-6123-4e04-ac4f-a670fe9ad950"
      },
      "source": [
        "furniture=set(('sofa','ottoman','table'))\n",
        "for piece in furniture:\n",
        "  print(piece)"
      ],
      "execution_count": null,
      "outputs": [
        {
          "output_type": "stream",
          "text": [
            "table\n",
            "sofa\n",
            "ottoman\n"
          ],
          "name": "stdout"
        }
      ]
    },
    {
      "cell_type": "markdown",
      "metadata": {
        "id": "rkdqPmxLe5iv"
      },
      "source": [
        "## 檢測值是否存在"
      ]
    },
    {
      "cell_type": "code",
      "metadata": {
        "id": "nEbKmDVCeoSy",
        "colab": {
          "base_uri": "https://localhost:8080/"
        },
        "outputId": "f17b3df8-d821-46bb-c57b-ec501eb28507"
      },
      "source": [
        "drinks={\n",
        "    \"martini\":{'vodka','vermouth'},\n",
        "    'black russian':{'vodka','kahlua'},\n",
        "    \"white russian\":{'cream','kahlua','vodka'},\n",
        "    'mangattan':{'rye','vermouth','bitters'},\n",
        "    'scvrewdriver':{'orange juice','vodka'}\n",
        "}\n",
        "\n",
        "for name ,contents in drinks.items():\n",
        "  if 'vodka' in contents:\n",
        "    print (name)"
      ],
      "execution_count": null,
      "outputs": [
        {
          "output_type": "stream",
          "text": [
            "martini\n",
            "black russian\n",
            "white russian\n",
            "scvrewdriver\n"
          ],
          "name": "stdout"
        }
      ]
    },
    {
      "cell_type": "markdown",
      "metadata": {
        "id": "29ERcg9zgP67"
      },
      "source": [
        "## 集合運算子"
      ]
    },
    {
      "cell_type": "code",
      "metadata": {
        "id": "ykjjmXSygc53"
      },
      "source": [
        "a={1,2}\n",
        "b={2,3}\n"
      ],
      "execution_count": null,
      "outputs": []
    },
    {
      "cell_type": "markdown",
      "metadata": {
        "id": "kgfU_b_vgT6n"
      },
      "source": [
        "### 交集\n",
        "二個集合都有的成員\n",
        "* &\n",
        "* intersection()"
      ]
    },
    {
      "cell_type": "code",
      "metadata": {
        "id": "IPHMZdCKgh4G",
        "colab": {
          "base_uri": "https://localhost:8080/"
        },
        "outputId": "9a26fda7-b3e5-48a7-e107-be040fd79134"
      },
      "source": [
        "a&b"
      ],
      "execution_count": null,
      "outputs": [
        {
          "output_type": "execute_result",
          "data": {
            "text/plain": [
              "{2}"
            ]
          },
          "metadata": {
            "tags": []
          },
          "execution_count": 68
        }
      ]
    },
    {
      "cell_type": "code",
      "metadata": {
        "id": "aT1bjg5Agi11",
        "colab": {
          "base_uri": "https://localhost:8080/"
        },
        "outputId": "80ff7dd4-81f9-46e7-fa3f-a3003cf784e6"
      },
      "source": [
        "a.intersection(b)"
      ],
      "execution_count": null,
      "outputs": [
        {
          "output_type": "execute_result",
          "data": {
            "text/plain": [
              "{2}"
            ]
          },
          "metadata": {
            "tags": []
          },
          "execution_count": 69
        }
      ]
    },
    {
      "cell_type": "markdown",
      "metadata": {
        "id": "WKrp0HPmgppF"
      },
      "source": [
        "### 聯集\n",
        "屬於二個集合的成員\n",
        "* |\n",
        "* union()"
      ]
    },
    {
      "cell_type": "code",
      "metadata": {
        "id": "lADvIQgMgyjW",
        "colab": {
          "base_uri": "https://localhost:8080/"
        },
        "outputId": "fce101ab-70db-4b6d-fbb2-fd99fd7c42c5"
      },
      "source": [
        "a|b"
      ],
      "execution_count": null,
      "outputs": [
        {
          "output_type": "execute_result",
          "data": {
            "text/plain": [
              "{1, 2, 3}"
            ]
          },
          "metadata": {
            "tags": []
          },
          "execution_count": 71
        }
      ]
    },
    {
      "cell_type": "code",
      "metadata": {
        "id": "XOlwLaRdgzvR",
        "colab": {
          "base_uri": "https://localhost:8080/"
        },
        "outputId": "fe455f95-d2b3-4e1b-c17c-74408b5becb3"
      },
      "source": [
        "a.union(b)"
      ],
      "execution_count": null,
      "outputs": [
        {
          "output_type": "execute_result",
          "data": {
            "text/plain": [
              "{1, 2, 3}"
            ]
          },
          "metadata": {
            "tags": []
          },
          "execution_count": 73
        }
      ]
    },
    {
      "cell_type": "markdown",
      "metadata": {
        "id": "tE_jg6FsghBm"
      },
      "source": [
        "### 差集\n",
        "只屬於第一個集合而不屬於第二個集合的成員\n",
        "* -\n",
        "* difference()"
      ]
    },
    {
      "cell_type": "code",
      "metadata": {
        "id": "aZM6lkGRhDNG",
        "colab": {
          "base_uri": "https://localhost:8080/"
        },
        "outputId": "de05a6ce-f55f-40c9-f0db-ec4075323079"
      },
      "source": [
        "a-b"
      ],
      "execution_count": null,
      "outputs": [
        {
          "output_type": "execute_result",
          "data": {
            "text/plain": [
              "{1}"
            ]
          },
          "metadata": {
            "tags": []
          },
          "execution_count": 75
        }
      ]
    },
    {
      "cell_type": "code",
      "metadata": {
        "id": "lZx1y-qzhEf4",
        "colab": {
          "base_uri": "https://localhost:8080/"
        },
        "outputId": "ba96a494-b870-4def-cfa9-5d999b020420"
      },
      "source": [
        "a.difference()"
      ],
      "execution_count": null,
      "outputs": [
        {
          "output_type": "execute_result",
          "data": {
            "text/plain": [
              "{1, 2}"
            ]
          },
          "metadata": {
            "tags": []
          },
          "execution_count": 76
        }
      ]
    },
    {
      "cell_type": "markdown",
      "metadata": {
        "id": "ByVLeWcIhId3"
      },
      "source": [
        "### 互斥或\n",
        "屬於兩集合但互不隸屬的成員\n",
        "* ^\n",
        "* symmetric_difference()"
      ]
    },
    {
      "cell_type": "code",
      "metadata": {
        "id": "laPHnJZVhRnl",
        "colab": {
          "base_uri": "https://localhost:8080/"
        },
        "outputId": "485a731d-c834-42ec-a5d1-1f970d15f851"
      },
      "source": [
        "a^b"
      ],
      "execution_count": null,
      "outputs": [
        {
          "output_type": "execute_result",
          "data": {
            "text/plain": [
              "{1, 3}"
            ]
          },
          "metadata": {
            "tags": []
          },
          "execution_count": 78
        }
      ]
    },
    {
      "cell_type": "code",
      "metadata": {
        "id": "X4g5CnqChRnt",
        "colab": {
          "base_uri": "https://localhost:8080/"
        },
        "outputId": "35f6e1d8-c1e3-4971-e843-709c0249495b"
      },
      "source": [
        "a.symmetric_difference(b)"
      ],
      "execution_count": null,
      "outputs": [
        {
          "output_type": "execute_result",
          "data": {
            "text/plain": [
              "{1, 3}"
            ]
          },
          "metadata": {
            "tags": []
          },
          "execution_count": 83
        }
      ]
    },
    {
      "cell_type": "markdown",
      "metadata": {
        "id": "NCAo-BlDiFdT"
      },
      "source": [
        "## 集合關係"
      ]
    },
    {
      "cell_type": "markdown",
      "metadata": {
        "id": "7bGxaTLgiH-W"
      },
      "source": [
        "### 子集合\n",
        "第一個集合的成員都屬於第二個集合\n",
        "* <=\n",
        "* issubset()"
      ]
    },
    {
      "cell_type": "code",
      "metadata": {
        "id": "j80bsa2GiWeB",
        "colab": {
          "base_uri": "https://localhost:8080/"
        },
        "outputId": "f3f86bae-d47a-4f06-e32b-43904c03d62d"
      },
      "source": [
        "a<=b"
      ],
      "execution_count": null,
      "outputs": [
        {
          "output_type": "execute_result",
          "data": {
            "text/plain": [
              "False"
            ]
          },
          "metadata": {
            "tags": []
          },
          "execution_count": 85
        }
      ]
    },
    {
      "cell_type": "code",
      "metadata": {
        "id": "20EHp65yiWeV",
        "colab": {
          "base_uri": "https://localhost:8080/"
        },
        "outputId": "1ed023b4-9f06-423e-fd58-688dc7263c14"
      },
      "source": [
        "a.issubset(b)"
      ],
      "execution_count": null,
      "outputs": [
        {
          "output_type": "execute_result",
          "data": {
            "text/plain": [
              "False"
            ]
          },
          "metadata": {
            "tags": []
          },
          "execution_count": 84
        }
      ]
    },
    {
      "cell_type": "markdown",
      "metadata": {
        "id": "KL9Yfh72ieYV"
      },
      "source": [
        "所有集合都是自身的子集合"
      ]
    },
    {
      "cell_type": "code",
      "metadata": {
        "id": "2yLeQ0QGicEW"
      },
      "source": [
        "a<=a"
      ],
      "execution_count": null,
      "outputs": []
    },
    {
      "cell_type": "markdown",
      "metadata": {
        "id": "mA1hhGntikY2"
      },
      "source": [
        "### 真子集 (proper set)\n",
        "第二個集合除了擁有第一個集合的所有成員外，亦擁有其他成員\n",
        "* <\n",
        "\n"
      ]
    },
    {
      "cell_type": "code",
      "metadata": {
        "id": "6iCXwPofjDv2",
        "colab": {
          "base_uri": "https://localhost:8080/"
        },
        "outputId": "f41aba7f-55e2-4e98-876b-0b2e00529f48"
      },
      "source": [
        "a<b"
      ],
      "execution_count": null,
      "outputs": [
        {
          "output_type": "execute_result",
          "data": {
            "text/plain": [
              "False"
            ]
          },
          "metadata": {
            "tags": []
          },
          "execution_count": 86
        }
      ]
    },
    {
      "cell_type": "markdown",
      "metadata": {
        "id": "-x0Kns0pjN1W"
      },
      "source": [
        "### 超集合(superset)\n",
        "第二個集合的所有成員都是第一個集合的成員\n",
        "* \\>=\n",
        "* issuperset() "
      ]
    },
    {
      "cell_type": "code",
      "metadata": {
        "id": "ukCBBeEdjtT4",
        "colab": {
          "base_uri": "https://localhost:8080/"
        },
        "outputId": "ebb3eb76-591f-4c9e-d672-c0f4c461b4d0"
      },
      "source": [
        "a >= b"
      ],
      "execution_count": null,
      "outputs": [
        {
          "output_type": "execute_result",
          "data": {
            "text/plain": [
              "False"
            ]
          },
          "metadata": {
            "tags": []
          },
          "execution_count": 87
        }
      ]
    },
    {
      "cell_type": "code",
      "metadata": {
        "id": "uNeUevwijxUN",
        "colab": {
          "base_uri": "https://localhost:8080/"
        },
        "outputId": "b16590c9-42cb-4902-edb3-1ea3ad0803cd"
      },
      "source": [
        "a.issuperset(b)"
      ],
      "execution_count": null,
      "outputs": [
        {
          "output_type": "execute_result",
          "data": {
            "text/plain": [
              "False"
            ]
          },
          "metadata": {
            "tags": []
          },
          "execution_count": 88
        }
      ]
    },
    {
      "cell_type": "markdown",
      "metadata": {
        "id": "Vfx4pvxEj0wW"
      },
      "source": [
        "每個集合都是自己的超集合"
      ]
    },
    {
      "cell_type": "code",
      "metadata": {
        "id": "CRYErMh5j4Po",
        "colab": {
          "base_uri": "https://localhost:8080/"
        },
        "outputId": "6e5b9684-b297-45d0-d489-52323f452785"
      },
      "source": [
        "a >= a"
      ],
      "execution_count": null,
      "outputs": [
        {
          "output_type": "execute_result",
          "data": {
            "text/plain": [
              "True"
            ]
          },
          "metadata": {
            "tags": []
          },
          "execution_count": 89
        }
      ]
    },
    {
      "cell_type": "code",
      "metadata": {
        "id": "yNs1PpsIj7Ce",
        "colab": {
          "base_uri": "https://localhost:8080/"
        },
        "outputId": "37fe182f-1e6c-4504-d3e1-d82ff5b80cd4"
      },
      "source": [
        "a.issuperset(a)"
      ],
      "execution_count": null,
      "outputs": [
        {
          "output_type": "execute_result",
          "data": {
            "text/plain": [
              "True"
            ]
          },
          "metadata": {
            "tags": []
          },
          "execution_count": 90
        }
      ]
    },
    {
      "cell_type": "markdown",
      "metadata": {
        "id": "CnkUT4b_kG3n"
      },
      "source": [
        "### 真超集合(proper superset)\n",
        "第二個集合除了泳影第一個集合的成員，亦還有其他成員\n",
        "* \\>"
      ]
    },
    {
      "cell_type": "code",
      "metadata": {
        "id": "j0CxbT2HkXpf",
        "colab": {
          "base_uri": "https://localhost:8080/"
        },
        "outputId": "cd5708c9-8b4f-4bc3-fec8-15f3b7274015"
      },
      "source": [
        "a>b"
      ],
      "execution_count": null,
      "outputs": [
        {
          "output_type": "execute_result",
          "data": {
            "text/plain": [
              "False"
            ]
          },
          "metadata": {
            "tags": []
          },
          "execution_count": 91
        }
      ]
    },
    {
      "cell_type": "markdown",
      "metadata": {
        "id": "lsAug2kHkart"
      },
      "source": [
        "集合本身不可能是本身的超集合"
      ]
    },
    {
      "cell_type": "code",
      "metadata": {
        "id": "zlnFU_Eqkgk7",
        "colab": {
          "base_uri": "https://localhost:8080/"
        },
        "outputId": "2d4980d1-0578-46e8-8c7b-28c200a28ca4"
      },
      "source": [
        "a>a"
      ],
      "execution_count": null,
      "outputs": [
        {
          "output_type": "execute_result",
          "data": {
            "text/plain": [
              "False"
            ]
          },
          "metadata": {
            "tags": []
          },
          "execution_count": 92
        }
      ]
    },
    {
      "cell_type": "markdown",
      "metadata": {
        "id": "jYo44ZSclZJR"
      },
      "source": [
        "# 代辦事項"
      ]
    },
    {
      "cell_type": "markdown",
      "metadata": {
        "id": "uwPvOSqOlskZ"
      },
      "source": [
        "### 8.1\n",
        "製作一個名為 e2f 的英法字典,並將它印出。以下是你的初學單字:  \n",
        "dog 是 chien， cat 是 chat，walrus 是 morse。"
      ]
    },
    {
      "cell_type": "code",
      "metadata": {
        "id": "j9sL6PVBoNx_"
      },
      "source": [
        "e2f={\n",
        "    \"dog\":\"chien\",\n",
        "    \"cat\":\"chat\",\n",
        "    \"walrus\":\"morse\"\n",
        "}"
      ],
      "execution_count": null,
      "outputs": []
    },
    {
      "cell_type": "markdown",
      "metadata": {
        "id": "YyjhDYpEl8d5"
      },
      "source": [
        "## 8.2\n",
        "使用你那只有三個單字的字典 e2f 來印出 walrus 的法文單字。"
      ]
    },
    {
      "cell_type": "code",
      "metadata": {
        "id": "R9q358LcoYdF",
        "colab": {
          "base_uri": "https://localhost:8080/"
        },
        "outputId": "dfb65276-56a4-4961-a2da-c8e415eb2ce5"
      },
      "source": [
        "for frence in e2f.values():\n",
        "  print(frence)"
      ],
      "execution_count": null,
      "outputs": [
        {
          "output_type": "stream",
          "text": [
            "chien\n",
            "chat\n",
            "morse\n"
          ],
          "name": "stdout"
        }
      ]
    },
    {
      "cell_type": "markdown",
      "metadata": {
        "id": "Zw5Nd8QMl91j"
      },
      "source": [
        "## 8.3 \n",
        "用e2f來製作法英字典,稱之f2e.使用 items方法。"
      ]
    },
    {
      "cell_type": "code",
      "metadata": {
        "id": "GqOdvnjImRQw",
        "colab": {
          "base_uri": "https://localhost:8080/"
        },
        "outputId": "92cb31b8-37a3-4b84-f868-7b0a57049524"
      },
      "source": [
        "temp=[]\n",
        "for pair in e2f.items():\n",
        "  temp.append(reversed(pair))\n",
        "f2e=dict(temp)\n",
        "f2e"
      ],
      "execution_count": null,
      "outputs": [
        {
          "output_type": "execute_result",
          "data": {
            "text/plain": [
              "{'chat': 'cat', 'chien': 'dog', 'morse': 'walrus'}"
            ]
          },
          "metadata": {
            "tags": []
          },
          "execution_count": 118
        }
      ]
    },
    {
      "cell_type": "markdown",
      "metadata": {
        "id": "pJYPtMUGmR0A"
      },
      "source": [
        "## 8.4\n",
        "印出法文單字 Chien 的英文。"
      ]
    },
    {
      "cell_type": "code",
      "metadata": {
        "id": "c1yHW1mAqIs-",
        "colab": {
          "base_uri": "https://localhost:8080/",
          "height": 35
        },
        "outputId": "40d45426-7dff-400f-f24b-30288709cfc0"
      },
      "source": [
        "f2e['chien']"
      ],
      "execution_count": null,
      "outputs": [
        {
          "output_type": "execute_result",
          "data": {
            "application/vnd.google.colaboratory.intrinsic+json": {
              "type": "string"
            },
            "text/plain": [
              "'dog'"
            ]
          },
          "metadata": {
            "tags": []
          },
          "execution_count": 119
        }
      ]
    },
    {
      "cell_type": "markdown",
      "metadata": {
        "id": "TeOwziPkmWry"
      },
      "source": [
        "## 8.5\n",
        "印出 e2f的英文單字集合。"
      ]
    },
    {
      "cell_type": "code",
      "metadata": {
        "id": "EoBSgi7YqNds",
        "colab": {
          "base_uri": "https://localhost:8080/"
        },
        "outputId": "d39c182f-6625-47c1-e644-e59dba99327a"
      },
      "source": [
        "set(e2f)"
      ],
      "execution_count": null,
      "outputs": [
        {
          "output_type": "execute_result",
          "data": {
            "text/plain": [
              "{'cat', 'dog', 'walrus'}"
            ]
          },
          "metadata": {
            "tags": []
          },
          "execution_count": 120
        }
      ]
    },
    {
      "cell_type": "code",
      "metadata": {
        "id": "yxso5ULJtpMc"
      },
      "source": [
        ""
      ],
      "execution_count": null,
      "outputs": []
    },
    {
      "cell_type": "markdown",
      "metadata": {
        "id": "59RdwBHomajw"
      },
      "source": [
        "## 8.6\n",
        "製作一個多層的字典,稱之為life。  \n",
        "將這些字串當成最頂層的鍵:'animals'、'plants'與'othern'。 讓 'aintmals\"鍵引用另一個擁有'cats'、'octopi'與'Enus' 鏈的字典。  \n",
        "讓 'cats' 鍵引用一個字串串列,其值為 'Henri'、'Grumpy\"與'Lucy', 讓所有其他鍵引用空字典,"
      ]
    },
    {
      "cell_type": "code",
      "metadata": {
        "id": "mG2aM197swFM"
      },
      "source": [
        "life={\n",
        "    \"animals\":{\n",
        "        \"cats\":[\"Henri\",\"Grumpy\",\"Lucy\"],\n",
        "        \"octopi\":{},\n",
        "        \"Enus\":{}\n",
        "    },\n",
        "    \"plants\":{},\n",
        "    \"Lucy\":{}\n",
        "}"
      ],
      "execution_count": null,
      "outputs": []
    },
    {
      "cell_type": "markdown",
      "metadata": {
        "id": "YWZvs1ACm3d4"
      },
      "source": [
        "## 8.7\n",
        "印出life 最頂層的鍵。"
      ]
    },
    {
      "cell_type": "code",
      "metadata": {
        "id": "VqDuYwBBuDAX",
        "colab": {
          "base_uri": "https://localhost:8080/"
        },
        "outputId": "4d179f9f-701e-479e-a5a1-a8c6e628260b"
      },
      "source": [
        "list(life.keys())"
      ],
      "execution_count": null,
      "outputs": [
        {
          "output_type": "execute_result",
          "data": {
            "text/plain": [
              "['animals', 'plants', 'Lucy']"
            ]
          },
          "metadata": {
            "tags": []
          },
          "execution_count": 124
        }
      ]
    },
    {
      "cell_type": "markdown",
      "metadata": {
        "id": "UYNkGO1qm7tU"
      },
      "source": [
        "## 8.8\n",
        " 印出life['animals']的鍵。"
      ]
    },
    {
      "cell_type": "code",
      "metadata": {
        "id": "FBEKPQo5uHoH",
        "colab": {
          "base_uri": "https://localhost:8080/"
        },
        "outputId": "38d74b50-6143-4ae5-b57e-9c5cc279ab6f"
      },
      "source": [
        "list(life['animals'].keys())"
      ],
      "execution_count": null,
      "outputs": [
        {
          "output_type": "execute_result",
          "data": {
            "text/plain": [
              "['cuts', 'octopi', 'Enus']"
            ]
          },
          "metadata": {
            "tags": []
          },
          "execution_count": 125
        }
      ]
    },
    {
      "cell_type": "markdown",
      "metadata": {
        "id": "jrGJyAgInATM"
      },
      "source": [
        "## 8.9\n",
        "印出life['animals']['cats'] 的值。"
      ]
    },
    {
      "cell_type": "code",
      "metadata": {
        "id": "PcBolh_luXZf",
        "colab": {
          "base_uri": "https://localhost:8080/"
        },
        "outputId": "fa2e8637-32e9-4ebf-c938-9d03627fd3fc"
      },
      "source": [
        "life['animals']['cats']"
      ],
      "execution_count": null,
      "outputs": [
        {
          "output_type": "execute_result",
          "data": {
            "text/plain": [
              "['Henri', 'Grumpy', 'Lucy']"
            ]
          },
          "metadata": {
            "tags": []
          },
          "execution_count": 128
        }
      ]
    },
    {
      "cell_type": "markdown",
      "metadata": {
        "id": "_f_HpN4WnGaE"
      },
      "source": [
        "## 8.10\n",
        "使用一個字典生成式來製作字典 squares。使用range(18) 來回傳鍵,並且將各個鍵的平方當成它的值。\n",
        "\n"
      ]
    },
    {
      "cell_type": "code",
      "metadata": {
        "id": "xU6EhKEruhm_",
        "colab": {
          "base_uri": "https://localhost:8080/"
        },
        "outputId": "be18f5e9-56e4-4793-fea2-a76ef5e2c158"
      },
      "source": [
        "squares={keys:keys**2 for keys in range(18)}\n",
        "squares"
      ],
      "execution_count": null,
      "outputs": [
        {
          "output_type": "execute_result",
          "data": {
            "text/plain": [
              "{0: 0,\n",
              " 1: 1,\n",
              " 2: 4,\n",
              " 3: 9,\n",
              " 4: 16,\n",
              " 5: 25,\n",
              " 6: 36,\n",
              " 7: 49,\n",
              " 8: 64,\n",
              " 9: 81,\n",
              " 10: 100,\n",
              " 11: 121,\n",
              " 12: 144,\n",
              " 13: 169,\n",
              " 14: 196,\n",
              " 15: 225,\n",
              " 16: 256,\n",
              " 17: 289}"
            ]
          },
          "metadata": {
            "tags": []
          },
          "execution_count": 130
        }
      ]
    },
    {
      "cell_type": "markdown",
      "metadata": {
        "id": "Ec3RC0qonN_N"
      },
      "source": [
        "##8.11\n",
        "使用集合生成式和range(10)之内的奇數來製作 odd 集合。\n",
        "\n",
        "\n",
        "\n",
        "\n"
      ]
    },
    {
      "cell_type": "code",
      "metadata": {
        "id": "kxyxjw26vBNB",
        "colab": {
          "base_uri": "https://localhost:8080/"
        },
        "outputId": "f1aef513-c2b0-4fe9-f0d5-799e0c579ea3"
      },
      "source": [
        "odd={number for number in range(10) if number%2 ==1}\n",
        "odd"
      ],
      "execution_count": null,
      "outputs": [
        {
          "output_type": "execute_result",
          "data": {
            "text/plain": [
              "{1, 3, 5, 7, 9}"
            ]
          },
          "metadata": {
            "tags": []
          },
          "execution_count": 131
        }
      ]
    },
    {
      "cell_type": "markdown",
      "metadata": {
        "id": "MgAqaESknP4V"
      },
      "source": [
        "## 8.12\n",
        "使用產生器生成式來回傳字串'Got'與range(10)内的一個數字，使用for迴圈來迭代它。"
      ]
    },
    {
      "cell_type": "code",
      "metadata": {
        "id": "RddXLo37vZ3O",
        "colab": {
          "base_uri": "https://localhost:8080/"
        },
        "outputId": "fbad5487-19ab-4bc2-85f0-ed24ca5f4f14"
      },
      "source": [
        "numbers={number for number in range(10)}\n",
        "\n",
        "for i in numbers:\n",
        "  print('Got',i)"
      ],
      "execution_count": null,
      "outputs": [
        {
          "output_type": "stream",
          "text": [
            "Got 0\n",
            "Got 1\n",
            "Got 2\n",
            "Got 3\n",
            "Got 4\n",
            "Got 5\n",
            "Got 6\n",
            "Got 7\n",
            "Got 8\n",
            "Got 9\n"
          ],
          "name": "stdout"
        }
      ]
    },
    {
      "cell_type": "markdown",
      "metadata": {
        "id": "HfeRzAj3nRNM"
      },
      "source": [
        "## 8.13\n",
        " 使用 zip()和鍵 tuple ('optimist', 'pessimist', 'troll') 與值 tuple ('The glass is half full', 'The glass is half empty','How did you get a glass?') 來製作一個字典。"
      ]
    },
    {
      "cell_type": "code",
      "metadata": {
        "id": "HSz-T2RfwL5O",
        "colab": {
          "base_uri": "https://localhost:8080/"
        },
        "outputId": "76cbd815-243a-4524-8352-69029e8bb16a"
      },
      "source": [
        "keys=('optimist', 'pessimist', 'troll')\n",
        "datas=('The glass is half full', 'The glass is half empty','How did you get a glass?')\n",
        "output={}\n",
        "for key, data in zip(keys,datas):\n",
        "  output[key]=data\n",
        "output"
      ],
      "execution_count": null,
      "outputs": [
        {
          "output_type": "execute_result",
          "data": {
            "text/plain": [
              "{'optimist': 'The glass is half full',\n",
              " 'pessimist': 'The glass is half empty',\n",
              " 'troll': 'How did you get a glass?'}"
            ]
          },
          "metadata": {
            "tags": []
          },
          "execution_count": 135
        }
      ]
    },
    {
      "cell_type": "markdown",
      "metadata": {
        "id": "QUHt2zCQnS1f"
      },
      "source": [
        "## 8.14\n",
        "使用 zip()來製作一個稱為 movies 的字典,來配對這些串列:  \n",
        "titles = ['Creature of Habit', 'Crewel Fate', 'Sharks On a Plane']   \n",
        "plots = ['A nun turns into a monster', 'A haunted yarn shop', 'Check your exits'] ."
      ]
    },
    {
      "cell_type": "code",
      "metadata": {
        "id": "yXwjQpPFwMXH",
        "colab": {
          "base_uri": "https://localhost:8080/"
        },
        "outputId": "7ad9045a-d902-4935-b698-48dddaaf2e7d"
      },
      "source": [
        "titles = ['Creature of Habit', 'Crewel Fate', 'Sharks On a Plane']\n",
        "plots = ['A nun turns into a monster', 'A haunted yarn shop', 'Check your exits'] \n",
        "movies={}\n",
        "for key, data in zip(titles,plots):\n",
        "  movies[key]=data\n",
        "movies"
      ],
      "execution_count": null,
      "outputs": [
        {
          "output_type": "execute_result",
          "data": {
            "text/plain": [
              "{'Creature of Habit': 'A nun turns into a monster',\n",
              " 'Crewel Fate': 'A haunted yarn shop',\n",
              " 'Sharks On a Plane': 'Check your exits'}"
            ]
          },
          "metadata": {
            "tags": []
          },
          "execution_count": 136
        }
      ]
    }
  ]
}