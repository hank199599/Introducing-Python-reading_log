{
  "nbformat": 4,
  "nbformat_minor": 0,
  "metadata": {
    "colab": {
      "name": "Chapter5.ipynb",
      "provenance": [],
      "authorship_tag": "ABX9TyN0sy6EpX7rqzmbZKxx8TlJ",
      "include_colab_link": true
    },
    "kernelspec": {
      "name": "python3",
      "display_name": "Python 3"
    }
  },
  "cells": [
    {
      "cell_type": "markdown",
      "metadata": {
        "id": "view-in-github",
        "colab_type": "text"
      },
      "source": [
        "<a href=\"https://colab.research.google.com/github/hank199599/Introducing-Python-reading_log/blob/main/Chapter5.ipynb\" target=\"_parent\"><img src=\"https://colab.research.google.com/assets/colab-badge.svg\" alt=\"Open In Colab\"/></a>"
      ]
    },
    {
      "cell_type": "markdown",
      "metadata": {
        "id": "seH6m0OfBQob"
      },
      "source": [
        "# 建立字串"
      ]
    },
    {
      "cell_type": "markdown",
      "metadata": {
        "id": "udvALutVBTyA"
      },
      "source": [
        "## 方法一\n",
        "將字元放在一對單引號"
      ]
    },
    {
      "cell_type": "code",
      "metadata": {
        "id": "-iVzfuIXBZ36"
      },
      "source": [
        "'snap"
      ],
      "execution_count": null,
      "outputs": []
    },
    {
      "cell_type": "markdown",
      "metadata": {
        "id": "mtVFughfBfem"
      },
      "source": [
        "## 方法二\n",
        "將字元放在一對雙引號  \n",
        "主要被用來建立包含引號字元的字串"
      ]
    },
    {
      "cell_type": "code",
      "metadata": {
        "id": "zCrCm-elBjr9"
      },
      "source": [
        "\"Crackle\""
      ],
      "execution_count": null,
      "outputs": []
    },
    {
      "cell_type": "code",
      "metadata": {
        "id": "ogmFRuATBxse"
      },
      "source": [
        "\"'Nay!'said the naysayer.'Neigh?' said the horse.\""
      ],
      "execution_count": null,
      "outputs": []
    },
    {
      "cell_type": "markdown",
      "metadata": {
        "id": "Z-YhMdWMB9cQ"
      },
      "source": [
        "## 方法三\n",
        "使用三個單引號(''')或雙引號(\"\"\")  \n",
        "主要被用來建立**多行字串**"
      ]
    },
    {
      "cell_type": "code",
      "metadata": {
        "id": "MX5s2WynCJCt",
        "outputId": "83b6c7bd-20e4-461a-f5cb-5c4db3979d6f",
        "colab": {
          "base_uri": "https://localhost:8080/",
          "height": 52
        }
      },
      "source": [
        "poem=''' There was a Young Lady of Norway, \n",
        "         Who casually sat in a doorway; \n",
        "         When the door squeezed her flat,\n",
        "         She exclaimed, \"What of that?\"\n",
        "         This courageous Young Lady of Norway.'''\n",
        "poem"
      ],
      "execution_count": null,
      "outputs": [
        {
          "output_type": "execute_result",
          "data": {
            "application/vnd.google.colaboratory.intrinsic+json": {
              "type": "string"
            },
            "text/plain": [
              "' There was a Young Lady of Norway, \\n         Who casually sat in a doorway; \\n         When the door squeezed her flat,\\n         She exclaimed, \"What of that?\"\\n         This courageous Young Lady of Norway.'"
            ]
          },
          "metadata": {
            "tags": []
          },
          "execution_count": 4
        }
      ]
    },
    {
      "cell_type": "markdown",
      "metadata": {
        "id": "-nEPsmf7C4VJ"
      },
      "source": [
        "## str()\n",
        "透過它將任意資料型態轉為字串"
      ]
    },
    {
      "cell_type": "code",
      "metadata": {
        "id": "wBeVbNI2DH85"
      },
      "source": [
        "str(98.6)"
      ],
      "execution_count": null,
      "outputs": []
    },
    {
      "cell_type": "code",
      "metadata": {
        "id": "zSWeIyllDK8D"
      },
      "source": [
        "str(True)"
      ],
      "execution_count": null,
      "outputs": []
    },
    {
      "cell_type": "markdown",
      "metadata": {
        "id": "XfFOv1MSDWN1"
      },
      "source": [
        "# print()\n",
        "這個函式會將**引號**去除並印出他們的內容  \n",
        "輸出時會自動在印出的內容之間加上空格\n",
        "並於字串尾端加上**換行(\\\\n)**"
      ]
    },
    {
      "cell_type": "code",
      "metadata": {
        "id": "Hy9eeP_SDXw5",
        "outputId": "c332bb15-e861-4fc8-a0f2-2166d4f2afa0",
        "colab": {
          "base_uri": "https://localhost:8080/"
        }
      },
      "source": [
        "print('Give',\"us\",'''some''',\"\"\"space\"\"\") #tuple資料形式"
      ],
      "execution_count": null,
      "outputs": [
        {
          "output_type": "stream",
          "text": [
            "Give us some space\n"
          ],
          "name": "stdout"
        }
      ]
    },
    {
      "cell_type": "markdown",
      "metadata": {
        "id": "jBfrrnhdD7Je"
      },
      "source": [
        "# 轉譯字元  \n",
        "用以表達難以用文字描述之效果  \n",
        "透過在字元前加入「**\\**」來賦予它特殊的含意"
      ]
    },
    {
      "cell_type": "markdown",
      "metadata": {
        "id": "ERPnLAKsEOUL"
      },
      "source": [
        "## \\n\n",
        "代表開始新的一行"
      ]
    },
    {
      "cell_type": "code",
      "metadata": {
        "id": "zVUsmay-ENlV"
      },
      "source": [
        "palindore='A man,\\nA plan,\\nA cancel:\\nPanama.'"
      ],
      "execution_count": null,
      "outputs": []
    },
    {
      "cell_type": "markdown",
      "metadata": {
        "id": "gQWXzNziEghO"
      },
      "source": [
        "## \\t (tab)\n",
        "用來對齊文字"
      ]
    },
    {
      "cell_type": "code",
      "metadata": {
        "id": "GVe3a-ZWHBD3"
      },
      "source": [
        "print('\\tabc')"
      ],
      "execution_count": null,
      "outputs": []
    },
    {
      "cell_type": "markdown",
      "metadata": {
        "id": "mQTgD_H5IMgR"
      },
      "source": [
        "## **\\\\'** 或 **\\\\\"**\n",
        "表達字面上的「'」或「\"」"
      ]
    },
    {
      "cell_type": "code",
      "metadata": {
        "id": "vQsMxrCxIb6s",
        "outputId": "76253481-a33a-4252-b303-15237f12cd2d",
        "colab": {
          "base_uri": "https://localhost:8080/",
          "height": 35
        }
      },
      "source": [
        "testimony=\"\\\"I did nothing!\\\" he said. \\\"Or that other thing\\\"\"\n",
        "testimony"
      ],
      "execution_count": null,
      "outputs": [
        {
          "output_type": "execute_result",
          "data": {
            "application/vnd.google.colaboratory.intrinsic+json": {
              "type": "string"
            },
            "text/plain": [
              "'\"I did nothing!\" he said. \"Or that other thing\"'"
            ]
          },
          "metadata": {
            "tags": []
          },
          "execution_count": 6
        }
      ]
    },
    {
      "cell_type": "markdown",
      "metadata": {
        "id": "JFJLzjtfIsF_"
      },
      "source": [
        "## **\\\\**\n",
        "字面上的反斜線"
      ]
    },
    {
      "cell_type": "code",
      "metadata": {
        "id": "fUnS_7ERI0iN",
        "outputId": "267e38ca-5630-4f84-a499-8de09473bb5b",
        "colab": {
          "base_uri": "https://localhost:8080/"
        }
      },
      "source": [
        "speech='The backslash(\\\\) bends over backwards to please you.'\n",
        "print(speech)"
      ],
      "execution_count": null,
      "outputs": [
        {
          "output_type": "stream",
          "text": [
            "The backslash(\\) bends over backwards to please you.\n"
          ],
          "name": "stdout"
        }
      ]
    },
    {
      "cell_type": "markdown",
      "metadata": {
        "id": "UjLynVJwJOJy"
      },
      "source": [
        "# 字串運算"
      ]
    },
    {
      "cell_type": "markdown",
      "metadata": {
        "id": "PauQfok9JRK_"
      },
      "source": [
        "## 結合字串\n",
        "運用「+」運算子"
      ]
    },
    {
      "cell_type": "code",
      "metadata": {
        "id": "WrHvErBxJMFK"
      },
      "source": [
        "'Release the kraken!'+'No,wait!'"
      ],
      "execution_count": null,
      "outputs": []
    },
    {
      "cell_type": "markdown",
      "metadata": {
        "id": "3qkkTcNfJjdq"
      },
      "source": [
        "在**常值字串**後放置欲結合的字串"
      ]
    },
    {
      "cell_type": "code",
      "metadata": {
        "id": "IP35XlylJrGm",
        "outputId": "3429cf7d-9a0b-4f76-edf2-b4aadd50ff92",
        "colab": {
          "base_uri": "https://localhost:8080/",
          "height": 35
        }
      },
      "source": [
        "\"My word! \" \"A gentleman caller!\""
      ],
      "execution_count": null,
      "outputs": [
        {
          "output_type": "execute_result",
          "data": {
            "application/vnd.google.colaboratory.intrinsic+json": {
              "type": "string"
            },
            "text/plain": [
              "'My word! A gentleman caller!'"
            ]
          },
          "metadata": {
            "tags": []
          },
          "execution_count": 9
        }
      ]
    },
    {
      "cell_type": "markdown",
      "metadata": {
        "id": "QEfYQ1NtLexS"
      },
      "source": [
        "## 重複字串\n",
        "利用「*」運算子"
      ]
    },
    {
      "cell_type": "code",
      "metadata": {
        "id": "XDK7kJO8Lljm",
        "outputId": "4fcbc106-7eb2-40f5-8352-586bb486ad97",
        "colab": {
          "base_uri": "https://localhost:8080/"
        }
      },
      "source": [
        "start='Na '*4+'\\n'\n",
        "middle='Hey! '*3+'\\n'\n",
        "end='Goodbye'\n",
        "print(start+middle+end)"
      ],
      "execution_count": null,
      "outputs": [
        {
          "output_type": "stream",
          "text": [
            "Na Na Na Na \n",
            "Hey! Hey! Hey! \n",
            "Goodbye\n"
          ],
          "name": "stdout"
        }
      ]
    },
    {
      "cell_type": "markdown",
      "metadata": {
        "id": "K92RnMNAL-UE"
      },
      "source": [
        "# 取得字串內容"
      ]
    },
    {
      "cell_type": "markdown",
      "metadata": {
        "id": "Pd9-2VPeMCFL"
      },
      "source": [
        "## string[*offset*]\n",
        "取出字串中的某個字元  \n",
        "string:欲索引的字串\n",
        "offset:偏位值\n"
      ]
    },
    {
      "cell_type": "code",
      "metadata": {
        "id": "K8mk-IsiMYn-"
      },
      "source": [
        "letters='abcdefghijklmnopqrstuzwxyz'"
      ],
      "execution_count": null,
      "outputs": []
    },
    {
      "cell_type": "code",
      "metadata": {
        "id": "eUSqahXFMoz_"
      },
      "source": [
        "letters[0]"
      ],
      "execution_count": null,
      "outputs": []
    },
    {
      "cell_type": "code",
      "metadata": {
        "id": "HoEV1MT7MpX_"
      },
      "source": [
        "letters[1]"
      ],
      "execution_count": null,
      "outputs": []
    },
    {
      "cell_type": "code",
      "metadata": {
        "id": "qmb4L75WMqkG"
      },
      "source": [
        "letters[-1]"
      ],
      "execution_count": null,
      "outputs": []
    },
    {
      "cell_type": "code",
      "metadata": {
        "id": "BHcxkb96MrW5"
      },
      "source": [
        "letters[25]"
      ],
      "execution_count": null,
      "outputs": []
    },
    {
      "cell_type": "markdown",
      "metadata": {
        "id": "D-moxTP-MuX2"
      },
      "source": [
        "若指定的offset超出字串長度，會發生例外\n",
        "```\n",
        "IndexError: string index out of range\n",
        "```\n"
      ]
    },
    {
      "cell_type": "code",
      "metadata": {
        "id": "cu2HNlN4M3RO",
        "outputId": "edd83d02-a735-4deb-da0c-7e2239eda5c8",
        "colab": {
          "base_uri": "https://localhost:8080/",
          "height": 163
        }
      },
      "source": [
        "letters[100] #超出letters字串範圍的索引請求"
      ],
      "execution_count": null,
      "outputs": [
        {
          "output_type": "error",
          "ename": "IndexError",
          "evalue": "ignored",
          "traceback": [
            "\u001b[0;31m---------------------------------------------------------------------------\u001b[0m",
            "\u001b[0;31mIndexError\u001b[0m                                Traceback (most recent call last)",
            "\u001b[0;32m<ipython-input-15-82591940fd7b>\u001b[0m in \u001b[0;36m<module>\u001b[0;34m()\u001b[0m\n\u001b[0;32m----> 1\u001b[0;31m \u001b[0mletters\u001b[0m\u001b[0;34m[\u001b[0m\u001b[0;36m100\u001b[0m\u001b[0;34m]\u001b[0m\u001b[0;34m\u001b[0m\u001b[0;34m\u001b[0m\u001b[0m\n\u001b[0m",
            "\u001b[0;31mIndexError\u001b[0m: string index out of range"
          ]
        }
      ]
    },
    {
      "cell_type": "markdown",
      "metadata": {
        "id": "-74M91iRPJgb"
      },
      "source": [
        "## len()  \n",
        "用來計算字串長度"
      ]
    },
    {
      "cell_type": "code",
      "metadata": {
        "id": "jaP5MmBKPTnm",
        "outputId": "2ff95cb4-3626-420c-c1a5-8b64fbc0ca4b",
        "colab": {
          "base_uri": "https://localhost:8080/"
        }
      },
      "source": [
        "len(letters)"
      ],
      "execution_count": null,
      "outputs": [
        {
          "output_type": "execute_result",
          "data": {
            "text/plain": [
              "26"
            ]
          },
          "metadata": {
            "tags": []
          },
          "execution_count": 14
        }
      ]
    },
    {
      "cell_type": "markdown",
      "metadata": {
        "id": "8yaPkO4JP6tJ"
      },
      "source": [
        "# 處理字串的函式"
      ]
    },
    {
      "cell_type": "markdown",
      "metadata": {
        "id": "lnVPOnz9QEgC"
      },
      "source": [
        "## split()\n",
        "將字串分解為短字串**串列**"
      ]
    },
    {
      "cell_type": "code",
      "metadata": {
        "id": "CO4m1XgGQNmx",
        "outputId": "1f192ba8-acd2-42eb-9f21-aa4a5abba5f5",
        "colab": {
          "base_uri": "https://localhost:8080/"
        }
      },
      "source": [
        "tasks='get gloves,get mask,give cat vitamins,call ambulance'\n",
        "tasks.split(',')"
      ],
      "execution_count": null,
      "outputs": [
        {
          "output_type": "execute_result",
          "data": {
            "text/plain": [
              "['get gloves', 'get mask', 'give cat vitamins', 'call ambulance']"
            ]
          },
          "metadata": {
            "tags": []
          },
          "execution_count": 16
        }
      ]
    },
    {
      "cell_type": "markdown",
      "metadata": {
        "id": "CTppsOkdQber"
      },
      "source": [
        "## join()\n",
        "將字串串列結合起來\n",
        "\n",
        "```\n",
        "string.join(list)\n",
        "```\n",
        "\n"
      ]
    },
    {
      "cell_type": "code",
      "metadata": {
        "id": "Qmxr-pvuQh55",
        "outputId": "c9c42f97-f8ec-480f-af2d-2e2c0507540d",
        "colab": {
          "base_uri": "https://localhost:8080/"
        }
      },
      "source": [
        "crypto_list=['Yeti', 'Bigfoot', 'Loch Ness Monster']\n",
        "crypto_list=', '.join(crypto_list)\n",
        "print('Found and singing book deals:',crypto_list)"
      ],
      "execution_count": null,
      "outputs": [
        {
          "output_type": "stream",
          "text": [
            "Found and singing book deals: Yeti, Bigfoot, Loch Ness Monster\n"
          ],
          "name": "stdout"
        }
      ]
    },
    {
      "cell_type": "markdown",
      "metadata": {
        "id": "5pJY00zmRQ59"
      },
      "source": [
        "## replace()\n",
        "替換字串中的特定字元"
      ]
    },
    {
      "cell_type": "code",
      "metadata": {
        "id": "h2bpfCinRWtD",
        "outputId": "772b1628-3d23-4c7f-a2b2-46d429ad74c1",
        "colab": {
          "base_uri": "https://localhost:8080/",
          "height": 35
        }
      },
      "source": [
        "setup=\"a duck goes into a bar ...\"\n",
        "setup.replace('duck', 'marmoset')"
      ],
      "execution_count": null,
      "outputs": [
        {
          "output_type": "execute_result",
          "data": {
            "application/vnd.google.colaboratory.intrinsic+json": {
              "type": "string"
            },
            "text/plain": [
              "'a marmoset goes into a bar ...'"
            ]
          },
          "metadata": {
            "tags": []
          },
          "execution_count": 19
        }
      ]
    },
    {
      "cell_type": "markdown",
      "metadata": {
        "id": "7VUGvYn8R9Zf"
      },
      "source": [
        "若要換整個單字而非單字的開頭，可以使用**正規表達式** (詳見第十二章)"
      ]
    },
    {
      "cell_type": "markdown",
      "metadata": {
        "id": "NosRP8XLSMfX"
      },
      "source": [
        "## strip()\n",
        "將字串的開頭或結尾的「綴補字元」剝除  \n",
        "預設剝除的字元是**空格**"
      ]
    },
    {
      "cell_type": "code",
      "metadata": {
        "id": "IRUfDvcGS1Ci",
        "outputId": "35260928-1de4-415f-fc19-1a9c313efbfe",
        "colab": {
          "base_uri": "https://localhost:8080/",
          "height": 35
        }
      },
      "source": [
        "world=\"    earth  \"\n",
        "world.strip()"
      ],
      "execution_count": null,
      "outputs": [
        {
          "output_type": "execute_result",
          "data": {
            "application/vnd.google.colaboratory.intrinsic+json": {
              "type": "string"
            },
            "text/plain": [
              "'earth'"
            ]
          },
          "metadata": {
            "tags": []
          },
          "execution_count": 20
        }
      ]
    },
    {
      "cell_type": "code",
      "metadata": {
        "id": "LznBo-p_S8FK"
      },
      "source": [
        "world=\"    earth  \"\n",
        "world.strip(' ')"
      ],
      "execution_count": null,
      "outputs": []
    },
    {
      "cell_type": "code",
      "metadata": {
        "id": "78bGJDeOS_Of"
      },
      "source": [
        "world=\"    earth  \"\n",
        "world.lsstrip(' ') #只剝除左端"
      ],
      "execution_count": null,
      "outputs": []
    },
    {
      "cell_type": "code",
      "metadata": {
        "id": "7dAMLjF8TF--"
      },
      "source": [
        "world=\"    earth  \"\n",
        "world.lsstrip(' ') #只剝除右端"
      ],
      "execution_count": null,
      "outputs": []
    },
    {
      "cell_type": "markdown",
      "metadata": {
        "id": "ziryrAamTODY"
      },
      "source": [
        "# 搜尋與選擇"
      ]
    },
    {
      "cell_type": "markdown",
      "metadata": {
        "id": "8Xb1Za7mRALP"
      },
      "source": [
        "它是紐卡斯爾公爵夫人 Margaret Cavendish 的不朽詩篇「What Is Liquid?」。"
      ]
    },
    {
      "cell_type": "code",
      "metadata": {
        "id": "K9GYpMZWVVgB"
      },
      "source": [
        "poem='''All that doth flow we cannot liquid name\n",
        "      Or else would fire and water be the same;\n",
        "      But that is liquid which is moist and wet\n",
        "      Fire that property can never get.\n",
        "      Then 'tis not cold that doth the fire put out\n",
        "      But 'tis the wet that makes Allit die, no doubt.'''"
      ],
      "execution_count": null,
      "outputs": []
    },
    {
      "cell_type": "markdown",
      "metadata": {
        "id": "TXY4FoztVdBJ"
      },
      "source": [
        "取出前13個字串(offset 0 到 12)"
      ]
    },
    {
      "cell_type": "code",
      "metadata": {
        "id": "LqnU3-RAVkcE"
      },
      "source": [
        "poem[:12]"
      ],
      "execution_count": null,
      "outputs": []
    },
    {
      "cell_type": "markdown",
      "metadata": {
        "id": "BwBl5GIxVnx3"
      },
      "source": [
        "整首詩的字元"
      ]
    },
    {
      "cell_type": "code",
      "metadata": {
        "id": "9K1WxCIKVrWq"
      },
      "source": [
        "len(poem)"
      ],
      "execution_count": null,
      "outputs": []
    },
    {
      "cell_type": "markdown",
      "metadata": {
        "id": "-2KDsK6TVuqY"
      },
      "source": [
        "開頭是否是All?"
      ]
    },
    {
      "cell_type": "code",
      "metadata": {
        "id": "ESQ7_R4wVxhI",
        "outputId": "52ef98f4-baf7-46f1-b9e1-bbc4ec797f9f",
        "colab": {
          "base_uri": "https://localhost:8080/"
        }
      },
      "source": [
        "poem.startswith('All')"
      ],
      "execution_count": null,
      "outputs": [
        {
          "output_type": "execute_result",
          "data": {
            "text/plain": [
              "True"
            ]
          },
          "metadata": {
            "tags": []
          },
          "execution_count": 3
        }
      ]
    },
    {
      "cell_type": "markdown",
      "metadata": {
        "id": "3iFjqxaNVw8V"
      },
      "source": [
        "結尾是否是That's all , folks?"
      ]
    },
    {
      "cell_type": "code",
      "metadata": {
        "id": "2LmFKxNaWsQ8",
        "outputId": "e8e26902-cd9f-4134-e684-c6aa0711998c",
        "colab": {
          "base_uri": "https://localhost:8080/"
        }
      },
      "source": [
        "poem.endswith('That\\'s all , folks?')"
      ],
      "execution_count": null,
      "outputs": [
        {
          "output_type": "execute_result",
          "data": {
            "text/plain": [
              "False"
            ]
          },
          "metadata": {
            "tags": []
          },
          "execution_count": 5
        }
      ]
    },
    {
      "cell_type": "markdown",
      "metadata": {
        "id": "p6LrHppGW7Gn"
      },
      "source": [
        "# 尋找子字串的Offset\n",
        "*  find() \n",
        "*  index()  \n",
        "兩者都可以從頭或結尾索引，差別在於碰到例外情形的反應不同。  \n",
        "find()回傳-1  \n",
        "index()發生例外"
      ]
    },
    {
      "cell_type": "markdown",
      "metadata": {
        "id": "RtFq7dJNaFmv"
      },
      "source": [
        "找出「the」在詩中第一次出現時的offset"
      ]
    },
    {
      "cell_type": "code",
      "metadata": {
        "id": "qA2lcJ1paQ_j"
      },
      "source": [
        "word='the'"
      ],
      "execution_count": null,
      "outputs": []
    },
    {
      "cell_type": "code",
      "metadata": {
        "id": "d4TNbCu9aWT2"
      },
      "source": [
        "poem.find(word)"
      ],
      "execution_count": null,
      "outputs": []
    },
    {
      "cell_type": "code",
      "metadata": {
        "id": "AQfIPe06aX_V"
      },
      "source": [
        "poem.index(word)"
      ],
      "execution_count": null,
      "outputs": []
    },
    {
      "cell_type": "markdown",
      "metadata": {
        "id": "_Q-6_u_QaQYC"
      },
      "source": [
        "找出「the」在詩中最後一次出現時的offset"
      ]
    },
    {
      "cell_type": "code",
      "metadata": {
        "id": "SAw8Zixqad5i"
      },
      "source": [
        "word='the'"
      ],
      "execution_count": null,
      "outputs": []
    },
    {
      "cell_type": "code",
      "metadata": {
        "id": "Th0cUn98ad5s"
      },
      "source": [
        "poem.rfind(word)"
      ],
      "execution_count": null,
      "outputs": []
    },
    {
      "cell_type": "code",
      "metadata": {
        "id": "RFHnuXipad5u"
      },
      "source": [
        "poem.rindex(word)"
      ],
      "execution_count": null,
      "outputs": []
    },
    {
      "cell_type": "markdown",
      "metadata": {
        "id": "2PKUPWVkagjk"
      },
      "source": [
        "欲查詢的子字串不存在時"
      ]
    },
    {
      "cell_type": "code",
      "metadata": {
        "id": "xfrzsEcPcICd"
      },
      "source": [
        "word='duck'"
      ],
      "execution_count": null,
      "outputs": []
    },
    {
      "cell_type": "code",
      "metadata": {
        "id": "zQ5RdYsQcICg",
        "outputId": "b5b7b7dc-05c5-4cad-a50c-bfed38199d59",
        "colab": {
          "base_uri": "https://localhost:8080/"
        }
      },
      "source": [
        "poem.rfind(word)"
      ],
      "execution_count": null,
      "outputs": [
        {
          "output_type": "execute_result",
          "data": {
            "text/plain": [
              "-1"
            ]
          },
          "metadata": {
            "tags": []
          },
          "execution_count": 7
        }
      ]
    },
    {
      "cell_type": "code",
      "metadata": {
        "id": "ufpfZHuzcICi",
        "outputId": "ebeea2da-49f5-4fc5-df9c-2efaffaa3d31",
        "colab": {
          "base_uri": "https://localhost:8080/",
          "height": 163
        }
      },
      "source": [
        "poem.rindex(word)"
      ],
      "execution_count": null,
      "outputs": [
        {
          "output_type": "error",
          "ename": "ValueError",
          "evalue": "ignored",
          "traceback": [
            "\u001b[0;31m---------------------------------------------------------------------------\u001b[0m",
            "\u001b[0;31mValueError\u001b[0m                                Traceback (most recent call last)",
            "\u001b[0;32m<ipython-input-8-25146e80199f>\u001b[0m in \u001b[0;36m<module>\u001b[0;34m()\u001b[0m\n\u001b[0;32m----> 1\u001b[0;31m \u001b[0mpoem\u001b[0m\u001b[0;34m.\u001b[0m\u001b[0mrindex\u001b[0m\u001b[0;34m(\u001b[0m\u001b[0mword\u001b[0m\u001b[0;34m)\u001b[0m\u001b[0;34m\u001b[0m\u001b[0;34m\u001b[0m\u001b[0m\n\u001b[0m",
            "\u001b[0;31mValueError\u001b[0m: substring not found"
          ]
        }
      ]
    },
    {
      "cell_type": "markdown",
      "metadata": {
        "id": "1WTziNwZcPkI"
      },
      "source": [
        "計算「count」字串於詩中的出現次數"
      ]
    },
    {
      "cell_type": "code",
      "metadata": {
        "id": "r4zoepmCcUaF",
        "outputId": "1e3a9fce-d682-46e3-8689-32d0c257440e",
        "colab": {
          "base_uri": "https://localhost:8080/"
        }
      },
      "source": [
        "poem.count('the')"
      ],
      "execution_count": null,
      "outputs": [
        {
          "output_type": "execute_result",
          "data": {
            "text/plain": [
              "3"
            ]
          },
          "metadata": {
            "tags": []
          },
          "execution_count": 9
        }
      ]
    },
    {
      "cell_type": "markdown",
      "metadata": {
        "id": "1gIJXb90cW4P"
      },
      "source": [
        "檢測這首詩中是否只有字母和數字?"
      ]
    },
    {
      "cell_type": "code",
      "metadata": {
        "id": "2m5ASTEGceNE",
        "outputId": "bff5364f-a415-42c9-c14b-0acf8545b2e0",
        "colab": {
          "base_uri": "https://localhost:8080/"
        }
      },
      "source": [
        "poem.isalnum()"
      ],
      "execution_count": null,
      "outputs": [
        {
          "output_type": "execute_result",
          "data": {
            "text/plain": [
              "False"
            ]
          },
          "metadata": {
            "tags": []
          },
          "execution_count": 10
        }
      ]
    },
    {
      "cell_type": "markdown",
      "metadata": {
        "id": "5u2_cPtPc1A-"
      },
      "source": [
        "# 大小寫轉換"
      ]
    },
    {
      "cell_type": "code",
      "metadata": {
        "id": "eHhYYzVUpWim"
      },
      "source": [
        "setup='a duck goes into a abr'"
      ],
      "execution_count": null,
      "outputs": []
    },
    {
      "cell_type": "markdown",
      "metadata": {
        "id": "0xENspafc24G"
      },
      "source": [
        "## .capitalize()\n",
        "將第一字的字母改為大寫"
      ]
    },
    {
      "cell_type": "code",
      "metadata": {
        "id": "meU2eVCSpWFL",
        "outputId": "c1a74d8e-e853-4368-8558-c24f6616e4ee",
        "colab": {
          "base_uri": "https://localhost:8080/",
          "height": 35
        }
      },
      "source": [
        "setup.capitalize()"
      ],
      "execution_count": null,
      "outputs": [
        {
          "output_type": "execute_result",
          "data": {
            "application/vnd.google.colaboratory.intrinsic+json": {
              "type": "string"
            },
            "text/plain": [
              "'A duck goes into a abr'"
            ]
          },
          "metadata": {
            "tags": []
          },
          "execution_count": 12
        }
      ]
    },
    {
      "cell_type": "markdown",
      "metadata": {
        "id": "jgTaGzozlm_8"
      },
      "source": [
        "## .title()\n",
        "將所有字母的底一個字改為大寫"
      ]
    },
    {
      "cell_type": "code",
      "metadata": {
        "id": "pxbf4zdUpjlN",
        "outputId": "fc8d4e26-38d2-4ef0-eafb-6aceeca39d18",
        "colab": {
          "base_uri": "https://localhost:8080/",
          "height": 35
        }
      },
      "source": [
        "setup.title()"
      ],
      "execution_count": null,
      "outputs": [
        {
          "output_type": "execute_result",
          "data": {
            "application/vnd.google.colaboratory.intrinsic+json": {
              "type": "string"
            },
            "text/plain": [
              "'A Duck Goes Into A Abr'"
            ]
          },
          "metadata": {
            "tags": []
          },
          "execution_count": 13
        }
      ]
    },
    {
      "cell_type": "markdown",
      "metadata": {
        "id": "HFa6ic-4lnIU"
      },
      "source": [
        "## .upper()\n",
        "將所有字元改為大寫"
      ]
    },
    {
      "cell_type": "code",
      "metadata": {
        "id": "yN8ELxoXpmit",
        "outputId": "9eef6606-edd3-42b0-df52-b004c7304c80",
        "colab": {
          "base_uri": "https://localhost:8080/",
          "height": 35
        }
      },
      "source": [
        "setup.upper()"
      ],
      "execution_count": null,
      "outputs": [
        {
          "output_type": "execute_result",
          "data": {
            "application/vnd.google.colaboratory.intrinsic+json": {
              "type": "string"
            },
            "text/plain": [
              "'A DUCK GOES INTO A ABR'"
            ]
          },
          "metadata": {
            "tags": []
          },
          "execution_count": 14
        }
      ]
    },
    {
      "cell_type": "markdown",
      "metadata": {
        "id": "mHr3JFt4lnth"
      },
      "source": [
        "## .lower()\n",
        "將所有字元改為小寫"
      ]
    },
    {
      "cell_type": "code",
      "metadata": {
        "id": "ClRyOnITpm9I",
        "outputId": "a58a54c0-ad7c-4f62-bca8-5b67ea74af68",
        "colab": {
          "base_uri": "https://localhost:8080/",
          "height": 35
        }
      },
      "source": [
        "setup.lower()"
      ],
      "execution_count": null,
      "outputs": [
        {
          "output_type": "execute_result",
          "data": {
            "application/vnd.google.colaboratory.intrinsic+json": {
              "type": "string"
            },
            "text/plain": [
              "'a duck goes into a abr'"
            ]
          },
          "metadata": {
            "tags": []
          },
          "execution_count": 15
        }
      ]
    },
    {
      "cell_type": "markdown",
      "metadata": {
        "id": "GuI7D8fylny-"
      },
      "source": [
        "## .swapcase()\n",
        "將大小寫對換"
      ]
    },
    {
      "cell_type": "code",
      "metadata": {
        "id": "d1Be2IckpnQA",
        "outputId": "fdfe6389-1058-49cd-e3ea-db4a29c8a57a",
        "colab": {
          "base_uri": "https://localhost:8080/",
          "height": 35
        }
      },
      "source": [
        "setup.swapcase()"
      ],
      "execution_count": null,
      "outputs": [
        {
          "output_type": "execute_result",
          "data": {
            "application/vnd.google.colaboratory.intrinsic+json": {
              "type": "string"
            },
            "text/plain": [
              "'A DUCK GOES INTO A ABR'"
            ]
          },
          "metadata": {
            "tags": []
          },
          "execution_count": 16
        }
      ]
    },
    {
      "cell_type": "markdown",
      "metadata": {
        "id": "uQdP6aeaqash"
      },
      "source": [
        "# 格式化\n"
      ]
    },
    {
      "cell_type": "markdown",
      "metadata": {
        "id": "vPBjPbhcql_1"
      },
      "source": [
        "## 舊式：%\n",
        "* %s 字串 → 可以用來處理任何資料型態\n",
        "* %d 十進制整數 \n",
        "* %x 十六進制整數\n",
        "* %o 八進制整數\n",
        "* %f 十進制浮點數\n",
        "* %e 指數浮點數\n",
        "* %g 十進制或指數浮點數\n",
        "* %% 常值"
      ]
    },
    {
      "cell_type": "code",
      "metadata": {
        "id": "mud2PeLo1EXX"
      },
      "source": [
        "'%s'%42"
      ],
      "execution_count": null,
      "outputs": []
    },
    {
      "cell_type": "code",
      "metadata": {
        "id": "POIP6BmO1GYX"
      },
      "source": [
        "'%d'%42"
      ],
      "execution_count": null,
      "outputs": []
    },
    {
      "cell_type": "code",
      "metadata": {
        "id": "AvrfH4D81JHI"
      },
      "source": [
        "'%x'%42"
      ],
      "execution_count": null,
      "outputs": []
    },
    {
      "cell_type": "code",
      "metadata": {
        "id": "cj-_YwpK1NOb"
      },
      "source": [
        "'%o'%42"
      ],
      "execution_count": null,
      "outputs": []
    },
    {
      "cell_type": "code",
      "metadata": {
        "id": "zQvPcOl52C1y"
      },
      "source": [
        "'%f'%7.03"
      ],
      "execution_count": null,
      "outputs": []
    },
    {
      "cell_type": "code",
      "metadata": {
        "id": "dZHJOXI32Ha0",
        "outputId": "6f82127c-bce0-45c1-967b-598f0d7de1b9",
        "colab": {
          "base_uri": "https://localhost:8080/",
          "height": 35
        }
      },
      "source": [
        "actor='Richard Gere'\n",
        "\"My wife's favorate actor is %s\" % actor"
      ],
      "execution_count": null,
      "outputs": [
        {
          "output_type": "execute_result",
          "data": {
            "application/vnd.google.colaboratory.intrinsic+json": {
              "type": "string"
            },
            "text/plain": [
              "\"My wife's favorate actor is Richard Gere\""
            ]
          },
          "metadata": {
            "tags": []
          },
          "execution_count": 22
        }
      ]
    },
    {
      "cell_type": "code",
      "metadata": {
        "id": "4_LFqApm2Ho7",
        "outputId": "34820317-3900-423c-c67d-fb93c625b864",
        "colab": {
          "base_uri": "https://localhost:8080/",
          "height": 35
        }
      },
      "source": [
        "cat='Chester'\n",
        "weight=28\n",
        "\"Our cat %s weight %s pounds\" % (cat,weight) "
      ],
      "execution_count": null,
      "outputs": [
        {
          "output_type": "execute_result",
          "data": {
            "application/vnd.google.colaboratory.intrinsic+json": {
              "type": "string"
            },
            "text/plain": [
              "'Our cat Chester weight 28 pounds'"
            ]
          },
          "metadata": {
            "tags": []
          },
          "execution_count": 23
        }
      ]
    },
    {
      "cell_type": "markdown",
      "metadata": {
        "id": "R-r-HUMV2ruq"
      },
      "source": [
        "*字串內的%s代表插入一個字串，    \n",
        "字串內的%s數量必須與字串後%的資料數目相符。*"
      ]
    },
    {
      "cell_type": "markdown",
      "metadata": {
        "id": "RF2Mh_dP3KAN"
      },
      "source": [
        "### 進階設定\n",
        "* 初始的 ' % ' 字元。\n",
        "\n",
        "* 選用的對齊字元:不加入任何東西,或'+' 代表靠右對齊,'-'代表靠左對齊。\n",
        "\n",
        "* 選用的**最小寬度(minwidth)**欄位。\n",
        "\n",
        "* 選用的'.'字元,用來隔開最小寬度(minwidth)與最大字元(maxchars)。\n",
        "\n",
        "* 選用的最大字元(如果轉換型態是 s),代表從資料值印出多少字元。如果轉換型態是f,它代表精確度(印出小數點後多少位)。\n",
        "\n",
        "* 上一個表格的**轉換型態**字元。"
      ]
    },
    {
      "cell_type": "markdown",
      "metadata": {
        "id": "6B-2DR4yMgoL"
      },
      "source": [
        "## 新式：{}與format()\n",
        "\n",
        "\n",
        "```\n",
        "fornat_string.format(data)**bold text**\n",
        "```\n",
        "\n"
      ]
    },
    {
      "cell_type": "code",
      "metadata": {
        "id": "nFy-AybIM4Y8",
        "outputId": "986a54cf-00d9-431b-b2e9-e0e1cec503b0",
        "colab": {
          "base_uri": "https://localhost:8080/",
          "height": 35
        }
      },
      "source": [
        "thing='wookchuck'\n",
        "'{}'.format(thing)"
      ],
      "execution_count": 1,
      "outputs": [
        {
          "output_type": "execute_result",
          "data": {
            "application/vnd.google.colaboratory.intrinsic+json": {
              "type": "string"
            },
            "text/plain": [
              "'wookchuck'"
            ]
          },
          "metadata": {
            "tags": []
          },
          "execution_count": 1
        }
      ]
    },
    {
      "cell_type": "code",
      "metadata": {
        "id": "frcuBvwGNKM4",
        "outputId": "bbe271f3-4af8-444b-f7c5-708286dbb452",
        "colab": {
          "base_uri": "https://localhost:8080/",
          "height": 35
        }
      },
      "source": [
        "thing='wookchuck'\n",
        "place='lake'\n",
        "'The {} is in the {}.'.format(thing,place)"
      ],
      "execution_count": 2,
      "outputs": [
        {
          "output_type": "execute_result",
          "data": {
            "application/vnd.google.colaboratory.intrinsic+json": {
              "type": "string"
            },
            "text/plain": [
              "'The wookchuck is in the lake.'"
            ]
          },
          "metadata": {
            "tags": []
          },
          "execution_count": 2
        }
      ]
    },
    {
      "cell_type": "markdown",
      "metadata": {
        "id": "vwcIOmQJNaUJ"
      },
      "source": [
        "可以透過位置 offset 來指定引數"
      ]
    },
    {
      "cell_type": "code",
      "metadata": {
        "id": "AxcSU1ScNX4x",
        "outputId": "bbe271f3-4af8-444b-f7c5-708286dbb452",
        "colab": {
          "base_uri": "https://localhost:8080/",
          "height": 35
        }
      },
      "source": [
        "thing='wookchuck'\n",
        "place='lake'\n",
        "'The {1} is in the {0}.'.format(thing,place)"
      ],
      "execution_count": null,
      "outputs": [
        {
          "output_type": "execute_result",
          "data": {
            "application/vnd.google.colaboratory.intrinsic+json": {
              "type": "string"
            },
            "text/plain": [
              "'The wookchuck is in the lake.'"
            ]
          },
          "metadata": {
            "tags": []
          },
          "execution_count": 2
        }
      ]
    },
    {
      "cell_type": "markdown",
      "metadata": {
        "id": "rrOBe0OENnMS"
      },
      "source": [
        "藉由具名引數"
      ]
    },
    {
      "cell_type": "code",
      "metadata": {
        "id": "Viioo2cqNrkr",
        "outputId": "9db889f6-d103-48ca-badc-9ee747b1b1fe",
        "colab": {
          "base_uri": "https://localhost:8080/",
          "height": 35
        }
      },
      "source": [
        "'The {thing} is in the {place}.'.format(thing='wookchuck',place='lake')"
      ],
      "execution_count": 3,
      "outputs": [
        {
          "output_type": "execute_result",
          "data": {
            "application/vnd.google.colaboratory.intrinsic+json": {
              "type": "string"
            },
            "text/plain": [
              "'The wookchuck is in the lake.'"
            ]
          },
          "metadata": {
            "tags": []
          },
          "execution_count": 3
        }
      ]
    },
    {
      "cell_type": "markdown",
      "metadata": {
        "id": "O6nplcnHN1g1"
      },
      "source": [
        "藉由字典引入要置入的子串"
      ]
    },
    {
      "cell_type": "code",
      "metadata": {
        "id": "jP8R3FVDN7ey"
      },
      "source": [
        "d={\"thing\":\"duck\",\"place\":\"bathtub\"}\n",
        "'The {0[thing]} is in the {0[place]}.'.format(d)"
      ],
      "execution_count": null,
      "outputs": []
    },
    {
      "cell_type": "markdown",
      "metadata": {
        "id": "FxbmJn3VPyrS"
      },
      "source": [
        "### 格式字串定義\n",
        "* 以冒號 ' : '標記格式化的字串。\n",
        "* 填補字元(' ')：在字串比最小寬度短時填補它的值\n",
        "* 對齊字元：預設是**左對齊**\n",
        "  * '<'：左對齊\n",
        "  * '>'：右對齊\n",
        "  * '^'：左對齊\n",
        "*  符號(sign)：供數字使用\n",
        "  * '-'：代表負數\n",
        "  * ' '：代表於負數前面加上負號\n",
        "  * ' '：代表正數"
      ]
    }
  ]
}