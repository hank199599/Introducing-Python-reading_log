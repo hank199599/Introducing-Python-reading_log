{
  "nbformat": 4,
  "nbformat_minor": 0,
  "metadata": {
    "colab": {
      "name": "Chapter5.ipynb",
      "provenance": [],
      "authorship_tag": "ABX9TyMWYluItjyojpOmS04fdDwp",
      "include_colab_link": true
    },
    "kernelspec": {
      "name": "python3",
      "display_name": "Python 3"
    }
  },
  "cells": [
    {
      "cell_type": "markdown",
      "metadata": {
        "id": "view-in-github",
        "colab_type": "text"
      },
      "source": [
        "<a href=\"https://colab.research.google.com/github/hank199599/Introducing-Python-reading_log/blob/main/Chapter5.ipynb\" target=\"_parent\"><img src=\"https://colab.research.google.com/assets/colab-badge.svg\" alt=\"Open In Colab\"/></a>"
      ]
    },
    {
      "cell_type": "markdown",
      "metadata": {
        "id": "seH6m0OfBQob"
      },
      "source": [
        "# 建立字串"
      ]
    },
    {
      "cell_type": "markdown",
      "metadata": {
        "id": "udvALutVBTyA"
      },
      "source": [
        "## 方法一\n",
        "將字元放在一對單引號"
      ]
    },
    {
      "cell_type": "code",
      "metadata": {
        "id": "-iVzfuIXBZ36"
      },
      "source": [
        "'snap"
      ],
      "execution_count": null,
      "outputs": []
    },
    {
      "cell_type": "markdown",
      "metadata": {
        "id": "mtVFughfBfem"
      },
      "source": [
        "## 方法二\n",
        "將字元放在一對雙引號  \n",
        "主要被用來建立包含引號字元的字串"
      ]
    },
    {
      "cell_type": "code",
      "metadata": {
        "id": "zCrCm-elBjr9"
      },
      "source": [
        "\"Crackle\""
      ],
      "execution_count": null,
      "outputs": []
    },
    {
      "cell_type": "code",
      "metadata": {
        "id": "ogmFRuATBxse"
      },
      "source": [
        "\"'Nay!'said the naysayer.'Neigh?' said the horse.\""
      ],
      "execution_count": null,
      "outputs": []
    },
    {
      "cell_type": "markdown",
      "metadata": {
        "id": "Z-YhMdWMB9cQ"
      },
      "source": [
        "## 方法三\n",
        "使用三個單引號(''')或雙引號(\"\"\")  \n",
        "主要被用來建立**多行字串**"
      ]
    },
    {
      "cell_type": "code",
      "metadata": {
        "id": "MX5s2WynCJCt",
        "outputId": "83b6c7bd-20e4-461a-f5cb-5c4db3979d6f",
        "colab": {
          "base_uri": "https://localhost:8080/",
          "height": 52
        }
      },
      "source": [
        "poem=''' There was a Young Lady of Norway, \n",
        "         Who casually sat in a doorway; \n",
        "         When the door squeezed her flat,\n",
        "         She exclaimed, \"What of that?\"\n",
        "         This courageous Young Lady of Norway.'''\n",
        "poem"
      ],
      "execution_count": 4,
      "outputs": [
        {
          "output_type": "execute_result",
          "data": {
            "application/vnd.google.colaboratory.intrinsic+json": {
              "type": "string"
            },
            "text/plain": [
              "' There was a Young Lady of Norway, \\n         Who casually sat in a doorway; \\n         When the door squeezed her flat,\\n         She exclaimed, \"What of that?\"\\n         This courageous Young Lady of Norway.'"
            ]
          },
          "metadata": {
            "tags": []
          },
          "execution_count": 4
        }
      ]
    },
    {
      "cell_type": "markdown",
      "metadata": {
        "id": "-nEPsmf7C4VJ"
      },
      "source": [
        "## str()\n",
        "透過它將任意資料型態轉為字串"
      ]
    },
    {
      "cell_type": "code",
      "metadata": {
        "id": "wBeVbNI2DH85"
      },
      "source": [
        "str(98.6)"
      ],
      "execution_count": null,
      "outputs": []
    },
    {
      "cell_type": "code",
      "metadata": {
        "id": "zSWeIyllDK8D"
      },
      "source": [
        "str(True)"
      ],
      "execution_count": null,
      "outputs": []
    },
    {
      "cell_type": "markdown",
      "metadata": {
        "id": "XfFOv1MSDWN1"
      },
      "source": [
        "# print()\n",
        "這個函式會將**引號**去除並印出他們的內容  \n",
        "輸出時會自動在印出的內容之間加上空格"
      ]
    },
    {
      "cell_type": "code",
      "metadata": {
        "id": "Hy9eeP_SDXw5",
        "outputId": "c332bb15-e861-4fc8-a0f2-2166d4f2afa0",
        "colab": {
          "base_uri": "https://localhost:8080/"
        }
      },
      "source": [
        "print('Give',\"us\",'''some''',\"\"\"space\"\"\") #tuple資料形式"
      ],
      "execution_count": 5,
      "outputs": [
        {
          "output_type": "stream",
          "text": [
            "Give us some space\n"
          ],
          "name": "stdout"
        }
      ]
    },
    {
      "cell_type": "markdown",
      "metadata": {
        "id": "jBfrrnhdD7Je"
      },
      "source": [
        "# 轉譯字元  \n",
        "用以表達難以用文字描述之效果  \n",
        "透過在字元前加入「**\\**」來賦予它特殊的含意"
      ]
    },
    {
      "cell_type": "markdown",
      "metadata": {
        "id": "ERPnLAKsEOUL"
      },
      "source": [
        "## \\n\n",
        "代表開始新的一行"
      ]
    },
    {
      "cell_type": "code",
      "metadata": {
        "id": "zVUsmay-ENlV"
      },
      "source": [
        "palindore='A man,\\nA plan,\\nA cancel:\\nPanama.'"
      ],
      "execution_count": null,
      "outputs": []
    },
    {
      "cell_type": "markdown",
      "metadata": {
        "id": "gQWXzNziEghO"
      },
      "source": [
        "## \\t (tab)\n",
        "用來對齊文字"
      ]
    },
    {
      "cell_type": "code",
      "metadata": {
        "id": "GVe3a-ZWHBD3"
      },
      "source": [
        "print('\\tabc')"
      ],
      "execution_count": null,
      "outputs": []
    },
    {
      "cell_type": "markdown",
      "metadata": {
        "id": "mQTgD_H5IMgR"
      },
      "source": [
        "## **\\\\'** 或 **\\\\\"**\n",
        "表達字面上的「'」或「\"」"
      ]
    },
    {
      "cell_type": "code",
      "metadata": {
        "id": "vQsMxrCxIb6s",
        "outputId": "76253481-a33a-4252-b303-15237f12cd2d",
        "colab": {
          "base_uri": "https://localhost:8080/",
          "height": 35
        }
      },
      "source": [
        "testimony=\"\\\"I did nothing!\\\" he said. \\\"Or that other thing\\\"\"\n",
        "testimony"
      ],
      "execution_count": 6,
      "outputs": [
        {
          "output_type": "execute_result",
          "data": {
            "application/vnd.google.colaboratory.intrinsic+json": {
              "type": "string"
            },
            "text/plain": [
              "'\"I did nothing!\" he said. \"Or that other thing\"'"
            ]
          },
          "metadata": {
            "tags": []
          },
          "execution_count": 6
        }
      ]
    },
    {
      "cell_type": "markdown",
      "metadata": {
        "id": "JFJLzjtfIsF_"
      },
      "source": [
        "## **\\\\**\n",
        "字面上的反斜線"
      ]
    },
    {
      "cell_type": "code",
      "metadata": {
        "id": "fUnS_7ERI0iN",
        "outputId": "267e38ca-5630-4f84-a499-8de09473bb5b",
        "colab": {
          "base_uri": "https://localhost:8080/"
        }
      },
      "source": [
        "speech='The backslash(\\\\) bends over backwards to please you.'\n",
        "print(speech)"
      ],
      "execution_count": 7,
      "outputs": [
        {
          "output_type": "stream",
          "text": [
            "The backslash(\\) bends over backwards to please you.\n"
          ],
          "name": "stdout"
        }
      ]
    },
    {
      "cell_type": "markdown",
      "metadata": {
        "id": "UjLynVJwJOJy"
      },
      "source": [
        "# 字串運算"
      ]
    },
    {
      "cell_type": "markdown",
      "metadata": {
        "id": "PauQfok9JRK_"
      },
      "source": [
        "## 結合字串\n",
        "運用「+」運算子"
      ]
    },
    {
      "cell_type": "code",
      "metadata": {
        "id": "WrHvErBxJMFK"
      },
      "source": [
        "'Release the kraken!'+'No,wait!'"
      ],
      "execution_count": null,
      "outputs": []
    },
    {
      "cell_type": "markdown",
      "metadata": {
        "id": "3qkkTcNfJjdq"
      },
      "source": [
        "在**常值字串**後放置欲結合的字串"
      ]
    },
    {
      "cell_type": "code",
      "metadata": {
        "id": "IP35XlylJrGm",
        "outputId": "3429cf7d-9a0b-4f76-edf2-b4aadd50ff92",
        "colab": {
          "base_uri": "https://localhost:8080/",
          "height": 35
        }
      },
      "source": [
        "\"My word! \" \"A gentleman caller!\""
      ],
      "execution_count": 9,
      "outputs": [
        {
          "output_type": "execute_result",
          "data": {
            "application/vnd.google.colaboratory.intrinsic+json": {
              "type": "string"
            },
            "text/plain": [
              "'My word! A gentleman caller!'"
            ]
          },
          "metadata": {
            "tags": []
          },
          "execution_count": 9
        }
      ]
    },
    {
      "cell_type": "markdown",
      "metadata": {
        "id": "QEfYQ1NtLexS"
      },
      "source": [
        "## 重複字串\n",
        "利用「*」運算子"
      ]
    },
    {
      "cell_type": "code",
      "metadata": {
        "id": "XDK7kJO8Lljm",
        "outputId": "4fcbc106-7eb2-40f5-8352-586bb486ad97",
        "colab": {
          "base_uri": "https://localhost:8080/"
        }
      },
      "source": [
        "start='Na '*4+'\\n'\n",
        "middle='Hey! '*3+'\\n'\n",
        "end='Goodbye'\n",
        "print(start+middle+end)"
      ],
      "execution_count": 11,
      "outputs": [
        {
          "output_type": "stream",
          "text": [
            "Na Na Na Na \n",
            "Hey! Hey! Hey! \n",
            "Goodbye\n"
          ],
          "name": "stdout"
        }
      ]
    },
    {
      "cell_type": "markdown",
      "metadata": {
        "id": "K92RnMNAL-UE"
      },
      "source": [
        "# 取得字串內容"
      ]
    },
    {
      "cell_type": "markdown",
      "metadata": {
        "id": "Pd9-2VPeMCFL"
      },
      "source": [
        "## [*offset*]\n",
        "取出字串中的某個字元  \n",
        "offset:偏位值\n"
      ]
    },
    {
      "cell_type": "code",
      "metadata": {
        "id": "K8mk-IsiMYn-"
      },
      "source": [
        "letters='abcdefghijklmnopqrstuzwxyz'"
      ],
      "execution_count": 12,
      "outputs": []
    },
    {
      "cell_type": "code",
      "metadata": {
        "id": "eUSqahXFMoz_"
      },
      "source": [
        "letters[0]"
      ],
      "execution_count": null,
      "outputs": []
    },
    {
      "cell_type": "code",
      "metadata": {
        "id": "HoEV1MT7MpX_"
      },
      "source": [
        "letters[1]"
      ],
      "execution_count": null,
      "outputs": []
    },
    {
      "cell_type": "code",
      "metadata": {
        "id": "qmb4L75WMqkG"
      },
      "source": [
        "letters[-1]"
      ],
      "execution_count": null,
      "outputs": []
    },
    {
      "cell_type": "code",
      "metadata": {
        "id": "BHcxkb96MrW5"
      },
      "source": [
        "letters[25]"
      ],
      "execution_count": null,
      "outputs": []
    },
    {
      "cell_type": "markdown",
      "metadata": {
        "id": "D-moxTP-MuX2"
      },
      "source": [
        "若指定的offset超出字串長度，會發生例外\n",
        "```\n",
        "IndexError: string index out of range\n",
        "```\n"
      ]
    },
    {
      "cell_type": "code",
      "metadata": {
        "id": "cu2HNlN4M3RO",
        "outputId": "edd83d02-a735-4deb-da0c-7e2239eda5c8",
        "colab": {
          "base_uri": "https://localhost:8080/",
          "height": 163
        }
      },
      "source": [
        "letters[100] #超出letters字串範圍的索引請求"
      ],
      "execution_count": 15,
      "outputs": [
        {
          "output_type": "error",
          "ename": "IndexError",
          "evalue": "ignored",
          "traceback": [
            "\u001b[0;31m---------------------------------------------------------------------------\u001b[0m",
            "\u001b[0;31mIndexError\u001b[0m                                Traceback (most recent call last)",
            "\u001b[0;32m<ipython-input-15-82591940fd7b>\u001b[0m in \u001b[0;36m<module>\u001b[0;34m()\u001b[0m\n\u001b[0;32m----> 1\u001b[0;31m \u001b[0mletters\u001b[0m\u001b[0;34m[\u001b[0m\u001b[0;36m100\u001b[0m\u001b[0;34m]\u001b[0m\u001b[0;34m\u001b[0m\u001b[0;34m\u001b[0m\u001b[0m\n\u001b[0m",
            "\u001b[0;31mIndexError\u001b[0m: string index out of range"
          ]
        }
      ]
    },
    {
      "cell_type": "markdown",
      "metadata": {
        "id": "-74M91iRPJgb"
      },
      "source": [
        "## len()  \n",
        "用來計算字串長度"
      ]
    },
    {
      "cell_type": "code",
      "metadata": {
        "id": "jaP5MmBKPTnm",
        "outputId": "2ff95cb4-3626-420c-c1a5-8b64fbc0ca4b",
        "colab": {
          "base_uri": "https://localhost:8080/"
        }
      },
      "source": [
        "len(letters)"
      ],
      "execution_count": 14,
      "outputs": [
        {
          "output_type": "execute_result",
          "data": {
            "text/plain": [
              "26"
            ]
          },
          "metadata": {
            "tags": []
          },
          "execution_count": 14
        }
      ]
    },
    {
      "cell_type": "markdown",
      "metadata": {
        "id": "8yaPkO4JP6tJ"
      },
      "source": [
        "# 處理字串的函式"
      ]
    },
    {
      "cell_type": "markdown",
      "metadata": {
        "id": "lnVPOnz9QEgC"
      },
      "source": [
        "## split()\n",
        "將字串分解為短字串**串列**"
      ]
    },
    {
      "cell_type": "code",
      "metadata": {
        "id": "CO4m1XgGQNmx",
        "outputId": "1f192ba8-acd2-42eb-9f21-aa4a5abba5f5",
        "colab": {
          "base_uri": "https://localhost:8080/"
        }
      },
      "source": [
        "tasks='get gloves,get mask,give cat vitamins,call ambulance'\n",
        "tasks.split(',')"
      ],
      "execution_count": 16,
      "outputs": [
        {
          "output_type": "execute_result",
          "data": {
            "text/plain": [
              "['get gloves', 'get mask', 'give cat vitamins', 'call ambulance']"
            ]
          },
          "metadata": {
            "tags": []
          },
          "execution_count": 16
        }
      ]
    },
    {
      "cell_type": "markdown",
      "metadata": {
        "id": "CTppsOkdQber"
      },
      "source": [
        "## join()\n",
        "將字串串列結合起來\n",
        "\n",
        "```\n",
        "string.join(list)\n",
        "```\n",
        "\n"
      ]
    },
    {
      "cell_type": "code",
      "metadata": {
        "id": "Qmxr-pvuQh55",
        "outputId": "c9c42f97-f8ec-480f-af2d-2e2c0507540d",
        "colab": {
          "base_uri": "https://localhost:8080/"
        }
      },
      "source": [
        "crypto_list=['Yeti', 'Bigfoot', 'Loch Ness Monster']\n",
        "crypto_list=', '.join(crypto_list)\n",
        "print('Found and singing book deals:',crypto_list)"
      ],
      "execution_count": 18,
      "outputs": [
        {
          "output_type": "stream",
          "text": [
            "Found and singing book deals: Yeti, Bigfoot, Loch Ness Monster\n"
          ],
          "name": "stdout"
        }
      ]
    },
    {
      "cell_type": "markdown",
      "metadata": {
        "id": "5pJY00zmRQ59"
      },
      "source": [
        "## replace()\n",
        "替換字串中的特定字元"
      ]
    },
    {
      "cell_type": "code",
      "metadata": {
        "id": "h2bpfCinRWtD",
        "outputId": "772b1628-3d23-4c7f-a2b2-46d429ad74c1",
        "colab": {
          "base_uri": "https://localhost:8080/",
          "height": 35
        }
      },
      "source": [
        "setup=\"a duck goes into a bar ...\"\n",
        "setup.replace('duck', 'marmoset')"
      ],
      "execution_count": 19,
      "outputs": [
        {
          "output_type": "execute_result",
          "data": {
            "application/vnd.google.colaboratory.intrinsic+json": {
              "type": "string"
            },
            "text/plain": [
              "'a marmoset goes into a bar ...'"
            ]
          },
          "metadata": {
            "tags": []
          },
          "execution_count": 19
        }
      ]
    },
    {
      "cell_type": "markdown",
      "metadata": {
        "id": "7VUGvYn8R9Zf"
      },
      "source": [
        "若要換整個單字而非單字的開頭，可以使用**正規表達式** (詳見第十二章)"
      ]
    },
    {
      "cell_type": "markdown",
      "metadata": {
        "id": "NosRP8XLSMfX"
      },
      "source": [
        "## strip()\n",
        "將字串的開頭或結尾的「綴補字元」剝除  \n",
        "預設剝除的字元是**空格**"
      ]
    },
    {
      "cell_type": "code",
      "metadata": {
        "id": "IRUfDvcGS1Ci",
        "outputId": "35260928-1de4-415f-fc19-1a9c313efbfe",
        "colab": {
          "base_uri": "https://localhost:8080/",
          "height": 35
        }
      },
      "source": [
        "world=\"    earth  \"\n",
        "world.strip()"
      ],
      "execution_count": 20,
      "outputs": [
        {
          "output_type": "execute_result",
          "data": {
            "application/vnd.google.colaboratory.intrinsic+json": {
              "type": "string"
            },
            "text/plain": [
              "'earth'"
            ]
          },
          "metadata": {
            "tags": []
          },
          "execution_count": 20
        }
      ]
    },
    {
      "cell_type": "code",
      "metadata": {
        "id": "LznBo-p_S8FK"
      },
      "source": [
        "world=\"    earth  \"\n",
        "world.strip(' ')"
      ],
      "execution_count": null,
      "outputs": []
    },
    {
      "cell_type": "code",
      "metadata": {
        "id": "78bGJDeOS_Of"
      },
      "source": [
        "world=\"    earth  \"\n",
        "world.lsstrip(' ') #只剝除左端"
      ],
      "execution_count": null,
      "outputs": []
    },
    {
      "cell_type": "code",
      "metadata": {
        "id": "7dAMLjF8TF--"
      },
      "source": [
        "world=\"    earth  \"\n",
        "world.lsstrip(' ') #只剝除右端"
      ],
      "execution_count": null,
      "outputs": []
    },
    {
      "cell_type": "markdown",
      "metadata": {
        "id": "ziryrAamTODY"
      },
      "source": [
        "# 搜尋與選擇"
      ]
    }
  ]
}