{
  "nbformat": 4,
  "nbformat_minor": 0,
  "metadata": {
    "colab": {
      "name": "Chapter10.ipynb",
      "provenance": [],
      "toc_visible": true,
      "authorship_tag": "ABX9TyMsAtZgHWBkns2VKEs1ub8h",
      "include_colab_link": true
    },
    "kernelspec": {
      "name": "python3",
      "display_name": "Python 3"
    }
  },
  "cells": [
    {
      "cell_type": "markdown",
      "metadata": {
        "id": "view-in-github",
        "colab_type": "text"
      },
      "source": [
        "<a href=\"https://colab.research.google.com/github/hank199599/Introducing-Python-reading_log/blob/main/Chapter10.ipynb\" target=\"_parent\"><img src=\"https://colab.research.google.com/assets/colab-badge.svg\" alt=\"Open In Colab\"/></a>"
      ]
    },
    {
      "cell_type": "markdown",
      "metadata": {
        "id": "Q__pOIAD351K"
      },
      "source": [
        "# 物件\n",
        "是一種自訂的資料結構\n",
        "* 屬性：資料\n",
        "* 方法：程式碼"
      ]
    },
    {
      "cell_type": "markdown",
      "metadata": {
        "id": "CRj1SsfP4axx"
      },
      "source": [
        "## 屬性\n",
        "在類別或物件裏面的變數"
      ]
    },
    {
      "cell_type": "markdown",
      "metadata": {
        "id": "bXEpgrulLJCb"
      },
      "source": [
        "用 **pass** 指出這類別是空的"
      ]
    },
    {
      "cell_type": "code",
      "metadata": {
        "id": "JQAWUOalHRKO"
      },
      "source": [
        "class Cat():\n",
        "  pass"
      ],
      "execution_count": null,
      "outputs": []
    },
    {
      "cell_type": "code",
      "metadata": {
        "id": "PANkWi8GLD2u"
      },
      "source": [
        "class Cat:\n",
        "  pass"
      ],
      "execution_count": null,
      "outputs": []
    },
    {
      "cell_type": "code",
      "metadata": {
        "id": "VG0_aAZpOgRv",
        "outputId": "3d5c749d-470a-4ae8-944c-2e1a69982f50",
        "colab": {
          "base_uri": "https://localhost:8080/"
        }
      },
      "source": [
        "class Cat:\n",
        "  pass\n",
        "\n",
        "a_cat = Cat()\n",
        "a_cat"
      ],
      "execution_count": null,
      "outputs": [
        {
          "output_type": "execute_result",
          "data": {
            "text/plain": [
              "<__main__.Cat at 0x7f37eb16d470>"
            ]
          },
          "metadata": {
            "tags": []
          },
          "execution_count": 2
        }
      ]
    },
    {
      "cell_type": "code",
      "metadata": {
        "id": "AJfUh7g-OgSB",
        "outputId": "c5587826-4656-40e6-8abd-e2ea1424b1ec",
        "colab": {
          "base_uri": "https://localhost:8080/"
        }
      },
      "source": [
        "another_cat = Cat()\n",
        "another_cat"
      ],
      "execution_count": null,
      "outputs": [
        {
          "output_type": "execute_result",
          "data": {
            "text/plain": [
              "<__main__.Cat at 0x7f37eb16d898>"
            ]
          },
          "metadata": {
            "tags": []
          },
          "execution_count": 3
        }
      ]
    },
    {
      "cell_type": "markdown",
      "metadata": {
        "id": "zR8ewQimMHhb"
      },
      "source": [
        "### 指派屬性給物件"
      ]
    },
    {
      "cell_type": "code",
      "metadata": {
        "id": "CO3SHJk_MLJT"
      },
      "source": [
        "a_cat.age = 3\n",
        "a_cat.name = \"Mr. Fuzzybuttons\"\n",
        "a_cat.nemesis = another_cat"
      ],
      "execution_count": null,
      "outputs": []
    },
    {
      "cell_type": "code",
      "metadata": {
        "id": "DREshLZjM0S7",
        "outputId": "c485b738-b740-4ee9-935e-1b01331726a0",
        "colab": {
          "base_uri": "https://localhost:8080/"
        }
      },
      "source": [
        "a_cat.age"
      ],
      "execution_count": null,
      "outputs": [
        {
          "output_type": "execute_result",
          "data": {
            "text/plain": [
              "3"
            ]
          },
          "metadata": {
            "tags": []
          },
          "execution_count": 5
        }
      ]
    },
    {
      "cell_type": "code",
      "metadata": {
        "id": "gARpXWdKM3fL",
        "outputId": "9b8647b9-2e3e-4ffc-e214-9d7473c8fefc",
        "colab": {
          "base_uri": "https://localhost:8080/",
          "height": 35
        }
      },
      "source": [
        "a_cat.name"
      ],
      "execution_count": null,
      "outputs": [
        {
          "output_type": "execute_result",
          "data": {
            "application/vnd.google.colaboratory.intrinsic+json": {
              "type": "string"
            },
            "text/plain": [
              "'Mr. Fuzzybuttons'"
            ]
          },
          "metadata": {
            "tags": []
          },
          "execution_count": 6
        }
      ]
    },
    {
      "cell_type": "code",
      "metadata": {
        "id": "9DouEcZDM5Qs",
        "outputId": "f864e5d4-022a-4e38-8bf0-7f1f9856a20d",
        "colab": {
          "base_uri": "https://localhost:8080/"
        }
      },
      "source": [
        "a_cat.nemesis"
      ],
      "execution_count": null,
      "outputs": [
        {
          "output_type": "execute_result",
          "data": {
            "text/plain": [
              "<__main__.Cat at 0x7f37eb16d898>"
            ]
          },
          "metadata": {
            "tags": []
          },
          "execution_count": 7
        }
      ]
    },
    {
      "cell_type": "markdown",
      "metadata": {
        "id": "1qyrO4eUNCCz"
      },
      "source": [
        ""
      ]
    },
    {
      "cell_type": "code",
      "metadata": {
        "id": "GfxKO0ClNF8L",
        "outputId": "d6115dd3-a005-4aab-8660-e75c8cfb07ed",
        "colab": {
          "base_uri": "https://localhost:8080/",
          "height": 35
        }
      },
      "source": [
        "a_cat.nemesis.name = \"Mr. Boggleworth\"\n",
        "a_cat.nemesis.name"
      ],
      "execution_count": null,
      "outputs": [
        {
          "output_type": "execute_result",
          "data": {
            "application/vnd.google.colaboratory.intrinsic+json": {
              "type": "string"
            },
            "text/plain": [
              "'Mr. Boggleworth'"
            ]
          },
          "metadata": {
            "tags": []
          },
          "execution_count": 8
        }
      ]
    },
    {
      "cell_type": "markdown",
      "metadata": {
        "id": "MyL5I5Ws4msJ"
      },
      "source": [
        "## 方法\n",
        "在類別或物件裡面的函式"
      ]
    },
    {
      "cell_type": "code",
      "metadata": {
        "id": "l3x0Opw7L2nL"
      },
      "source": [
        "class Cat:\n",
        "  def __init__(self):\n",
        "    pass"
      ],
      "execution_count": null,
      "outputs": []
    },
    {
      "cell_type": "markdown",
      "metadata": {
        "id": "iGPX0j0OwYeE"
      },
      "source": [
        "### \\_\\_init__()\n",
        "用類別的定義與收到的引數來初始化並建立一個物件"
      ]
    },
    {
      "cell_type": "code",
      "metadata": {
        "id": "J-t57L5iMBJK"
      },
      "source": [
        "class Cat():\n",
        "  def __init__(self,name):\n",
        "    self.name = name"
      ],
      "execution_count": null,
      "outputs": []
    },
    {
      "cell_type": "markdown",
      "metadata": {
        "id": "MO45kM4OOubb"
      },
      "source": [
        "傳遞一個字串給name參數，用Cat類別建立一個物件"
      ]
    },
    {
      "cell_type": "code",
      "metadata": {
        "id": "ll7avQiEO1c7"
      },
      "source": [
        "furball = Cat('Grumpy')"
      ],
      "execution_count": null,
      "outputs": []
    },
    {
      "cell_type": "markdown",
      "metadata": {
        "id": "UZR-Zkv1QMoT"
      },
      "source": [
        "* 查看Cat 類別的定義\n",
        "* 在記憶體實例化(建立)一個新物件\n",
        "* 呼叫該物件的__init()方法，將這個新建立的物件傳給self，另一個引數(\"Grumpy\")傳給name\n",
        "* 將物件中儲存name的值\n",
        "* 回傳新物件\n",
        "* 將物件指派給變數furball"
      ]
    },
    {
      "cell_type": "code",
      "metadata": {
        "id": "PXV9NzzdSQ22",
        "outputId": "d76c545d-24da-449c-f2d1-abc12bcec4ec",
        "colab": {
          "base_uri": "https://localhost:8080/"
        }
      },
      "source": [
        "print(\"Our latest addition:\",furball.name)"
      ],
      "execution_count": null,
      "outputs": [
        {
          "output_type": "stream",
          "text": [
            "Our latest addition: Grumpy\n"
          ],
          "name": "stdout"
        }
      ]
    },
    {
      "cell_type": "markdown",
      "metadata": {
        "id": "5B-mf5EH5H7p"
      },
      "source": [
        "### 覆寫方法"
      ]
    },
    {
      "cell_type": "code",
      "metadata": {
        "id": "UQuLr_QdVymg"
      },
      "source": [
        "class Person():\n",
        "  def __init__(self,name):\n",
        "    self.name=name\n",
        "\n",
        "class MDPerson(Person):\n",
        "  def __init__(self,name):\n",
        "    self.name = \"Doctor\"+name\n",
        "\n",
        "class JDPerson(Person):\n",
        "  def __init__(self,name):\n",
        "    self.name = name+\", Esquire\""
      ],
      "execution_count": null,
      "outputs": []
    },
    {
      "cell_type": "code",
      "metadata": {
        "id": "UIOsF3iGWaNa",
        "outputId": "6a679b1f-402f-417d-9028-993f19eeb75b",
        "colab": {
          "base_uri": "https://localhost:8080/"
        }
      },
      "source": [
        "person = Person('Fudd')\n",
        "print(person.name)"
      ],
      "execution_count": null,
      "outputs": [
        {
          "output_type": "stream",
          "text": [
            "Fudd\n"
          ],
          "name": "stdout"
        }
      ]
    },
    {
      "cell_type": "code",
      "metadata": {
        "id": "05TW5FqQWahK",
        "outputId": "dc1db1da-3b67-4326-9ee5-50c9a50fd85f",
        "colab": {
          "base_uri": "https://localhost:8080/"
        }
      },
      "source": [
        "person = MDPerson('Fudd')\n",
        "print(person.name)"
      ],
      "execution_count": null,
      "outputs": [
        {
          "output_type": "stream",
          "text": [
            "DoctorFudd\n"
          ],
          "name": "stdout"
        }
      ]
    },
    {
      "cell_type": "code",
      "metadata": {
        "id": "hO930xqzWaoV",
        "outputId": "ebe0a18a-cb36-40bd-c77e-e5427361ef6e",
        "colab": {
          "base_uri": "https://localhost:8080/"
        }
      },
      "source": [
        "person = JDPerson('Fudd')\n",
        "print(person.name)"
      ],
      "execution_count": null,
      "outputs": [
        {
          "output_type": "stream",
          "text": [
            "Fudd, Esquire\n"
          ],
          "name": "stdout"
        }
      ]
    },
    {
      "cell_type": "markdown",
      "metadata": {
        "id": "SI4JfebE5LLh"
      },
      "source": [
        "### 添加方法"
      ]
    },
    {
      "cell_type": "code",
      "metadata": {
        "id": "GdtRSGDRW-B6"
      },
      "source": [
        "class Car():\n",
        "  def exclaim(self):\n",
        "    print(\"I'm a Car!\")\n",
        "\n",
        "class Yugo(Car):\n",
        "  def exclaim(self):\n",
        "    print(\"I'm a Yugo! Much like a Car,but more Yugo-ish.\")\n",
        "  def need_a_push(self):\n",
        "    print(\"A little help here?\")\n",
        " "
      ],
      "execution_count": null,
      "outputs": []
    },
    {
      "cell_type": "code",
      "metadata": {
        "id": "W7iFCbwhYQMg"
      },
      "source": [
        "give_me_a_car = Car()\n",
        "give_me_a_yugo = Yugo()"
      ],
      "execution_count": null,
      "outputs": []
    },
    {
      "cell_type": "code",
      "metadata": {
        "id": "F4r9BKONYY_R",
        "outputId": "f2b26f14-979f-4fb0-f1e0-e7e41d256f07",
        "colab": {
          "base_uri": "https://localhost:8080/"
        }
      },
      "source": [
        "give_me_a_yugo.need_a_push()"
      ],
      "execution_count": null,
      "outputs": [
        {
          "output_type": "stream",
          "text": [
            "A little help here?\n"
          ],
          "name": "stdout"
        }
      ]
    },
    {
      "cell_type": "markdown",
      "metadata": {
        "id": "JICWzc5X4zuZ"
      },
      "source": [
        "# 繼承\n",
        "子 **is-a** 父  \n",
        "子類別大多數動作都跟他的父類別相同"
      ]
    },
    {
      "cell_type": "markdown",
      "metadata": {
        "id": "h9L_trxW41zh"
      },
      "source": [
        "## 自父類別繼承 (parent)\n",
        "* 原先的類別 → 父類別/基礎類別 (bass class)\n",
        "* 新類別 → 子類別/衍伸類別 (derived class)\n"
      ]
    },
    {
      "cell_type": "code",
      "metadata": {
        "id": "7ciacQtJTQRe"
      },
      "source": [
        "class Car():\n",
        "  pass"
      ],
      "execution_count": null,
      "outputs": []
    },
    {
      "cell_type": "code",
      "metadata": {
        "id": "8sjxsp3lTVEZ"
      },
      "source": [
        "class Yugo(Car):\n",
        "  pass"
      ],
      "execution_count": null,
      "outputs": []
    },
    {
      "cell_type": "markdown",
      "metadata": {
        "id": "_GCajvGo47AB"
      },
      "source": [
        "### issubclass()\n",
        "查看一個類別是否延伸自另一個類別"
      ]
    },
    {
      "cell_type": "code",
      "metadata": {
        "id": "dd0HIt9k5SsR",
        "outputId": "87c2f814-3149-4e16-a7f1-6511f1ae3e23",
        "colab": {
          "base_uri": "https://localhost:8080/"
        }
      },
      "source": [
        "issubclass(Yugo,Car)"
      ],
      "execution_count": null,
      "outputs": [
        {
          "output_type": "execute_result",
          "data": {
            "text/plain": [
              "True"
            ]
          },
          "metadata": {
            "tags": []
          },
          "execution_count": 23
        }
      ]
    },
    {
      "cell_type": "markdown",
      "metadata": {
        "id": "MR4dZT3GTtEx"
      },
      "source": [
        "**物件導向**術語中，Yugo **is-a** Car  \n"
      ]
    },
    {
      "cell_type": "code",
      "metadata": {
        "id": "f51GfD2sT5Rg"
      },
      "source": [
        "class Car():\n",
        "  def exclaim(self):\n",
        "    print(\"I'm a Car!\")\n",
        "\n",
        "class Yugo(Car):\n",
        "  pass"
      ],
      "execution_count": null,
      "outputs": []
    },
    {
      "cell_type": "markdown",
      "metadata": {
        "id": "uwwqFz724-vS"
      },
      "source": [
        "### .exclaim()"
      ]
    },
    {
      "cell_type": "code",
      "metadata": {
        "id": "Yy73eglC5TCZ"
      },
      "source": [
        "class Car():\n",
        "  def exclaim(self):\n",
        "    print(\"I'm a Car!\")\n",
        "\n",
        "class Yugo(Car):\n",
        "  pass"
      ],
      "execution_count": null,
      "outputs": []
    },
    {
      "cell_type": "code",
      "metadata": {
        "id": "tjZZcU-2UvrB"
      },
      "source": [
        "give_me_a_car = Car()\n",
        "give_me_a_yugo = Yugo()"
      ],
      "execution_count": null,
      "outputs": []
    },
    {
      "cell_type": "code",
      "metadata": {
        "id": "1Ik5tunrU404",
        "outputId": "db458476-aff8-4595-bad8-0f8ae65d988c",
        "colab": {
          "base_uri": "https://localhost:8080/"
        }
      },
      "source": [
        "give_me_a_car.exclaim()"
      ],
      "execution_count": null,
      "outputs": [
        {
          "output_type": "stream",
          "text": [
            "I'm a Car!\n"
          ],
          "name": "stdout"
        }
      ]
    },
    {
      "cell_type": "code",
      "metadata": {
        "id": "UkUZFJbDU8mh",
        "outputId": "8a5f0553-3dd3-4c27-a9d6-190fc5b4a67b",
        "colab": {
          "base_uri": "https://localhost:8080/"
        }
      },
      "source": [
        "give_me_a_yugo.exclaim()"
      ],
      "execution_count": null,
      "outputs": [
        {
          "output_type": "stream",
          "text": [
            "I'm a Car!\n"
          ],
          "name": "stdout"
        }
      ]
    },
    {
      "cell_type": "markdown",
      "metadata": {
        "id": "j5XeLMjD5PjR"
      },
      "source": [
        "### super()\n",
        "獲得父類別的幫助"
      ]
    },
    {
      "cell_type": "code",
      "metadata": {
        "id": "v2yxN_Pb5TZK"
      },
      "source": [
        "class Person():\n",
        "  def __int__(self,name):\n",
        "    self.nmae = name"
      ],
      "execution_count": null,
      "outputs": []
    },
    {
      "cell_type": "code",
      "metadata": {
        "id": "PkUldEPWYuzi"
      },
      "source": [
        "class EmailPerson(Person):\n",
        "  def __int__(self,name,email):\n",
        "    super().__init__(name)\n",
        "    self.email = email"
      ],
      "execution_count": null,
      "outputs": []
    },
    {
      "cell_type": "markdown",
      "metadata": {
        "id": "Mp32_0KD5T5Z"
      },
      "source": [
        "## 多重繼承\n",
        "物件能夠繼承多個父類別  \n",
        "Python的繼承取決於**方法解析順序** *(method resolution order)*\n"
      ]
    },
    {
      "cell_type": "code",
      "metadata": {
        "id": "HI7mQaR2Zvxp"
      },
      "source": [
        "class Animal:\n",
        "  def says(self):\n",
        "    return \"I speak!\"\n",
        "\n",
        "class Horse(Animal):\n",
        "  def says(self):\n",
        "    return \"Neight!\"\n",
        "\n",
        "class Donkey(Animal):\n",
        "  def says(self):\n",
        "    return \"Hee-haw!\"\n",
        "\n",
        "class Mule(Donkey,Horse):\n",
        "  pass"
      ],
      "execution_count": null,
      "outputs": []
    },
    {
      "cell_type": "markdown",
      "metadata": {
        "id": "_hkzCaEjbXeI"
      },
      "source": [
        "### Mixin ：輔助類別(helper)\n",
        "在類別定義式中加入一個額外的父類別"
      ]
    },
    {
      "cell_type": "code",
      "metadata": {
        "id": "OOTqfltlcqlb",
        "outputId": "a28cdf71-d613-4d46-8fe3-7b159fc36034",
        "colab": {
          "base_uri": "https://localhost:8080/"
        }
      },
      "source": [
        "class PrettyMixin():\n",
        "  def dump(self):\n",
        "    import pprint\n",
        "    pprint.pprint(vars(self))\n",
        "\n",
        "class Thing(PrettyMixin):\n",
        "  pass\n",
        "\n",
        "t = Thing()\n",
        "t.name = \"Nyarlathotep\"\n",
        "t.feature = \"ichor\"\n",
        "t.age = \"eldritch\"\n",
        "t.dump()"
      ],
      "execution_count": null,
      "outputs": [
        {
          "output_type": "stream",
          "text": [
            "{'age': 'eldritch', 'feature': 'ichor', 'name': 'Nyarlathotep'}\n"
          ],
          "name": "stdout"
        }
      ]
    },
    {
      "cell_type": "markdown",
      "metadata": {
        "id": "hBiJpHuKbafA"
      },
      "source": [
        "# 自衛 (self)\n",
        "尋找正確的物件屬性與方法"
      ]
    },
    {
      "cell_type": "code",
      "metadata": {
        "id": "LT8NyCM_dcDn",
        "outputId": "9577a3ef-a814-4c91-ed2e-f073d9842991",
        "colab": {
          "base_uri": "https://localhost:8080/"
        }
      },
      "source": [
        "a_car = Car()\n",
        "a_car.exclaim()"
      ],
      "execution_count": null,
      "outputs": [
        {
          "output_type": "stream",
          "text": [
            "I'm a Car!\n"
          ],
          "name": "stdout"
        }
      ]
    },
    {
      "cell_type": "markdown",
      "metadata": {
        "id": "X-f5Fy5_dcnG"
      },
      "source": [
        "# 屬性存取\n",
        "採取**「成人同意」(consenting adults)**原則"
      ]
    },
    {
      "cell_type": "markdown",
      "metadata": {
        "id": "G42PAD3TdgPI"
      },
      "source": [
        "## 直接存取\n",
        "能直接取得即設定屬性值，易被修改"
      ]
    },
    {
      "cell_type": "code",
      "metadata": {
        "id": "-8M82fmUdiFo",
        "outputId": "20026563-c643-4cb4-9d5d-6884494013af",
        "colab": {
          "base_uri": "https://localhost:8080/",
          "height": 35
        }
      },
      "source": [
        "class Duck:\n",
        "  def __init__(self,input_name):\n",
        "    self.name=input_name\n",
        "\n",
        "fowl = Duck(\"Daffy\")\n",
        "fowl.name"
      ],
      "execution_count": null,
      "outputs": [
        {
          "output_type": "execute_result",
          "data": {
            "application/vnd.google.colaboratory.intrinsic+json": {
              "type": "string"
            },
            "text/plain": [
              "'Daffy'"
            ]
          },
          "metadata": {
            "tags": []
          },
          "execution_count": 53
        }
      ]
    },
    {
      "cell_type": "code",
      "metadata": {
        "id": "QNj6iD1dmaXc",
        "outputId": "49376fca-7bac-4aff-89fb-ee5fb34de4e8",
        "colab": {
          "base_uri": "https://localhost:8080/",
          "height": 35
        }
      },
      "source": [
        "fowl.name=\"Daphne\"\n",
        "fowl.name"
      ],
      "execution_count": null,
      "outputs": [
        {
          "output_type": "execute_result",
          "data": {
            "application/vnd.google.colaboratory.intrinsic+json": {
              "type": "string"
            },
            "text/plain": [
              "'Daphne'"
            ]
          },
          "metadata": {
            "tags": []
          },
          "execution_count": 54
        }
      ]
    },
    {
      "cell_type": "markdown",
      "metadata": {
        "id": "B3281VlHdlw_"
      },
      "source": [
        "## getter 與 setter\n",
        "使用混淆屬性名稱來取得一些隱私"
      ]
    },
    {
      "cell_type": "code",
      "metadata": {
        "id": "43KdzydsfoVq"
      },
      "source": [
        "class Duck():\n",
        "  def __init__(self,input_name):\n",
        "    self.hidden_name=input_name\n",
        "  def get_name(self):\n",
        "    print(\"inside the getter\")\n",
        "    return self.hidden_name\n",
        "  def set_name(self,input_name):\n",
        "    print(\"inside the setter\")\n",
        "    self.hidden_name = input_name"
      ],
      "execution_count": null,
      "outputs": []
    },
    {
      "cell_type": "code",
      "metadata": {
        "id": "1wNue569nO3E",
        "outputId": "bc7101b3-e4a0-47eb-c57e-76c26db898a9",
        "colab": {
          "base_uri": "https://localhost:8080/",
          "height": 52
        }
      },
      "source": [
        "don = Duck(\"Donald\")\n",
        "don.get_name()"
      ],
      "execution_count": null,
      "outputs": [
        {
          "output_type": "stream",
          "text": [
            "inside the getter\n"
          ],
          "name": "stdout"
        },
        {
          "output_type": "execute_result",
          "data": {
            "application/vnd.google.colaboratory.intrinsic+json": {
              "type": "string"
            },
            "text/plain": [
              "'Donald'"
            ]
          },
          "metadata": {
            "tags": []
          },
          "execution_count": 64
        }
      ]
    },
    {
      "cell_type": "code",
      "metadata": {
        "id": "IYtVunuGnby6",
        "outputId": "e1896aad-f3b9-435f-92a2-f10402752f84",
        "colab": {
          "base_uri": "https://localhost:8080/"
        }
      },
      "source": [
        "don.set_name('Donna')\n"
      ],
      "execution_count": null,
      "outputs": [
        {
          "output_type": "stream",
          "text": [
            "inside the setter\n"
          ],
          "name": "stdout"
        }
      ]
    },
    {
      "cell_type": "code",
      "metadata": {
        "id": "w-F3fd__n1-y",
        "outputId": "4b3b1908-3319-48c7-dbc9-282d34356603",
        "colab": {
          "base_uri": "https://localhost:8080/",
          "height": 52
        }
      },
      "source": [
        "don.get_name()"
      ],
      "execution_count": null,
      "outputs": [
        {
          "output_type": "stream",
          "text": [
            "inside the getter\n"
          ],
          "name": "stdout"
        },
        {
          "output_type": "execute_result",
          "data": {
            "application/vnd.google.colaboratory.intrinsic+json": {
              "type": "string"
            },
            "text/plain": [
              "'Donna'"
            ]
          },
          "metadata": {
            "tags": []
          },
          "execution_count": 66
        }
      ]
    },
    {
      "cell_type": "markdown",
      "metadata": {
        "id": "zKWErmLidnHn"
      },
      "source": [
        "## property：用於處理屬性隱私問題"
      ]
    },
    {
      "cell_type": "markdown",
      "metadata": {
        "id": "w415UiT8n9jz"
      },
      "source": [
        "### 方法一\n",
        "在尾端加入property()\n",
        "\n",
        "\n"
      ]
    },
    {
      "cell_type": "code",
      "metadata": {
        "id": "1m4oAIsMoPgC"
      },
      "source": [
        "class Duck():\n",
        "  def __init__(self,input_name):\n",
        "    self.hidden_name=input_name\n",
        "  def get_name(self):\n",
        "    print(\"inside the getter\")\n",
        "    return self.hidden_name\n",
        "  def set_name(self,input_name):\n",
        "    print(\"inside the setter\")\n",
        "    self.hidden_name = input_name\n",
        "  name=property(get_name,set_name)"
      ],
      "execution_count": null,
      "outputs": []
    },
    {
      "cell_type": "code",
      "metadata": {
        "id": "aWP0vrGuopQT",
        "outputId": "d78a418d-c711-4e27-ac79-ae9fa963bcce",
        "colab": {
          "base_uri": "https://localhost:8080/",
          "height": 52
        }
      },
      "source": [
        "don = Duck(\"Donald\")\n",
        "don.get_name()"
      ],
      "execution_count": null,
      "outputs": [
        {
          "output_type": "stream",
          "text": [
            "inside the getter\n"
          ],
          "name": "stdout"
        },
        {
          "output_type": "execute_result",
          "data": {
            "application/vnd.google.colaboratory.intrinsic+json": {
              "type": "string"
            },
            "text/plain": [
              "'Donald'"
            ]
          },
          "metadata": {
            "tags": []
          },
          "execution_count": 68
        }
      ]
    },
    {
      "cell_type": "code",
      "metadata": {
        "id": "X2KOqQP4opQn",
        "outputId": "33941aab-27f3-411b-ab8d-86d29522a08e",
        "colab": {
          "base_uri": "https://localhost:8080/"
        }
      },
      "source": [
        "don.set_name('Donna')\n"
      ],
      "execution_count": null,
      "outputs": [
        {
          "output_type": "stream",
          "text": [
            "inside the setter\n"
          ],
          "name": "stdout"
        }
      ]
    },
    {
      "cell_type": "code",
      "metadata": {
        "id": "RFVyVI3DopQx",
        "outputId": "b850ea40-a440-4c04-e535-bdb77b2bd2cc",
        "colab": {
          "base_uri": "https://localhost:8080/",
          "height": 52
        }
      },
      "source": [
        "don.get_name()"
      ],
      "execution_count": null,
      "outputs": [
        {
          "output_type": "stream",
          "text": [
            "inside the getter\n"
          ],
          "name": "stdout"
        },
        {
          "output_type": "execute_result",
          "data": {
            "application/vnd.google.colaboratory.intrinsic+json": {
              "type": "string"
            },
            "text/plain": [
              "'Donna'"
            ]
          },
          "metadata": {
            "tags": []
          },
          "execution_count": 70
        }
      ]
    },
    {
      "cell_type": "markdown",
      "metadata": {
        "id": "7R0YF8hroWwT"
      },
      "source": [
        "### 方法二\n",
        "加入裝飾器\n",
        "* 在getter前加入@property\n",
        "* 在setter前加入@name.setter"
      ]
    },
    {
      "cell_type": "code",
      "metadata": {
        "id": "pDhmL899pOhz"
      },
      "source": [
        "class Duck():\n",
        "  def __init__(self,input_name):\n",
        "    self.hidden_name=input_name\n",
        "  @property\n",
        "  def name(self):\n",
        "    print(\"inside the getter\")\n",
        "    return self.hidden_name\n",
        "  @name.setter\n",
        "  def name(self,input_name):\n",
        "    print(\"inside the setter\")\n",
        "    self.hidden_name = input_name"
      ],
      "execution_count": null,
      "outputs": []
    },
    {
      "cell_type": "code",
      "metadata": {
        "id": "C0sWhV11pazL",
        "outputId": "8a5fc61b-7168-4ed8-d510-4a9df85714b8",
        "colab": {
          "base_uri": "https://localhost:8080/",
          "height": 52
        }
      },
      "source": [
        "fowl = Duck(\"Howard\")\n",
        "fowl.name"
      ],
      "execution_count": null,
      "outputs": [
        {
          "output_type": "stream",
          "text": [
            "inside the getter\n"
          ],
          "name": "stdout"
        },
        {
          "output_type": "execute_result",
          "data": {
            "application/vnd.google.colaboratory.intrinsic+json": {
              "type": "string"
            },
            "text/plain": [
              "'Howard'"
            ]
          },
          "metadata": {
            "tags": []
          },
          "execution_count": 86
        }
      ]
    },
    {
      "cell_type": "code",
      "metadata": {
        "id": "KXhCGOGnpaze",
        "outputId": "ea800bd8-445e-40f6-905c-28557b32edcb",
        "colab": {
          "base_uri": "https://localhost:8080/"
        }
      },
      "source": [
        "fowl.name = 'Donald'\n"
      ],
      "execution_count": null,
      "outputs": [
        {
          "output_type": "stream",
          "text": [
            "inside the setter\n"
          ],
          "name": "stdout"
        }
      ]
    },
    {
      "cell_type": "code",
      "metadata": {
        "id": "jLMxt0Lzpazk",
        "outputId": "84f66f18-01e0-4ff6-cec5-d98d65f90c44",
        "colab": {
          "base_uri": "https://localhost:8080/",
          "height": 182
        }
      },
      "source": [
        "fowl.name()"
      ],
      "execution_count": null,
      "outputs": [
        {
          "output_type": "stream",
          "text": [
            "inside the getter\n"
          ],
          "name": "stdout"
        },
        {
          "output_type": "error",
          "ename": "TypeError",
          "evalue": "ignored",
          "traceback": [
            "\u001b[0;31m---------------------------------------------------------------------------\u001b[0m",
            "\u001b[0;31mTypeError\u001b[0m                                 Traceback (most recent call last)",
            "\u001b[0;32m<ipython-input-88-01efe133b1b4>\u001b[0m in \u001b[0;36m<module>\u001b[0;34m()\u001b[0m\n\u001b[0;32m----> 1\u001b[0;31m \u001b[0mfowl\u001b[0m\u001b[0;34m.\u001b[0m\u001b[0mname\u001b[0m\u001b[0;34m(\u001b[0m\u001b[0;34m)\u001b[0m\u001b[0;34m\u001b[0m\u001b[0;34m\u001b[0m\u001b[0m\n\u001b[0m",
            "\u001b[0;31mTypeError\u001b[0m: 'str' object is not callable"
          ]
        }
      ]
    },
    {
      "cell_type": "markdown",
      "metadata": {
        "id": "5EqBnHs2drzX"
      },
      "source": [
        "### 計算回傳的值\n",
        "\n",
        "藉由property()回傳計算出來的值\n"
      ]
    },
    {
      "cell_type": "code",
      "metadata": {
        "id": "LzCdIOlleyeR"
      },
      "source": [
        "class Circle():\n",
        "  def __init__(self,radius):\n",
        "    self.radius = radius\n",
        "  @property\n",
        "  def diameter(self):\n",
        "    return 2* self.radius\n"
      ],
      "execution_count": null,
      "outputs": []
    },
    {
      "cell_type": "code",
      "metadata": {
        "id": "7PhsIxb_fRkG",
        "outputId": "74c109db-f6ff-442a-cefe-1f143541da06",
        "colab": {
          "base_uri": "https://localhost:8080/"
        }
      },
      "source": [
        "c = Circle(5)\n",
        "c.radius"
      ],
      "execution_count": null,
      "outputs": [
        {
          "output_type": "execute_result",
          "data": {
            "text/plain": [
              "5"
            ]
          },
          "metadata": {
            "tags": []
          },
          "execution_count": 3
        }
      ]
    },
    {
      "cell_type": "markdown",
      "metadata": {
        "id": "3UfVsGTFgTnx"
      },
      "source": [
        "如果沒有為屬性指定**setter property**，就不能在外頭修改它。  \n",
        "適合用作**唯讀屬性**。"
      ]
    },
    {
      "cell_type": "code",
      "metadata": {
        "id": "6CuTP1t0g2x0",
        "outputId": "374f861b-3121-4fd0-eca3-dc9eaf6c9081",
        "colab": {
          "base_uri": "https://localhost:8080/",
          "height": 165
        }
      },
      "source": [
        "c.diameter = 20"
      ],
      "execution_count": null,
      "outputs": [
        {
          "output_type": "error",
          "ename": "AttributeError",
          "evalue": "ignored",
          "traceback": [
            "\u001b[0;31m---------------------------------------------------------------------------\u001b[0m",
            "\u001b[0;31mAttributeError\u001b[0m                            Traceback (most recent call last)",
            "\u001b[0;32m<ipython-input-4-808ea3f73d1a>\u001b[0m in \u001b[0;36m<module>\u001b[0;34m()\u001b[0m\n\u001b[0;32m----> 1\u001b[0;31m \u001b[0mc\u001b[0m\u001b[0;34m.\u001b[0m\u001b[0mdiameter\u001b[0m \u001b[0;34m=\u001b[0m \u001b[0;36m20\u001b[0m\u001b[0;34m\u001b[0m\u001b[0;34m\u001b[0m\u001b[0m\n\u001b[0m",
            "\u001b[0;31mAttributeError\u001b[0m: can't set attribute"
          ]
        }
      ]
    },
    {
      "cell_type": "markdown",
      "metadata": {
        "id": "EJDpVqcBiYoM"
      },
      "source": [
        "### 修飾名稱來保護隱私：在開頭使用雙底線(__)\n",
        "該命名規範無法完全私用，但Python會修飾(mangle)屬性名稱使外頭的程式碼不易發現它。  \n",
        "可以防止意外或故意直接存取屬性。\n"
      ]
    },
    {
      "cell_type": "code",
      "metadata": {
        "id": "qYqArfOCijPW"
      },
      "source": [
        "class Duck():\n",
        "  def __init__(self,input_name):\n",
        "    self.__name = input_name\n",
        "  @property\n",
        "  def name(self):\n",
        "    print(\"inside the getter\")\n",
        "    return self.__name\n",
        "  @name.setter\n",
        "  def name(self,input_name):\n",
        "    print(\"inside the setter\")\n",
        "    self.__name = input_name"
      ],
      "execution_count": null,
      "outputs": []
    },
    {
      "cell_type": "code",
      "metadata": {
        "id": "hy4RmOxe2T2m",
        "outputId": "bf480463-6132-40e0-fc54-f3f80b4cfa86",
        "colab": {
          "base_uri": "https://localhost:8080/",
          "height": 52
        }
      },
      "source": [
        "fowl = Duck(\"Howard\")\n",
        "fowl.name"
      ],
      "execution_count": null,
      "outputs": [
        {
          "output_type": "stream",
          "text": [
            "inside the getter\n"
          ],
          "name": "stdout"
        },
        {
          "output_type": "execute_result",
          "data": {
            "application/vnd.google.colaboratory.intrinsic+json": {
              "type": "string"
            },
            "text/plain": [
              "'Howard'"
            ]
          },
          "metadata": {
            "tags": []
          },
          "execution_count": 6
        }
      ]
    },
    {
      "cell_type": "code",
      "metadata": {
        "id": "SJxMhJjV2T2s",
        "outputId": "3c96e88d-cd2f-4187-b1fa-5cd32defaebb",
        "colab": {
          "base_uri": "https://localhost:8080/"
        }
      },
      "source": [
        "fowl.name = \"Donald\"\n"
      ],
      "execution_count": null,
      "outputs": [
        {
          "output_type": "stream",
          "text": [
            "inside the setter\n"
          ],
          "name": "stdout"
        }
      ]
    },
    {
      "cell_type": "code",
      "metadata": {
        "id": "Ln394iMp1k5W",
        "outputId": "9588a1c3-c90c-4b2c-963e-7ab662c4aaf2",
        "colab": {
          "base_uri": "https://localhost:8080/",
          "height": 52
        }
      },
      "source": [
        "fowl.name"
      ],
      "execution_count": null,
      "outputs": [
        {
          "output_type": "stream",
          "text": [
            "inside the getter\n"
          ],
          "name": "stdout"
        },
        {
          "output_type": "execute_result",
          "data": {
            "application/vnd.google.colaboratory.intrinsic+json": {
              "type": "string"
            },
            "text/plain": [
              "'Donald'"
            ]
          },
          "metadata": {
            "tags": []
          },
          "execution_count": 8
        }
      ]
    },
    {
      "cell_type": "markdown",
      "metadata": {
        "id": "uvno9kRq2xTC"
      },
      "source": [
        "這個物件能執行讀取，但不能存取__name屬性"
      ]
    },
    {
      "cell_type": "code",
      "metadata": {
        "id": "4WKWOKNN25xe",
        "outputId": "3f5195cf-3b51-4605-8429-87731664f7db",
        "colab": {
          "base_uri": "https://localhost:8080/",
          "height": 163
        }
      },
      "source": [
        "fowl.__name"
      ],
      "execution_count": null,
      "outputs": [
        {
          "output_type": "error",
          "ename": "AttributeError",
          "evalue": "ignored",
          "traceback": [
            "\u001b[0;31m---------------------------------------------------------------------------\u001b[0m",
            "\u001b[0;31mAttributeError\u001b[0m                            Traceback (most recent call last)",
            "\u001b[0;32m<ipython-input-9-39d081ea2ef8>\u001b[0m in \u001b[0;36m<module>\u001b[0;34m()\u001b[0m\n\u001b[0;32m----> 1\u001b[0;31m \u001b[0mfowl\u001b[0m\u001b[0;34m.\u001b[0m\u001b[0m__name\u001b[0m\u001b[0;34m\u001b[0m\u001b[0;34m\u001b[0m\u001b[0m\n\u001b[0m",
            "\u001b[0;31mAttributeError\u001b[0m: 'Duck' object has no attribute '__name'"
          ]
        }
      ]
    },
    {
      "cell_type": "markdown",
      "metadata": {
        "id": "M6F8L_o03hfF"
      },
      "source": [
        "# 類別與物件屬性"
      ]
    },
    {
      "cell_type": "code",
      "metadata": {
        "id": "hcsfdGL_CWWT"
      },
      "source": [
        "class Fruit:\n",
        "  color=\"red\" # 屬性\n",
        "\n",
        "blueberry = Fruit()\n"
      ],
      "execution_count": null,
      "outputs": []
    },
    {
      "cell_type": "code",
      "metadata": {
        "id": "a2jGc7AICf83",
        "outputId": "2a6359b0-14d8-41d4-9328-b68c1845dc64",
        "colab": {
          "base_uri": "https://localhost:8080/",
          "height": 35
        }
      },
      "source": [
        "Fruit.color"
      ],
      "execution_count": null,
      "outputs": [
        {
          "output_type": "execute_result",
          "data": {
            "application/vnd.google.colaboratory.intrinsic+json": {
              "type": "string"
            },
            "text/plain": [
              "'red'"
            ]
          },
          "metadata": {
            "tags": []
          },
          "execution_count": 11
        }
      ]
    },
    {
      "cell_type": "code",
      "metadata": {
        "id": "y45bqnaRCgnZ",
        "outputId": "51275162-2b0f-4775-d524-fd0887468d89",
        "colab": {
          "base_uri": "https://localhost:8080/",
          "height": 35
        }
      },
      "source": [
        "blueberry.color"
      ],
      "execution_count": null,
      "outputs": [
        {
          "output_type": "execute_result",
          "data": {
            "application/vnd.google.colaboratory.intrinsic+json": {
              "type": "string"
            },
            "text/plain": [
              "'red'"
            ]
          },
          "metadata": {
            "tags": []
          },
          "execution_count": 12
        }
      ]
    },
    {
      "cell_type": "markdown",
      "metadata": {
        "id": "Wh9XVIwrCkkX"
      },
      "source": [
        "可以將屬性指派給類別，但它不會影響類別屬性"
      ]
    },
    {
      "cell_type": "code",
      "metadata": {
        "id": "wcxOAkJxCuM5"
      },
      "source": [
        "blueberry.color = \"blue\""
      ],
      "execution_count": null,
      "outputs": []
    },
    {
      "cell_type": "code",
      "metadata": {
        "id": "83JySTzPC3Zn",
        "outputId": "a2515a9e-ed59-4d8e-8995-f3cb93d3e588",
        "colab": {
          "base_uri": "https://localhost:8080/",
          "height": 35
        }
      },
      "source": [
        "blueberry.color"
      ],
      "execution_count": null,
      "outputs": [
        {
          "output_type": "execute_result",
          "data": {
            "application/vnd.google.colaboratory.intrinsic+json": {
              "type": "string"
            },
            "text/plain": [
              "'blue'"
            ]
          },
          "metadata": {
            "tags": []
          },
          "execution_count": 15
        }
      ]
    },
    {
      "cell_type": "code",
      "metadata": {
        "id": "lNljZaQiCx3b",
        "outputId": "38893456-9032-46af-cd78-c1408eb27e4c",
        "colab": {
          "base_uri": "https://localhost:8080/",
          "height": 35
        }
      },
      "source": [
        "Fruit.color"
      ],
      "execution_count": null,
      "outputs": [
        {
          "output_type": "execute_result",
          "data": {
            "application/vnd.google.colaboratory.intrinsic+json": {
              "type": "string"
            },
            "text/plain": [
              "'red'"
            ]
          },
          "metadata": {
            "tags": []
          },
          "execution_count": 14
        }
      ]
    },
    {
      "cell_type": "markdown",
      "metadata": {
        "id": "fHQk4HGpC1g0"
      },
      "source": [
        "若改變類別屬性，不會影響既有的子物件  \n",
        "會影響到未來新建立的物件"
      ]
    },
    {
      "cell_type": "code",
      "metadata": {
        "id": "Lp9C9-G9DEA-"
      },
      "source": [
        "Fruit.color = \"orange\""
      ],
      "execution_count": null,
      "outputs": []
    },
    {
      "cell_type": "code",
      "metadata": {
        "id": "GV03mP4qDJYS",
        "outputId": "a9405232-2db6-4c1f-aa75-634753aac5fb",
        "colab": {
          "base_uri": "https://localhost:8080/",
          "height": 35
        }
      },
      "source": [
        "Fruit.color "
      ],
      "execution_count": null,
      "outputs": [
        {
          "output_type": "execute_result",
          "data": {
            "application/vnd.google.colaboratory.intrinsic+json": {
              "type": "string"
            },
            "text/plain": [
              "'orange'"
            ]
          },
          "metadata": {
            "tags": []
          },
          "execution_count": 17
        }
      ]
    },
    {
      "cell_type": "code",
      "metadata": {
        "id": "OPXmBGGCDJYO",
        "outputId": "579970fd-bb83-4470-b901-266bd6589ae3",
        "colab": {
          "base_uri": "https://localhost:8080/",
          "height": 35
        }
      },
      "source": [
        "blueberry.color #原先的物件未被影響"
      ],
      "execution_count": null,
      "outputs": [
        {
          "output_type": "execute_result",
          "data": {
            "application/vnd.google.colaboratory.intrinsic+json": {
              "type": "string"
            },
            "text/plain": [
              "'blue'"
            ]
          },
          "metadata": {
            "tags": []
          },
          "execution_count": 18
        }
      ]
    },
    {
      "cell_type": "code",
      "metadata": {
        "id": "eJ8mYWLIDa-e",
        "outputId": "66e88b78-f426-4220-d54d-26db11cb6008",
        "colab": {
          "base_uri": "https://localhost:8080/",
          "height": 35
        }
      },
      "source": [
        "new_fruit = Fruit()\n",
        "new_fruit.color"
      ],
      "execution_count": null,
      "outputs": [
        {
          "output_type": "execute_result",
          "data": {
            "application/vnd.google.colaboratory.intrinsic+json": {
              "type": "string"
            },
            "text/plain": [
              "'orange'"
            ]
          },
          "metadata": {
            "tags": []
          },
          "execution_count": 19
        }
      ]
    },
    {
      "cell_type": "markdown",
      "metadata": {
        "id": "YfHzs6WF5POG"
      },
      "source": [
        "# 方法型態\n",
        "* 引數為 self\n",
        "* @classmethod\n",
        "* @staticmethod"
      ]
    },
    {
      "cell_type": "markdown",
      "metadata": {
        "id": "jlc_md_m5SWI"
      },
      "source": [
        "## 實例型態\n",
        "類別定義式裡第一個引數是 **self**   \n",
        "呼叫該方法時，Python會將該物件傳給這個方法"
      ]
    },
    {
      "cell_type": "code",
      "metadata": {
        "id": "ntbreiFukqsa"
      },
      "source": [
        "class Duck():\n",
        "  def __init__(self,input_name):\n",
        "    self.__name = input_name\n",
        "  @property\n",
        "  def name(self):\n",
        "    print(\"inside the getter\")\n",
        "    return self.__name\n",
        "  @name.setter\n",
        "  def name(self,input_name):\n",
        "    print(\"inside the setter\")\n",
        "    self.__name = input_name"
      ],
      "execution_count": null,
      "outputs": []
    },
    {
      "cell_type": "markdown",
      "metadata": {
        "id": "CvNFJB9g5VIK"
      },
      "source": [
        "## 類別方法\n",
        "會引響整個類別，對它做的任何改變會影響他的所有物件  \n",
        "使用 @classmethod"
      ]
    },
    {
      "cell_type": "code",
      "metadata": {
        "id": "RgtkmgT8j9k8"
      },
      "source": [
        "class A():\n",
        "  count = 0\n",
        "  def __init__(self):\n",
        "    A.count += 1 #若有建立物件，則計數加1\n",
        "  def exclaim(self):\n",
        "    print(\"I'm an A!\")\n",
        "  @classmethod\n",
        "  def kids(cls):\n",
        "    print(\"A has\", cls.count,\"little objects.\")"
      ],
      "execution_count": 4,
      "outputs": []
    },
    {
      "cell_type": "markdown",
      "metadata": {
        "id": "pBpHjYEcmXts"
      },
      "source": [
        "### cls ：該方法的第一個參數\n",
        "它是類別本身"
      ]
    },
    {
      "cell_type": "code",
      "metadata": {
        "id": "h1idj0Domp4n",
        "outputId": "7a0673de-1e59-477d-cce6-837007683251",
        "colab": {
          "base_uri": "https://localhost:8080/"
        }
      },
      "source": [
        "easy_a = A()\n",
        "breezy_a = A()\n",
        "wheezy_a = A()\n",
        "A.kids()"
      ],
      "execution_count": 5,
      "outputs": [
        {
          "output_type": "stream",
          "text": [
            "A has 3 little objects.\n"
          ],
          "name": "stdout"
        }
      ]
    },
    {
      "cell_type": "markdown",
      "metadata": {
        "id": "e-DCwVxE5W_b"
      },
      "source": [
        "## 靜態方法\n",
        "既不影響類別亦不影響物件\n",
        "使用**@staticmethod**裝飾器"
      ]
    },
    {
      "cell_type": "code",
      "metadata": {
        "id": "FfhtnIlpnqln"
      },
      "source": [
        "class CoyoteWeapon():\n",
        "  @staticmethod\n",
        "  def commertial():\n",
        "    print(\"This CoyoteWeapon has been brought to you by Acme.\")"
      ],
      "execution_count": 6,
      "outputs": []
    },
    {
      "cell_type": "code",
      "metadata": {
        "id": "WNXHrvsUn7O1",
        "outputId": "c77a9881-5345-405e-c804-4d85e7d81401",
        "colab": {
          "base_uri": "https://localhost:8080/"
        }
      },
      "source": [
        "CoyoteWeapon.commertial()"
      ],
      "execution_count": 7,
      "outputs": [
        {
          "output_type": "stream",
          "text": [
            "This CoyoteWeapon has been brought to you by Acme.\n"
          ],
          "name": "stdout"
        }
      ]
    },
    {
      "cell_type": "markdown",
      "metadata": {
        "id": "VXjKr8v15a2A"
      },
      "source": [
        "# 鴨子定型\n",
        "> *如果他走路的樣子像個鴨子，叫聲也像鴨子，它就是鴨子。*  \n",
        "  \n",
        "可以同時對多個不同物件進行相同的操作"
      ]
    },
    {
      "cell_type": "markdown",
      "metadata": {
        "id": "6949F2WipRGm"
      },
      "source": [
        "現在讓全部三個Quote類別使用同一個__init__()初始化方法"
      ]
    },
    {
      "cell_type": "code",
      "metadata": {
        "id": "CxvNRrC1ofZI"
      },
      "source": [
        "class Quote():\n",
        "  #初始化物件屬性的方法(函式)\n",
        "  def __init__(self,person,words): \n",
        "    self.person = person\n",
        "    self.words = words\n",
        "  #支援的呼叫方法(函式)\n",
        "  def who(self):  \n",
        "    return self.person\n",
        "  def says(self):\n",
        "    return self.words+\".\"\n",
        "\n",
        "class QuestionQuote(Quote):\n",
        "  def says(self):\n",
        "    return self.words +\"?\"\n",
        "\n",
        "class ExclamationQuote(Quote):\n",
        "  def says(self):\n",
        "    return self.words +\"!\""
      ],
      "execution_count": 9,
      "outputs": []
    },
    {
      "cell_type": "markdown",
      "metadata": {
        "id": "zKB7ZpMjqQCW"
      },
      "source": [
        "製作一些物件"
      ]
    },
    {
      "cell_type": "code",
      "metadata": {
        "id": "Wlu0nEkMqRzx",
        "outputId": "5fea1c64-4aa7-4e43-d732-28026f567452",
        "colab": {
          "base_uri": "https://localhost:8080/"
        }
      },
      "source": [
        "hunter = Quote(\"Elmer Fudd\",\"I'm hunting wabbits\")\n",
        "print(hunter.who(),\"says:\",hunter.says())"
      ],
      "execution_count": 17,
      "outputs": [
        {
          "output_type": "stream",
          "text": [
            "Elmer Fudd says: I'm hunting wabbits.\n"
          ],
          "name": "stdout"
        }
      ]
    },
    {
      "cell_type": "code",
      "metadata": {
        "id": "aFq498GiriPo",
        "outputId": "2a95fc9d-b37d-48fc-b80d-832e16504db4",
        "colab": {
          "base_uri": "https://localhost:8080/"
        }
      },
      "source": [
        "hunter1 = QuestionQuote(\"Bugs Bunny\",\"Whats up, doc\")\n",
        "print(hunter1.who(),\"says:\",hunter1.says())"
      ],
      "execution_count": 20,
      "outputs": [
        {
          "output_type": "stream",
          "text": [
            "Bugs Bunny says: Whats up, doc?\n"
          ],
          "name": "stdout"
        }
      ]
    },
    {
      "cell_type": "code",
      "metadata": {
        "id": "04g2oo6briXy",
        "outputId": "6076fe6e-db9a-4dcd-ed09-e36dfd4104a6",
        "colab": {
          "base_uri": "https://localhost:8080/"
        }
      },
      "source": [
        "hunter2 = ExclamationQuote(\"Daffy Duck\",\"It's rabbit season\")\n",
        "print(hunter2.who(),\"says:\",hunter2.says())"
      ],
      "execution_count": 21,
      "outputs": [
        {
          "output_type": "stream",
          "text": [
            "Daffy Duck says: It's rabbit season!\n"
          ],
          "name": "stdout"
        }
      ]
    },
    {
      "cell_type": "markdown",
      "metadata": {
        "id": "ycUx8HL1H24g"
      },
      "source": [
        "### 多型 (Polymorphism)  \n",
        " 創造一個通用的 function 給所有汽車類別使用"
      ]
    },
    {
      "cell_type": "markdown",
      "metadata": {
        "id": "HnHp-bT3s-Jj"
      },
      "source": [
        "這是傳統的物件導向語言的**多型**  \n",
        "Python能執行擁有who() 與 says() 這兩種物件的方法 "
      ]
    },
    {
      "cell_type": "code",
      "metadata": {
        "id": "c9OiCa9QtJ7U"
      },
      "source": [
        "class BabblingBrook():\n",
        "  def who(self):\n",
        "    return \"Brook\"\n",
        "  def says(self):\n",
        "    return \"Babble\""
      ],
      "execution_count": 23,
      "outputs": []
    },
    {
      "cell_type": "code",
      "metadata": {
        "id": "IoRcBYfYtoN2"
      },
      "source": [
        "brook = BabblingBrook()"
      ],
      "execution_count": 24,
      "outputs": []
    },
    {
      "cell_type": "code",
      "metadata": {
        "id": "55VVJwuQtuMQ"
      },
      "source": [
        "def who_says(obj):\n",
        "  print(obj.who(),\"says\",obj.says())"
      ],
      "execution_count": 25,
      "outputs": []
    },
    {
      "cell_type": "code",
      "metadata": {
        "id": "yqgtJc4Dt7lq",
        "outputId": "fcf3797d-1314-4175-d94f-9f04bfe40bb1",
        "colab": {
          "base_uri": "https://localhost:8080/"
        }
      },
      "source": [
        "who_says(hunter)"
      ],
      "execution_count": 26,
      "outputs": [
        {
          "output_type": "stream",
          "text": [
            "Elmer Fudd says I'm hunting wabbits.\n"
          ],
          "name": "stdout"
        }
      ]
    },
    {
      "cell_type": "code",
      "metadata": {
        "id": "VWBdgUe8uAtX",
        "outputId": "06f4dc12-b90e-4a5b-de49-56b79439b801",
        "colab": {
          "base_uri": "https://localhost:8080/"
        }
      },
      "source": [
        "who_says(hunter1)"
      ],
      "execution_count": 27,
      "outputs": [
        {
          "output_type": "stream",
          "text": [
            "Bugs Bunny says Whats up, doc?\n"
          ],
          "name": "stdout"
        }
      ]
    },
    {
      "cell_type": "code",
      "metadata": {
        "id": "HTv3TpxxuA2v",
        "outputId": "a7f15137-92e0-4f01-fde0-85e74e4c564f",
        "colab": {
          "base_uri": "https://localhost:8080/"
        }
      },
      "source": [
        "who_says(hunter2)"
      ],
      "execution_count": 28,
      "outputs": [
        {
          "output_type": "stream",
          "text": [
            "Daffy Duck says It's rabbit season!\n"
          ],
          "name": "stdout"
        }
      ]
    },
    {
      "cell_type": "code",
      "metadata": {
        "id": "iKxwou8iuFtZ",
        "outputId": "65e86f91-bff4-45d4-8436-5969d0615ca2",
        "colab": {
          "base_uri": "https://localhost:8080/"
        }
      },
      "source": [
        "who_says(brook)"
      ],
      "execution_count": 29,
      "outputs": [
        {
          "output_type": "stream",
          "text": [
            "Brook says Babble\n"
          ],
          "name": "stdout"
        }
      ]
    },
    {
      "cell_type": "markdown",
      "metadata": {
        "id": "jTO9lgf4v1wq"
      },
      "source": [
        "# 魔術方法"
      ]
    },
    {
      "cell_type": "markdown",
      "metadata": {
        "id": "lgjoNzsg0XCd"
      },
      "source": [
        " 一般的方法"
      ]
    },
    {
      "cell_type": "code",
      "metadata": {
        "id": "Fj3xK7fZ0C_E"
      },
      "source": [
        "class Word():\n",
        "  def __init__(self,text):\n",
        "    self.text = text\n",
        "  \n",
        "  def equals(self,word2):\n",
        "    return self.text.lower()==word2.text.lower()"
      ],
      "execution_count": 49,
      "outputs": []
    },
    {
      "cell_type": "code",
      "metadata": {
        "id": "dvwK3seoFXbr"
      },
      "source": [
        "first = Word(\"ha\")\n",
        "second = Word(\"HA\")\n",
        "third = Word(\"eh\")"
      ],
      "execution_count": 51,
      "outputs": []
    },
    {
      "cell_type": "code",
      "metadata": {
        "id": "Gj3qRxwnFXbv",
        "outputId": "4822afe1-a786-4411-a1c3-4c4e2710010b",
        "colab": {
          "base_uri": "https://localhost:8080/"
        }
      },
      "source": [
        "first.equals(second)"
      ],
      "execution_count": 52,
      "outputs": [
        {
          "output_type": "execute_result",
          "data": {
            "text/plain": [
              "True"
            ]
          },
          "metadata": {
            "tags": []
          },
          "execution_count": 52
        }
      ]
    },
    {
      "cell_type": "code",
      "metadata": {
        "id": "3tfwWKugFXby",
        "outputId": "128196e9-7926-48d8-b0ff-24c98fee3225",
        "colab": {
          "base_uri": "https://localhost:8080/"
        }
      },
      "source": [
        "first.equals(third)"
      ],
      "execution_count": 53,
      "outputs": [
        {
          "output_type": "execute_result",
          "data": {
            "text/plain": [
              "False"
            ]
          },
          "metadata": {
            "tags": []
          },
          "execution_count": 53
        }
      ]
    },
    {
      "cell_type": "markdown",
      "metadata": {
        "id": "V7ld3OWU0ehf"
      },
      "source": [
        "利用魔術方法"
      ]
    },
    {
      "cell_type": "code",
      "metadata": {
        "id": "0klH692W0aZi"
      },
      "source": [
        "class Word():\n",
        "  def __init__(self,text):\n",
        "    self.text = text\n",
        "  \n",
        "  def __eq__(self,word2):\n",
        "    return self.text.lower()==word2.text.lower()"
      ],
      "execution_count": 36,
      "outputs": []
    },
    {
      "cell_type": "code",
      "metadata": {
        "id": "A9YsDYZz0kQf"
      },
      "source": [
        "first = Word(\"ha\")\n",
        "second = Word(\"HA\")\n",
        "third = Word(\"eh\")"
      ],
      "execution_count": 38,
      "outputs": []
    },
    {
      "cell_type": "markdown",
      "metadata": {
        "id": "iFQOMaQ5FA1n"
      },
      "source": [
        "藉由更改為「魔術方法」的表達式，  \n",
        "能使用Python內建的運算元進行自定義物件的比較運算"
      ]
    },
    {
      "cell_type": "code",
      "metadata": {
        "id": "AIyRuVhn0vAd",
        "outputId": "80bd1eb3-c56b-4871-87e4-8a2f8c71745d",
        "colab": {
          "base_uri": "https://localhost:8080/"
        }
      },
      "source": [
        "first == second"
      ],
      "execution_count": 39,
      "outputs": [
        {
          "output_type": "execute_result",
          "data": {
            "text/plain": [
              "True"
            ]
          },
          "metadata": {
            "tags": []
          },
          "execution_count": 39
        }
      ]
    },
    {
      "cell_type": "code",
      "metadata": {
        "id": "6h0A95gD0xaf",
        "outputId": "82ca84dc-8a38-4321-b7d0-b10370cf382f",
        "colab": {
          "base_uri": "https://localhost:8080/"
        }
      },
      "source": [
        "first == third"
      ],
      "execution_count": 99,
      "outputs": [
        {
          "output_type": "execute_result",
          "data": {
            "text/plain": [
              "False"
            ]
          },
          "metadata": {
            "tags": []
          },
          "execution_count": 99
        }
      ]
    },
    {
      "cell_type": "markdown",
      "metadata": {
        "id": "XMIjRyabxMPx"
      },
      "source": [
        "## 進行比較的魔術方法\n",
        "\n",
        "|   方法       |   說明   |\n",
        "|------------------------|-----------------|\n",
        "| \\_\\_eq__(self,other) | self==other  |\n",
        "| \\_\\_ne__(self,other) | self!=other  |\n",
        "| \\_\\_lt__(self,other) | self\\<other  |\n",
        "| \\_\\_gt__(self,other) | self\\>other  |\n",
        "| \\_\\_le__(self,other) | self<=other  |\n",
        "| \\_\\_ge__(self,other) | self>=other  |"
      ]
    },
    {
      "cell_type": "markdown",
      "metadata": {
        "id": "gaLgo--DxQzp"
      },
      "source": [
        "## 進行算數的魔術方法\n",
        "\n",
        "|        方法       |   說明   |\n",
        "|-----------------------------------|----------------|\n",
        "|   \\_\\_add__(self,other)    | self+other  |\n",
        "|   \\_\\_sub__(self,other)    | self-other  |\n",
        "|   \\_\\_mul__(self,other)    | self*other  |\n",
        "|   \\_\\_floordiv__(self,other)  | self//other |\n",
        "|   \\_\\_truediv__(self,other)  | self/other  |\n",
        "|   \\_\\_mod__(self,other)    | self%other  |\n",
        "|   \\_\\_pow__(self,other)    | self**other |"
      ]
    },
    {
      "cell_type": "markdown",
      "metadata": {
        "id": "NiKw5qPe1F7M"
      },
      "source": [
        "## 其他雜項的魔術方法\n",
        "\n",
        "|      方法       |   說明   |\n",
        "|-----------------------------|----------------|\n",
        "|   \\_\\_str__(self)    | str(self)  |\n",
        "|   \\_\\_repr__(self)    | repr(self)  |\n",
        "|   \\_\\_len__(self)     | len(self)  |"
      ]
    },
    {
      "cell_type": "code",
      "metadata": {
        "id": "7t8UrcY_1l8Z"
      },
      "source": [
        "class Word():\n",
        "  def __init__(self,text):\n",
        "    self.text = text\n",
        "  def __eq__(self,word2):\n",
        "    return self.text.lower() == words.text.lower()\n",
        "  def __str__(self):\n",
        "    return self.text\n",
        "  def __repr__(self):\n",
        "    return 'Word(\"' + self.text +'\")'"
      ],
      "execution_count": 42,
      "outputs": []
    },
    {
      "cell_type": "code",
      "metadata": {
        "id": "9B4agjBa2KX8",
        "outputId": "a5599da6-fcf4-4ce9-9d00-aff4c3c39e59",
        "colab": {
          "base_uri": "https://localhost:8080/"
        }
      },
      "source": [
        "first = Word(\"ha\")\n",
        "first"
      ],
      "execution_count": 44,
      "outputs": [
        {
          "output_type": "execute_result",
          "data": {
            "text/plain": [
              "Word(\"ha\")"
            ]
          },
          "metadata": {
            "tags": []
          },
          "execution_count": 44
        }
      ]
    },
    {
      "cell_type": "code",
      "metadata": {
        "id": "J5rg9Px82QJ8",
        "outputId": "0b0a8b69-6a6c-4dab-9c8a-7c93a8c71477",
        "colab": {
          "base_uri": "https://localhost:8080/"
        }
      },
      "source": [
        "print(first)"
      ],
      "execution_count": 45,
      "outputs": [
        {
          "output_type": "stream",
          "text": [
            "ha\n"
          ],
          "name": "stdout"
        }
      ]
    },
    {
      "cell_type": "markdown",
      "metadata": {
        "id": "kz0tsVWn3C9G"
      },
      "source": [
        "# 聚合與組合"
      ]
    },
    {
      "cell_type": "markdown",
      "metadata": {
        "id": "QCza9opNFxju"
      },
      "source": [
        "### 聚合 (composition)\n",
        "指的是整體與部分的關係，兩者是相互獨立的  \n",
        "例：鴨子使用湖泊，但互不隸屬\n"
      ]
    },
    {
      "cell_type": "markdown",
      "metadata": {
        "id": "m2sPZEISJDA1"
      },
      "source": [
        "### 組合 (aggregation)\n",
        "一樣東西是另一樣的一部分  \n",
        "表示物件之間**整體或部分的關係**，但是組合關係中部分和整體具有統一的生存期。  \n",
        "一旦整體物件不存在，部分物件也將不存在。部分物件與整體物件之間具有共生死的關係。  \n",
        "例：尾巴不是一種鴨子，但它是鴨子的一部分"
      ]
    },
    {
      "cell_type": "code",
      "metadata": {
        "id": "8HnhApPKFx5j"
      },
      "source": [
        "class Bill():\n",
        "  def __init__(self,description):\n",
        "    self.description = description\n",
        "\n",
        "class Tail():\n",
        "  def __init__(self,length):\n",
        "    self.length = length\n",
        "\n",
        "class Duck():\n",
        "  def __init__(self,bill,tail):\n",
        "    self.bill = bill\n",
        "    self.tail = tail\n",
        "  def about(self):\n",
        "    print(\"This duck has a\",self.bill.description,\n",
        "          \"bill and a\",self.tail.length,\"tail\")\n"
      ],
      "execution_count": 57,
      "outputs": []
    },
    {
      "cell_type": "code",
      "metadata": {
        "id": "D19yKfG1LvQg",
        "outputId": "cf45fbe7-2f0d-43c1-9363-6f6d0a971889",
        "colab": {
          "base_uri": "https://localhost:8080/"
        }
      },
      "source": [
        "a_tail = Tail('long')\n",
        "a_bill = Bill(\"wide orange\")\n",
        "duck = Duck(a_bill,a_tail)\n",
        "duck.about()"
      ],
      "execution_count": 58,
      "outputs": [
        {
          "output_type": "stream",
          "text": [
            "This duck has a wide orange bill and a long tail\n"
          ],
          "name": "stdout"
        }
      ]
    },
    {
      "cell_type": "markdown",
      "metadata": {
        "id": "Zbc7cNb-3GZV"
      },
      "source": [
        "# 具名tuple (named tuple)\n",
        "tuple的子類別，能使用名稱(.name)和位置([offset])來存取值。\n",
        "它是**不可變**的\n",
        "* 名稱\n",
        "* 欄位名稱字串，以空格分開"
      ]
    },
    {
      "cell_type": "markdown",
      "metadata": {
        "id": "m_nJalQsOQi1"
      },
      "source": [
        "Python不提供具名tuple，需匯入模組才能使用它們"
      ]
    },
    {
      "cell_type": "code",
      "metadata": {
        "id": "tp1UkS1ENbNQ",
        "outputId": "4f3edd90-882b-4ea7-fa1f-76c64d373875",
        "colab": {
          "base_uri": "https://localhost:8080/"
        }
      },
      "source": [
        "from collections import namedtuple\n",
        "Duck = namedtuple('Duck','bill tail')\n",
        "duck = Duck('wide orange','long')\n",
        "duck #具名tuple"
      ],
      "execution_count": 59,
      "outputs": [
        {
          "output_type": "execute_result",
          "data": {
            "text/plain": [
              "Duck(bill='wide orange', tail='long')"
            ]
          },
          "metadata": {
            "tags": []
          },
          "execution_count": 59
        }
      ]
    },
    {
      "cell_type": "code",
      "metadata": {
        "id": "d82PuR-EOyjd",
        "outputId": "d798aee6-71c1-41a8-b588-fde53e6e162d",
        "colab": {
          "base_uri": "https://localhost:8080/",
          "height": 35
        }
      },
      "source": [
        "duck.bill"
      ],
      "execution_count": 60,
      "outputs": [
        {
          "output_type": "execute_result",
          "data": {
            "application/vnd.google.colaboratory.intrinsic+json": {
              "type": "string"
            },
            "text/plain": [
              "'wide orange'"
            ]
          },
          "metadata": {
            "tags": []
          },
          "execution_count": 60
        }
      ]
    },
    {
      "cell_type": "code",
      "metadata": {
        "id": "Clj-79SQO1_U",
        "outputId": "ecbf7947-48bf-41b0-d4a6-69a4e64cd239",
        "colab": {
          "base_uri": "https://localhost:8080/",
          "height": 35
        }
      },
      "source": [
        "duck.tail"
      ],
      "execution_count": 61,
      "outputs": [
        {
          "output_type": "execute_result",
          "data": {
            "application/vnd.google.colaboratory.intrinsic+json": {
              "type": "string"
            },
            "text/plain": [
              "'long'"
            ]
          },
          "metadata": {
            "tags": []
          },
          "execution_count": 61
        }
      ]
    },
    {
      "cell_type": "markdown",
      "metadata": {
        "id": "eD82N70QRXvo"
      },
      "source": [
        "tuple的特性是宣告後即不能再更動。  \n",
        "因此無法在具名tuple建立後再加入數值"
      ]
    },
    {
      "cell_type": "code",
      "metadata": {
        "id": "q8YlxapzRhBB",
        "outputId": "7d831bc4-00ae-4bb2-ef08-1df546c0558b",
        "colab": {
          "base_uri": "https://localhost:8080/",
          "height": 163
        }
      },
      "source": [
        "duck.color = \"green\""
      ],
      "execution_count": 63,
      "outputs": [
        {
          "output_type": "error",
          "ename": "AttributeError",
          "evalue": "ignored",
          "traceback": [
            "\u001b[0;31m---------------------------------------------------------------------------\u001b[0m",
            "\u001b[0;31mAttributeError\u001b[0m                            Traceback (most recent call last)",
            "\u001b[0;32m<ipython-input-63-860feff69e64>\u001b[0m in \u001b[0;36m<module>\u001b[0;34m()\u001b[0m\n\u001b[0;32m----> 1\u001b[0;31m \u001b[0mduck\u001b[0m\u001b[0;34m.\u001b[0m\u001b[0mcolor\u001b[0m \u001b[0;34m=\u001b[0m \u001b[0;34m\"green\"\u001b[0m\u001b[0;34m\u001b[0m\u001b[0;34m\u001b[0m\u001b[0m\n\u001b[0m",
            "\u001b[0;31mAttributeError\u001b[0m: 'Duck' object has no attribute 'color'"
          ]
        }
      ]
    },
    {
      "cell_type": "markdown",
      "metadata": {
        "id": "5st0-w7VO6al"
      },
      "source": [
        "### 透過字典建立\n",
        "藉由關鍵字引數將parts字典的鍵與值作為引數傳給Duck()。  \n",
        "效果相當於：\n",
        "\n",
        "\n",
        "```\n",
        "Duck(bill='wide orange', tail='long')\n",
        "```\n",
        "\n"
      ]
    },
    {
      "cell_type": "code",
      "metadata": {
        "id": "ZevdBGgRO9nV",
        "outputId": "38c8e9b3-a9cb-4f5f-8cce-500f255f0fb8",
        "colab": {
          "base_uri": "https://localhost:8080/"
        }
      },
      "source": [
        "parts={\"bill\":\"wide orange\",\"tail\":\"long\"}\n",
        "duck2=Duck(**parts) # **parts 是關鍵字引數\n",
        "duck2"
      ],
      "execution_count": 62,
      "outputs": [
        {
          "output_type": "execute_result",
          "data": {
            "text/plain": [
              "Duck(bill='wide orange', tail='long')"
            ]
          },
          "metadata": {
            "tags": []
          },
          "execution_count": 62
        }
      ]
    },
    {
      "cell_type": "markdown",
      "metadata": {
        "id": "cwYRoqwk3Jl-"
      },
      "source": [
        "# 資料類別(dataclass)\n",
        "自**Python 3.7** 加入的新形態"
      ]
    },
    {
      "cell_type": "markdown",
      "metadata": {
        "id": "Rlnqi6zkSKvr"
      },
      "source": [
        "name屬性的老物件"
      ]
    },
    {
      "cell_type": "code",
      "metadata": {
        "id": "NmPM9HAzSW5j",
        "outputId": "c8b724b7-f3bd-414d-c33c-138495a9e61c",
        "colab": {
          "base_uri": "https://localhost:8080/",
          "height": 35
        }
      },
      "source": [
        "class TennyClass():\n",
        "  def __init__(self,name):\n",
        "    self.name=name\n",
        "\n",
        "tenny = TennyClass('itsy')\n",
        "tenny.name"
      ],
      "execution_count": 64,
      "outputs": [
        {
          "output_type": "execute_result",
          "data": {
            "application/vnd.google.colaboratory.intrinsic+json": {
              "type": "string"
            },
            "text/plain": [
              "'itsy'"
            ]
          },
          "metadata": {
            "tags": []
          },
          "execution_count": 64
        }
      ]
    },
    {
      "cell_type": "markdown",
      "metadata": {
        "id": "PUga6TiKSMuW"
      },
      "source": [
        "以dataclass建立的"
      ]
    },
    {
      "cell_type": "code",
      "metadata": {
        "id": "ftPRnbakSlzW",
        "outputId": "193b83fc-e4c3-43fe-83ad-4122e34a63a1",
        "colab": {
          "base_uri": "https://localhost:8080/",
          "height": 35
        }
      },
      "source": [
        "from dataclasses import dataclass\n",
        "@dataclass\n",
        "class TennyDataClass:\n",
        "  name:str\n",
        "\n",
        "tenny = TennyDataClass('bitsy')\n",
        "tenny.name"
      ],
      "execution_count": 66,
      "outputs": [
        {
          "output_type": "execute_result",
          "data": {
            "application/vnd.google.colaboratory.intrinsic+json": {
              "type": "string"
            },
            "text/plain": [
              "'bitsy'"
            ]
          },
          "metadata": {
            "tags": []
          },
          "execution_count": 66
        }
      ]
    },
    {
      "cell_type": "markdown",
      "metadata": {
        "id": "2QVNnX4LS7Yq"
      },
      "source": [
        "### 變數註記(variable annotation)\n",
        "用來定義類別的屬性，  \n",
        "type可以是任何一種Python物件型態     \n",
        "  \n",
        "  ① \n",
        "```\n",
        "name:type\n",
        "```\n",
        "②\n",
        "```\n",
        "name:type = val\n",
        "```\n",
        "相關連結：[PEP 526 -- Syntax for Variable Annotations](https://www.python.org/dev/peps/pep-0526/)  \n",
        "  \n",
        " "
      ]
    },
    {
      "cell_type": "markdown",
      "metadata": {
        "id": "WXvm6_f0T_KR"
      },
      "source": [
        "建立後，需依照引數在類別中的定義順序提供參數，或使用具名引數"
      ]
    },
    {
      "cell_type": "code",
      "metadata": {
        "id": "OIO1ChJjULIo"
      },
      "source": [
        "from dataclasses import dataclass\n",
        "@dataclass\n",
        "class AnimalClass():\n",
        "  name:str\n",
        "  habitat:str\n",
        "  teeth:int=0\n",
        "\n",
        "snowman = AnimalClass('yeti','Himalayas',46)\n",
        "duck = AnimalClass(habitat='lack',name=\"duck\")"
      ],
      "execution_count": 68,
      "outputs": []
    },
    {
      "cell_type": "code",
      "metadata": {
        "id": "N0drIdk0UsLr",
        "outputId": "1b228066-bb6a-4d86-b68c-13b499a3bc93",
        "colab": {
          "base_uri": "https://localhost:8080/"
        }
      },
      "source": [
        "snowman"
      ],
      "execution_count": 69,
      "outputs": [
        {
          "output_type": "execute_result",
          "data": {
            "text/plain": [
              "AnimalClass(name='yeti', habitat='Himalayas', teeth=46)"
            ]
          },
          "metadata": {
            "tags": []
          },
          "execution_count": 69
        }
      ]
    },
    {
      "cell_type": "markdown",
      "metadata": {
        "id": "Ftwv4gSZU4qW"
      },
      "source": [
        "由於AnimalClass為它的teeth屬性定義預設值，因此在製作duck時不需提供它"
      ]
    },
    {
      "cell_type": "code",
      "metadata": {
        "id": "3ANCegf9Us6h",
        "outputId": "f9a7acc2-75e9-4e8d-a7fe-7322abfda41e",
        "colab": {
          "base_uri": "https://localhost:8080/"
        }
      },
      "source": [
        "duck"
      ],
      "execution_count": 70,
      "outputs": [
        {
          "output_type": "execute_result",
          "data": {
            "text/plain": [
              "AnimalClass(name='duck', habitat='lack', teeth=0)"
            ]
          },
          "metadata": {
            "tags": []
          },
          "execution_count": 70
        }
      ]
    },
    {
      "cell_type": "markdown",
      "metadata": {
        "id": "E9MaJzR6VMTq"
      },
      "source": [
        "其他範例"
      ]
    },
    {
      "cell_type": "code",
      "metadata": {
        "id": "f9c7_0BYVETq",
        "outputId": "60eae0db-8d18-43bd-89b2-f9d3d6932d95",
        "colab": {
          "base_uri": "https://localhost:8080/",
          "height": 35
        }
      },
      "source": [
        "duck.habitat"
      ],
      "execution_count": 71,
      "outputs": [
        {
          "output_type": "execute_result",
          "data": {
            "application/vnd.google.colaboratory.intrinsic+json": {
              "type": "string"
            },
            "text/plain": [
              "'lack'"
            ]
          },
          "metadata": {
            "tags": []
          },
          "execution_count": 71
        }
      ]
    },
    {
      "cell_type": "code",
      "metadata": {
        "id": "4UD4STw5VGRo",
        "outputId": "332a2c66-9968-4b5c-86d3-678115ce6c3e",
        "colab": {
          "base_uri": "https://localhost:8080/"
        }
      },
      "source": [
        "snowman.teeth"
      ],
      "execution_count": 72,
      "outputs": [
        {
          "output_type": "execute_result",
          "data": {
            "text/plain": [
              "46"
            ]
          },
          "metadata": {
            "tags": []
          },
          "execution_count": 72
        }
      ]
    },
    {
      "cell_type": "markdown",
      "metadata": {
        "id": "YGSaRHs03Lj5"
      },
      "source": [
        "# Attrs\n",
        "參閱這篇文章：  \n",
        "[The One Python Library Everyone Needs](https://glyph.twistedmatrix.com/2016/08/attrs.html)"
      ]
    },
    {
      "cell_type": "markdown",
      "metadata": {
        "id": "0gQTmdSP3OKa"
      },
      "source": [
        "# 代辦事項"
      ]
    },
    {
      "cell_type": "markdown",
      "metadata": {
        "id": "8peoBdwBWOGQ"
      },
      "source": [
        "## 10.1\n",
        "製作一個稱為 Thing 而且沒有內容的類別,並將它印出。  \n",
        "接著,用這個類別建立一個稱為 example 的物件,也將它印出,印出來的值一樣嗎?"
      ]
    },
    {
      "cell_type": "code",
      "metadata": {
        "id": "uz5rCRXZYqGG",
        "outputId": "c66a7468-2124-4ccc-885d-bf1c4510de7f",
        "colab": {
          "base_uri": "https://localhost:8080/"
        }
      },
      "source": [
        "class Thing(): #製作一個稱為 Thing 而且沒有內容的類別\n",
        "  pass\n",
        "\n",
        "Thing()"
      ],
      "execution_count": 77,
      "outputs": [
        {
          "output_type": "execute_result",
          "data": {
            "text/plain": [
              "<__main__.Thing at 0x7febe9b8ed68>"
            ]
          },
          "metadata": {
            "tags": []
          },
          "execution_count": 77
        }
      ]
    },
    {
      "cell_type": "code",
      "metadata": {
        "id": "maqmN-7ybBvE",
        "outputId": "abdf16ef-22fc-431a-b6f0-3594f1e8a329",
        "colab": {
          "base_uri": "https://localhost:8080/"
        }
      },
      "source": [
        "example = Thing()\n",
        "example"
      ],
      "execution_count": 78,
      "outputs": [
        {
          "output_type": "execute_result",
          "data": {
            "text/plain": [
              "<__main__.Thing at 0x7febe9ba45c0>"
            ]
          },
          "metadata": {
            "tags": []
          },
          "execution_count": 78
        }
      ]
    },
    {
      "cell_type": "markdown",
      "metadata": {
        "id": "uW-minAHbOO6"
      },
      "source": [
        "**答**：兩者不一樣"
      ]
    },
    {
      "cell_type": "markdown",
      "metadata": {
        "id": "S0QijlZ0WQTZ"
      },
      "source": [
        "## 10.2\n",
        "製作一個稱為 Thing2 的新類別，並將'abc'值指派給一個稱為 letters 的類別屬性。  \n",
        "印出letters ."
      ]
    },
    {
      "cell_type": "code",
      "metadata": {
        "id": "CMsQ5sudbVwF",
        "outputId": "cf7acd66-46b4-4218-cbe3-78c74aecf17c",
        "colab": {
          "base_uri": "https://localhost:8080/",
          "height": 35
        }
      },
      "source": [
        "class Thing2():\n",
        "  def __init__(self,letters):\n",
        "    self.letters=letters \n",
        "\n",
        "example=Thing2(\"abc\")\n",
        "example.letters"
      ],
      "execution_count": 91,
      "outputs": [
        {
          "output_type": "execute_result",
          "data": {
            "application/vnd.google.colaboratory.intrinsic+json": {
              "type": "string"
            },
            "text/plain": [
              "'abc'"
            ]
          },
          "metadata": {
            "tags": []
          },
          "execution_count": 91
        }
      ]
    },
    {
      "cell_type": "markdown",
      "metadata": {
        "id": "bfeXV4UtWQds"
      },
      "source": [
        "## 10.3\n",
        "再製作一個類別,想當然爾,將它命名為Thing3。  \n",
        "這次將xyz值指派給一個稱為 letters 的實例(物件)屬性，印出letters。  \n",
        "做這件事需要用這個類別製作一個物件嗎?"
      ]
    },
    {
      "cell_type": "code",
      "metadata": {
        "id": "2nXJOjH1cpES",
        "outputId": "92c572c6-b7da-4e1c-9a2e-c22ae8670af4",
        "colab": {
          "base_uri": "https://localhost:8080/",
          "height": 35
        }
      },
      "source": [
        "class Thing3(Thing2):\n",
        "  def says(self):\n",
        "    return self.letters\n",
        "\n",
        "example1=Thing3(\"xyz\")\n",
        "example1.letters"
      ],
      "execution_count": 94,
      "outputs": [
        {
          "output_type": "execute_result",
          "data": {
            "application/vnd.google.colaboratory.intrinsic+json": {
              "type": "string"
            },
            "text/plain": [
              "'xyz'"
            ]
          },
          "metadata": {
            "tags": []
          },
          "execution_count": 94
        }
      ]
    },
    {
      "cell_type": "markdown",
      "metadata": {
        "id": "tqwxz5qycv0c"
      },
      "source": [
        "**答**：  \n",
        "需要，但可以利用Python的*多值*特性。  \n",
        "直接引用上一個物件的屬性即可"
      ]
    },
    {
      "cell_type": "markdown",
      "metadata": {
        "id": "Ic7mgVyfWQlM"
      },
      "source": [
        "## 10.4\n",
        "製作一個稱為Element 的類別，加入實例屬性 name、 symbol與 nunber。  \n",
        "用'Hydrogen'、'H'與 1 建立一個這種類別的物件。"
      ]
    },
    {
      "cell_type": "code",
      "metadata": {
        "id": "MeRG4TrOeibW",
        "outputId": "aef293ef-80d8-4248-e839-b166a77a76f2",
        "colab": {
          "base_uri": "https://localhost:8080/"
        }
      },
      "source": [
        "class Element:\n",
        "  def __init__(self,name,symbol,number):\n",
        "    self.name=name\n",
        "    self.symbol=symbol\n",
        "    self.number=number\n",
        "temp2 = Element('Hydrogen','H',1)\n",
        "temp2"
      ],
      "execution_count": 113,
      "outputs": [
        {
          "output_type": "execute_result",
          "data": {
            "text/plain": [
              "<__main__.Element at 0x7febe9b4e8d0>"
            ]
          },
          "metadata": {
            "tags": []
          },
          "execution_count": 113
        }
      ]
    },
    {
      "cell_type": "markdown",
      "metadata": {
        "id": "J_DvfVCWWQr_"
      },
      "source": [
        "## 10.5\n",
        "用這些鍵與值製作一個字典:'name':'Hydrogen', 'symbol': 'H', 'number': 1  \n",
        "再用Element類別與這個字典建立一個名為 hydrogen 的物件"
      ]
    },
    {
      "cell_type": "code",
      "metadata": {
        "id": "0sUc0D1OfKP7",
        "outputId": "2c05f85c-262d-49f5-a89a-143133cb028a",
        "colab": {
          "base_uri": "https://localhost:8080/"
        }
      },
      "source": [
        "dictionary={'name':'Hydrogen', 'symbol': 'H', 'number': 1}\n",
        "hydrogen=Element(**dictionary) #關鍵字引數\n",
        "hydrogen"
      ],
      "execution_count": 114,
      "outputs": [
        {
          "output_type": "execute_result",
          "data": {
            "text/plain": [
              "<__main__.Element at 0x7febe9bb9be0>"
            ]
          },
          "metadata": {
            "tags": []
          },
          "execution_count": 114
        }
      ]
    },
    {
      "cell_type": "markdown",
      "metadata": {
        "id": "tr6iCoVtWQyf"
      },
      "source": [
        "## 10.6\n",
        "為 Element 類別定義一個名為 dump()的方法,讓它印出物件屬性的值(name、symbol、number)，用這個新定義建立 hydrogen 物件,並使用dump()來印出它的屬性。"
      ]
    },
    {
      "cell_type": "code",
      "metadata": {
        "id": "b0Fkh878jVrR",
        "outputId": "f81a1471-bf7e-4cdf-c984-5292e1f85da2",
        "colab": {
          "base_uri": "https://localhost:8080/"
        }
      },
      "source": [
        "class Element:\n",
        "  def __init__(self,name,symbol,number):\n",
        "    self.name=name\n",
        "    self.symbol=symbol\n",
        "    self.number=number\n",
        "  def dump(self): #定義印出屬性的「方法」\n",
        "    print(self.name,self.symbol,self.number)\n",
        "\n",
        "hydrogen=Element(**dictionary)\n",
        "hydrogen.dump()\n",
        "  "
      ],
      "execution_count": 129,
      "outputs": [
        {
          "output_type": "stream",
          "text": [
            "Hydrogen H 1\n"
          ],
          "name": "stdout"
        }
      ]
    },
    {
      "cell_type": "markdown",
      "metadata": {
        "id": "BT8HZhJZWQ4z"
      },
      "source": [
        "## 10.7\n",
        "呼叫 print(hydrogen)。在Element的定義中,將方法 dump 的名稱改為__str__，建立一個新的 hydrogen 物件,並再次呼叫 print(hydrogen)"
      ]
    },
    {
      "cell_type": "markdown",
      "metadata": {
        "id": "UmCqQ81dl4LE"
      },
      "source": [
        "① print(hydrogen)"
      ]
    },
    {
      "cell_type": "code",
      "metadata": {
        "id": "yeGLuiJhiCnQ",
        "outputId": "6c07b377-47ec-4e64-aecc-50e6a16d3f8c",
        "colab": {
          "base_uri": "https://localhost:8080/"
        }
      },
      "source": [
        "print(hydrogen)"
      ],
      "execution_count": 130,
      "outputs": [
        {
          "output_type": "stream",
          "text": [
            "<__main__.Element object at 0x7febe9b4e3c8>\n"
          ],
          "name": "stdout"
        }
      ]
    },
    {
      "cell_type": "markdown",
      "metadata": {
        "id": "Sybykmg0mCfZ"
      },
      "source": [
        "②在Element的定義中,將方法 dump 的名稱改為\\_\\_str__"
      ]
    },
    {
      "cell_type": "code",
      "metadata": {
        "id": "v_vZCyYKmHmr"
      },
      "source": [
        "class Element:\n",
        "  def __init__(self,name,symbol,number):\n",
        "    self.name=name\n",
        "    self.symbol=symbol\n",
        "    self.number=number\n",
        "  def __str__(self): #定義印出屬性的「方法」\n",
        "    return self.name+\",\"+self.symbol+\",\"+str(self.number)"
      ],
      "execution_count": 139,
      "outputs": []
    },
    {
      "cell_type": "markdown",
      "metadata": {
        "id": "9YAF_2YYmAlc"
      },
      "source": [
        "③ print(hydrogen)"
      ]
    },
    {
      "cell_type": "code",
      "metadata": {
        "id": "yIMPRdi3mAld",
        "outputId": "5b3a79f0-72e1-4a2d-d570-f45fc8a51daa",
        "colab": {
          "base_uri": "https://localhost:8080/"
        }
      },
      "source": [
        "hydrogen=Element(**dictionary)\n",
        "print(hydrogen)"
      ],
      "execution_count": 140,
      "outputs": [
        {
          "output_type": "stream",
          "text": [
            "Hydrogen,H,1\n"
          ],
          "name": "stdout"
        }
      ]
    },
    {
      "cell_type": "markdown",
      "metadata": {
        "id": "jNOspfBrWRAW"
      },
      "source": [
        "## 10.8\n",
        "修改 Element，讓 name 、symbol與 number 變成私用的。  \n",
        "為每一個屬性定義getter property,並回傳它的值。"
      ]
    },
    {
      "cell_type": "code",
      "metadata": {
        "id": "XVhtReeDjXnn"
      },
      "source": [
        "class Element:\n",
        "  def __init__(self,name,symbol,number):\n",
        "    self.__name=name\n",
        "    self.__symbol=symbol\n",
        "    self.__number=number\n",
        "  @property\n",
        "  def get_name(self): \n",
        "    return self.__name\n",
        "  @property  \n",
        "  def get_symbol(self): \n",
        "    return self.__symbol\n",
        "  @property \n",
        "  def get_number(self): \n",
        "    return self.__number"
      ],
      "execution_count": 145,
      "outputs": []
    },
    {
      "cell_type": "code",
      "metadata": {
        "id": "cdzr44VXsIKa",
        "outputId": "469dda19-aa96-4c01-d905-bd4e5bd3e9ff",
        "colab": {
          "base_uri": "https://localhost:8080/",
          "height": 35
        }
      },
      "source": [
        "dictionary={'name':'Hydrogen', 'symbol': 'H', 'number': 1}\n",
        "hydrogen=Element(**dictionary)\n",
        "hydrogen.get_name"
      ],
      "execution_count": 146,
      "outputs": [
        {
          "output_type": "execute_result",
          "data": {
            "application/vnd.google.colaboratory.intrinsic+json": {
              "type": "string"
            },
            "text/plain": [
              "'Hydrogen'"
            ]
          },
          "metadata": {
            "tags": []
          },
          "execution_count": 146
        }
      ]
    },
    {
      "cell_type": "code",
      "metadata": {
        "id": "r7MLr-bGt-S-",
        "outputId": "7f4a672b-598d-4d59-f0f2-a1760596a0e1",
        "colab": {
          "base_uri": "https://localhost:8080/",
          "height": 35
        }
      },
      "source": [
        "hydrogen.get_symbol"
      ],
      "execution_count": 147,
      "outputs": [
        {
          "output_type": "execute_result",
          "data": {
            "application/vnd.google.colaboratory.intrinsic+json": {
              "type": "string"
            },
            "text/plain": [
              "'H'"
            ]
          },
          "metadata": {
            "tags": []
          },
          "execution_count": 147
        }
      ]
    },
    {
      "cell_type": "code",
      "metadata": {
        "id": "thXMq9sLt_3q",
        "outputId": "ddf0f8a9-7e5f-49e0-9ea3-57a5e11de95f",
        "colab": {
          "base_uri": "https://localhost:8080/"
        }
      },
      "source": [
        "hydrogen.get_number"
      ],
      "execution_count": 148,
      "outputs": [
        {
          "output_type": "execute_result",
          "data": {
            "text/plain": [
              "1"
            ]
          },
          "metadata": {
            "tags": []
          },
          "execution_count": 148
        }
      ]
    },
    {
      "cell_type": "markdown",
      "metadata": {
        "id": "ARKotyAkWRHV"
      },
      "source": [
        "## 10.9\n",
        "定義三個類別: Bear、Rabbit、Octothorpe。  \n",
        "在每個類別中定義一個方法: eats()。\n",
        "讓他回傳 'berries'(Bear) 、'clover'(Rabbit) 與‘capes'(Octothorpe)。  \n",
        "用各個類別建立一個物件並印出它吃什麼東西。\n"
      ]
    },
    {
      "cell_type": "code",
      "metadata": {
        "id": "o0ine95IjYCZ"
      },
      "source": [
        "class Bears():\n",
        "  def eats(self):\n",
        "    return \"berries\"\n",
        "\n",
        "class Rabbit():\n",
        "  def eats(self):\n",
        "    return \"clover\"\n",
        "\n",
        "class Octothorpe():\n",
        "  def eats(self):\n",
        "    return \"capes\""
      ],
      "execution_count": 189,
      "outputs": []
    },
    {
      "cell_type": "code",
      "metadata": {
        "id": "4-LH_BEEvIvn",
        "outputId": "60643200-0b42-4fd5-dabe-e84025d838cf",
        "colab": {
          "base_uri": "https://localhost:8080/",
          "height": 35
        }
      },
      "source": [
        "animal1 = Bears()\n",
        "animal1.eats()"
      ],
      "execution_count": 191,
      "outputs": [
        {
          "output_type": "execute_result",
          "data": {
            "application/vnd.google.colaboratory.intrinsic+json": {
              "type": "string"
            },
            "text/plain": [
              "'berries'"
            ]
          },
          "metadata": {
            "tags": []
          },
          "execution_count": 191
        }
      ]
    },
    {
      "cell_type": "code",
      "metadata": {
        "id": "-dvQDUDoyHId",
        "outputId": "bacba24d-557a-4963-97c3-cd416dc7b21e",
        "colab": {
          "base_uri": "https://localhost:8080/",
          "height": 35
        }
      },
      "source": [
        "animal2 = Rabbit()\n",
        "animal2.eats()"
      ],
      "execution_count": 193,
      "outputs": [
        {
          "output_type": "execute_result",
          "data": {
            "application/vnd.google.colaboratory.intrinsic+json": {
              "type": "string"
            },
            "text/plain": [
              "'clover'"
            ]
          },
          "metadata": {
            "tags": []
          },
          "execution_count": 193
        }
      ]
    },
    {
      "cell_type": "code",
      "metadata": {
        "id": "d4YnMINOyLF6",
        "outputId": "2c268585-feed-4713-d80b-805aa5b68680",
        "colab": {
          "base_uri": "https://localhost:8080/",
          "height": 35
        }
      },
      "source": [
        "animal3 = Octothorpe()\n",
        "animal3.eats()"
      ],
      "execution_count": 192,
      "outputs": [
        {
          "output_type": "execute_result",
          "data": {
            "application/vnd.google.colaboratory.intrinsic+json": {
              "type": "string"
            },
            "text/plain": [
              "'capes'"
            ]
          },
          "metadata": {
            "tags": []
          },
          "execution_count": 192
        }
      ]
    },
    {
      "cell_type": "markdown",
      "metadata": {
        "id": "FiREXFi0WY96"
      },
      "source": [
        "## 10.10\n",
        "定義這些類別: Laser、 Claw與SmartPhone，讓它們只有一個 does()方法,\n",
        "方法回傳'disintegrate'(Laser)、'crush'(claw)與 'ring'(Smart Phone)。  \n",
        "再定義 Robot 類別，讓它擁有上述類別的一個實例(物件)。\n",
        "為Robot 定義 does() 方法來印出它的元件做什麼事情。"
      ]
    },
    {
      "cell_type": "code",
      "metadata": {
        "id": "-wEAwUaQjYhb"
      },
      "source": [
        "class Laser():\n",
        "  def does(self):\n",
        "    return \"disintegrate\"\n",
        "\n",
        "class Claw():\n",
        "  def does(self):\n",
        "    return \"crush\"\n",
        "\n",
        "class SmartPhone():\n",
        "  def does(self):\n",
        "    return \"ring\""
      ],
      "execution_count": 194,
      "outputs": []
    },
    {
      "cell_type": "code",
      "metadata": {
        "id": "714Bl6tIzuRf"
      },
      "source": [
        "class Robot():\n",
        "  "
      ],
      "execution_count": null,
      "outputs": []
    }
  ]
}