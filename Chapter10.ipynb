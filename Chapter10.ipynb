{
  "nbformat": 4,
  "nbformat_minor": 0,
  "metadata": {
    "colab": {
      "name": "Chapter10.ipynb",
      "provenance": [],
      "toc_visible": true,
      "authorship_tag": "ABX9TyMsV5DJJG0WzBCRbAvqm0N3",
      "include_colab_link": true
    },
    "kernelspec": {
      "name": "python3",
      "display_name": "Python 3"
    }
  },
  "cells": [
    {
      "cell_type": "markdown",
      "metadata": {
        "id": "view-in-github",
        "colab_type": "text"
      },
      "source": [
        "<a href=\"https://colab.research.google.com/github/hank199599/Introducing-Python-reading_log/blob/main/Chapter10.ipynb\" target=\"_parent\"><img src=\"https://colab.research.google.com/assets/colab-badge.svg\" alt=\"Open In Colab\"/></a>"
      ]
    },
    {
      "cell_type": "markdown",
      "metadata": {
        "id": "Q__pOIAD351K"
      },
      "source": [
        "# 物件\n",
        "是一種自訂的資料結構\n",
        "* 屬性：資料\n",
        "* 方法：程式碼"
      ]
    },
    {
      "cell_type": "markdown",
      "metadata": {
        "id": "CRj1SsfP4axx"
      },
      "source": [
        "## 屬性\n",
        "在類別或物件裏面的變數"
      ]
    },
    {
      "cell_type": "markdown",
      "metadata": {
        "id": "bXEpgrulLJCb"
      },
      "source": [
        "用 **pass** 指出這類別是空的"
      ]
    },
    {
      "cell_type": "code",
      "metadata": {
        "id": "JQAWUOalHRKO"
      },
      "source": [
        "class Cat():\n",
        "  pass"
      ],
      "execution_count": null,
      "outputs": []
    },
    {
      "cell_type": "code",
      "metadata": {
        "id": "PANkWi8GLD2u"
      },
      "source": [
        "class Cat:\n",
        "  pass"
      ],
      "execution_count": null,
      "outputs": []
    },
    {
      "cell_type": "code",
      "metadata": {
        "id": "VG0_aAZpOgRv",
        "outputId": "3d5c749d-470a-4ae8-944c-2e1a69982f50",
        "colab": {
          "base_uri": "https://localhost:8080/"
        }
      },
      "source": [
        "class Cat:\n",
        "  pass\n",
        "\n",
        "a_cat = Cat()\n",
        "a_cat"
      ],
      "execution_count": null,
      "outputs": [
        {
          "output_type": "execute_result",
          "data": {
            "text/plain": [
              "<__main__.Cat at 0x7f37eb16d470>"
            ]
          },
          "metadata": {
            "tags": []
          },
          "execution_count": 2
        }
      ]
    },
    {
      "cell_type": "code",
      "metadata": {
        "id": "AJfUh7g-OgSB",
        "outputId": "c5587826-4656-40e6-8abd-e2ea1424b1ec",
        "colab": {
          "base_uri": "https://localhost:8080/"
        }
      },
      "source": [
        "another_cat = Cat()\n",
        "another_cat"
      ],
      "execution_count": null,
      "outputs": [
        {
          "output_type": "execute_result",
          "data": {
            "text/plain": [
              "<__main__.Cat at 0x7f37eb16d898>"
            ]
          },
          "metadata": {
            "tags": []
          },
          "execution_count": 3
        }
      ]
    },
    {
      "cell_type": "markdown",
      "metadata": {
        "id": "zR8ewQimMHhb"
      },
      "source": [
        "### 指派屬性給物件"
      ]
    },
    {
      "cell_type": "code",
      "metadata": {
        "id": "CO3SHJk_MLJT"
      },
      "source": [
        "a_cat.age = 3\n",
        "a_cat.name = \"Mr. Fuzzybuttons\"\n",
        "a_cat.nemesis = another_cat"
      ],
      "execution_count": null,
      "outputs": []
    },
    {
      "cell_type": "code",
      "metadata": {
        "id": "DREshLZjM0S7",
        "outputId": "c485b738-b740-4ee9-935e-1b01331726a0",
        "colab": {
          "base_uri": "https://localhost:8080/"
        }
      },
      "source": [
        "a_cat.age"
      ],
      "execution_count": null,
      "outputs": [
        {
          "output_type": "execute_result",
          "data": {
            "text/plain": [
              "3"
            ]
          },
          "metadata": {
            "tags": []
          },
          "execution_count": 5
        }
      ]
    },
    {
      "cell_type": "code",
      "metadata": {
        "id": "gARpXWdKM3fL",
        "outputId": "9b8647b9-2e3e-4ffc-e214-9d7473c8fefc",
        "colab": {
          "base_uri": "https://localhost:8080/",
          "height": 35
        }
      },
      "source": [
        "a_cat.name"
      ],
      "execution_count": null,
      "outputs": [
        {
          "output_type": "execute_result",
          "data": {
            "application/vnd.google.colaboratory.intrinsic+json": {
              "type": "string"
            },
            "text/plain": [
              "'Mr. Fuzzybuttons'"
            ]
          },
          "metadata": {
            "tags": []
          },
          "execution_count": 6
        }
      ]
    },
    {
      "cell_type": "code",
      "metadata": {
        "id": "9DouEcZDM5Qs",
        "outputId": "f864e5d4-022a-4e38-8bf0-7f1f9856a20d",
        "colab": {
          "base_uri": "https://localhost:8080/"
        }
      },
      "source": [
        "a_cat.nemesis"
      ],
      "execution_count": null,
      "outputs": [
        {
          "output_type": "execute_result",
          "data": {
            "text/plain": [
              "<__main__.Cat at 0x7f37eb16d898>"
            ]
          },
          "metadata": {
            "tags": []
          },
          "execution_count": 7
        }
      ]
    },
    {
      "cell_type": "markdown",
      "metadata": {
        "id": "1qyrO4eUNCCz"
      },
      "source": [
        ""
      ]
    },
    {
      "cell_type": "code",
      "metadata": {
        "id": "GfxKO0ClNF8L",
        "outputId": "d6115dd3-a005-4aab-8660-e75c8cfb07ed",
        "colab": {
          "base_uri": "https://localhost:8080/",
          "height": 35
        }
      },
      "source": [
        "a_cat.nemesis.name = \"Mr. Boggleworth\"\n",
        "a_cat.nemesis.name"
      ],
      "execution_count": null,
      "outputs": [
        {
          "output_type": "execute_result",
          "data": {
            "application/vnd.google.colaboratory.intrinsic+json": {
              "type": "string"
            },
            "text/plain": [
              "'Mr. Boggleworth'"
            ]
          },
          "metadata": {
            "tags": []
          },
          "execution_count": 8
        }
      ]
    },
    {
      "cell_type": "markdown",
      "metadata": {
        "id": "MyL5I5Ws4msJ"
      },
      "source": [
        "## 方法\n",
        "在類別或物件裡面的函式"
      ]
    },
    {
      "cell_type": "code",
      "metadata": {
        "id": "l3x0Opw7L2nL"
      },
      "source": [
        "class Cat:\n",
        "  def __init__(self):\n",
        "    pass"
      ],
      "execution_count": null,
      "outputs": []
    },
    {
      "cell_type": "code",
      "metadata": {
        "id": "J-t57L5iMBJK"
      },
      "source": [
        "class Cat():\n",
        "  def __init__(self,name):\n",
        "    self.name = name"
      ],
      "execution_count": null,
      "outputs": []
    },
    {
      "cell_type": "markdown",
      "metadata": {
        "id": "MO45kM4OOubb"
      },
      "source": [
        "傳遞一個字串給name參數，用Cat類別建立一個物件"
      ]
    },
    {
      "cell_type": "code",
      "metadata": {
        "id": "ll7avQiEO1c7"
      },
      "source": [
        "furball = Cat('Grumpy')"
      ],
      "execution_count": null,
      "outputs": []
    },
    {
      "cell_type": "markdown",
      "metadata": {
        "id": "UZR-Zkv1QMoT"
      },
      "source": [
        "* 查看Cat 類別的定義\n",
        "* 在記憶體實例化(建立)一個新物件\n",
        "* 呼叫該物件的__init()方法，將這個新建立的物件傳給self，另一個引數(\"Grumpy\")傳給name\n",
        "* 將物件中儲存name的值\n",
        "* 回傳新物件\n",
        "* 將物件指派給變數furball"
      ]
    },
    {
      "cell_type": "code",
      "metadata": {
        "id": "PXV9NzzdSQ22",
        "outputId": "d76c545d-24da-449c-f2d1-abc12bcec4ec",
        "colab": {
          "base_uri": "https://localhost:8080/"
        }
      },
      "source": [
        "print(\"Our latest addition:\",furball.name)"
      ],
      "execution_count": null,
      "outputs": [
        {
          "output_type": "stream",
          "text": [
            "Our latest addition: Grumpy\n"
          ],
          "name": "stdout"
        }
      ]
    },
    {
      "cell_type": "markdown",
      "metadata": {
        "id": "5B-mf5EH5H7p"
      },
      "source": [
        "### 覆寫方法"
      ]
    },
    {
      "cell_type": "code",
      "metadata": {
        "id": "UQuLr_QdVymg"
      },
      "source": [
        "class Person():\n",
        "  def __init__(self,name):\n",
        "    self.name=name\n",
        "\n",
        "class MDPerson(Person):\n",
        "  def __init__(self,name):\n",
        "    self.name = \"Doctor\"+name\n",
        "\n",
        "class JDPerson(Person):\n",
        "  def __init__(self,name):\n",
        "    self.name = name+\", Esquire\""
      ],
      "execution_count": null,
      "outputs": []
    },
    {
      "cell_type": "code",
      "metadata": {
        "id": "UIOsF3iGWaNa",
        "outputId": "6a679b1f-402f-417d-9028-993f19eeb75b",
        "colab": {
          "base_uri": "https://localhost:8080/"
        }
      },
      "source": [
        "person = Person('Fudd')\n",
        "print(person.name)"
      ],
      "execution_count": null,
      "outputs": [
        {
          "output_type": "stream",
          "text": [
            "Fudd\n"
          ],
          "name": "stdout"
        }
      ]
    },
    {
      "cell_type": "code",
      "metadata": {
        "id": "05TW5FqQWahK",
        "outputId": "dc1db1da-3b67-4326-9ee5-50c9a50fd85f",
        "colab": {
          "base_uri": "https://localhost:8080/"
        }
      },
      "source": [
        "person = MDPerson('Fudd')\n",
        "print(person.name)"
      ],
      "execution_count": null,
      "outputs": [
        {
          "output_type": "stream",
          "text": [
            "DoctorFudd\n"
          ],
          "name": "stdout"
        }
      ]
    },
    {
      "cell_type": "code",
      "metadata": {
        "id": "hO930xqzWaoV",
        "outputId": "ebe0a18a-cb36-40bd-c77e-e5427361ef6e",
        "colab": {
          "base_uri": "https://localhost:8080/"
        }
      },
      "source": [
        "person = JDPerson('Fudd')\n",
        "print(person.name)"
      ],
      "execution_count": null,
      "outputs": [
        {
          "output_type": "stream",
          "text": [
            "Fudd, Esquire\n"
          ],
          "name": "stdout"
        }
      ]
    },
    {
      "cell_type": "markdown",
      "metadata": {
        "id": "SI4JfebE5LLh"
      },
      "source": [
        "### 添加方法"
      ]
    },
    {
      "cell_type": "code",
      "metadata": {
        "id": "GdtRSGDRW-B6"
      },
      "source": [
        "class Car():\n",
        "  def exclaim(self):\n",
        "    print(\"I'm a Car!\")\n",
        "\n",
        "class Yugo(Car):\n",
        "  def exclaim(self):\n",
        "    print(\"I'm a Yugo! Much like a Car,but more Yugo-ish.\")\n",
        "  def need_a_push(self):\n",
        "    print(\"A little help here?\")\n",
        " "
      ],
      "execution_count": null,
      "outputs": []
    },
    {
      "cell_type": "code",
      "metadata": {
        "id": "W7iFCbwhYQMg"
      },
      "source": [
        "give_me_a_car = Car()\n",
        "give_me_a_yugo = Yugo()"
      ],
      "execution_count": null,
      "outputs": []
    },
    {
      "cell_type": "code",
      "metadata": {
        "id": "F4r9BKONYY_R",
        "outputId": "f2b26f14-979f-4fb0-f1e0-e7e41d256f07",
        "colab": {
          "base_uri": "https://localhost:8080/"
        }
      },
      "source": [
        "give_me_a_yugo.need_a_push()"
      ],
      "execution_count": null,
      "outputs": [
        {
          "output_type": "stream",
          "text": [
            "A little help here?\n"
          ],
          "name": "stdout"
        }
      ]
    },
    {
      "cell_type": "markdown",
      "metadata": {
        "id": "JICWzc5X4zuZ"
      },
      "source": [
        "# 繼承"
      ]
    },
    {
      "cell_type": "markdown",
      "metadata": {
        "id": "h9L_trxW41zh"
      },
      "source": [
        "## 自父類別繼承 (parent)\n",
        "* 原先的類別 → 父類別/基礎類別 (bass class)\n",
        "* 新類別 → 子類別/衍伸類別 (derived class)\n"
      ]
    },
    {
      "cell_type": "code",
      "metadata": {
        "id": "7ciacQtJTQRe"
      },
      "source": [
        "class Car():\n",
        "  pass"
      ],
      "execution_count": null,
      "outputs": []
    },
    {
      "cell_type": "code",
      "metadata": {
        "id": "8sjxsp3lTVEZ"
      },
      "source": [
        "class Yugo(Car):\n",
        "  pass"
      ],
      "execution_count": null,
      "outputs": []
    },
    {
      "cell_type": "markdown",
      "metadata": {
        "id": "_GCajvGo47AB"
      },
      "source": [
        "### issubclass()\n",
        "查看一個類別是否延伸自另一個類別"
      ]
    },
    {
      "cell_type": "code",
      "metadata": {
        "id": "dd0HIt9k5SsR",
        "outputId": "87c2f814-3149-4e16-a7f1-6511f1ae3e23",
        "colab": {
          "base_uri": "https://localhost:8080/"
        }
      },
      "source": [
        "issubclass(Yugo,Car)"
      ],
      "execution_count": null,
      "outputs": [
        {
          "output_type": "execute_result",
          "data": {
            "text/plain": [
              "True"
            ]
          },
          "metadata": {
            "tags": []
          },
          "execution_count": 23
        }
      ]
    },
    {
      "cell_type": "markdown",
      "metadata": {
        "id": "MR4dZT3GTtEx"
      },
      "source": [
        "**物件導向**術語中，Yugo *is-a* Car  \n"
      ]
    },
    {
      "cell_type": "code",
      "metadata": {
        "id": "f51GfD2sT5Rg"
      },
      "source": [
        "class Car():\n",
        "  def exclaim(self):\n",
        "    print(\"I'm a Car!\")\n",
        "\n",
        "class Yugo(Car):\n",
        "  pass"
      ],
      "execution_count": null,
      "outputs": []
    },
    {
      "cell_type": "markdown",
      "metadata": {
        "id": "uwwqFz724-vS"
      },
      "source": [
        "### .exclaim()"
      ]
    },
    {
      "cell_type": "code",
      "metadata": {
        "id": "Yy73eglC5TCZ"
      },
      "source": [
        "class Car():\n",
        "  def exclaim(self):\n",
        "    print(\"I'm a Car!\")\n",
        "\n",
        "class Yugo(Car):\n",
        "  pass"
      ],
      "execution_count": null,
      "outputs": []
    },
    {
      "cell_type": "code",
      "metadata": {
        "id": "tjZZcU-2UvrB"
      },
      "source": [
        "give_me_a_car = Car()\n",
        "give_me_a_yugo = Yugo()"
      ],
      "execution_count": null,
      "outputs": []
    },
    {
      "cell_type": "code",
      "metadata": {
        "id": "1Ik5tunrU404",
        "outputId": "db458476-aff8-4595-bad8-0f8ae65d988c",
        "colab": {
          "base_uri": "https://localhost:8080/"
        }
      },
      "source": [
        "give_me_a_car.exclaim()"
      ],
      "execution_count": null,
      "outputs": [
        {
          "output_type": "stream",
          "text": [
            "I'm a Car!\n"
          ],
          "name": "stdout"
        }
      ]
    },
    {
      "cell_type": "code",
      "metadata": {
        "id": "UkUZFJbDU8mh",
        "outputId": "8a5f0553-3dd3-4c27-a9d6-190fc5b4a67b",
        "colab": {
          "base_uri": "https://localhost:8080/"
        }
      },
      "source": [
        "give_me_a_yugo.exclaim()"
      ],
      "execution_count": null,
      "outputs": [
        {
          "output_type": "stream",
          "text": [
            "I'm a Car!\n"
          ],
          "name": "stdout"
        }
      ]
    },
    {
      "cell_type": "markdown",
      "metadata": {
        "id": "j5XeLMjD5PjR"
      },
      "source": [
        "### super()\n",
        "獲得父類別的幫助"
      ]
    },
    {
      "cell_type": "code",
      "metadata": {
        "id": "v2yxN_Pb5TZK"
      },
      "source": [
        "class Person():\n",
        "  def __int__(self,name):\n",
        "    self.nmae = name"
      ],
      "execution_count": null,
      "outputs": []
    },
    {
      "cell_type": "code",
      "metadata": {
        "id": "PkUldEPWYuzi"
      },
      "source": [
        "class EmailPerson(Person):\n",
        "  def __int__(self,name,email):\n",
        "    super().__init__(name)\n",
        "    self.email = email"
      ],
      "execution_count": null,
      "outputs": []
    },
    {
      "cell_type": "markdown",
      "metadata": {
        "id": "Mp32_0KD5T5Z"
      },
      "source": [
        "## 多重繼承\n",
        "物件能夠繼承多個父類別  \n",
        "Python的繼承取決於**方法解析順序** *(method resolution order)*\n"
      ]
    },
    {
      "cell_type": "code",
      "metadata": {
        "id": "HI7mQaR2Zvxp"
      },
      "source": [
        "class Animal:\n",
        "  def says(self):\n",
        "    return \"I speak!\"\n",
        "\n",
        "class Horse(Animal):\n",
        "  def says(self):\n",
        "    return \"Neight!\"\n",
        "\n",
        "class Donkey(Animal):\n",
        "  def says(self):\n",
        "    return \"Hee-haw!\"\n",
        "\n",
        "class Mule(Donkey,Horse):\n",
        "  pass"
      ],
      "execution_count": null,
      "outputs": []
    },
    {
      "cell_type": "markdown",
      "metadata": {
        "id": "_hkzCaEjbXeI"
      },
      "source": [
        "### Mixin ：輔助類別(helper)\n",
        "在類別定義式中加入一個額外的父類別"
      ]
    },
    {
      "cell_type": "code",
      "metadata": {
        "id": "OOTqfltlcqlb",
        "outputId": "a28cdf71-d613-4d46-8fe3-7b159fc36034",
        "colab": {
          "base_uri": "https://localhost:8080/"
        }
      },
      "source": [
        "class PrettyMixin():\n",
        "  def dump(self):\n",
        "    import pprint\n",
        "    pprint.pprint(vars(self))\n",
        "\n",
        "class Thing(PrettyMixin):\n",
        "  pass\n",
        "\n",
        "t = Thing()\n",
        "t.name = \"Nyarlathotep\"\n",
        "t.feature = \"ichor\"\n",
        "t.age = \"eldritch\"\n",
        "t.dump()"
      ],
      "execution_count": null,
      "outputs": [
        {
          "output_type": "stream",
          "text": [
            "{'age': 'eldritch', 'feature': 'ichor', 'name': 'Nyarlathotep'}\n"
          ],
          "name": "stdout"
        }
      ]
    },
    {
      "cell_type": "markdown",
      "metadata": {
        "id": "hBiJpHuKbafA"
      },
      "source": [
        "# 自衛 (self)\n",
        "尋找正確的物件屬性與方法"
      ]
    },
    {
      "cell_type": "code",
      "metadata": {
        "id": "LT8NyCM_dcDn",
        "outputId": "9577a3ef-a814-4c91-ed2e-f073d9842991",
        "colab": {
          "base_uri": "https://localhost:8080/"
        }
      },
      "source": [
        "a_car = Car()\n",
        "a_car.exclaim()"
      ],
      "execution_count": null,
      "outputs": [
        {
          "output_type": "stream",
          "text": [
            "I'm a Car!\n"
          ],
          "name": "stdout"
        }
      ]
    },
    {
      "cell_type": "markdown",
      "metadata": {
        "id": "X-f5Fy5_dcnG"
      },
      "source": [
        "# 屬性存取\n",
        "採取**「成人同意」(consenting adults)**原則"
      ]
    },
    {
      "cell_type": "markdown",
      "metadata": {
        "id": "G42PAD3TdgPI"
      },
      "source": [
        "## 直接存取\n",
        "能直接取得即設定屬性值，易被修改"
      ]
    },
    {
      "cell_type": "code",
      "metadata": {
        "id": "-8M82fmUdiFo",
        "outputId": "20026563-c643-4cb4-9d5d-6884494013af",
        "colab": {
          "base_uri": "https://localhost:8080/",
          "height": 35
        }
      },
      "source": [
        "class Duck:\n",
        "  def __init__(self,input_name):\n",
        "    self.name=input_name\n",
        "\n",
        "fowl = Duck(\"Daffy\")\n",
        "fowl.name"
      ],
      "execution_count": null,
      "outputs": [
        {
          "output_type": "execute_result",
          "data": {
            "application/vnd.google.colaboratory.intrinsic+json": {
              "type": "string"
            },
            "text/plain": [
              "'Daffy'"
            ]
          },
          "metadata": {
            "tags": []
          },
          "execution_count": 53
        }
      ]
    },
    {
      "cell_type": "code",
      "metadata": {
        "id": "QNj6iD1dmaXc",
        "outputId": "49376fca-7bac-4aff-89fb-ee5fb34de4e8",
        "colab": {
          "base_uri": "https://localhost:8080/",
          "height": 35
        }
      },
      "source": [
        "fowl.name=\"Daphne\"\n",
        "fowl.name"
      ],
      "execution_count": null,
      "outputs": [
        {
          "output_type": "execute_result",
          "data": {
            "application/vnd.google.colaboratory.intrinsic+json": {
              "type": "string"
            },
            "text/plain": [
              "'Daphne'"
            ]
          },
          "metadata": {
            "tags": []
          },
          "execution_count": 54
        }
      ]
    },
    {
      "cell_type": "markdown",
      "metadata": {
        "id": "B3281VlHdlw_"
      },
      "source": [
        "## getter 與 setter\n",
        "使用混淆屬性名稱來取得一些隱私"
      ]
    },
    {
      "cell_type": "code",
      "metadata": {
        "id": "43KdzydsfoVq"
      },
      "source": [
        "class Duck():\n",
        "  def __init__(self,input_name):\n",
        "    self.hidden_name=input_name\n",
        "  def get_name(self):\n",
        "    print(\"inside the getter\")\n",
        "    return self.hidden_name\n",
        "  def set_name(self,input_name):\n",
        "    print(\"inside the setter\")\n",
        "    self.hidden_name = input_name"
      ],
      "execution_count": null,
      "outputs": []
    },
    {
      "cell_type": "code",
      "metadata": {
        "id": "1wNue569nO3E",
        "outputId": "bc7101b3-e4a0-47eb-c57e-76c26db898a9",
        "colab": {
          "base_uri": "https://localhost:8080/",
          "height": 52
        }
      },
      "source": [
        "don = Duck(\"Donald\")\n",
        "don.get_name()"
      ],
      "execution_count": null,
      "outputs": [
        {
          "output_type": "stream",
          "text": [
            "inside the getter\n"
          ],
          "name": "stdout"
        },
        {
          "output_type": "execute_result",
          "data": {
            "application/vnd.google.colaboratory.intrinsic+json": {
              "type": "string"
            },
            "text/plain": [
              "'Donald'"
            ]
          },
          "metadata": {
            "tags": []
          },
          "execution_count": 64
        }
      ]
    },
    {
      "cell_type": "code",
      "metadata": {
        "id": "IYtVunuGnby6",
        "outputId": "e1896aad-f3b9-435f-92a2-f10402752f84",
        "colab": {
          "base_uri": "https://localhost:8080/"
        }
      },
      "source": [
        "don.set_name('Donna')\n"
      ],
      "execution_count": null,
      "outputs": [
        {
          "output_type": "stream",
          "text": [
            "inside the setter\n"
          ],
          "name": "stdout"
        }
      ]
    },
    {
      "cell_type": "code",
      "metadata": {
        "id": "w-F3fd__n1-y",
        "outputId": "4b3b1908-3319-48c7-dbc9-282d34356603",
        "colab": {
          "base_uri": "https://localhost:8080/",
          "height": 52
        }
      },
      "source": [
        "don.get_name()"
      ],
      "execution_count": null,
      "outputs": [
        {
          "output_type": "stream",
          "text": [
            "inside the getter\n"
          ],
          "name": "stdout"
        },
        {
          "output_type": "execute_result",
          "data": {
            "application/vnd.google.colaboratory.intrinsic+json": {
              "type": "string"
            },
            "text/plain": [
              "'Donna'"
            ]
          },
          "metadata": {
            "tags": []
          },
          "execution_count": 66
        }
      ]
    },
    {
      "cell_type": "markdown",
      "metadata": {
        "id": "zKWErmLidnHn"
      },
      "source": [
        "## property：用於處理屬性隱私問題"
      ]
    },
    {
      "cell_type": "markdown",
      "metadata": {
        "id": "w415UiT8n9jz"
      },
      "source": [
        "### 方法一\n",
        "在尾端加入property()\n",
        "\n",
        "\n"
      ]
    },
    {
      "cell_type": "code",
      "metadata": {
        "id": "1m4oAIsMoPgC"
      },
      "source": [
        "class Duck():\n",
        "  def __init__(self,input_name):\n",
        "    self.hidden_name=input_name\n",
        "  def get_name(self):\n",
        "    print(\"inside the getter\")\n",
        "    return self.hidden_name\n",
        "  def set_name(self,input_name):\n",
        "    print(\"inside the setter\")\n",
        "    self.hidden_name = input_name\n",
        "  name=property(get_name,set_name)"
      ],
      "execution_count": null,
      "outputs": []
    },
    {
      "cell_type": "code",
      "metadata": {
        "id": "aWP0vrGuopQT",
        "outputId": "d78a418d-c711-4e27-ac79-ae9fa963bcce",
        "colab": {
          "base_uri": "https://localhost:8080/",
          "height": 52
        }
      },
      "source": [
        "don = Duck(\"Donald\")\n",
        "don.get_name()"
      ],
      "execution_count": null,
      "outputs": [
        {
          "output_type": "stream",
          "text": [
            "inside the getter\n"
          ],
          "name": "stdout"
        },
        {
          "output_type": "execute_result",
          "data": {
            "application/vnd.google.colaboratory.intrinsic+json": {
              "type": "string"
            },
            "text/plain": [
              "'Donald'"
            ]
          },
          "metadata": {
            "tags": []
          },
          "execution_count": 68
        }
      ]
    },
    {
      "cell_type": "code",
      "metadata": {
        "id": "X2KOqQP4opQn",
        "outputId": "33941aab-27f3-411b-ab8d-86d29522a08e",
        "colab": {
          "base_uri": "https://localhost:8080/"
        }
      },
      "source": [
        "don.set_name('Donna')\n"
      ],
      "execution_count": null,
      "outputs": [
        {
          "output_type": "stream",
          "text": [
            "inside the setter\n"
          ],
          "name": "stdout"
        }
      ]
    },
    {
      "cell_type": "code",
      "metadata": {
        "id": "RFVyVI3DopQx",
        "outputId": "b850ea40-a440-4c04-e535-bdb77b2bd2cc",
        "colab": {
          "base_uri": "https://localhost:8080/",
          "height": 52
        }
      },
      "source": [
        "don.get_name()"
      ],
      "execution_count": null,
      "outputs": [
        {
          "output_type": "stream",
          "text": [
            "inside the getter\n"
          ],
          "name": "stdout"
        },
        {
          "output_type": "execute_result",
          "data": {
            "application/vnd.google.colaboratory.intrinsic+json": {
              "type": "string"
            },
            "text/plain": [
              "'Donna'"
            ]
          },
          "metadata": {
            "tags": []
          },
          "execution_count": 70
        }
      ]
    },
    {
      "cell_type": "markdown",
      "metadata": {
        "id": "7R0YF8hroWwT"
      },
      "source": [
        "### 方法二\n",
        "加入裝飾器\n",
        "* 在getter前加入@property\n",
        "* 在setter前加入@name.setter"
      ]
    },
    {
      "cell_type": "code",
      "metadata": {
        "id": "pDhmL899pOhz"
      },
      "source": [
        "class Duck():\n",
        "  def __init__(self,input_name):\n",
        "    self.hidden_name=input_name\n",
        "  @property\n",
        "  def name(self):\n",
        "    print(\"inside the getter\")\n",
        "    return self.hidden_name\n",
        "  @name.setter\n",
        "  def name(self,input_name):\n",
        "    print(\"inside the setter\")\n",
        "    self.hidden_name = input_name"
      ],
      "execution_count": null,
      "outputs": []
    },
    {
      "cell_type": "code",
      "metadata": {
        "id": "C0sWhV11pazL",
        "outputId": "8a5fc61b-7168-4ed8-d510-4a9df85714b8",
        "colab": {
          "base_uri": "https://localhost:8080/",
          "height": 52
        }
      },
      "source": [
        "fowl = Duck(\"Howard\")\n",
        "fowl.name"
      ],
      "execution_count": null,
      "outputs": [
        {
          "output_type": "stream",
          "text": [
            "inside the getter\n"
          ],
          "name": "stdout"
        },
        {
          "output_type": "execute_result",
          "data": {
            "application/vnd.google.colaboratory.intrinsic+json": {
              "type": "string"
            },
            "text/plain": [
              "'Howard'"
            ]
          },
          "metadata": {
            "tags": []
          },
          "execution_count": 86
        }
      ]
    },
    {
      "cell_type": "code",
      "metadata": {
        "id": "KXhCGOGnpaze",
        "outputId": "ea800bd8-445e-40f6-905c-28557b32edcb",
        "colab": {
          "base_uri": "https://localhost:8080/"
        }
      },
      "source": [
        "fowl.name = 'Donald'\n"
      ],
      "execution_count": null,
      "outputs": [
        {
          "output_type": "stream",
          "text": [
            "inside the setter\n"
          ],
          "name": "stdout"
        }
      ]
    },
    {
      "cell_type": "code",
      "metadata": {
        "id": "jLMxt0Lzpazk",
        "outputId": "84f66f18-01e0-4ff6-cec5-d98d65f90c44",
        "colab": {
          "base_uri": "https://localhost:8080/",
          "height": 182
        }
      },
      "source": [
        "fowl.name()"
      ],
      "execution_count": null,
      "outputs": [
        {
          "output_type": "stream",
          "text": [
            "inside the getter\n"
          ],
          "name": "stdout"
        },
        {
          "output_type": "error",
          "ename": "TypeError",
          "evalue": "ignored",
          "traceback": [
            "\u001b[0;31m---------------------------------------------------------------------------\u001b[0m",
            "\u001b[0;31mTypeError\u001b[0m                                 Traceback (most recent call last)",
            "\u001b[0;32m<ipython-input-88-01efe133b1b4>\u001b[0m in \u001b[0;36m<module>\u001b[0;34m()\u001b[0m\n\u001b[0;32m----> 1\u001b[0;31m \u001b[0mfowl\u001b[0m\u001b[0;34m.\u001b[0m\u001b[0mname\u001b[0m\u001b[0;34m(\u001b[0m\u001b[0;34m)\u001b[0m\u001b[0;34m\u001b[0m\u001b[0;34m\u001b[0m\u001b[0m\n\u001b[0m",
            "\u001b[0;31mTypeError\u001b[0m: 'str' object is not callable"
          ]
        }
      ]
    },
    {
      "cell_type": "markdown",
      "metadata": {
        "id": "5EqBnHs2drzX"
      },
      "source": [
        "### 計算回傳的值\n",
        "\n",
        "藉由property()回傳計算出來的值\n"
      ]
    },
    {
      "cell_type": "code",
      "metadata": {
        "id": "LzCdIOlleyeR"
      },
      "source": [
        "class Circle():\n",
        "  def __init__(self,radius):\n",
        "    self.radius = radius\n",
        "  @property\n",
        "  def diameter(self):\n",
        "    return 2* self.radius\n"
      ],
      "execution_count": 2,
      "outputs": []
    },
    {
      "cell_type": "code",
      "metadata": {
        "id": "7PhsIxb_fRkG",
        "outputId": "74c109db-f6ff-442a-cefe-1f143541da06",
        "colab": {
          "base_uri": "https://localhost:8080/"
        }
      },
      "source": [
        "c = Circle(5)\n",
        "c.radius"
      ],
      "execution_count": 3,
      "outputs": [
        {
          "output_type": "execute_result",
          "data": {
            "text/plain": [
              "5"
            ]
          },
          "metadata": {
            "tags": []
          },
          "execution_count": 3
        }
      ]
    },
    {
      "cell_type": "markdown",
      "metadata": {
        "id": "3UfVsGTFgTnx"
      },
      "source": [
        "如果沒有為屬性指定**setter property**，就不能在外頭修改它。  \n",
        "適合用作**唯讀屬性**。"
      ]
    },
    {
      "cell_type": "code",
      "metadata": {
        "id": "6CuTP1t0g2x0",
        "outputId": "374f861b-3121-4fd0-eca3-dc9eaf6c9081",
        "colab": {
          "base_uri": "https://localhost:8080/",
          "height": 165
        }
      },
      "source": [
        "c.diameter = 20"
      ],
      "execution_count": 4,
      "outputs": [
        {
          "output_type": "error",
          "ename": "AttributeError",
          "evalue": "ignored",
          "traceback": [
            "\u001b[0;31m---------------------------------------------------------------------------\u001b[0m",
            "\u001b[0;31mAttributeError\u001b[0m                            Traceback (most recent call last)",
            "\u001b[0;32m<ipython-input-4-808ea3f73d1a>\u001b[0m in \u001b[0;36m<module>\u001b[0;34m()\u001b[0m\n\u001b[0;32m----> 1\u001b[0;31m \u001b[0mc\u001b[0m\u001b[0;34m.\u001b[0m\u001b[0mdiameter\u001b[0m \u001b[0;34m=\u001b[0m \u001b[0;36m20\u001b[0m\u001b[0;34m\u001b[0m\u001b[0;34m\u001b[0m\u001b[0m\n\u001b[0m",
            "\u001b[0;31mAttributeError\u001b[0m: can't set attribute"
          ]
        }
      ]
    },
    {
      "cell_type": "markdown",
      "metadata": {
        "id": "EJDpVqcBiYoM"
      },
      "source": [
        "### 修飾名稱來保護隱私"
      ]
    },
    {
      "cell_type": "code",
      "metadata": {
        "id": "qYqArfOCijPW"
      },
      "source": [
        ""
      ],
      "execution_count": null,
      "outputs": []
    }
  ]
}