{
  "nbformat": 4,
  "nbformat_minor": 0,
  "metadata": {
    "colab": {
      "name": "Chapter10.ipynb",
      "provenance": [],
      "toc_visible": true,
      "authorship_tag": "ABX9TyM4ySg0YKMBwnF1tTcXHT4p",
      "include_colab_link": true
    },
    "kernelspec": {
      "name": "python3",
      "display_name": "Python 3"
    }
  },
  "cells": [
    {
      "cell_type": "markdown",
      "metadata": {
        "id": "view-in-github",
        "colab_type": "text"
      },
      "source": [
        "<a href=\"https://colab.research.google.com/github/hank199599/Introducing-Python-reading_log/blob/main/Chapter10.ipynb\" target=\"_parent\"><img src=\"https://colab.research.google.com/assets/colab-badge.svg\" alt=\"Open In Colab\"/></a>"
      ]
    },
    {
      "cell_type": "markdown",
      "metadata": {
        "id": "Q__pOIAD351K"
      },
      "source": [
        "# 物件\n",
        "是一種自訂的資料結構\n",
        "* 屬性：資料\n",
        "* 方法：程式碼"
      ]
    },
    {
      "cell_type": "markdown",
      "metadata": {
        "id": "CRj1SsfP4axx"
      },
      "source": [
        "## 屬性\n",
        "在類別或物件裏面的變數"
      ]
    },
    {
      "cell_type": "markdown",
      "metadata": {
        "id": "MyL5I5Ws4msJ"
      },
      "source": [
        "## 方法\n",
        "在類別或物件裡面的函式"
      ]
    },
    {
      "cell_type": "markdown",
      "metadata": {
        "id": "5B-mf5EH5H7p"
      },
      "source": [
        "### 覆寫方法"
      ]
    },
    {
      "cell_type": "markdown",
      "metadata": {
        "id": "SI4JfebE5LLh"
      },
      "source": [
        "### 添加方法"
      ]
    },
    {
      "cell_type": "markdown",
      "metadata": {
        "id": "JICWzc5X4zuZ"
      },
      "source": [
        "# 繼承"
      ]
    },
    {
      "cell_type": "markdown",
      "metadata": {
        "id": "h9L_trxW41zh"
      },
      "source": [
        "## 自父類別繼承"
      ]
    },
    {
      "cell_type": "markdown",
      "metadata": {
        "id": "_GCajvGo47AB"
      },
      "source": [
        "### issubclass()"
      ]
    },
    {
      "cell_type": "code",
      "metadata": {
        "id": "dd0HIt9k5SsR"
      },
      "source": [
        ""
      ],
      "execution_count": null,
      "outputs": []
    },
    {
      "cell_type": "markdown",
      "metadata": {
        "id": "uwwqFz724-vS"
      },
      "source": [
        "### .exclaim()"
      ]
    },
    {
      "cell_type": "code",
      "metadata": {
        "id": "Yy73eglC5TCZ"
      },
      "source": [
        ""
      ],
      "execution_count": null,
      "outputs": []
    },
    {
      "cell_type": "markdown",
      "metadata": {
        "id": "j5XeLMjD5PjR"
      },
      "source": [
        "### super()"
      ]
    },
    {
      "cell_type": "code",
      "metadata": {
        "id": "v2yxN_Pb5TZK"
      },
      "source": [
        ""
      ],
      "execution_count": null,
      "outputs": []
    },
    {
      "cell_type": "markdown",
      "metadata": {
        "id": "Mp32_0KD5T5Z"
      },
      "source": [
        "## 多重繼承"
      ]
    }
  ]
}