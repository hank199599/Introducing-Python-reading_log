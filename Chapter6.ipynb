{
  "nbformat": 4,
  "nbformat_minor": 0,
  "metadata": {
    "colab": {
      "name": "Chapter6.ipynb",
      "provenance": [],
      "authorship_tag": "ABX9TyNGv++iVjr+xF/AVnPCg/U4",
      "include_colab_link": true
    },
    "kernelspec": {
      "name": "python3",
      "display_name": "Python 3"
    }
  },
  "cells": [
    {
      "cell_type": "markdown",
      "metadata": {
        "id": "view-in-github",
        "colab_type": "text"
      },
      "source": [
        "<a href=\"https://colab.research.google.com/github/hank199599/Introducing-Python-reading_log/blob/main/Chapter6.ipynb\" target=\"_parent\"><img src=\"https://colab.research.google.com/assets/colab-badge.svg\" alt=\"Open In Colab\"/></a>"
      ]
    },
    {
      "cell_type": "markdown",
      "metadata": {
        "id": "HIZVy5xgLCst"
      },
      "source": [
        "# while 迴圈\n",
        "最簡單的迴圈機制"
      ]
    },
    {
      "cell_type": "code",
      "metadata": {
        "id": "6ZMArFBNGOsu"
      },
      "source": [
        "count=1\n",
        "while count<=5:\n",
        "  print(count)\n",
        "  count +=1"
      ],
      "execution_count": null,
      "outputs": []
    },
    {
      "cell_type": "markdown",
      "metadata": {
        "id": "FS-uh8EfO4SV"
      },
      "source": [
        "我們先將1這個值指派給 count 。while 迴圈會拿 count 的值與5比較,若count小於或 等於5則繼續執行。在迴圈中,我們印出 count 的值,接著使用陳述式 count += 1將它 的值遞增。Python 會回到迴圈的最上面,再次拿count 的值與5比較。現在的 count 值 是2,所以while 迴圈的內容仍然會執行,因此 count 被遞增為3。\n",
        "迴圈繼續執行,直到它在吸下面將count由5遞增到6下次回到最上面時,count是False,所以while 迴圈結束。接著 Python 會前往下一行。"
      ]
    },
    {
      "cell_type": "markdown",
      "metadata": {
        "id": "hM1zBlXuPF9B"
      },
      "source": [
        "## break\n",
        "強制跳出迴圈"
      ]
    },
    {
      "cell_type": "code",
      "metadata": {
        "id": "It9aefmOTwNz"
      },
      "source": [
        "while True:\n",
        "  stuff=input('String to capitalize [type q to quit]:')\n",
        "  if stuff == \"q\":\n",
        "    break\n",
        "  print(stuff.capitalize())\n",
        "  "
      ],
      "execution_count": null,
      "outputs": []
    },
    {
      "cell_type": "markdown",
      "metadata": {
        "id": "y-0A09-CUYcC"
      },
      "source": [
        "## continue\n",
        "跳過指定的迭代但不跳出迴圈"
      ]
    },
    {
      "cell_type": "code",
      "metadata": {
        "id": "IYVoYe1FUjih"
      },
      "source": [
        "while True:\n",
        "  value=input('String to capitalize [type q to quit]:')\n",
        "  if value == \"q\":\n",
        "    break\n",
        "  number=int(value)\n",
        "  if number %2 == 0:\n",
        "    continue\n",
        "  print(number,\"squared is\",number*number)\n",
        "  "
      ],
      "execution_count": null,
      "outputs": []
    },
    {
      "cell_type": "markdown",
      "metadata": {
        "id": "hY9pQRTWWPMj"
      },
      "source": [
        "## else (break檢查器)\n",
        "若break條件未被呼叫，else就會執行 "
      ]
    },
    {
      "cell_type": "code",
      "metadata": {
        "id": "Oc7TlfmmXVdP"
      },
      "source": [
        "numbers=[1,3,5]\n",
        "position=0\n",
        "while position <len(numbers):\n",
        "  number=numbers[position]\n",
        "  if number%2==0:\n",
        "    print('Found even number',number)\n",
        "    break\n",
        "  position+=1\n",
        "else: #break 沒有被呼叫\n",
        "  print('No even number load')\n",
        "  "
      ],
      "execution_count": null,
      "outputs": []
    },
    {
      "cell_type": "markdown",
      "metadata": {
        "id": "BnCV6ahGYKQ-"
      },
      "source": [
        "# for 以及 in\n",
        "***迭代器(iterator)***"
      ]
    },
    {
      "cell_type": "markdown",
      "metadata": {
        "id": "faQizRZtYSBY"
      },
      "source": [
        "用於遍歷字串："
      ]
    },
    {
      "cell_type": "code",
      "metadata": {
        "id": "qHhw4t95bJk4"
      },
      "source": [
        "word='thud'\n",
        "offset=0\n",
        "while offset<len(word):\n",
        "  print(word[offset])\n",
        "  offset +=1"
      ],
      "execution_count": null,
      "outputs": []
    },
    {
      "cell_type": "code",
      "metadata": {
        "id": "uj3SDfTWbocw"
      },
      "source": [
        "for letter in word:\n",
        "  print(letter)"
      ],
      "execution_count": null,
      "outputs": []
    }
  ]
}