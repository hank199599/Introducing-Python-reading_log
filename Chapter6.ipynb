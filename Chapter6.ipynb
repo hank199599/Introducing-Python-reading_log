{
  "nbformat": 4,
  "nbformat_minor": 0,
  "metadata": {
    "colab": {
      "name": "Chapter6.ipynb",
      "provenance": [],
      "authorship_tag": "ABX9TyNbFL+w54jjvrknQfkxY5G3",
      "include_colab_link": true
    },
    "kernelspec": {
      "name": "python3",
      "display_name": "Python 3"
    }
  },
  "cells": [
    {
      "cell_type": "markdown",
      "metadata": {
        "id": "view-in-github",
        "colab_type": "text"
      },
      "source": [
        "<a href=\"https://colab.research.google.com/github/hank199599/Introducing-Python-reading_log/blob/main/Chapter6.ipynb\" target=\"_parent\"><img src=\"https://colab.research.google.com/assets/colab-badge.svg\" alt=\"Open In Colab\"/></a>"
      ]
    },
    {
      "cell_type": "markdown",
      "metadata": {
        "id": "HIZVy5xgLCst"
      },
      "source": [
        "# while 迴圈\n",
        "最簡單的迴圈機制"
      ]
    },
    {
      "cell_type": "code",
      "metadata": {
        "id": "6ZMArFBNGOsu"
      },
      "source": [
        "count=1\n",
        "while count<=5:\n",
        "  print(count)\n",
        "  count +=1"
      ],
      "execution_count": null,
      "outputs": []
    },
    {
      "cell_type": "markdown",
      "metadata": {
        "id": "FS-uh8EfO4SV"
      },
      "source": [
        "我們先將1這個值指派給 count 。while 迴圈會拿 count 的值與5比較,若count小於或 等於5則繼續執行。在迴圈中,我們印出 count 的值,接著使用陳述式 count += 1將它 的值遞增。Python 會回到迴圈的最上面,再次拿count 的值與5比較。現在的 count 值 是2,所以while 迴圈的內容仍然會執行,因此 count 被遞增為3。\n",
        "迴圈繼續執行,直到它在吸下面將count由5遞增到6下次回到最上面時,count是False,所以while 迴圈結束。接著 Python 會前往下一行。"
      ]
    },
    {
      "cell_type": "markdown",
      "metadata": {
        "id": "hM1zBlXuPF9B"
      },
      "source": [
        "## break\n",
        "強制跳出迴圈"
      ]
    },
    {
      "cell_type": "code",
      "metadata": {
        "id": "It9aefmOTwNz"
      },
      "source": [
        "while True:\n",
        "  stuff=input('String to capitalize [type q to quit]:')\n",
        "  if stuff == \"q\":\n",
        "    break\n",
        "  print(stuff.capitalize())\n",
        "  "
      ],
      "execution_count": null,
      "outputs": []
    },
    {
      "cell_type": "markdown",
      "metadata": {
        "id": "y-0A09-CUYcC"
      },
      "source": [
        "## continue\n",
        "跳過指定的迭代但不跳出迴圈"
      ]
    },
    {
      "cell_type": "code",
      "metadata": {
        "id": "IYVoYe1FUjih"
      },
      "source": [
        "while True:\n",
        "  value=input('String to capitalize [type q to quit]:')\n",
        "  if value == \"q\":\n",
        "    break\n",
        "  number=int(value)\n",
        "  if number %2 == 0:\n",
        "    continue\n",
        "  print(number,\"squared is\",number*number)\n",
        "  "
      ],
      "execution_count": null,
      "outputs": []
    },
    {
      "cell_type": "markdown",
      "metadata": {
        "id": "hY9pQRTWWPMj"
      },
      "source": [
        "## else (break檢查器)\n",
        "若break條件未被呼叫，else就會執行 "
      ]
    },
    {
      "cell_type": "code",
      "metadata": {
        "id": "Oc7TlfmmXVdP"
      },
      "source": [
        "numbers=[1,3,5]\n",
        "position=0\n",
        "while position <len(numbers):\n",
        "  number=numbers[position]\n",
        "  if number%2==0:\n",
        "    print('Found even number',number)\n",
        "    break\n",
        "  position+=1\n",
        "else: #break 沒有被呼叫\n",
        "  print('No even number load')\n",
        "  "
      ],
      "execution_count": null,
      "outputs": []
    },
    {
      "cell_type": "markdown",
      "metadata": {
        "id": "BnCV6ahGYKQ-"
      },
      "source": [
        "# for 以及 in\n",
        "***迭代器(iterator)***"
      ]
    },
    {
      "cell_type": "markdown",
      "metadata": {
        "id": "faQizRZtYSBY"
      },
      "source": [
        "用於遍歷字串："
      ]
    },
    {
      "cell_type": "code",
      "metadata": {
        "id": "qHhw4t95bJk4"
      },
      "source": [
        "word='thud'\n",
        "offset=0\n",
        "while offset<len(word):\n",
        "  print(word[offset])\n",
        "  offset +=1"
      ],
      "execution_count": null,
      "outputs": []
    },
    {
      "cell_type": "code",
      "metadata": {
        "id": "uj3SDfTWbocw"
      },
      "source": [
        "for letter in word:\n",
        "  print(letter)"
      ],
      "execution_count": null,
      "outputs": []
    },
    {
      "cell_type": "markdown",
      "metadata": {
        "id": "E1-XKNdDasvP"
      },
      "source": [
        "## break\n",
        "強制跳出迴圈"
      ]
    },
    {
      "cell_type": "code",
      "metadata": {
        "id": "PZqhF3GOati7"
      },
      "source": [
        "word='thud'\n",
        "for letter in word:\n",
        "  if letter=='u':\n",
        "    break\n",
        "  print(letter)"
      ],
      "execution_count": null,
      "outputs": []
    },
    {
      "cell_type": "markdown",
      "metadata": {
        "id": "figwZZ5xa6LZ"
      },
      "source": [
        "## continue\n",
        "跳過指定的迭代但不跳出迴圈"
      ]
    },
    {
      "cell_type": "code",
      "metadata": {
        "id": "ekEfpBMKa7Ko"
      },
      "source": [
        "word='thud'\n",
        "for letter in word:\n",
        "  if letter=='u':\n",
        "    continue #當字串遍歷到'u'時，跳過不印出\n",
        "  print(letter)"
      ],
      "execution_count": null,
      "outputs": []
    },
    {
      "cell_type": "markdown",
      "metadata": {
        "id": "3Vp5XrasbPn4"
      },
      "source": [
        "## else (break檢查器)\n",
        "若break條件未被呼叫，else就會執行 "
      ]
    },
    {
      "cell_type": "code",
      "metadata": {
        "id": "dYy4E-yNbPn5",
        "outputId": "0d651ff0-15ac-4f36-e936-d6adab750fba",
        "colab": {
          "base_uri": "https://localhost:8080/"
        }
      },
      "source": [
        "word='thud'\n",
        "for letter in word:\n",
        "  if letter =='x':\n",
        "    print(\"Eek! An 'x'\")\n",
        "    break\n",
        "  print(letter)\n",
        "else:\n",
        "  print(\"No 'x' in there.\")"
      ],
      "execution_count": 4,
      "outputs": [
        {
          "output_type": "stream",
          "text": [
            "t\n",
            "h\n",
            "u\n",
            "d\n",
            "No 'x' in there.\n"
          ],
          "name": "stdout"
        }
      ]
    },
    {
      "cell_type": "markdown",
      "metadata": {
        "id": "pbXSczDKbuN4"
      },
      "source": [
        "# range( start, stop, step) → 回傳**可迭代物件**\n",
        "[相關網頁](https://www.w3schools.com/python/ref_func_range.asp)  \n",
        "  \n",
        "用於產生數字序列，但不同於傳統的串列等資料格式。  \n",
        "藉由這個函式可以減少執行時所需的記憶體 (**空間複雜度↓**)\n",
        "\n",
        "*  start：選填，預設值為0\n",
        "*  stop ：必填\n",
        "*  step ：選填，選擇遍歷的方向 (預設為1)，數值為遍歷的區間\n",
        " * 正值 ：從頭端開始往下走\n",
        " * 負值： 自尾端開始往回走"
      ]
    },
    {
      "cell_type": "markdown",
      "metadata": {
        "id": "ftrWuwLLdhgL"
      },
      "source": [
        "製作範圍0,1,2"
      ]
    },
    {
      "cell_type": "code",
      "metadata": {
        "id": "CG-IOohNdYEF"
      },
      "source": [
        "for x in range(0,3):\n",
        "  print(x)"
      ],
      "execution_count": null,
      "outputs": []
    },
    {
      "cell_type": "markdown",
      "metadata": {
        "id": "RIliEPLjdoPc"
      },
      "source": [
        "建立串列"
      ]
    },
    {
      "cell_type": "code",
      "metadata": {
        "id": "c0qVl0wwdrYH"
      },
      "source": [
        "list(range(0,3))"
      ],
      "execution_count": null,
      "outputs": []
    },
    {
      "cell_type": "code",
      "metadata": {
        "id": "Dt5-7z38d5RI"
      },
      "source": [
        "for x in range(2,-1,-1):\n",
        "  print(x)"
      ],
      "execution_count": null,
      "outputs": []
    },
    {
      "cell_type": "code",
      "metadata": {
        "id": "Xk7vtp2-d9SZ"
      },
      "source": [
        "list(range(2,-1,-1))"
      ],
      "execution_count": null,
      "outputs": []
    },
    {
      "cell_type": "code",
      "metadata": {
        "id": "cKfeEjhVePKd"
      },
      "source": [
        "list(range(0,11,2))"
      ],
      "execution_count": null,
      "outputs": []
    },
    {
      "cell_type": "markdown",
      "metadata": {
        "id": "8RHf9zFzecER"
      },
      "source": [
        "# 代辦事項"
      ]
    },
    {
      "cell_type": "markdown",
      "metadata": {
        "id": "Z5l9rO-4eek6"
      },
      "source": [
        "## 6.1 \n",
        "使用for迴圈來印出串列[3, 2, 1, 0]的值。"
      ]
    },
    {
      "cell_type": "code",
      "metadata": {
        "id": "zpv1UAe4e6iY"
      },
      "source": [
        "array = list(range(3,-1,-1))\n",
        "i=0\n",
        "for i in range(0,4):\n",
        "  print(array[i])\n",
        "  i+=1"
      ],
      "execution_count": null,
      "outputs": []
    },
    {
      "cell_type": "markdown",
      "metadata": {
        "id": "tWxdHzLkejnd"
      },
      "source": [
        "## 6.2 \n",
        "將值7指派給變數 guess_me,並將值1指派給變數 number。寫一個 while 迴圈來比較 number 與guess_me。如果 number 小於 guess_me,印出'too low'。如果 number 等於 guess_me,印出'found it!'並離開迴圈。如果 number 大於 guess_me,印出 'oops'並離開迴圈。在迴圈結束時遞增數字。"
      ]
    },
    {
      "cell_type": "code",
      "metadata": {
        "id": "nJt8tKMmiXUT"
      },
      "source": [
        "guess_me=7\n",
        "number=1\n",
        "\n",
        "while number:\n",
        "  \n",
        "  if number<guess_me:\n",
        "    print('too low')\n",
        "  elif number==guess_me:\n",
        "    print('found it!')\n",
        "    break\n",
        "  else:\n",
        "    print('oops')\n",
        "    break\n",
        "  number+=1\n"
      ],
      "execution_count": null,
      "outputs": []
    },
    {
      "cell_type": "markdown",
      "metadata": {
        "id": "_5Q_Eb3uemj4"
      },
      "source": [
        "## 6.3 \n",
        "將值5指派給變數 guess_me。  \n",
        "使用for迴圈在range(10)之內迭代一個名為 number 的變數。  \n",
        "如果 number小於 guess_me,印出'too low'。如果它等於 guess_me,印出: 'found it!',接著跳出 for迴圈。  \n",
        "如果 number 大於 guess_me,印出 'oops'並離開 迴圈。"
      ]
    },
    {
      "cell_type": "code",
      "metadata": {
        "id": "isLdkMM9je2t"
      },
      "source": [
        "guess_me=5\n",
        "\n",
        "for number in range(10):\n",
        "  \n",
        "  if number<guess_me:\n",
        "    print('too low')\n",
        "  elif number==guess_me:\n",
        "    print('found it!')\n",
        "    break\n",
        "  else:\n",
        "    print('oops')\n",
        "    break\n"
      ],
      "execution_count": null,
      "outputs": []
    }
  ]
}