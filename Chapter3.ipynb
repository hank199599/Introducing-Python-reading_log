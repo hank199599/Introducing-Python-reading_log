{
  "nbformat": 4,
  "nbformat_minor": 0,
  "metadata": {
    "colab": {
      "name": "Chapter3.ipynb",
      "provenance": [],
      "authorship_tag": "ABX9TyMLdZM0TLCDXpNzNLrVQYsg",
      "include_colab_link": true
    },
    "kernelspec": {
      "name": "python3",
      "display_name": "Python 3"
    }
  },
  "cells": [
    {
      "cell_type": "markdown",
      "metadata": {
        "id": "view-in-github",
        "colab_type": "text"
      },
      "source": [
        "<a href=\"https://colab.research.google.com/github/hank199599/Introducing-Python-reading_log/blob/main/Chapter3.ipynb\" target=\"_parent\"><img src=\"https://colab.research.google.com/assets/colab-badge.svg\" alt=\"Open In Colab\"/></a>"
      ]
    },
    {
      "cell_type": "markdown",
      "metadata": {
        "id": "VghGF5fuOyAe"
      },
      "source": [
        "在這一章,我們要開始討論 Python 最簡單的內建資料型態:\n",
        "\n",
        "*  **布林(boolean)** ：它的值是True 或 False\n",
        "\n",
        "*  **整數(integer)**：諸如 42 與10e00eeee 的整數\n",
        "\n",
        "*  **浮點數(float)**：有小數點的數字,例如3.14159,有時有指數,例如1.0e8,它代表\n",
        "\n",
        "1乘以10的8次方,或10e000000.0"
      ]
    },
    {
      "cell_type": "markdown",
      "metadata": {
        "id": "OfsX3HqLPIde"
      },
      "source": [
        "# 布林(boolean)  \n",
        "在Python 中,只有布林資料型態的值是True 與 False。有時你會直接使用它們,有時\n",
        "你會用其他型態的值來計算它們「是否為true」。  \n",
        "Python 的特殊函式 bool()可以將任何Python 資料型態轉換成布林。"
      ]
    },
    {
      "cell_type": "markdown",
      "metadata": {
        "id": "1v09dEhWPXBR"
      },
      "source": [
        "將**非零整數**視為True："
      ]
    },
    {
      "cell_type": "code",
      "metadata": {
        "id": "YRci802ZPf7_",
        "outputId": "2a7f7c6c-c525-441f-e5f7-0bde0ee314c3",
        "colab": {
          "base_uri": "https://localhost:8080/",
          "height": 34
        }
      },
      "source": [
        "bool(True)"
      ],
      "execution_count": null,
      "outputs": []
    },
    {
      "cell_type": "code",
      "metadata": {
        "id": "SM-iP4SPPiWm",
        "outputId": "51ae94de-3275-4729-f2e9-c026e8f17b1f",
        "colab": {
          "base_uri": "https://localhost:8080/",
          "height": 34
        }
      },
      "source": [
        "bool(1)"
      ],
      "execution_count": null,
      "outputs": []
    },
    {
      "cell_type": "code",
      "metadata": {
        "id": "FQstJgibPj_W",
        "outputId": "8ccee2ec-4205-4951-f508-789b6e40ed70",
        "colab": {
          "base_uri": "https://localhost:8080/",
          "height": 34
        }
      },
      "source": [
        "bool(45)"
      ],
      "execution_count": null,
      "outputs": []
    },
    {
      "cell_type": "code",
      "metadata": {
        "id": "YuPv3mu6PlOE",
        "outputId": "358cc573-5129-4067-9d45-3a484dd4ee1f",
        "colab": {
          "base_uri": "https://localhost:8080/",
          "height": 34
        }
      },
      "source": [
        "bool(-45)"
      ],
      "execution_count": null,
      "outputs": []
    },
    {
      "cell_type": "markdown",
      "metadata": {
        "id": "HEF0dGLxPoI6"
      },
      "source": [
        "將**零值整數**視為False："
      ]
    },
    {
      "cell_type": "code",
      "metadata": {
        "id": "FYbilqfEPu_c",
        "outputId": "5b57742b-5c6d-498d-b931-08703563c77c",
        "colab": {
          "base_uri": "https://localhost:8080/",
          "height": 34
        }
      },
      "source": [
        "bool(False)"
      ],
      "execution_count": null,
      "outputs": []
    },
    {
      "cell_type": "code",
      "metadata": {
        "id": "6j-s4j3nPxKK",
        "outputId": "cad3c9a3-67ed-444d-928d-fbf120b74ea9",
        "colab": {
          "base_uri": "https://localhost:8080/",
          "height": 34
        }
      },
      "source": [
        "bool(0)"
      ],
      "execution_count": null,
      "outputs": []
    },
    {
      "cell_type": "code",
      "metadata": {
        "id": "57T98FSRPyd6",
        "outputId": "1cafc9ad-45fc-4235-aaf7-ecad8473f938",
        "colab": {
          "base_uri": "https://localhost:8080/",
          "height": 34
        }
      },
      "source": [
        "bool(0.0)"
      ],
      "execution_count": null,
      "outputs": []
    },
    {
      "cell_type": "markdown",
      "metadata": {
        "id": "FbFxeTpRP9SZ"
      },
      "source": [
        "# 整數 (integer)\n",
        "在Python中，任何數字串都代表字面整數："
      ]
    },
    {
      "cell_type": "code",
      "metadata": {
        "id": "4vWthVyoQYrb",
        "outputId": "a741cba8-f081-4aab-944a-57154177de38",
        "colab": {
          "base_uri": "https://localhost:8080/",
          "height": 34
        }
      },
      "source": [
        "5"
      ],
      "execution_count": null,
      "outputs": []
    },
    {
      "cell_type": "code",
      "metadata": {
        "id": "v2fYpgMxQblm",
        "outputId": "cf1d044b-cd3b-421b-d27e-802d83e5d831",
        "colab": {
          "base_uri": "https://localhost:8080/",
          "height": 34
        }
      },
      "source": [
        "0"
      ],
      "execution_count": null,
      "outputs": []
    },
    {
      "cell_type": "markdown",
      "metadata": {
        "id": "zxgw3KTRQglY"
      },
      "source": [
        "在數字前面加上「+」代表正整數"
      ]
    },
    {
      "cell_type": "code",
      "metadata": {
        "id": "Rv0Dpjs3QmVP",
        "outputId": "0bca877c-284a-4afa-f6dd-9312a652a867",
        "colab": {
          "base_uri": "https://localhost:8080/",
          "height": 34
        }
      },
      "source": [
        "123"
      ],
      "execution_count": null,
      "outputs": []
    },
    {
      "cell_type": "code",
      "metadata": {
        "id": "YfPozu2RQq0X",
        "outputId": "7c847a25-a524-4490-8e18-a498f87486f8",
        "colab": {
          "base_uri": "https://localhost:8080/",
          "height": 34
        }
      },
      "source": [
        "+123"
      ],
      "execution_count": null,
      "outputs": []
    },
    {
      "cell_type": "markdown",
      "metadata": {
        "id": "YwMiqv71QsgO"
      },
      "source": [
        "在數字前面加上「**-**」來指定負整數"
      ]
    },
    {
      "cell_type": "code",
      "metadata": {
        "id": "owWe4Vd8Qx9t",
        "outputId": "555154a3-6481-4fde-de39-68898ca36098",
        "colab": {
          "base_uri": "https://localhost:8080/",
          "height": 34
        }
      },
      "source": [
        "-123"
      ],
      "execution_count": null,
      "outputs": []
    },
    {
      "cell_type": "markdown",
      "metadata": {
        "id": "9OqvZQj9tAzv"
      },
      "source": [
        "此外，可以運用底線(_)來分開數字，以方便閱讀"
      ]
    },
    {
      "cell_type": "code",
      "metadata": {
        "id": "E9oSCB5WtCUo"
      },
      "source": [
        "million=1_000_000\n",
        "million"
      ],
      "execution_count": null,
      "outputs": []
    },
    {
      "cell_type": "markdown",
      "metadata": {
        "id": "XN3vDJcdQ-rC"
      },
      "source": [
        "## 整數運算"
      ]
    },
    {
      "cell_type": "markdown",
      "metadata": {
        "id": "BN2Z1Yb_RDXc"
      },
      "source": [
        "加法 (+)"
      ]
    },
    {
      "cell_type": "code",
      "metadata": {
        "id": "_jBvgtdVRFEd"
      },
      "source": [
        "5+8"
      ],
      "execution_count": null,
      "outputs": []
    },
    {
      "cell_type": "markdown",
      "metadata": {
        "id": "CPHQa0puRHOk"
      },
      "source": [
        "減法 (-)"
      ]
    },
    {
      "cell_type": "code",
      "metadata": {
        "id": "QVSJGn-8RJ6g"
      },
      "source": [
        "90-10"
      ],
      "execution_count": null,
      "outputs": []
    },
    {
      "cell_type": "markdown",
      "metadata": {
        "id": "cvHybCc-RLRy"
      },
      "source": [
        "乘法 (*)"
      ]
    },
    {
      "cell_type": "code",
      "metadata": {
        "id": "ZNCFab3lRSXR"
      },
      "source": [
        "4*7"
      ],
      "execution_count": null,
      "outputs": []
    },
    {
      "cell_type": "markdown",
      "metadata": {
        "id": "pK7acnhRRTks"
      },
      "source": [
        "浮點除法 (/)  \n",
        "*以整數除以整數，產生浮點數結果*"
      ]
    },
    {
      "cell_type": "code",
      "metadata": {
        "id": "OgV9uv1GRi6f"
      },
      "source": [
        "7/2"
      ],
      "execution_count": null,
      "outputs": []
    },
    {
      "cell_type": "markdown",
      "metadata": {
        "id": "ALxKKvbuRmYV"
      },
      "source": [
        "整數除法 (//)  \n",
        "*會產生整數結果，它會去掉任何餘數*"
      ]
    },
    {
      "cell_type": "code",
      "metadata": {
        "id": "lp7T1uPIRVD8"
      },
      "source": [
        "7//2"
      ],
      "execution_count": null,
      "outputs": []
    },
    {
      "cell_type": "markdown",
      "metadata": {
        "id": "nHUmwq8fR0ih"
      },
      "source": [
        "模數；餘數 (%)"
      ]
    },
    {
      "cell_type": "code",
      "metadata": {
        "id": "qXl1TaCcSCQa"
      },
      "source": [
        "7%3"
      ],
      "execution_count": null,
      "outputs": []
    },
    {
      "cell_type": "markdown",
      "metadata": {
        "id": "Y2LJNtvEjTFs"
      },
      "source": [
        "**divmod(x,y)**   \n",
        "同時計算商數與餘數並以**tuple形式**返還結果  \n",
        "  \n",
        "x:被除數  \n",
        "y:除數  \n",
        "```\n",
        "Output: (Q,r)\n",
        "```  \n",
        "Q:商數  \n",
        "r:餘數"
      ]
    },
    {
      "cell_type": "code",
      "metadata": {
        "id": "MqdmsGSYjbdN",
        "outputId": "73ed339c-3210-4d2f-f36b-c7d19b10c095",
        "colab": {
          "base_uri": "https://localhost:8080/",
          "height": 34
        }
      },
      "source": [
        "divmod(9,5)"
      ],
      "execution_count": null,
      "outputs": []
    },
    {
      "cell_type": "markdown",
      "metadata": {
        "id": "yVnPjFHXSDjA"
      },
      "source": [
        "次方(**)"
      ]
    },
    {
      "cell_type": "code",
      "metadata": {
        "id": "SIXcGbCTSFiV"
      },
      "source": [
        "3**4"
      ],
      "execution_count": null,
      "outputs": []
    },
    {
      "cell_type": "markdown",
      "metadata": {
        "id": "Y2Nwdg1oSMrX"
      },
      "source": [
        "## 整數與變數\n",
        " 在運算中可以混用字面整屬與已被指派整數值的整數"
      ]
    },
    {
      "cell_type": "code",
      "metadata": {
        "id": "-wANEUAhScmN",
        "outputId": "a0a22b72-ed25-4ed8-981c-803f2ec7f2f4",
        "colab": {
          "base_uri": "https://localhost:8080/",
          "height": 34
        }
      },
      "source": [
        "a=95\n",
        "a"
      ],
      "execution_count": null,
      "outputs": []
    },
    {
      "cell_type": "code",
      "metadata": {
        "id": "6KgbttE9Sfxb",
        "outputId": "67775333-0264-4068-cbf7-5863f4855239",
        "colab": {
          "base_uri": "https://localhost:8080/",
          "height": 34
        }
      },
      "source": [
        "a-3"
      ],
      "execution_count": null,
      "outputs": []
    },
    {
      "cell_type": "markdown",
      "metadata": {
        "id": "Qr6I83_fhAQM"
      },
      "source": [
        "由於a是一個指向變數的標籤，並沒有改變將結果指派回去給a，  \n",
        "因此這個數值本身並未被改變"
      ]
    },
    {
      "cell_type": "code",
      "metadata": {
        "id": "9pvjnGODhPc_",
        "outputId": "f69b5e14-f677-4df6-a800-4bf54b75b8ca",
        "colab": {
          "base_uri": "https://localhost:8080/",
          "height": 34
        }
      },
      "source": [
        "a"
      ],
      "execution_count": null,
      "outputs": []
    },
    {
      "cell_type": "markdown",
      "metadata": {
        "id": "BXYMRHTFhge8"
      },
      "source": [
        "如果想要改變a的數值，你需要再將這個結果指派回a來更新它  "
      ]
    },
    {
      "cell_type": "code",
      "metadata": {
        "id": "JQ703FHmhnPU",
        "outputId": "d9a94f50-1fe3-4965-dba6-65e2e1f64dcd",
        "colab": {
          "base_uri": "https://localhost:8080/",
          "height": 34
        }
      },
      "source": [
        "a = a - 3\n",
        "a"
      ],
      "execution_count": null,
      "outputs": []
    },
    {
      "cell_type": "markdown",
      "metadata": {
        "id": "BOh8Wq5xiTz8"
      },
      "source": [
        "*✪注意*   \n",
        "\n",
        "```\n",
        "a = a - 3\n",
        "```\n",
        "上面這行代碼不被視為一個數學方程式，  \n",
        "對Python而言是一個將值重新指派給一個變數的指令。  \n",
        "位於 = 右邊的數值會先被計算，再指派給左邊的數值。\n",
        "\n",
        "*  將a減3\n",
        "*  將減法的數值指派給一個臨時變數(**temp**)\n",
        "*  將那個臨時變數指派給a"
      ]
    },
    {
      "cell_type": "code",
      "metadata": {
        "id": "egoMjD9ziyBL",
        "outputId": "16b0d1e1-5391-4145-84c8-7c22c9a50a84",
        "colab": {
          "base_uri": "https://localhost:8080/",
          "height": 34
        }
      },
      "source": [
        "a=95\n",
        "temp=a-3\n",
        "a=temp\n",
        "a"
      ],
      "execution_count": null,
      "outputs": []
    },
    {
      "cell_type": "markdown",
      "metadata": {
        "id": "h1dlj3y-jNC9"
      },
      "source": [
        "結合運算子與賦值：將運算子放在=前面"
      ]
    },
    {
      "cell_type": "code",
      "metadata": {
        "id": "fSbqrNV4kxnN"
      },
      "source": [
        "a=95\n",
        "a-=3\n",
        "a"
      ],
      "execution_count": null,
      "outputs": []
    },
    {
      "cell_type": "markdown",
      "metadata": {
        "id": "_KqiV8rQk3iO"
      },
      "source": [
        "**在這邊 「a -= 3」相當於「a = a - 3」**"
      ]
    },
    {
      "cell_type": "markdown",
      "metadata": {
        "id": "51Wy-OF7ps1n"
      },
      "source": [
        "# 浮點數 (Float)  \n",
        "有小數點的資料型態"
      ]
    },
    {
      "cell_type": "code",
      "metadata": {
        "id": "NPaGnaDdsOQm"
      },
      "source": [
        "5."
      ],
      "execution_count": null,
      "outputs": []
    },
    {
      "cell_type": "code",
      "metadata": {
        "id": "pGN3sd_dsPN3"
      },
      "source": [
        "5.0"
      ],
      "execution_count": null,
      "outputs": []
    },
    {
      "cell_type": "code",
      "metadata": {
        "id": "8_LITiv9sQIN"
      },
      "source": [
        "05.0"
      ],
      "execution_count": null,
      "outputs": []
    },
    {
      "cell_type": "markdown",
      "metadata": {
        "id": "0IiN320VsRwX"
      },
      "source": [
        "浮點數可以在字母e後面加入十進制整數指數"
      ]
    },
    {
      "cell_type": "code",
      "metadata": {
        "id": "DGJ2asAXscFm"
      },
      "source": [
        "5e0"
      ],
      "execution_count": null,
      "outputs": []
    },
    {
      "cell_type": "code",
      "metadata": {
        "id": "FfrU9TJVsd4k",
        "outputId": "b107b072-0b19-4a66-a91f-9c609df52d4b",
        "colab": {
          "base_uri": "https://localhost:8080/",
          "height": 34
        }
      },
      "source": [
        "5e1"
      ],
      "execution_count": null,
      "outputs": []
    },
    {
      "cell_type": "code",
      "metadata": {
        "id": "oRc52jyKsfIF",
        "outputId": "827522ec-6535-487f-b368-36a3d8f01a2e",
        "colab": {
          "base_uri": "https://localhost:8080/",
          "height": 34
        }
      },
      "source": [
        "5.0*(10**1)"
      ],
      "execution_count": null,
      "outputs": []
    },
    {
      "cell_type": "markdown",
      "metadata": {
        "id": "QqEPA5lDspIe"
      },
      "source": [
        "此外，可以運用底線(_)來分開數字，以方便閱讀"
      ]
    },
    {
      "cell_type": "code",
      "metadata": {
        "id": "o661tVHtsxfW",
        "outputId": "f4e46d3d-d459-40a8-f5ed-ec676b7dcc9e",
        "colab": {
          "base_uri": "https://localhost:8080/",
          "height": 34
        }
      },
      "source": [
        "million=1_000_000.0\n",
        "million"
      ],
      "execution_count": null,
      "outputs": []
    },
    {
      "cell_type": "code",
      "metadata": {
        "id": "PlxHENQ_s2vu",
        "outputId": "edd4a0c9-bcd1-43c1-9020-ee1b1ad7ff27",
        "colab": {
          "base_uri": "https://localhost:8080/",
          "height": 34
        }
      },
      "source": [
        "1.0_0_1"
      ],
      "execution_count": null,
      "outputs": []
    },
    {
      "cell_type": "markdown",
      "metadata": {
        "id": "__veq2iDtT4v"
      },
      "source": [
        "# 型態轉換\n",
        "在整數與浮點數間，可以運用內建的函式幫忙轉換資料型態"
      ]
    },
    {
      "cell_type": "markdown",
      "metadata": {
        "id": "3L8PmDoZtgvc"
      },
      "source": [
        "當你混合使用整數與浮點數時，Python會自動將整數值提升為浮點數"
      ]
    },
    {
      "cell_type": "code",
      "metadata": {
        "id": "73F9wxwdtfW0",
        "outputId": "0d32f366-a48c-4248-d67e-c97f6a09f9ee",
        "colab": {
          "base_uri": "https://localhost:8080/",
          "height": 34
        }
      },
      "source": [
        "43+2."
      ],
      "execution_count": null,
      "outputs": []
    },
    {
      "cell_type": "markdown",
      "metadata": {
        "id": "_Pj2DjGotuQK"
      },
      "source": [
        "此外，Python也會將布林值提升為整數或浮點數  \n",
        "取決於與其相加的資料型態"
      ]
    },
    {
      "cell_type": "code",
      "metadata": {
        "id": "es58WIkEt34G",
        "outputId": "ea57bb2f-d82e-4b08-ddd5-af76fb340d78",
        "colab": {
          "base_uri": "https://localhost:8080/",
          "height": 34
        }
      },
      "source": [
        "False+0"
      ],
      "execution_count": null,
      "outputs": []
    },
    {
      "cell_type": "code",
      "metadata": {
        "id": "pdpqrZ0mt6bP",
        "outputId": "d20f650c-d6e6-4347-a4ae-c24e98859627",
        "colab": {
          "base_uri": "https://localhost:8080/",
          "height": 34
        }
      },
      "source": [
        "True+0."
      ],
      "execution_count": null,
      "outputs": []
    },
    {
      "cell_type": "markdown",
      "metadata": {
        "id": "D1Z1oIe8uBPc"
      },
      "source": [
        "## int()  \n",
        "這個函式被用來轉換其他的Python資料格式為整數"
      ]
    },
    {
      "cell_type": "code",
      "metadata": {
        "id": "tqGdm-mquNsH"
      },
      "source": [
        "int(True)"
      ],
      "execution_count": null,
      "outputs": []
    },
    {
      "cell_type": "code",
      "metadata": {
        "id": "HuwTy9GnuUgr"
      },
      "source": [
        "int(False)"
      ],
      "execution_count": null,
      "outputs": []
    },
    {
      "cell_type": "markdown",
      "metadata": {
        "id": "G0TYMbC1u5Ro"
      },
      "source": [
        "將浮點數轉為整數時，位於小數點後的數值會被無條件捨去"
      ]
    },
    {
      "cell_type": "code",
      "metadata": {
        "id": "92ddzfr2vBdQ"
      },
      "source": [
        "int(98.6)"
      ],
      "execution_count": null,
      "outputs": []
    },
    {
      "cell_type": "code",
      "metadata": {
        "id": "u7kBTT1ZvC43"
      },
      "source": [
        "int(1.0e4)"
      ],
      "execution_count": null,
      "outputs": []
    },
    {
      "cell_type": "code",
      "metadata": {
        "id": "dbBBxP9vvILg"
      },
      "source": [
        "int(-23)"
      ],
      "execution_count": null,
      "outputs": []
    },
    {
      "cell_type": "code",
      "metadata": {
        "id": "pKpEUom2vJhV"
      },
      "source": [
        "int('1_000_000')"
      ],
      "execution_count": null,
      "outputs": []
    },
    {
      "cell_type": "markdown",
      "metadata": {
        "id": "-cF6sPKjvOFT"
      },
      "source": [
        "若字串代表非十進制整數，可以加入底數來向Python指定"
      ]
    },
    {
      "cell_type": "code",
      "metadata": {
        "id": "FxOTNmOwvaYe"
      },
      "source": [
        "int('10',2) # 二進制"
      ],
      "execution_count": null,
      "outputs": []
    },
    {
      "cell_type": "code",
      "metadata": {
        "id": "-LUcFnG8vgVB"
      },
      "source": [
        "int('10',8) # 八進制"
      ],
      "execution_count": null,
      "outputs": []
    },
    {
      "cell_type": "code",
      "metadata": {
        "id": "1k8985l4vkrQ"
      },
      "source": [
        "int('10',16) # 十六進制"
      ],
      "execution_count": null,
      "outputs": []
    },
    {
      "cell_type": "markdown",
      "metadata": {
        "id": "54dSc7WjuX2W"
      },
      "source": [
        "## bool()  \n",
        "這個函式被用來轉換其他的Python資料格式為布林值  \n",
        "非零數值 → True  \n",
        "數值為零 → False  "
      ]
    },
    {
      "cell_type": "code",
      "metadata": {
        "id": "wegKzyT4u0Fh"
      },
      "source": [
        "bool(1.0)"
      ],
      "execution_count": null,
      "outputs": []
    },
    {
      "cell_type": "code",
      "metadata": {
        "id": "QqmlAicJu2Ph"
      },
      "source": [
        "bool(0.0)"
      ],
      "execution_count": null,
      "outputs": []
    },
    {
      "cell_type": "markdown",
      "metadata": {
        "id": "gCnd_AuZvrcn"
      },
      "source": [
        "## float()  \n",
        "這個函式被用來轉換其他的Python資料格式為浮點數"
      ]
    },
    {
      "cell_type": "code",
      "metadata": {
        "id": "C2jcGjiWv05V"
      },
      "source": [
        "float(True)"
      ],
      "execution_count": null,
      "outputs": []
    },
    {
      "cell_type": "code",
      "metadata": {
        "id": "rKlfaVpUv3L3"
      },
      "source": [
        "float(False)"
      ],
      "execution_count": null,
      "outputs": []
    },
    {
      "cell_type": "markdown",
      "metadata": {
        "id": "lDGwOE9av9p4"
      },
      "source": [
        "將整數轉為浮點數時，位於小數點的值會被自動補上0"
      ]
    },
    {
      "cell_type": "code",
      "metadata": {
        "id": "8xBeejWRwEi0"
      },
      "source": [
        "float(98)"
      ],
      "execution_count": null,
      "outputs": []
    },
    {
      "cell_type": "code",
      "metadata": {
        "id": "W05-jtL3wGP5"
      },
      "source": [
        "float('99')"
      ],
      "execution_count": null,
      "outputs": []
    },
    {
      "cell_type": "code",
      "metadata": {
        "id": "ZvvZJICTwIhQ"
      },
      "source": [
        "float('-1.5')"
      ],
      "execution_count": null,
      "outputs": []
    },
    {
      "cell_type": "code",
      "metadata": {
        "id": "EWnY4OVAwK6i"
      },
      "source": [
        "float('1.0e4')"
      ],
      "execution_count": null,
      "outputs": []
    },
    {
      "cell_type": "markdown",
      "metadata": {
        "id": "wCZaA9HlniPy"
      },
      "source": [
        "# 底數\n",
        "在Python 中,你可以用這些整數前置符號以三種底數來表示非十進制的字面整數:\n",
        "\n",
        "*  二進制 (base 2) ： 0b 或 0B。\n",
        "\n",
        "*  八進制 (base 8) ：  0o 或 00。\n",
        "\n",
        "*  十六進制 (base 16)：  ox 或0X。"
      ]
    },
    {
      "cell_type": "markdown",
      "metadata": {
        "id": "jiJw5IsUn8aZ"
      },
      "source": [
        "**二進制 (base2)**  \n",
        "```\n",
        "0b10 \n",
        "```\n",
        "代表1個十進制的「二」與0個「一」"
      ]
    },
    {
      "cell_type": "markdown",
      "metadata": {
        "id": "yPqGDZehosb2"
      },
      "source": [
        "**八進制 (base8)**  \n",
        "```\n",
        "0o10 \n",
        "```\n",
        "代表1個十進制的「八」與0個「一」"
      ]
    },
    {
      "cell_type": "markdown",
      "metadata": {
        "id": "SQaaDwPtotL-"
      },
      "source": [
        "**十六進制 (base16)**  \n",
        "```\n",
        "0x10 \n",
        "```\n",
        "代表1個十進制的「十六」與0個「一」"
      ]
    },
    {
      "cell_type": "markdown",
      "metadata": {
        "id": "EtxwUiUym9_X"
      },
      "source": [
        "# 運算子優先順序\n",
        "可以參見Python官方文件中關於優先順序的章節，或是參閱書本上的附錄E  \n",
        "https://docs.python.org/3/reference/expressions.html#operator-precedence"
      ]
    },
    {
      "cell_type": "markdown",
      "metadata": {
        "id": "GT-i2pC5wVZn"
      },
      "source": [
        "# 數學函式  \n",
        "Python 支援複數,也有常見的數學函數,例如平方根、餘弦等。  \n",
        "如果有興趣，可以參閱書本的第22章，在該章節中也會討論如何在科學領域中使用Python。"
      ]
    },
    {
      "cell_type": "markdown",
      "metadata": {
        "id": "jEIp_LTow4fK"
      },
      "source": [
        "# 代辦事項\n",
        "本章介紹了Python 的原子:數字、布林與變數。  \n",
        "接下來,請在互動式解譯器中做一些小練習。"
      ]
    },
    {
      "cell_type": "markdown",
      "metadata": {
        "id": "hSBeCHt-w-Y9"
      },
      "source": [
        "## 3.1  \n",
        "一小時有幾秒?將互動式解器當成計算機,將每分鐘的秒數(60)乘以每小時的分鐘數(也是60)。\n"
      ]
    },
    {
      "cell_type": "code",
      "metadata": {
        "id": "dSK2Mw5Kxgba",
        "outputId": "ec26627c-7fd0-4634-d49a-b26c6d3ec72c",
        "colab": {
          "base_uri": "https://localhost:8080/",
          "height": 34
        }
      },
      "source": [
        "60*60"
      ],
      "execution_count": null,
      "outputs": []
    },
    {
      "cell_type": "markdown",
      "metadata": {
        "id": "vpMsz_GIxHGn"
      },
      "source": [
        "## 3.2\n",
        "將上一個習題的結果(一小時的秒數)指派給一個稱為 seconds_per_hour的變數。"
      ]
    },
    {
      "cell_type": "code",
      "metadata": {
        "id": "-sOlh6u4xgEC"
      },
      "source": [
        "seconds_per_hour=60*60"
      ],
      "execution_count": null,
      "outputs": []
    },
    {
      "cell_type": "markdown",
      "metadata": {
        "id": "XNMKyT0OxcX1"
      },
      "source": [
        "## 3.3\n",
        "一天有幾秒?使用你的 seconds_per_hour 變數計算。"
      ]
    },
    {
      "cell_type": "code",
      "metadata": {
        "id": "y36NQmoLxeq6",
        "outputId": "5d34c7df-f47e-4b40-9b1c-a5a19b170979",
        "colab": {
          "base_uri": "https://localhost:8080/",
          "height": 34
        }
      },
      "source": [
        "seconds_per_hour*24"
      ],
      "execution_count": null,
      "outputs": []
    },
    {
      "cell_type": "markdown",
      "metadata": {
        "id": "EEHb0Vimxfio"
      },
      "source": [
        "## 3.4  \n",
        "再次計算一天的秒數,但這次將結果存入一個稱為 seconds_per_day 的變數"
      ]
    },
    {
      "cell_type": "code",
      "metadata": {
        "id": "FMjbX5JAxncV"
      },
      "source": [
        "seconds_per_day=seconds_per_hour*24"
      ],
      "execution_count": null,
      "outputs": []
    },
    {
      "cell_type": "markdown",
      "metadata": {
        "id": "AY_D8faJxnsi"
      },
      "source": [
        "## 3.5  \n",
        "將 seconds_per_day除以 seconds_per_hour,使用浮點(/)除法。"
      ]
    },
    {
      "cell_type": "code",
      "metadata": {
        "id": "dU4GHK-ExuXN",
        "outputId": "4db9b6bd-8fdf-43e2-93d4-bf4f3faade4f",
        "colab": {
          "base_uri": "https://localhost:8080/",
          "height": 34
        }
      },
      "source": [
        "seconds_per_day/seconds_per_hour"
      ],
      "execution_count": null,
      "outputs": []
    },
    {
      "cell_type": "markdown",
      "metadata": {
        "id": "VsrwFWw_xuob"
      },
      "source": [
        "## 3.6  \n",
        "將 seconds_per_day除以 seconds_per_hour 使用整数(//)除法,除了最後的 .0 之外,這個數字與上一次算出來的浮點值一樣嗎?\n"
      ]
    },
    {
      "cell_type": "code",
      "metadata": {
        "id": "NlQ_q924xvY2",
        "outputId": "99120bcf-84fb-418c-e674-89055c9352d1",
        "colab": {
          "base_uri": "https://localhost:8080/",
          "height": 34
        }
      },
      "source": [
        "seconds_per_day//seconds_per_hour"
      ],
      "execution_count": null,
      "outputs": []
    },
    {
      "cell_type": "markdown",
      "metadata": {
        "id": "gpGXGarpyO91"
      },
      "source": [
        "結論： **兩者是一樣的**"
      ]
    }
  ]
}